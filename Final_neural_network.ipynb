{
 "cells": [
  {
   "cell_type": "markdown",
   "metadata": {
    "id": "1RdZAXtVjGZB"
   },
   "source": [
    "# **Churn Prediction 'Die ZEIT'**\n",
    "\n",
    "### **Used Libraries**"
   ]
  },
  {
   "cell_type": "code",
   "execution_count": 2,
   "metadata": {
    "id": "_LSyjhlzjGZD"
   },
   "outputs": [],
   "source": [
    "import pandas as pd\n",
    "import numpy as np\n",
    "import seaborn as sns\n",
    "import matplotlib.pyplot as plt\n",
    "from scipy import stats\n",
    "\n",
    "import functions_data_handling as mld\n",
    "\n",
    "# Library for timing\n",
    "from time import time\n",
    "\n",
    "# Ignore warnings while plotting\n",
    "import warnings\n",
    "warnings.filterwarnings(\"ignore\")\n",
    "\n",
    "# Feature Engineering & Selection modules\n",
    "from sklearn.preprocessing import MinMaxScaler, StandardScaler\n",
    "#from mlxtend.feature_selection import SequentialFeatureSelector as SFS\n",
    "\n",
    "# SUPERVISED LEARNING\n",
    "# Libraries for classification issues\n",
    "from sklearn.linear_model import LogisticRegression\n",
    "from sklearn.naive_bayes import GaussianNB\n",
    "\n",
    "# Libraries for classification and regression issues\n",
    "from sklearn.neighbors import KNeighborsClassifier\n",
    "from sklearn.ensemble import RandomForestClassifier, VotingClassifier\n",
    "from xgboost import XGBClassifier\n",
    "\n",
    "# Libraries for splitting data, hyperparameter tuning & Pipeline\n",
    "from sklearn.model_selection import train_test_split, GridSearchCV, RandomizedSearchCV\n",
    "from sklearn.pipeline import Pipeline\n",
    "\n",
    "# Librarie for data balancing\n",
    "from imblearn.under_sampling import RandomUnderSampler\n",
    "from imblearn.over_sampling import RandomOverSampler, SMOTE, ADASYN\n",
    "\n",
    "# Libraries for model evaluation\n",
    "from sklearn.metrics import classification_report, confusion_matrix, plot_confusion_matrix\n",
    "from sklearn.metrics import precision_score, recall_score, roc_auc_score, roc_curve, f1_score, precision_recall_curve\n",
    "from sklearn.metrics import fbeta_score, accuracy_score, make_scorer, mean_squared_error\n",
    "from sklearn.model_selection import cross_val_score\n",
    "from sklearn.model_selection import RepeatedStratifiedKFold\n",
    "'''\n",
    "import keras\n",
    "from keras.models import Sequential\n",
    "from keras.layers import Dense, Dropout, Embedding, Flatten\n",
    "from keras.callbacks import TensorBoard\n",
    "from keras.metrics import Recall, Precision\n",
    "\n",
    "import tensorflow as tf\n",
    "from tensorflow.keras import layers, regularizers'''\n",
    "\n",
    "# Display the whole content of the data frame\n",
    "pd.set_option('display.max_columns', None)   # Displays all columns\n",
    "pd.set_option('display.max_rows', None)      # Displays all rows\n",
    "\n",
    "# Define decimal places shown in the notebook\n",
    "pd.options.display.float_format = '{:,.3f}'.format\n",
    "from scipy.stats import uniform\n",
    "# Visualization\n",
    "%matplotlib inline\n",
    "sns.set_style('whitegrid')"
   ]
  },
  {
   "cell_type": "markdown",
   "metadata": {
    "id": "fY-8bO5MjGZE"
   },
   "source": [
    "### **Read Data**"
   ]
  },
  {
   "cell_type": "code",
   "execution_count": 3,
   "metadata": {
    "id": "LgXBHcT0jGZE"
   },
   "outputs": [],
   "source": [
    "df = pd.read_csv(\"00_data/f_chtr_churn_traintable_nf.csv\")"
   ]
  },
  {
   "cell_type": "code",
   "execution_count": 5,
   "metadata": {
    "id": "RE37YbXAm8Cz"
   },
   "outputs": [],
   "source": [
    "df = mld.data_cleaning(df)"
   ]
  },
  {
   "cell_type": "code",
   "execution_count": null,
   "metadata": {
    "colab": {
     "base_uri": "https://localhost:8080/"
    },
    "id": "oOeigV9Zm8Cz",
    "jupyter": {
     "source_hidden": true
    },
    "outputId": "84dc8b01-1584-46e8-f9f8-bea8d6261787"
   },
   "outputs": [
    {
     "name": "stdout",
     "output_type": "stream",
     "text": [
      "The shape of the data set: 156428 rows, 72 columns\n",
      "   \n",
      "The number of numeric features: 59\n",
      "The number of objectlike features: 13\n"
     ]
    }
   ],
   "source": [
    "# Numeric and categorical features\n",
    "shape_init_rows = df.shape[0]\n",
    "shape_init_cols = df.shape[1]\n",
    "\n",
    "print('The shape of the data set: {0} rows, {1} columns'.format(shape_init_rows, shape_init_cols))\n",
    "print('   ')\n",
    "\n",
    "cont_f = df.select_dtypes(include=['float64', 'int64'])\n",
    "print('The number of numeric features: {0}'.format(len(cont_f.columns)))\n",
    "\n",
    "cat_f = df.select_dtypes(include=\"object\")\n",
    "print('The number of objectlike features: {0}'.format(len(cat_f.columns)))"
   ]
  },
  {
   "cell_type": "markdown",
   "metadata": {
    "id": "kM1FlAjLm8Cz"
   },
   "source": [
    "Here, new features are introduced, dummies are created and correlated features are dropped"
   ]
  },
  {
   "cell_type": "code",
   "execution_count": 6,
   "metadata": {
    "colab": {
     "base_uri": "https://localhost:8080/"
    },
    "id": "HXrrpQrLm8Cz",
    "outputId": "98a03379-6bf0-4081-d128-b64701ed52f5"
   },
   "outputs": [
    {
     "name": "stdout",
     "output_type": "stream",
     "text": [
      "openrate_bestandskunden_3m | opened_anzahl_bestandskunden_6m | 0.88\n",
      "clickrate_bestandskunden_3m | clicked_anzahl_bestandskunden_6m | 0.88\n",
      "opened_anzahl_produktnews_6m | received_anzahl_produktnews_6m | 0.78\n",
      "openrate_produktnews_3m | opened_anzahl_produktnews_6m | 0.76\n",
      "clickrate_produktnews_3m | clicked_anzahl_produktnews_6m | 0.77\n",
      "received_anzahl_hamburg_6m | nl_zeitverlag_hamburg | 0.92\n",
      "opened_anzahl_hamburg_6m | received_anzahl_hamburg_6m | 0.7\n",
      "openrate_hamburg_3m | opened_anzahl_hamburg_6m | 0.99\n",
      "openrate_zeitbrief_3m | opened_anzahl_zeitbrief_6m | 0.96\n",
      "cnt_dkey_more_than_one | more_than_one_cnt_abo | 0.74\n",
      "{'clickrate_bestandskunden_3m', 'opened_anzahl_hamburg_6m', 'opened_anzahl_produktnews_6m', 'cnt_dkey_more_than_one', 'openrate_produktnews_3m', 'received_anzahl_hamburg_6m', 'openrate_zeitbrief_3m', 'clickrate_produktnews_3m', 'openrate_hamburg_3m', 'openrate_bestandskunden_3m'}\n"
     ]
    }
   ],
   "source": [
    "df = mld.feature_engineering(df)"
   ]
  },
  {
   "cell_type": "code",
   "execution_count": 7,
   "metadata": {
    "colab": {
     "base_uri": "https://localhost:8080/"
    },
    "id": "S-63r9tRm8Cz",
    "outputId": "b47494cc-1612-4ce8-cb26-ec21ca5de99c"
   },
   "outputs": [
    {
     "data": {
      "text/plain": [
       "(156428, 886)"
      ]
     },
     "execution_count": 7,
     "metadata": {},
     "output_type": "execute_result"
    }
   ],
   "source": [
    "df.shape"
   ]
  },
  {
   "cell_type": "markdown",
   "metadata": {
    "id": "zb2_rTZvjGZM"
   },
   "source": [
    "## **2 - Modeling**\n",
    "### **Data Selection**\n",
    "+ y = Target variable -->>. ```churn```\n",
    "+ X = Predictors -->> ```remaining columns```"
   ]
  },
  {
   "cell_type": "code",
   "execution_count": null,
   "metadata": {
    "id": "fYQZMUkVjGZM"
   },
   "outputs": [],
   "source": [
    "X = df.drop('churn',axis=1)\n",
    "y = df['churn']"
   ]
  },
  {
   "cell_type": "code",
   "execution_count": null,
   "metadata": {
    "colab": {
     "base_uri": "https://localhost:8080/"
    },
    "id": "Ziv7eq11jGZM",
    "outputId": "e1d548df-cb83-42ca-b103-48b40436cdd4"
   },
   "outputs": [
    {
     "name": "stdout",
     "output_type": "stream",
     "text": [
      "The target variable (y) has 156428 rows.\n",
      "   \n",
      "The predictor variables (X) have 156428 rows and 885 columns.\n"
     ]
    }
   ],
   "source": [
    "print('The target variable (y) has {0} rows.'.format(y.shape[0]))\n",
    "print('   ')\n",
    "print('The predictor variables (X) have {0} rows and {1} columns.'.format(X.shape[0], X.shape[1]))"
   ]
  },
  {
   "cell_type": "markdown",
   "metadata": {
    "id": "xUZ6NVi8jGZM"
   },
   "source": [
    "### **Train-Test-Split**"
   ]
  },
  {
   "cell_type": "code",
   "execution_count": null,
   "metadata": {
    "id": "RSlY9QxVjGZM"
   },
   "outputs": [],
   "source": [
    "# Splitting the data \n",
    "test_size = 0.3\n",
    "RSEED = 42\n",
    "\n",
    "X_train, X_test, y_train, y_test = train_test_split(X, y, test_size=test_size, random_state = RSEED)"
   ]
  },
  {
   "cell_type": "code",
   "execution_count": null,
   "metadata": {
    "colab": {
     "base_uri": "https://localhost:8080/"
    },
    "id": "WFPYORa3z7fn",
    "outputId": "3b62469b-f23a-4a1a-c85e-96b77e78265b"
   },
   "outputs": [
    {
     "data": {
      "text/plain": [
       "pandas.core.frame.DataFrame"
      ]
     },
     "execution_count": 13,
     "metadata": {
      "tags": []
     },
     "output_type": "execute_result"
    }
   ],
   "source": [
    "type(X_train)"
   ]
  },
  {
   "cell_type": "markdown",
   "metadata": {
    "id": "QUZJO8b9jGZM"
   },
   "source": [
    "## Scaling the numeric features"
   ]
  },
  {
   "cell_type": "code",
   "execution_count": null,
   "metadata": {
    "id": "Vn6gSfwJjGZM"
   },
   "outputs": [],
   "source": [
    "numeric_features = ['vertragsdauer',\n",
    " 'shop_kauf',\n",
    " \"nl_aktivitaet\",                   \n",
    " 'received_anzahl_6m',\n",
    " 'clicked_anzahl_6m',\n",
    " 'unsubscribed_anzahl_6m',\n",
    " 'openrate_3m',\n",
    " 'clickrate_3m',\n",
    " 'received_anzahl_bestandskunden_6m',\n",
    " 'clicked_anzahl_bestandskunden_6m',\n",
    " 'unsubscribed_anzahl_bestandskunden_6m',\n",
    " 'received_anzahl_produktnews_6m',\n",
    " 'clicked_anzahl_produktnews_6m',\n",
    " 'unsubscribed_anzahl_produktnews_6m',\n",
    " 'clicked_anzahl_hamburg_6m',\n",
    " 'unsubscribed_anzahl_hamburg_6m',\n",
    " 'clickrate_hamburg_3m',\n",
    " 'received_anzahl_zeitbrief_6m',\n",
    " 'clicked_anzahl_zeitbrief_6m',\n",
    " 'unsubscribed_anzahl_zeitbrief_6m',\n",
    " 'clickrate_zeitbrief_3m']"
   ]
  },
  {
   "cell_type": "code",
   "execution_count": null,
   "metadata": {
    "id": "G0DEiLKnjGZN"
   },
   "outputs": [],
   "source": [
    "scaler = StandardScaler()\n",
    "\n",
    "# if you scale every column, do scaler.fit_transform(X_train)\n",
    "X_train_scaled = scaler.fit_transform(X_train[numeric_features])\n",
    "\n",
    "# if you scale every column, do scaler.transform(X_train)\n",
    "X_test_scaled = scaler.transform(X_test[numeric_features])\n",
    "\n",
    "# if you scale every column, you can skip this part\n",
    "X_train_preprocessed = np.concatenate([X_train_scaled, X_train.drop(numeric_features, axis=1)], axis=1)\n",
    "X_test_preprocessed = np.concatenate([X_test_scaled, X_test.drop(numeric_features, axis=1)], axis=1)"
   ]
  },
  {
   "cell_type": "code",
   "execution_count": null,
   "metadata": {
    "id": "NmSTfVyiZAk-"
   },
   "outputs": [],
   "source": [
    "ros=RandomOverSampler()\n",
    "X_train_preprocessed_balanced, y_train_balanced = ros.fit_resample(X_train_preprocessed, y_train)"
   ]
  },
  {
   "cell_type": "markdown",
   "metadata": {
    "id": "sl-6G-JIYEH-"
   },
   "source": [
    "### Try out ANN"
   ]
  },
  {
   "cell_type": "code",
   "execution_count": null,
   "metadata": {
    "colab": {
     "base_uri": "https://localhost:8080/"
    },
    "id": "SpmTeZqdYV1j",
    "outputId": "9580805a-b1ae-4178-b151-5ffe4d8e934c"
   },
   "outputs": [
    {
     "data": {
      "text/plain": [
       "135"
      ]
     },
     "execution_count": 18,
     "metadata": {
      "tags": []
     },
     "output_type": "execute_result"
    }
   ],
   "source": [
    "BATCH_SIZE = 1024\n",
    "STEPS_PER_EPOCH = 138495//BATCH_SIZE\n",
    "STEPS_PER_EPOCH"
   ]
  },
  {
   "cell_type": "markdown",
   "metadata": {
    "id": "OgOIoeiDdS98"
   },
   "source": [
    "#### Learning Rate Decay"
   ]
  },
  {
   "cell_type": "code",
   "execution_count": null,
   "metadata": {
    "id": "xFSgD0hUYV4g"
   },
   "outputs": [],
   "source": [
    "init_learning_rate = 0.001\n",
    "epochs_per_decay = 100 \n",
    "decay_rate = 1\n",
    "LR_decay = False\n",
    "\n",
    "lr_schedule = tf.keras.optimizers.schedules.InverseTimeDecay(\n",
    "  init_learning_rate,\n",
    "  decay_steps=STEPS_PER_EPOCH*epochs_per_decay,\n",
    "  decay_rate=decay_rate,\n",
    "  staircase=False)\n",
    "\n",
    "def get_optimizer():\n",
    "    if LR_decay:\n",
    "        return tf.keras.optimizers.Adam(lr_schedule)\n",
    "    else: \n",
    "        return tf.keras.optimizers.Adam()"
   ]
  },
  {
   "cell_type": "code",
   "execution_count": null,
   "metadata": {
    "colab": {
     "base_uri": "https://localhost:8080/",
     "height": 388
    },
    "id": "HUNHk-fUdXZ8",
    "outputId": "8612871a-f354-4079-f131-7aa3e2652ce2"
   },
   "outputs": [
    {
     "data": {
      "image/png": "[encoded data removed]",
      "text/plain": [
       "<Figure size 576x432 with 1 Axes>"
      ]
     },
     "metadata": {
      "tags": []
     },
     "output_type": "display_data"
    }
   ],
   "source": [
    "step = np.linspace(0,100000)\n",
    "lr = lr_schedule(step)\n",
    "plt.figure(figsize = (8,6))\n",
    "plt.plot(step/STEPS_PER_EPOCH, lr)\n",
    "plt.ylim([0,max(plt.ylim())])\n",
    "plt.xlabel('Epoch')\n",
    "_ = plt.ylabel('Learning Rate')"
   ]
  },
  {
   "cell_type": "markdown",
   "metadata": {
    "id": "JOpY_C5Kda11"
   },
   "source": [
    "#### Define Metrics"
   ]
  },
  {
   "cell_type": "code",
   "execution_count": null,
   "metadata": {
    "id": "1lkUQbyQdXfS"
   },
   "outputs": [],
   "source": [
    "Recall = tf.keras.metrics.Recall(name='recall')\n",
    "Precision = tf.keras.metrics.Precision(name='precision')\n",
    "Loss = tf.keras.losses.BinaryCrossentropy(name='binary_crossentropy')"
   ]
  },
  {
   "cell_type": "markdown",
   "metadata": {
    "id": "hVTCVe69dfM9"
   },
   "source": [
    "#### Early Stopping"
   ]
  },
  {
   "cell_type": "code",
   "execution_count": null,
   "metadata": {
    "id": "daOoyNLjdXiR"
   },
   "outputs": [],
   "source": [
    "cb_recall = tf.keras.callbacks.EarlyStopping(monitor='recall', patience=100)\n",
    "#cb_epoch_dots = tfdocs.modeling.EpochDots(report_every=10)"
   ]
  },
  {
   "cell_type": "markdown",
   "metadata": {
    "id": "MdN6FtqKduHO"
   },
   "source": [
    "#### Gradient Check every n steps"
   ]
  },
  {
   "cell_type": "code",
   "execution_count": null,
   "metadata": {
    "id": "8zK330apdXpB"
   },
   "outputs": [],
   "source": [
    "class ExtendedTensorBoard(keras.callbacks.TensorBoard):\n",
    "    def _log_gradients(self, epoch):\n",
    "        writer = self._get_writer(self._train_run_name)\n",
    "\n",
    "        with writer.as_default(), tf.GradientTape() as g:\n",
    "            # here we use test data to calculate the gradients\n",
    "            features, y_true = list(val_dataset.batch(100).take(1))[0]\n",
    "\n",
    "            y_pred = self.model(features)  # forward-propagation\n",
    "            loss = self.model.compiled_loss(y_true=y_true, y_pred=y_pred)  # calculate loss\n",
    "            gradients = g.gradient(loss, self.model.trainable_weights)  # back-propagation\n",
    "\n",
    "            # In eager mode, grads does not have name, so we get names from model.trainable_weights\n",
    "            for weights, grads in zip(self.model.trainable_weights, gradients):\n",
    "                tf.summary.histogram(\n",
    "                    weights.name.replace(':', '_') + '_grads', data=grads, step=epoch)\n",
    "\n",
    "        writer.flush()\n",
    "\n",
    "    def on_epoch_end(self, epoch, logs=None):\n",
    "        # This function overwrites the on_epoch_end in tf.keras.callbacks.TensorBoard\n",
    "        # but we do need to run the original on_epoch_end, so here we use the super function.\n",
    "        super(ExtendedTensorBoard, self).on_epoch_end(epoch, logs=logs)\n",
    "\n",
    "        if self.histogram_freq and epoch % self.histogram_freq == 0:\n",
    "            self._log_gradients(epoch)\n",
    "\n",
    "            \n",
    "gradient_cb = ExtendedTensorBoard()"
   ]
  },
  {
   "cell_type": "code",
   "execution_count": null,
   "metadata": {
    "id": "jVDhVi5udwWz"
   },
   "outputs": [],
   "source": [
    "model_under = tf.keras.Sequential([\n",
    "layers.Dense(885*6, kernel_regularizer=regularizers.l1(l1=0.00001),\n",
    "                 activation='relu', input_shape=(885,),\n",
    "             kernel_initializer='he_normal'),\n",
    "layers.Dropout(0.5),\n",
    "layers.Dense(32, kernel_regularizer=regularizers.l1(l1=0.00001),\n",
    "                 activation='relu',\n",
    "             kernel_initializer='he_normal'),\n",
    "layers.Dropout(0.5),\n",
    "layers.Dense(32, kernel_regularizer=regularizers.l1(l1=0.00001),\n",
    "                 activation='relu',\n",
    "             kernel_initializer='he_normal'),\n",
    "layers.Dropout(0.5),\n",
    "layers.Dense(1, activation='sigmoid')\n",
    "])"
   ]
  },
  {
   "cell_type": "code",
   "execution_count": null,
   "metadata": {
    "colab": {
     "base_uri": "https://localhost:8080/"
    },
    "id": "rAoLm0PBw7Vt",
    "outputId": "0c539a19-97c7-45c1-ffbd-9120a13c10b9"
   },
   "outputs": [
    {
     "name": "stdout",
     "output_type": "stream",
     "text": [
      "Model: \"sequential\"\n",
      "_________________________________________________________________\n",
      "Layer (type)                 Output Shape              Param #   \n",
      "=================================================================\n",
      "dense (Dense)                (None, 5310)              4704660   \n",
      "_________________________________________________________________\n",
      "dropout (Dropout)            (None, 5310)              0         \n",
      "_________________________________________________________________\n",
      "dense_1 (Dense)              (None, 32)                169952    \n",
      "_________________________________________________________________\n",
      "dropout_1 (Dropout)          (None, 32)                0         \n",
      "_________________________________________________________________\n",
      "dense_2 (Dense)              (None, 32)                1056      \n",
      "_________________________________________________________________\n",
      "dropout_2 (Dropout)          (None, 32)                0         \n",
      "_________________________________________________________________\n",
      "dense_3 (Dense)              (None, 1)                 33        \n",
      "=================================================================\n",
      "Total params: 4,875,701\n",
      "Trainable params: 4,875,701\n",
      "Non-trainable params: 0\n",
      "_________________________________________________________________\n"
     ]
    }
   ],
   "source": [
    "model_under.summary()\n"
   ]
  },
  {
   "cell_type": "code",
   "execution_count": 26,
   "metadata": {
    "colab": {
     "base_uri": "https://localhost:8080/"
    },
    "id": "HDl4XMFYd5ik",
    "outputId": "c4e97a47-9c9a-4d77-e9a5-bdef22d0e177"
   },
   "outputs": [
    {
     "name": "stdout",
     "output_type": "stream",
     "text": [
      "Epoch 1/500\n",
      "148/148 [==============================] - 3s 20ms/step - loss: 2.3712 - binary_crossentropy: 0.7157 - recall: 0.6304 - precision: 0.5517 - accuracy: 0.5591 - val_loss: 2.0930 - val_binary_crossentropy: 0.6490 - val_recall: 0.5253 - val_precision: 0.4939 - val_accuracy: 0.6891\n",
      "Epoch 2/500\n",
      "148/148 [==============================] - 2s 14ms/step - loss: 1.9074 - binary_crossentropy: 0.6462 - recall: 0.4964 - precision: 0.6701 - accuracy: 0.6260 - val_loss: 1.7145 - val_binary_crossentropy: 0.6264 - val_recall: 0.5688 - val_precision: 0.5178 - val_accuracy: 0.7051\n",
      "Epoch 3/500\n",
      "148/148 [==============================] - 2s 14ms/step - loss: 1.5764 - binary_crossentropy: 0.6316 - recall: 0.5165 - precision: 0.6935 - accuracy: 0.6441 - val_loss: 1.4215 - val_binary_crossentropy: 0.6107 - val_recall: 0.5406 - val_precision: 0.5565 - val_accuracy: 0.7268\n",
      "Epoch 4/500\n",
      "148/148 [==============================] - 2s 14ms/step - loss: 1.3216 - binary_crossentropy: 0.6193 - recall: 0.5258 - precision: 0.7171 - accuracy: 0.6592 - val_loss: 1.1984 - val_binary_crossentropy: 0.5959 - val_recall: 0.5693 - val_precision: 0.5706 - val_accuracy: 0.7364\n",
      "Epoch 5/500\n",
      "148/148 [==============================] - 2s 14ms/step - loss: 1.1317 - binary_crossentropy: 0.6079 - recall: 0.5264 - precision: 0.7358 - accuracy: 0.6687 - val_loss: 1.0465 - val_binary_crossentropy: 0.5942 - val_recall: 0.5586 - val_precision: 0.5899 - val_accuracy: 0.7454\n",
      "Epoch 6/500\n",
      "148/148 [==============================] - 2s 14ms/step - loss: 0.9950 - binary_crossentropy: 0.5973 - recall: 0.5312 - precision: 0.7517 - accuracy: 0.6779 - val_loss: 0.9259 - val_binary_crossentropy: 0.5771 - val_recall: 0.5558 - val_precision: 0.6089 - val_accuracy: 0.7541\n",
      "Epoch 7/500\n",
      "148/148 [==============================] - 2s 15ms/step - loss: 0.9031 - binary_crossentropy: 0.5906 - recall: 0.5291 - precision: 0.7659 - accuracy: 0.6837 - val_loss: 0.8510 - val_binary_crossentropy: 0.5703 - val_recall: 0.5382 - val_precision: 0.6329 - val_accuracy: 0.7625\n",
      "Epoch 8/500\n",
      "148/148 [==============================] - 2s 14ms/step - loss: 0.8432 - binary_crossentropy: 0.5850 - recall: 0.5234 - precision: 0.7802 - accuracy: 0.6880 - val_loss: 0.8037 - val_binary_crossentropy: 0.5654 - val_recall: 0.5377 - val_precision: 0.6485 - val_accuracy: 0.7687\n",
      "Epoch 9/500\n",
      "148/148 [==============================] - 2s 14ms/step - loss: 0.7999 - binary_crossentropy: 0.5758 - recall: 0.5317 - precision: 0.7872 - accuracy: 0.6940 - val_loss: 0.7627 - val_binary_crossentropy: 0.5514 - val_recall: 0.5346 - val_precision: 0.6637 - val_accuracy: 0.7741\n",
      "Epoch 10/500\n",
      "148/148 [==============================] - 2s 14ms/step - loss: 0.7718 - binary_crossentropy: 0.5703 - recall: 0.5304 - precision: 0.7953 - accuracy: 0.6969 - val_loss: 0.7459 - val_binary_crossentropy: 0.5532 - val_recall: 0.5284 - val_precision: 0.6751 - val_accuracy: 0.7772\n",
      "Epoch 11/500\n",
      "148/148 [==============================] - 2s 14ms/step - loss: 0.7516 - binary_crossentropy: 0.5660 - recall: 0.5317 - precision: 0.8042 - accuracy: 0.7011 - val_loss: 0.7205 - val_binary_crossentropy: 0.5417 - val_recall: 0.5176 - val_precision: 0.6931 - val_accuracy: 0.7816\n",
      "Epoch 12/500\n",
      "148/148 [==============================] - 2s 14ms/step - loss: 0.7337 - binary_crossentropy: 0.5604 - recall: 0.5358 - precision: 0.8066 - accuracy: 0.7036 - val_loss: 0.7063 - val_binary_crossentropy: 0.5383 - val_recall: 0.5698 - val_precision: 0.6605 - val_accuracy: 0.7781\n",
      "Epoch 13/500\n",
      "148/148 [==============================] - 2s 14ms/step - loss: 0.7192 - binary_crossentropy: 0.5558 - recall: 0.5433 - precision: 0.8112 - accuracy: 0.7085 - val_loss: 0.6915 - val_binary_crossentropy: 0.5324 - val_recall: 0.5309 - val_precision: 0.6966 - val_accuracy: 0.7851\n",
      "Epoch 14/500\n",
      "148/148 [==============================] - 2s 14ms/step - loss: 0.7080 - binary_crossentropy: 0.5527 - recall: 0.5413 - precision: 0.8189 - accuracy: 0.7108 - val_loss: 0.6788 - val_binary_crossentropy: 0.5273 - val_recall: 0.5440 - val_precision: 0.7046 - val_accuracy: 0.7901\n",
      "Epoch 15/500\n",
      "148/148 [==============================] - 2s 14ms/step - loss: 0.6958 - binary_crossentropy: 0.5475 - recall: 0.5452 - precision: 0.8213 - accuracy: 0.7133 - val_loss: 0.6668 - val_binary_crossentropy: 0.5219 - val_recall: 0.5667 - val_precision: 0.6987 - val_accuracy: 0.7920\n",
      "Epoch 16/500\n",
      "148/148 [==============================] - 2s 14ms/step - loss: 0.6865 - binary_crossentropy: 0.5445 - recall: 0.5509 - precision: 0.8212 - accuracy: 0.7155 - val_loss: 0.6548 - val_binary_crossentropy: 0.5155 - val_recall: 0.5591 - val_precision: 0.7118 - val_accuracy: 0.7952\n",
      "Epoch 17/500\n",
      "148/148 [==============================] - 2s 15ms/step - loss: 0.6770 - binary_crossentropy: 0.5402 - recall: 0.5564 - precision: 0.8221 - accuracy: 0.7180 - val_loss: 0.6450 - val_binary_crossentropy: 0.5108 - val_recall: 0.5675 - val_precision: 0.7186 - val_accuracy: 0.7991\n",
      "Epoch 18/500\n",
      "148/148 [==============================] - 2s 14ms/step - loss: 0.6694 - binary_crossentropy: 0.5375 - recall: 0.5608 - precision: 0.8273 - accuracy: 0.7219 - val_loss: 0.6388 - val_binary_crossentropy: 0.5092 - val_recall: 0.5649 - val_precision: 0.7181 - val_accuracy: 0.7984\n",
      "Epoch 19/500\n",
      "148/148 [==============================] - 2s 15ms/step - loss: 0.6607 - binary_crossentropy: 0.5330 - recall: 0.5613 - precision: 0.8298 - accuracy: 0.7231 - val_loss: 0.6327 - val_binary_crossentropy: 0.5072 - val_recall: 0.5495 - val_precision: 0.7266 - val_accuracy: 0.7983\n",
      "Epoch 20/500\n",
      "148/148 [==============================] - 2s 15ms/step - loss: 0.6530 - binary_crossentropy: 0.5292 - recall: 0.5677 - precision: 0.8297 - accuracy: 0.7256 - val_loss: 0.6274 - val_binary_crossentropy: 0.5055 - val_recall: 0.6003 - val_precision: 0.6986 - val_accuracy: 0.7979\n",
      "Epoch 21/500\n",
      "148/148 [==============================] - 2s 14ms/step - loss: 0.6468 - binary_crossentropy: 0.5266 - recall: 0.5706 - precision: 0.8335 - accuracy: 0.7283 - val_loss: 0.6195 - val_binary_crossentropy: 0.5010 - val_recall: 0.5779 - val_precision: 0.7182 - val_accuracy: 0.8009\n",
      "Epoch 22/500\n",
      "148/148 [==============================] - 2s 15ms/step - loss: 0.6395 - binary_crossentropy: 0.5224 - recall: 0.5744 - precision: 0.8320 - accuracy: 0.7292 - val_loss: 0.6056 - val_binary_crossentropy: 0.4902 - val_recall: 0.5943 - val_precision: 0.7180 - val_accuracy: 0.8039\n",
      "Epoch 23/500\n",
      "148/148 [==============================] - 2s 15ms/step - loss: 0.6323 - binary_crossentropy: 0.5181 - recall: 0.5801 - precision: 0.8359 - accuracy: 0.7331 - val_loss: 0.6037 - val_binary_crossentropy: 0.4909 - val_recall: 0.5773 - val_precision: 0.7341 - val_accuracy: 0.8061\n",
      "Epoch 24/500\n",
      "148/148 [==============================] - 2s 15ms/step - loss: 0.6272 - binary_crossentropy: 0.5156 - recall: 0.5852 - precision: 0.8377 - accuracy: 0.7359 - val_loss: 0.5943 - val_binary_crossentropy: 0.4841 - val_recall: 0.5915 - val_precision: 0.7390 - val_accuracy: 0.8105\n",
      "Epoch 25/500\n",
      "148/148 [==============================] - 2s 15ms/step - loss: 0.6233 - binary_crossentropy: 0.5144 - recall: 0.5857 - precision: 0.8409 - accuracy: 0.7374 - val_loss: 0.5930 - val_binary_crossentropy: 0.4851 - val_recall: 0.5906 - val_precision: 0.7250 - val_accuracy: 0.8056\n",
      "Epoch 26/500\n",
      "148/148 [==============================] - 2s 15ms/step - loss: 0.6169 - binary_crossentropy: 0.5100 - recall: 0.5925 - precision: 0.8391 - accuracy: 0.7395 - val_loss: 0.5889 - val_binary_crossentropy: 0.4831 - val_recall: 0.6018 - val_precision: 0.7253 - val_accuracy: 0.8079\n",
      "Epoch 27/500\n",
      "148/148 [==============================] - 2s 14ms/step - loss: 0.6101 - binary_crossentropy: 0.5053 - recall: 0.5986 - precision: 0.8401 - accuracy: 0.7423 - val_loss: 0.5832 - val_binary_crossentropy: 0.4793 - val_recall: 0.6138 - val_precision: 0.7201 - val_accuracy: 0.8083\n",
      "Epoch 28/500\n",
      "148/148 [==============================] - 2s 15ms/step - loss: 0.6051 - binary_crossentropy: 0.5021 - recall: 0.5982 - precision: 0.8445 - accuracy: 0.7440 - val_loss: 0.5762 - val_binary_crossentropy: 0.4742 - val_recall: 0.6175 - val_precision: 0.7268 - val_accuracy: 0.8114\n",
      "Epoch 29/500\n",
      "148/148 [==============================] - 2s 15ms/step - loss: 0.5995 - binary_crossentropy: 0.4982 - recall: 0.6059 - precision: 0.8437 - accuracy: 0.7468 - val_loss: 0.5691 - val_binary_crossentropy: 0.4686 - val_recall: 0.6000 - val_precision: 0.7476 - val_accuracy: 0.8151\n",
      "Epoch 30/500\n",
      "148/148 [==============================] - 2s 15ms/step - loss: 0.5959 - binary_crossentropy: 0.4961 - recall: 0.6064 - precision: 0.8474 - accuracy: 0.7486 - val_loss: 0.5685 - val_binary_crossentropy: 0.4694 - val_recall: 0.6002 - val_precision: 0.7482 - val_accuracy: 0.8153\n",
      "Epoch 31/500\n",
      "148/148 [==============================] - 2s 15ms/step - loss: 0.5903 - binary_crossentropy: 0.4917 - recall: 0.6143 - precision: 0.8457 - accuracy: 0.7511 - val_loss: 0.5641 - val_binary_crossentropy: 0.4664 - val_recall: 0.5915 - val_precision: 0.7593 - val_accuracy: 0.8171\n",
      "Epoch 32/500\n",
      "148/148 [==============================] - 2s 15ms/step - loss: 0.5861 - binary_crossentropy: 0.4888 - recall: 0.6125 - precision: 0.8502 - accuracy: 0.7523 - val_loss: 0.5537 - val_binary_crossentropy: 0.4572 - val_recall: 0.6022 - val_precision: 0.7646 - val_accuracy: 0.8210\n",
      "Epoch 33/500\n",
      "148/148 [==============================] - 2s 15ms/step - loss: 0.5804 - binary_crossentropy: 0.4845 - recall: 0.6226 - precision: 0.8487 - accuracy: 0.7558 - val_loss: 0.5473 - val_binary_crossentropy: 0.4518 - val_recall: 0.6097 - val_precision: 0.7418 - val_accuracy: 0.8151\n",
      "Epoch 34/500\n",
      "148/148 [==============================] - 2s 15ms/step - loss: 0.5776 - binary_crossentropy: 0.4825 - recall: 0.6236 - precision: 0.8505 - accuracy: 0.7570 - val_loss: 0.5472 - val_binary_crossentropy: 0.4527 - val_recall: 0.6255 - val_precision: 0.7453 - val_accuracy: 0.8195\n",
      "Epoch 35/500\n",
      "148/148 [==============================] - 2s 15ms/step - loss: 0.5731 - binary_crossentropy: 0.4789 - recall: 0.6265 - precision: 0.8552 - accuracy: 0.7602 - val_loss: 0.5453 - val_binary_crossentropy: 0.4518 - val_recall: 0.6185 - val_precision: 0.7566 - val_accuracy: 0.8219\n",
      "Epoch 36/500\n",
      "148/148 [==============================] - 2s 15ms/step - loss: 0.5684 - binary_crossentropy: 0.4754 - recall: 0.6294 - precision: 0.8546 - accuracy: 0.7612 - val_loss: 0.5464 - val_binary_crossentropy: 0.4536 - val_recall: 0.6361 - val_precision: 0.7449 - val_accuracy: 0.8215\n",
      "Epoch 37/500\n",
      "148/148 [==============================] - 2s 15ms/step - loss: 0.5629 - binary_crossentropy: 0.4705 - recall: 0.6367 - precision: 0.8570 - accuracy: 0.7652 - val_loss: 0.5251 - val_binary_crossentropy: 0.4332 - val_recall: 0.6068 - val_precision: 0.7795 - val_accuracy: 0.8267\n",
      "Epoch 38/500\n",
      "148/148 [==============================] - 2s 15ms/step - loss: 0.5584 - binary_crossentropy: 0.4670 - recall: 0.6412 - precision: 0.8569 - accuracy: 0.7671 - val_loss: 0.5284 - val_binary_crossentropy: 0.4375 - val_recall: 0.6225 - val_precision: 0.7712 - val_accuracy: 0.8275\n",
      "Epoch 39/500\n",
      "148/148 [==============================] - 2s 15ms/step - loss: 0.5560 - binary_crossentropy: 0.4652 - recall: 0.6436 - precision: 0.8584 - accuracy: 0.7688 - val_loss: 0.5246 - val_binary_crossentropy: 0.4342 - val_recall: 0.6369 - val_precision: 0.7616 - val_accuracy: 0.8274\n",
      "Epoch 40/500\n",
      "148/148 [==============================] - 2s 15ms/step - loss: 0.5511 - binary_crossentropy: 0.4610 - recall: 0.6476 - precision: 0.8613 - accuracy: 0.7716 - val_loss: 0.5281 - val_binary_crossentropy: 0.4383 - val_recall: 0.6494 - val_precision: 0.7461 - val_accuracy: 0.8246\n",
      "Epoch 41/500\n",
      "148/148 [==============================] - 2s 15ms/step - loss: 0.5473 - binary_crossentropy: 0.4577 - recall: 0.6518 - precision: 0.8595 - accuracy: 0.7726 - val_loss: 0.5181 - val_binary_crossentropy: 0.4290 - val_recall: 0.6546 - val_precision: 0.7510 - val_accuracy: 0.8274\n",
      "Epoch 42/500\n",
      "148/148 [==============================] - 2s 15ms/step - loss: 0.5424 - binary_crossentropy: 0.4534 - recall: 0.6560 - precision: 0.8654 - accuracy: 0.7770 - val_loss: 0.5193 - val_binary_crossentropy: 0.4309 - val_recall: 0.6378 - val_precision: 0.7663 - val_accuracy: 0.8292\n",
      "Epoch 43/500\n",
      "148/148 [==============================] - 2s 15ms/step - loss: 0.5392 - binary_crossentropy: 0.4509 - recall: 0.6591 - precision: 0.8610 - accuracy: 0.7763 - val_loss: 0.5152 - val_binary_crossentropy: 0.4273 - val_recall: 0.6451 - val_precision: 0.7628 - val_accuracy: 0.8295\n",
      "Epoch 44/500\n",
      "148/148 [==============================] - 2s 15ms/step - loss: 0.5356 - binary_crossentropy: 0.4475 - recall: 0.6606 - precision: 0.8674 - accuracy: 0.7798 - val_loss: 0.5086 - val_binary_crossentropy: 0.4209 - val_recall: 0.6363 - val_precision: 0.7760 - val_accuracy: 0.8320\n",
      "Epoch 45/500\n",
      "148/148 [==============================] - 2s 15ms/step - loss: 0.5324 - binary_crossentropy: 0.4449 - recall: 0.6638 - precision: 0.8672 - accuracy: 0.7811 - val_loss: 0.5119 - val_binary_crossentropy: 0.4247 - val_recall: 0.6443 - val_precision: 0.7803 - val_accuracy: 0.8352\n",
      "Epoch 46/500\n",
      "148/148 [==============================] - 2s 15ms/step - loss: 0.5302 - binary_crossentropy: 0.4430 - recall: 0.6635 - precision: 0.8697 - accuracy: 0.7820 - val_loss: 0.5120 - val_binary_crossentropy: 0.4252 - val_recall: 0.6664 - val_precision: 0.7515 - val_accuracy: 0.8300\n",
      "Epoch 47/500\n",
      "148/148 [==============================] - 2s 15ms/step - loss: 0.5250 - binary_crossentropy: 0.4384 - recall: 0.6692 - precision: 0.8705 - accuracy: 0.7849 - val_loss: 0.5041 - val_binary_crossentropy: 0.4176 - val_recall: 0.6259 - val_precision: 0.8077 - val_accuracy: 0.8395\n",
      "Epoch 48/500\n",
      "148/148 [==============================] - 2s 15ms/step - loss: 0.5220 - binary_crossentropy: 0.4355 - recall: 0.6738 - precision: 0.8706 - accuracy: 0.7868 - val_loss: 0.4994 - val_binary_crossentropy: 0.4132 - val_recall: 0.6536 - val_precision: 0.7777 - val_accuracy: 0.8363\n",
      "Epoch 49/500\n",
      "148/148 [==============================] - 2s 15ms/step - loss: 0.5181 - binary_crossentropy: 0.4320 - recall: 0.6752 - precision: 0.8737 - accuracy: 0.7888 - val_loss: 0.5001 - val_binary_crossentropy: 0.4143 - val_recall: 0.6358 - val_precision: 0.8015 - val_accuracy: 0.8399\n",
      "Epoch 50/500\n",
      "148/148 [==============================] - 2s 15ms/step - loss: 0.5149 - binary_crossentropy: 0.4291 - recall: 0.6774 - precision: 0.8730 - accuracy: 0.7894 - val_loss: 0.4904 - val_binary_crossentropy: 0.4049 - val_recall: 0.6538 - val_precision: 0.7859 - val_accuracy: 0.8391\n",
      "Epoch 51/500\n",
      "148/148 [==============================] - 2s 15ms/step - loss: 0.5110 - binary_crossentropy: 0.4255 - recall: 0.6808 - precision: 0.8749 - accuracy: 0.7917 - val_loss: 0.5001 - val_binary_crossentropy: 0.4148 - val_recall: 0.6726 - val_precision: 0.7632 - val_accuracy: 0.8355\n",
      "Epoch 52/500\n",
      "148/148 [==============================] - 2s 15ms/step - loss: 0.5087 - binary_crossentropy: 0.4233 - recall: 0.6849 - precision: 0.8751 - accuracy: 0.7936 - val_loss: 0.4901 - val_binary_crossentropy: 0.4049 - val_recall: 0.6677 - val_precision: 0.7765 - val_accuracy: 0.8391\n",
      "Epoch 53/500\n",
      "148/148 [==============================] - 2s 15ms/step - loss: 0.5047 - binary_crossentropy: 0.4197 - recall: 0.6879 - precision: 0.8762 - accuracy: 0.7954 - val_loss: 0.4876 - val_binary_crossentropy: 0.4027 - val_recall: 0.6627 - val_precision: 0.7880 - val_accuracy: 0.8418\n",
      "Epoch 54/500\n",
      "148/148 [==============================] - 2s 15ms/step - loss: 0.5040 - binary_crossentropy: 0.4191 - recall: 0.6876 - precision: 0.8786 - accuracy: 0.7963 - val_loss: 0.4813 - val_binary_crossentropy: 0.3966 - val_recall: 0.6509 - val_precision: 0.8030 - val_accuracy: 0.8438\n",
      "Epoch 55/500\n",
      "148/148 [==============================] - 2s 15ms/step - loss: 0.4972 - binary_crossentropy: 0.4126 - recall: 0.6942 - precision: 0.8807 - accuracy: 0.8001 - val_loss: 0.4864 - val_binary_crossentropy: 0.4019 - val_recall: 0.6720 - val_precision: 0.7747 - val_accuracy: 0.8394\n",
      "Epoch 56/500\n",
      "148/148 [==============================] - 2s 15ms/step - loss: 0.4952 - binary_crossentropy: 0.4107 - recall: 0.6982 - precision: 0.8797 - accuracy: 0.8013 - val_loss: 0.4835 - val_binary_crossentropy: 0.3991 - val_recall: 0.6870 - val_precision: 0.7647 - val_accuracy: 0.8391\n",
      "Epoch 57/500\n",
      "148/148 [==============================] - 2s 15ms/step - loss: 0.4913 - binary_crossentropy: 0.4070 - recall: 0.7000 - precision: 0.8822 - accuracy: 0.8033 - val_loss: 0.4875 - val_binary_crossentropy: 0.4034 - val_recall: 0.6919 - val_precision: 0.7536 - val_accuracy: 0.8361\n",
      "Epoch 58/500\n",
      "148/148 [==============================] - 2s 15ms/step - loss: 0.4909 - binary_crossentropy: 0.4066 - recall: 0.7026 - precision: 0.8786 - accuracy: 0.8028 - val_loss: 0.4729 - val_binary_crossentropy: 0.3887 - val_recall: 0.6616 - val_precision: 0.7976 - val_accuracy: 0.8446\n",
      "Epoch 59/500\n",
      "148/148 [==============================] - 2s 15ms/step - loss: 0.4875 - binary_crossentropy: 0.4032 - recall: 0.7049 - precision: 0.8811 - accuracy: 0.8049 - val_loss: 0.4680 - val_binary_crossentropy: 0.3839 - val_recall: 0.6534 - val_precision: 0.8139 - val_accuracy: 0.8478\n",
      "Epoch 60/500\n",
      "148/148 [==============================] - 2s 15ms/step - loss: 0.4830 - binary_crossentropy: 0.3989 - recall: 0.7092 - precision: 0.8836 - accuracy: 0.8079 - val_loss: 0.4667 - val_binary_crossentropy: 0.3828 - val_recall: 0.6632 - val_precision: 0.8015 - val_accuracy: 0.8463\n",
      "Epoch 61/500\n",
      "148/148 [==============================] - 2s 15ms/step - loss: 0.4793 - binary_crossentropy: 0.3953 - recall: 0.7114 - precision: 0.8839 - accuracy: 0.8090 - val_loss: 0.4786 - val_binary_crossentropy: 0.3946 - val_recall: 0.6812 - val_precision: 0.7827 - val_accuracy: 0.8441\n",
      "Epoch 62/500\n",
      "148/148 [==============================] - 2s 15ms/step - loss: 0.4792 - binary_crossentropy: 0.3952 - recall: 0.7143 - precision: 0.8826 - accuracy: 0.8096 - val_loss: 0.4679 - val_binary_crossentropy: 0.3842 - val_recall: 0.6547 - val_precision: 0.8089 - val_accuracy: 0.8466\n",
      "Epoch 63/500\n",
      "148/148 [==============================] - 2s 15ms/step - loss: 0.4755 - binary_crossentropy: 0.3917 - recall: 0.7149 - precision: 0.8854 - accuracy: 0.8112 - val_loss: 0.4659 - val_binary_crossentropy: 0.3821 - val_recall: 0.6815 - val_precision: 0.7809 - val_accuracy: 0.8436\n",
      "Epoch 64/500\n",
      "148/148 [==============================] - 2s 15ms/step - loss: 0.4734 - binary_crossentropy: 0.3894 - recall: 0.7189 - precision: 0.8862 - accuracy: 0.8133 - val_loss: 0.4659 - val_binary_crossentropy: 0.3821 - val_recall: 0.6798 - val_precision: 0.7848 - val_accuracy: 0.8446\n",
      "Epoch 65/500\n",
      "148/148 [==============================] - 2s 15ms/step - loss: 0.4709 - binary_crossentropy: 0.3871 - recall: 0.7229 - precision: 0.8849 - accuracy: 0.8144 - val_loss: 0.4623 - val_binary_crossentropy: 0.3786 - val_recall: 0.6825 - val_precision: 0.7885 - val_accuracy: 0.8464\n",
      "Epoch 66/500\n",
      "148/148 [==============================] - 2s 15ms/step - loss: 0.4655 - binary_crossentropy: 0.3817 - recall: 0.7273 - precision: 0.8861 - accuracy: 0.8169 - val_loss: 0.4654 - val_binary_crossentropy: 0.3815 - val_recall: 0.6861 - val_precision: 0.7874 - val_accuracy: 0.8468\n",
      "Epoch 67/500\n",
      "148/148 [==============================] - 2s 15ms/step - loss: 0.4638 - binary_crossentropy: 0.3800 - recall: 0.7283 - precision: 0.8873 - accuracy: 0.8179 - val_loss: 0.4560 - val_binary_crossentropy: 0.3722 - val_recall: 0.6839 - val_precision: 0.7903 - val_accuracy: 0.8473\n",
      "Epoch 68/500\n",
      "148/148 [==============================] - 2s 15ms/step - loss: 0.4623 - binary_crossentropy: 0.3784 - recall: 0.7302 - precision: 0.8877 - accuracy: 0.8189 - val_loss: 0.4712 - val_binary_crossentropy: 0.3874 - val_recall: 0.7043 - val_precision: 0.7624 - val_accuracy: 0.8419\n",
      "Epoch 69/500\n",
      "148/148 [==============================] - 2s 15ms/step - loss: 0.4591 - binary_crossentropy: 0.3750 - recall: 0.7358 - precision: 0.8876 - accuracy: 0.8213 - val_loss: 0.4550 - val_binary_crossentropy: 0.3712 - val_recall: 0.6820 - val_precision: 0.7963 - val_accuracy: 0.8489\n",
      "Epoch 70/500\n",
      "148/148 [==============================] - 2s 15ms/step - loss: 0.4560 - binary_crossentropy: 0.3720 - recall: 0.7344 - precision: 0.8911 - accuracy: 0.8223 - val_loss: 0.4517 - val_binary_crossentropy: 0.3676 - val_recall: 0.6954 - val_precision: 0.7859 - val_accuracy: 0.8484\n",
      "Epoch 71/500\n",
      "148/148 [==============================] - 2s 15ms/step - loss: 0.4540 - binary_crossentropy: 0.3698 - recall: 0.7389 - precision: 0.8890 - accuracy: 0.8233 - val_loss: 0.4500 - val_binary_crossentropy: 0.3660 - val_recall: 0.6752 - val_precision: 0.8038 - val_accuracy: 0.8497\n",
      "Epoch 72/500\n",
      "148/148 [==============================] - 2s 15ms/step - loss: 0.4510 - binary_crossentropy: 0.3668 - recall: 0.7399 - precision: 0.8916 - accuracy: 0.8250 - val_loss: 0.4623 - val_binary_crossentropy: 0.3782 - val_recall: 0.7000 - val_precision: 0.7801 - val_accuracy: 0.8474\n",
      "Epoch 73/500\n",
      "148/148 [==============================] - 2s 15ms/step - loss: 0.4478 - binary_crossentropy: 0.3635 - recall: 0.7443 - precision: 0.8923 - accuracy: 0.8272 - val_loss: 0.4463 - val_binary_crossentropy: 0.3621 - val_recall: 0.6856 - val_precision: 0.7982 - val_accuracy: 0.8503\n",
      "Epoch 74/500\n",
      "148/148 [==============================] - 2s 15ms/step - loss: 0.4467 - binary_crossentropy: 0.3620 - recall: 0.7470 - precision: 0.8915 - accuracy: 0.8280 - val_loss: 0.4566 - val_binary_crossentropy: 0.3721 - val_recall: 0.6949 - val_precision: 0.7884 - val_accuracy: 0.8492\n",
      "Epoch 75/500\n",
      "148/148 [==============================] - 2s 14ms/step - loss: 0.4436 - binary_crossentropy: 0.3590 - recall: 0.7505 - precision: 0.8931 - accuracy: 0.8304 - val_loss: 0.4496 - val_binary_crossentropy: 0.3650 - val_recall: 0.6954 - val_precision: 0.7847 - val_accuracy: 0.8480\n",
      "Epoch 76/500\n",
      "148/148 [==============================] - 2s 15ms/step - loss: 0.4407 - binary_crossentropy: 0.3560 - recall: 0.7523 - precision: 0.8927 - accuracy: 0.8309 - val_loss: 0.4514 - val_binary_crossentropy: 0.3667 - val_recall: 0.7004 - val_precision: 0.7879 - val_accuracy: 0.8502\n",
      "Epoch 77/500\n",
      "148/148 [==============================] - 2s 15ms/step - loss: 0.4364 - binary_crossentropy: 0.3516 - recall: 0.7564 - precision: 0.8946 - accuracy: 0.8336 - val_loss: 0.4466 - val_binary_crossentropy: 0.3618 - val_recall: 0.6772 - val_precision: 0.8108 - val_accuracy: 0.8525\n",
      "Epoch 78/500\n",
      "148/148 [==============================] - 2s 15ms/step - loss: 0.4354 - binary_crossentropy: 0.3502 - recall: 0.7553 - precision: 0.8956 - accuracy: 0.8336 - val_loss: 0.4473 - val_binary_crossentropy: 0.3622 - val_recall: 0.6988 - val_precision: 0.7878 - val_accuracy: 0.8498\n",
      "Epoch 79/500\n",
      "148/148 [==============================] - 2s 14ms/step - loss: 0.4319 - binary_crossentropy: 0.3468 - recall: 0.7627 - precision: 0.8947 - accuracy: 0.8365 - val_loss: 0.4479 - val_binary_crossentropy: 0.3627 - val_recall: 0.6922 - val_precision: 0.8005 - val_accuracy: 0.8526\n",
      "Epoch 80/500\n",
      "148/148 [==============================] - 2s 15ms/step - loss: 0.4313 - binary_crossentropy: 0.3459 - recall: 0.7629 - precision: 0.8970 - accuracy: 0.8376 - val_loss: 0.4463 - val_binary_crossentropy: 0.3609 - val_recall: 0.6897 - val_precision: 0.8091 - val_accuracy: 0.8549\n",
      "Epoch 81/500\n",
      "148/148 [==============================] - 2s 14ms/step - loss: 0.4287 - binary_crossentropy: 0.3432 - recall: 0.7657 - precision: 0.8981 - accuracy: 0.8394 - val_loss: 0.4517 - val_binary_crossentropy: 0.3662 - val_recall: 0.7020 - val_precision: 0.7769 - val_accuracy: 0.8467\n",
      "Epoch 82/500\n",
      "148/148 [==============================] - 2s 15ms/step - loss: 0.4253 - binary_crossentropy: 0.3397 - recall: 0.7655 - precision: 0.8984 - accuracy: 0.8395 - val_loss: 0.4527 - val_binary_crossentropy: 0.3669 - val_recall: 0.7170 - val_precision: 0.7763 - val_accuracy: 0.8497\n",
      "Epoch 83/500\n",
      "148/148 [==============================] - 2s 15ms/step - loss: 0.4251 - binary_crossentropy: 0.3391 - recall: 0.7690 - precision: 0.8986 - accuracy: 0.8411 - val_loss: 0.4430 - val_binary_crossentropy: 0.3570 - val_recall: 0.7054 - val_precision: 0.7879 - val_accuracy: 0.8513\n",
      "Epoch 84/500\n",
      "148/148 [==============================] - 2s 15ms/step - loss: 0.4204 - binary_crossentropy: 0.3342 - recall: 0.7728 - precision: 0.9010 - accuracy: 0.8439 - val_loss: 0.4479 - val_binary_crossentropy: 0.3618 - val_recall: 0.7068 - val_precision: 0.7899 - val_accuracy: 0.8523\n",
      "Epoch 85/500\n",
      "148/148 [==============================] - 2s 15ms/step - loss: 0.4203 - binary_crossentropy: 0.3340 - recall: 0.7740 - precision: 0.8996 - accuracy: 0.8438 - val_loss: 0.4448 - val_binary_crossentropy: 0.3585 - val_recall: 0.6979 - val_precision: 0.7926 - val_accuracy: 0.8512\n",
      "Epoch 86/500\n",
      "148/148 [==============================] - 2s 14ms/step - loss: 0.4164 - binary_crossentropy: 0.3298 - recall: 0.7768 - precision: 0.9003 - accuracy: 0.8454 - val_loss: 0.4485 - val_binary_crossentropy: 0.3620 - val_recall: 0.7173 - val_precision: 0.7722 - val_accuracy: 0.8483\n",
      "Epoch 87/500\n",
      "148/148 [==============================] - 2s 14ms/step - loss: 0.4131 - binary_crossentropy: 0.3263 - recall: 0.7801 - precision: 0.9017 - accuracy: 0.8475 - val_loss: 0.4388 - val_binary_crossentropy: 0.3521 - val_recall: 0.6954 - val_precision: 0.7995 - val_accuracy: 0.8530\n",
      "Epoch 88/500\n",
      "148/148 [==============================] - 2s 14ms/step - loss: 0.4115 - binary_crossentropy: 0.3245 - recall: 0.7828 - precision: 0.9019 - accuracy: 0.8488 - val_loss: 0.4415 - val_binary_crossentropy: 0.3545 - val_recall: 0.7069 - val_precision: 0.7909 - val_accuracy: 0.8527\n",
      "Epoch 89/500\n",
      "148/148 [==============================] - 2s 15ms/step - loss: 0.4088 - binary_crossentropy: 0.3215 - recall: 0.7844 - precision: 0.9029 - accuracy: 0.8500 - val_loss: 0.4457 - val_binary_crossentropy: 0.3585 - val_recall: 0.7135 - val_precision: 0.7805 - val_accuracy: 0.8505\n",
      "Epoch 90/500\n",
      "148/148 [==============================] - 2s 15ms/step - loss: 0.4055 - binary_crossentropy: 0.3181 - recall: 0.7894 - precision: 0.9025 - accuracy: 0.8521 - val_loss: 0.4426 - val_binary_crossentropy: 0.3553 - val_recall: 0.7096 - val_precision: 0.7849 - val_accuracy: 0.8512\n",
      "Epoch 91/500\n",
      "148/148 [==============================] - 2s 15ms/step - loss: 0.4029 - binary_crossentropy: 0.3153 - recall: 0.7915 - precision: 0.9039 - accuracy: 0.8537 - val_loss: 0.4511 - val_binary_crossentropy: 0.3635 - val_recall: 0.7100 - val_precision: 0.7874 - val_accuracy: 0.8522\n",
      "Epoch 92/500\n",
      "148/148 [==============================] - 2s 15ms/step - loss: 0.4017 - binary_crossentropy: 0.3136 - recall: 0.7936 - precision: 0.9043 - accuracy: 0.8548 - val_loss: 0.4432 - val_binary_crossentropy: 0.3553 - val_recall: 0.6943 - val_precision: 0.8046 - val_accuracy: 0.8545\n",
      "Epoch 93/500\n",
      "148/148 [==============================] - 2s 14ms/step - loss: 0.3984 - binary_crossentropy: 0.3102 - recall: 0.7972 - precision: 0.9036 - accuracy: 0.8561 - val_loss: 0.4395 - val_binary_crossentropy: 0.3512 - val_recall: 0.7147 - val_precision: 0.7920 - val_accuracy: 0.8548\n",
      "Epoch 94/500\n",
      "148/148 [==============================] - 2s 14ms/step - loss: 0.3972 - binary_crossentropy: 0.3089 - recall: 0.7976 - precision: 0.9067 - accuracy: 0.8578 - val_loss: 0.4446 - val_binary_crossentropy: 0.3562 - val_recall: 0.7152 - val_precision: 0.7834 - val_accuracy: 0.8519\n",
      "Epoch 95/500\n",
      "148/148 [==============================] - 2s 15ms/step - loss: 0.3949 - binary_crossentropy: 0.3060 - recall: 0.8024 - precision: 0.9038 - accuracy: 0.8585 - val_loss: 0.4421 - val_binary_crossentropy: 0.3533 - val_recall: 0.7072 - val_precision: 0.7941 - val_accuracy: 0.8539\n",
      "Epoch 96/500\n",
      "148/148 [==============================] - 2s 15ms/step - loss: 0.3905 - binary_crossentropy: 0.3016 - recall: 0.8051 - precision: 0.9081 - accuracy: 0.8618 - val_loss: 0.4498 - val_binary_crossentropy: 0.3608 - val_recall: 0.7272 - val_precision: 0.7739 - val_accuracy: 0.8511\n",
      "Epoch 97/500\n",
      "148/148 [==============================] - 2s 15ms/step - loss: 0.3899 - binary_crossentropy: 0.3006 - recall: 0.8074 - precision: 0.9064 - accuracy: 0.8620 - val_loss: 0.4385 - val_binary_crossentropy: 0.3490 - val_recall: 0.6838 - val_precision: 0.8207 - val_accuracy: 0.8571\n",
      "Epoch 98/500\n",
      "148/148 [==============================] - 2s 15ms/step - loss: 0.3865 - binary_crossentropy: 0.2968 - recall: 0.8087 - precision: 0.9091 - accuracy: 0.8639 - val_loss: 0.4417 - val_binary_crossentropy: 0.3521 - val_recall: 0.7015 - val_precision: 0.8026 - val_accuracy: 0.8555\n",
      "Epoch 99/500\n",
      "148/148 [==============================] - 2s 15ms/step - loss: 0.3853 - binary_crossentropy: 0.2956 - recall: 0.8089 - precision: 0.9106 - accuracy: 0.8647 - val_loss: 0.4474 - val_binary_crossentropy: 0.3576 - val_recall: 0.7161 - val_precision: 0.7827 - val_accuracy: 0.8519\n",
      "Epoch 100/500\n",
      "148/148 [==============================] - 2s 14ms/step - loss: 0.3823 - binary_crossentropy: 0.2920 - recall: 0.8116 - precision: 0.9108 - accuracy: 0.8660 - val_loss: 0.4464 - val_binary_crossentropy: 0.3560 - val_recall: 0.7018 - val_precision: 0.8076 - val_accuracy: 0.8572\n",
      "Epoch 101/500\n",
      "148/148 [==============================] - 2s 15ms/step - loss: 0.3797 - binary_crossentropy: 0.2891 - recall: 0.8150 - precision: 0.9124 - accuracy: 0.8684 - val_loss: 0.4512 - val_binary_crossentropy: 0.3608 - val_recall: 0.7295 - val_precision: 0.7692 - val_accuracy: 0.8498\n",
      "Epoch 102/500\n",
      "148/148 [==============================] - 2s 14ms/step - loss: 0.3773 - binary_crossentropy: 0.2865 - recall: 0.8174 - precision: 0.9125 - accuracy: 0.8695 - val_loss: 0.4436 - val_binary_crossentropy: 0.3526 - val_recall: 0.7050 - val_precision: 0.7998 - val_accuracy: 0.8553\n",
      "Epoch 103/500\n",
      "148/148 [==============================] - 2s 15ms/step - loss: 0.3764 - binary_crossentropy: 0.2852 - recall: 0.8218 - precision: 0.9105 - accuracy: 0.8705 - val_loss: 0.4457 - val_binary_crossentropy: 0.3545 - val_recall: 0.7045 - val_precision: 0.8002 - val_accuracy: 0.8554\n",
      "Epoch 104/500\n",
      "148/148 [==============================] - 2s 15ms/step - loss: 0.3735 - binary_crossentropy: 0.2821 - recall: 0.8215 - precision: 0.9135 - accuracy: 0.8719 - val_loss: 0.4463 - val_binary_crossentropy: 0.3547 - val_recall: 0.7122 - val_precision: 0.7899 - val_accuracy: 0.8535\n",
      "Epoch 105/500\n",
      "148/148 [==============================] - 2s 15ms/step - loss: 0.3711 - binary_crossentropy: 0.2794 - recall: 0.8270 - precision: 0.9128 - accuracy: 0.8740 - val_loss: 0.4468 - val_binary_crossentropy: 0.3550 - val_recall: 0.7118 - val_precision: 0.7918 - val_accuracy: 0.8541\n",
      "Epoch 106/500\n",
      "148/148 [==============================] - 2s 15ms/step - loss: 0.3687 - binary_crossentropy: 0.2766 - recall: 0.8256 - precision: 0.9128 - accuracy: 0.8734 - val_loss: 0.4541 - val_binary_crossentropy: 0.3620 - val_recall: 0.7226 - val_precision: 0.7802 - val_accuracy: 0.8524\n",
      "Epoch 107/500\n",
      "148/148 [==============================] - 2s 15ms/step - loss: 0.3681 - binary_crossentropy: 0.2757 - recall: 0.8291 - precision: 0.9140 - accuracy: 0.8755 - val_loss: 0.4485 - val_binary_crossentropy: 0.3562 - val_recall: 0.7052 - val_precision: 0.8016 - val_accuracy: 0.8560\n",
      "Epoch 108/500\n",
      "148/148 [==============================] - 2s 15ms/step - loss: 0.3639 - binary_crossentropy: 0.2711 - recall: 0.8297 - precision: 0.9143 - accuracy: 0.8759 - val_loss: 0.4509 - val_binary_crossentropy: 0.3581 - val_recall: 0.7172 - val_precision: 0.7885 - val_accuracy: 0.8542\n",
      "Epoch 109/500\n",
      "148/148 [==============================] - 2s 15ms/step - loss: 0.3625 - binary_crossentropy: 0.2696 - recall: 0.8312 - precision: 0.9157 - accuracy: 0.8774 - val_loss: 0.4514 - val_binary_crossentropy: 0.3583 - val_recall: 0.7216 - val_precision: 0.7832 - val_accuracy: 0.8533\n",
      "Epoch 110/500\n",
      "148/148 [==============================] - 2s 15ms/step - loss: 0.3587 - binary_crossentropy: 0.2652 - recall: 0.8358 - precision: 0.9172 - accuracy: 0.8802 - val_loss: 0.4533 - val_binary_crossentropy: 0.3600 - val_recall: 0.7194 - val_precision: 0.7866 - val_accuracy: 0.8540\n",
      "Epoch 111/500\n",
      "148/148 [==============================] - 2s 15ms/step - loss: 0.3591 - binary_crossentropy: 0.2655 - recall: 0.8385 - precision: 0.9158 - accuracy: 0.8807 - val_loss: 0.4512 - val_binary_crossentropy: 0.3575 - val_recall: 0.6942 - val_precision: 0.8200 - val_accuracy: 0.8594\n",
      "Epoch 112/500\n",
      "148/148 [==============================] - 2s 15ms/step - loss: 0.3564 - binary_crossentropy: 0.2625 - recall: 0.8383 - precision: 0.9190 - accuracy: 0.8822 - val_loss: 0.4511 - val_binary_crossentropy: 0.3571 - val_recall: 0.7002 - val_precision: 0.8068 - val_accuracy: 0.8565\n",
      "Epoch 113/500\n",
      "148/148 [==============================] - 2s 15ms/step - loss: 0.3531 - binary_crossentropy: 0.2589 - recall: 0.8412 - precision: 0.9195 - accuracy: 0.8838 - val_loss: 0.4591 - val_binary_crossentropy: 0.3649 - val_recall: 0.7328 - val_precision: 0.7706 - val_accuracy: 0.8511\n",
      "Epoch 114/500\n",
      "148/148 [==============================] - 2s 15ms/step - loss: 0.3505 - binary_crossentropy: 0.2560 - recall: 0.8454 - precision: 0.9194 - accuracy: 0.8856 - val_loss: 0.4539 - val_binary_crossentropy: 0.3594 - val_recall: 0.7150 - val_precision: 0.7960 - val_accuracy: 0.8563\n",
      "Epoch 115/500\n",
      "148/148 [==============================] - 2s 15ms/step - loss: 0.3478 - binary_crossentropy: 0.2531 - recall: 0.8462 - precision: 0.9205 - accuracy: 0.8866 - val_loss: 0.4684 - val_binary_crossentropy: 0.3737 - val_recall: 0.7369 - val_precision: 0.7601 - val_accuracy: 0.8479\n",
      "Epoch 116/500\n",
      "148/148 [==============================] - 2s 15ms/step - loss: 0.3476 - binary_crossentropy: 0.2527 - recall: 0.8487 - precision: 0.9188 - accuracy: 0.8869 - val_loss: 0.4574 - val_binary_crossentropy: 0.3624 - val_recall: 0.7013 - val_precision: 0.8047 - val_accuracy: 0.8561\n",
      "Epoch 117/500\n",
      "148/148 [==============================] - 2s 15ms/step - loss: 0.3452 - binary_crossentropy: 0.2500 - recall: 0.8495 - precision: 0.9207 - accuracy: 0.8882 - val_loss: 0.4621 - val_binary_crossentropy: 0.3668 - val_recall: 0.7182 - val_precision: 0.7804 - val_accuracy: 0.8515\n",
      "Epoch 118/500\n",
      "148/148 [==============================] - 2s 15ms/step - loss: 0.3418 - binary_crossentropy: 0.2464 - recall: 0.8518 - precision: 0.9234 - accuracy: 0.8906 - val_loss: 0.4616 - val_binary_crossentropy: 0.3659 - val_recall: 0.7259 - val_precision: 0.7749 - val_accuracy: 0.8512\n",
      "Epoch 119/500\n",
      "148/148 [==============================] - 2s 15ms/step - loss: 0.3400 - binary_crossentropy: 0.2441 - recall: 0.8536 - precision: 0.9248 - accuracy: 0.8921 - val_loss: 0.4626 - val_binary_crossentropy: 0.3668 - val_recall: 0.7161 - val_precision: 0.7833 - val_accuracy: 0.8521\n",
      "Epoch 120/500\n",
      "148/148 [==============================] - 2s 15ms/step - loss: 0.3392 - binary_crossentropy: 0.2431 - recall: 0.8551 - precision: 0.9235 - accuracy: 0.8921 - val_loss: 0.4639 - val_binary_crossentropy: 0.3679 - val_recall: 0.7172 - val_precision: 0.7856 - val_accuracy: 0.8532\n",
      "Epoch 121/500\n",
      "148/148 [==============================] - 2s 15ms/step - loss: 0.3373 - binary_crossentropy: 0.2409 - recall: 0.8547 - precision: 0.9240 - accuracy: 0.8922 - val_loss: 0.4627 - val_binary_crossentropy: 0.3662 - val_recall: 0.7170 - val_precision: 0.7864 - val_accuracy: 0.8534\n",
      "Epoch 122/500\n",
      "148/148 [==============================] - 2s 15ms/step - loss: 0.3341 - binary_crossentropy: 0.2374 - recall: 0.8589 - precision: 0.9251 - accuracy: 0.8947 - val_loss: 0.4627 - val_binary_crossentropy: 0.3661 - val_recall: 0.7113 - val_precision: 0.7956 - val_accuracy: 0.8553\n",
      "Epoch 123/500\n",
      "148/148 [==============================] - 2s 15ms/step - loss: 0.3324 - binary_crossentropy: 0.2355 - recall: 0.8614 - precision: 0.9234 - accuracy: 0.8950 - val_loss: 0.4698 - val_binary_crossentropy: 0.3729 - val_recall: 0.7163 - val_precision: 0.7858 - val_accuracy: 0.8530\n",
      "Epoch 124/500\n",
      "148/148 [==============================] - 2s 15ms/step - loss: 0.3304 - binary_crossentropy: 0.2332 - recall: 0.8626 - precision: 0.9267 - accuracy: 0.8972 - val_loss: 0.4642 - val_binary_crossentropy: 0.3671 - val_recall: 0.7165 - val_precision: 0.7891 - val_accuracy: 0.8542\n",
      "Epoch 125/500\n",
      "148/148 [==============================] - 2s 15ms/step - loss: 0.3287 - binary_crossentropy: 0.2313 - recall: 0.8638 - precision: 0.9285 - accuracy: 0.8987 - val_loss: 0.4716 - val_binary_crossentropy: 0.3741 - val_recall: 0.7112 - val_precision: 0.7910 - val_accuracy: 0.8537\n",
      "Epoch 126/500\n",
      "148/148 [==============================] - 2s 15ms/step - loss: 0.3268 - binary_crossentropy: 0.2290 - recall: 0.8661 - precision: 0.9276 - accuracy: 0.8992 - val_loss: 0.4671 - val_binary_crossentropy: 0.3692 - val_recall: 0.7025 - val_precision: 0.8083 - val_accuracy: 0.8576\n",
      "Epoch 127/500\n",
      "148/148 [==============================] - 2s 15ms/step - loss: 0.3232 - binary_crossentropy: 0.2250 - recall: 0.8697 - precision: 0.9285 - accuracy: 0.9014 - val_loss: 0.4706 - val_binary_crossentropy: 0.3725 - val_recall: 0.7295 - val_precision: 0.7779 - val_accuracy: 0.8531\n",
      "Epoch 128/500\n",
      "148/148 [==============================] - 2s 15ms/step - loss: 0.3226 - binary_crossentropy: 0.2242 - recall: 0.8685 - precision: 0.9286 - accuracy: 0.9009 - val_loss: 0.4705 - val_binary_crossentropy: 0.3721 - val_recall: 0.7217 - val_precision: 0.7829 - val_accuracy: 0.8532\n",
      "Epoch 129/500\n",
      "148/148 [==============================] - 2s 15ms/step - loss: 0.3213 - binary_crossentropy: 0.2227 - recall: 0.8697 - precision: 0.9305 - accuracy: 0.9024 - val_loss: 0.4798 - val_binary_crossentropy: 0.3813 - val_recall: 0.7234 - val_precision: 0.7774 - val_accuracy: 0.8515\n",
      "Epoch 130/500\n",
      "148/148 [==============================] - 2s 15ms/step - loss: 0.3190 - binary_crossentropy: 0.2202 - recall: 0.8716 - precision: 0.9293 - accuracy: 0.9026 - val_loss: 0.4821 - val_binary_crossentropy: 0.3833 - val_recall: 0.7295 - val_precision: 0.7679 - val_accuracy: 0.8493\n",
      "Epoch 131/500\n",
      "148/148 [==============================] - 2s 15ms/step - loss: 0.3181 - binary_crossentropy: 0.2190 - recall: 0.8745 - precision: 0.9300 - accuracy: 0.9044 - val_loss: 0.4710 - val_binary_crossentropy: 0.3719 - val_recall: 0.6963 - val_precision: 0.8113 - val_accuracy: 0.8571\n",
      "Epoch 132/500\n",
      "148/148 [==============================] - 2s 15ms/step - loss: 0.3140 - binary_crossentropy: 0.2148 - recall: 0.8758 - precision: 0.9313 - accuracy: 0.9056 - val_loss: 0.4808 - val_binary_crossentropy: 0.3816 - val_recall: 0.7154 - val_precision: 0.7943 - val_accuracy: 0.8558\n",
      "Epoch 133/500\n",
      "148/148 [==============================] - 2s 15ms/step - loss: 0.3128 - binary_crossentropy: 0.2134 - recall: 0.8779 - precision: 0.9309 - accuracy: 0.9064 - val_loss: 0.4823 - val_binary_crossentropy: 0.3829 - val_recall: 0.7200 - val_precision: 0.7886 - val_accuracy: 0.8548\n",
      "Epoch 134/500\n",
      "148/148 [==============================] - 2s 15ms/step - loss: 0.3108 - binary_crossentropy: 0.2113 - recall: 0.8783 - precision: 0.9320 - accuracy: 0.9071 - val_loss: 0.4834 - val_binary_crossentropy: 0.3837 - val_recall: 0.7000 - val_precision: 0.8050 - val_accuracy: 0.8559\n",
      "Epoch 135/500\n",
      "148/148 [==============================] - 2s 15ms/step - loss: 0.3099 - binary_crossentropy: 0.2098 - recall: 0.8788 - precision: 0.9324 - accuracy: 0.9075 - val_loss: 0.4781 - val_binary_crossentropy: 0.3781 - val_recall: 0.7129 - val_precision: 0.7995 - val_accuracy: 0.8571\n",
      "Epoch 136/500\n",
      "148/148 [==============================] - 2s 15ms/step - loss: 0.3080 - binary_crossentropy: 0.2078 - recall: 0.8806 - precision: 0.9343 - accuracy: 0.9094 - val_loss: 0.4900 - val_binary_crossentropy: 0.3901 - val_recall: 0.7168 - val_precision: 0.7889 - val_accuracy: 0.8542\n",
      "Epoch 137/500\n",
      "148/148 [==============================] - 2s 15ms/step - loss: 0.3046 - binary_crossentropy: 0.2045 - recall: 0.8849 - precision: 0.9327 - accuracy: 0.9106 - val_loss: 0.4850 - val_binary_crossentropy: 0.3848 - val_recall: 0.6974 - val_precision: 0.8076 - val_accuracy: 0.8561\n",
      "Epoch 138/500\n",
      "148/148 [==============================] - 2s 15ms/step - loss: 0.3045 - binary_crossentropy: 0.2041 - recall: 0.8839 - precision: 0.9345 - accuracy: 0.9110 - val_loss: 0.4924 - val_binary_crossentropy: 0.3920 - val_recall: 0.7091 - val_precision: 0.7902 - val_accuracy: 0.8529\n",
      "Epoch 139/500\n",
      "148/148 [==============================] - 2s 15ms/step - loss: 0.3032 - binary_crossentropy: 0.2024 - recall: 0.8850 - precision: 0.9361 - accuracy: 0.9123 - val_loss: 0.4883 - val_binary_crossentropy: 0.3876 - val_recall: 0.7136 - val_precision: 0.7935 - val_accuracy: 0.8551\n",
      "Epoch 140/500\n",
      "148/148 [==============================] - 2s 15ms/step - loss: 0.3011 - binary_crossentropy: 0.2001 - recall: 0.8871 - precision: 0.9357 - accuracy: 0.9131 - val_loss: 0.4878 - val_binary_crossentropy: 0.3869 - val_recall: 0.7172 - val_precision: 0.7822 - val_accuracy: 0.8519\n",
      "Epoch 141/500\n",
      "148/148 [==============================] - 2s 15ms/step - loss: 0.2979 - binary_crossentropy: 0.1969 - recall: 0.8887 - precision: 0.9374 - accuracy: 0.9147 - val_loss: 0.4952 - val_binary_crossentropy: 0.3942 - val_recall: 0.7189 - val_precision: 0.7893 - val_accuracy: 0.8548\n",
      "Epoch 142/500\n",
      "148/148 [==============================] - 2s 15ms/step - loss: 0.2972 - binary_crossentropy: 0.1961 - recall: 0.8897 - precision: 0.9369 - accuracy: 0.9149 - val_loss: 0.5037 - val_binary_crossentropy: 0.4025 - val_recall: 0.7148 - val_precision: 0.7909 - val_accuracy: 0.8545\n",
      "Epoch 143/500\n",
      "148/148 [==============================] - 2s 15ms/step - loss: 0.2954 - binary_crossentropy: 0.1939 - recall: 0.8913 - precision: 0.9371 - accuracy: 0.9158 - val_loss: 0.5023 - val_binary_crossentropy: 0.4010 - val_recall: 0.7111 - val_precision: 0.7965 - val_accuracy: 0.8556\n",
      "Epoch 144/500\n",
      "148/148 [==============================] - 2s 15ms/step - loss: 0.2940 - binary_crossentropy: 0.1925 - recall: 0.8904 - precision: 0.9381 - accuracy: 0.9159 - val_loss: 0.4993 - val_binary_crossentropy: 0.3979 - val_recall: 0.7152 - val_precision: 0.7893 - val_accuracy: 0.8540\n",
      "Epoch 145/500\n",
      "148/148 [==============================] - 2s 15ms/step - loss: 0.2927 - binary_crossentropy: 0.1911 - recall: 0.8943 - precision: 0.9396 - accuracy: 0.9184 - val_loss: 0.4982 - val_binary_crossentropy: 0.3966 - val_recall: 0.7159 - val_precision: 0.7877 - val_accuracy: 0.8536\n",
      "Epoch 146/500\n",
      "148/148 [==============================] - 2s 15ms/step - loss: 0.2926 - binary_crossentropy: 0.1906 - recall: 0.8927 - precision: 0.9402 - accuracy: 0.9179 - val_loss: 0.5029 - val_binary_crossentropy: 0.4010 - val_recall: 0.7144 - val_precision: 0.7901 - val_accuracy: 0.8541\n",
      "Epoch 147/500\n",
      "148/148 [==============================] - 2s 15ms/step - loss: 0.2902 - binary_crossentropy: 0.1882 - recall: 0.8942 - precision: 0.9389 - accuracy: 0.9180 - val_loss: 0.5023 - val_binary_crossentropy: 0.4002 - val_recall: 0.7198 - val_precision: 0.7862 - val_accuracy: 0.8539\n",
      "Epoch 148/500\n",
      "148/148 [==============================] - 2s 15ms/step - loss: 0.2885 - binary_crossentropy: 0.1862 - recall: 0.8962 - precision: 0.9401 - accuracy: 0.9196 - val_loss: 0.5037 - val_binary_crossentropy: 0.4016 - val_recall: 0.7159 - val_precision: 0.7895 - val_accuracy: 0.8542\n",
      "Epoch 149/500\n",
      "148/148 [==============================] - 2s 15ms/step - loss: 0.2870 - binary_crossentropy: 0.1848 - recall: 0.8977 - precision: 0.9404 - accuracy: 0.9204 - val_loss: 0.5037 - val_binary_crossentropy: 0.4014 - val_recall: 0.7075 - val_precision: 0.7967 - val_accuracy: 0.8548\n",
      "Epoch 150/500\n",
      "148/148 [==============================] - 2s 15ms/step - loss: 0.2850 - binary_crossentropy: 0.1824 - recall: 0.8987 - precision: 0.9415 - accuracy: 0.9214 - val_loss: 0.5101 - val_binary_crossentropy: 0.4078 - val_recall: 0.7100 - val_precision: 0.8009 - val_accuracy: 0.8568\n",
      "Epoch 151/500\n",
      "148/148 [==============================] - 2s 15ms/step - loss: 0.2860 - binary_crossentropy: 0.1834 - recall: 0.8986 - precision: 0.9415 - accuracy: 0.9214 - val_loss: 0.5165 - val_binary_crossentropy: 0.4140 - val_recall: 0.7211 - val_precision: 0.7788 - val_accuracy: 0.8516\n",
      "Epoch 152/500\n",
      "148/148 [==============================] - 2s 15ms/step - loss: 0.2814 - binary_crossentropy: 0.1785 - recall: 0.9011 - precision: 0.9416 - accuracy: 0.9226 - val_loss: 0.5166 - val_binary_crossentropy: 0.4140 - val_recall: 0.7110 - val_precision: 0.7942 - val_accuracy: 0.8548\n",
      "Epoch 153/500\n",
      "148/148 [==============================] - 2s 15ms/step - loss: 0.2814 - binary_crossentropy: 0.1786 - recall: 0.9029 - precision: 0.9415 - accuracy: 0.9234 - val_loss: 0.5164 - val_binary_crossentropy: 0.4135 - val_recall: 0.7217 - val_precision: 0.7838 - val_accuracy: 0.8535\n",
      "Epoch 154/500\n",
      "148/148 [==============================] - 2s 15ms/step - loss: 0.2809 - binary_crossentropy: 0.1778 - recall: 0.9020 - precision: 0.9421 - accuracy: 0.9233 - val_loss: 0.5160 - val_binary_crossentropy: 0.4129 - val_recall: 0.7104 - val_precision: 0.7877 - val_accuracy: 0.8524\n",
      "Epoch 155/500\n",
      "148/148 [==============================] - 2s 15ms/step - loss: 0.2778 - binary_crossentropy: 0.1745 - recall: 0.9057 - precision: 0.9425 - accuracy: 0.9252 - val_loss: 0.5288 - val_binary_crossentropy: 0.4258 - val_recall: 0.7061 - val_precision: 0.7984 - val_accuracy: 0.8551\n",
      "Epoch 156/500\n",
      "148/148 [==============================] - 2s 15ms/step - loss: 0.2765 - binary_crossentropy: 0.1732 - recall: 0.9064 - precision: 0.9444 - accuracy: 0.9265 - val_loss: 0.5303 - val_binary_crossentropy: 0.4270 - val_recall: 0.7184 - val_precision: 0.7842 - val_accuracy: 0.8529\n",
      "Epoch 157/500\n",
      "148/148 [==============================] - 2s 15ms/step - loss: 0.2768 - binary_crossentropy: 0.1732 - recall: 0.9059 - precision: 0.9429 - accuracy: 0.9256 - val_loss: 0.5182 - val_binary_crossentropy: 0.4147 - val_recall: 0.6995 - val_precision: 0.8051 - val_accuracy: 0.8558\n",
      "Epoch 158/500\n",
      "148/148 [==============================] - 2s 15ms/step - loss: 0.2752 - binary_crossentropy: 0.1716 - recall: 0.9073 - precision: 0.9434 - accuracy: 0.9264 - val_loss: 0.5292 - val_binary_crossentropy: 0.4256 - val_recall: 0.7204 - val_precision: 0.7762 - val_accuracy: 0.8505\n",
      "Epoch 159/500\n",
      "148/148 [==============================] - 2s 15ms/step - loss: 0.2731 - binary_crossentropy: 0.1694 - recall: 0.9074 - precision: 0.9455 - accuracy: 0.9276 - val_loss: 0.5273 - val_binary_crossentropy: 0.4238 - val_recall: 0.7063 - val_precision: 0.8004 - val_accuracy: 0.8558\n",
      "Epoch 160/500\n",
      "148/148 [==============================] - 2s 15ms/step - loss: 0.2706 - binary_crossentropy: 0.1669 - recall: 0.9105 - precision: 0.9461 - accuracy: 0.9293 - val_loss: 0.5308 - val_binary_crossentropy: 0.4270 - val_recall: 0.7047 - val_precision: 0.8065 - val_accuracy: 0.8575\n",
      "Epoch 161/500\n",
      "148/148 [==============================] - 2s 15ms/step - loss: 0.2705 - binary_crossentropy: 0.1666 - recall: 0.9104 - precision: 0.9467 - accuracy: 0.9296 - val_loss: 0.5354 - val_binary_crossentropy: 0.4316 - val_recall: 0.7227 - val_precision: 0.7771 - val_accuracy: 0.8513\n",
      "Epoch 162/500\n",
      "148/148 [==============================] - 2s 15ms/step - loss: 0.2694 - binary_crossentropy: 0.1655 - recall: 0.9119 - precision: 0.9454 - accuracy: 0.9296 - val_loss: 0.5293 - val_binary_crossentropy: 0.4253 - val_recall: 0.7015 - val_precision: 0.8089 - val_accuracy: 0.8576\n",
      "Epoch 163/500\n",
      "148/148 [==============================] - 2s 15ms/step - loss: 0.2688 - binary_crossentropy: 0.1647 - recall: 0.9118 - precision: 0.9468 - accuracy: 0.9303 - val_loss: 0.5357 - val_binary_crossentropy: 0.4318 - val_recall: 0.7194 - val_precision: 0.7880 - val_accuracy: 0.8545\n",
      "Epoch 164/500\n",
      "148/148 [==============================] - 2s 15ms/step - loss: 0.2680 - binary_crossentropy: 0.1640 - recall: 0.9130 - precision: 0.9466 - accuracy: 0.9308 - val_loss: 0.5362 - val_binary_crossentropy: 0.4322 - val_recall: 0.7147 - val_precision: 0.7880 - val_accuracy: 0.8535\n",
      "Epoch 165/500\n",
      "148/148 [==============================] - 2s 15ms/step - loss: 0.2649 - binary_crossentropy: 0.1608 - recall: 0.9141 - precision: 0.9464 - accuracy: 0.9312 - val_loss: 0.5388 - val_binary_crossentropy: 0.4347 - val_recall: 0.7095 - val_precision: 0.7962 - val_accuracy: 0.8551\n",
      "Epoch 166/500\n",
      "148/148 [==============================] - 2s 15ms/step - loss: 0.2645 - binary_crossentropy: 0.1601 - recall: 0.9147 - precision: 0.9476 - accuracy: 0.9321 - val_loss: 0.5358 - val_binary_crossentropy: 0.4316 - val_recall: 0.7197 - val_precision: 0.7830 - val_accuracy: 0.8528\n",
      "Epoch 167/500\n",
      "148/148 [==============================] - 2s 15ms/step - loss: 0.2631 - binary_crossentropy: 0.1587 - recall: 0.9151 - precision: 0.9488 - accuracy: 0.9328 - val_loss: 0.5442 - val_binary_crossentropy: 0.4399 - val_recall: 0.7175 - val_precision: 0.7880 - val_accuracy: 0.8541\n",
      "Epoch 168/500\n",
      "148/148 [==============================] - 2s 15ms/step - loss: 0.2614 - binary_crossentropy: 0.1570 - recall: 0.9169 - precision: 0.9491 - accuracy: 0.9339 - val_loss: 0.5371 - val_binary_crossentropy: 0.4328 - val_recall: 0.7063 - val_precision: 0.8019 - val_accuracy: 0.8563\n",
      "Epoch 169/500\n",
      "148/148 [==============================] - 2s 15ms/step - loss: 0.2609 - binary_crossentropy: 0.1564 - recall: 0.9187 - precision: 0.9480 - accuracy: 0.9341 - val_loss: 0.5481 - val_binary_crossentropy: 0.4437 - val_recall: 0.6950 - val_precision: 0.8165 - val_accuracy: 0.8585\n",
      "Epoch 170/500\n",
      "148/148 [==============================] - 2s 15ms/step - loss: 0.2579 - binary_crossentropy: 0.1535 - recall: 0.9193 - precision: 0.9494 - accuracy: 0.9351 - val_loss: 0.5515 - val_binary_crossentropy: 0.4471 - val_recall: 0.7043 - val_precision: 0.7942 - val_accuracy: 0.8532\n",
      "Epoch 171/500\n",
      "148/148 [==============================] - 2s 16ms/step - loss: 0.2574 - binary_crossentropy: 0.1528 - recall: 0.9191 - precision: 0.9485 - accuracy: 0.9346 - val_loss: 0.5522 - val_binary_crossentropy: 0.4479 - val_recall: 0.7152 - val_precision: 0.7905 - val_accuracy: 0.8544\n",
      "Epoch 172/500\n",
      "148/148 [==============================] - 2s 16ms/step - loss: 0.2600 - binary_crossentropy: 0.1552 - recall: 0.9187 - precision: 0.9493 - accuracy: 0.9348 - val_loss: 0.5553 - val_binary_crossentropy: 0.4507 - val_recall: 0.6956 - val_precision: 0.8127 - val_accuracy: 0.8574\n",
      "Epoch 173/500\n",
      "148/148 [==============================] - 2s 16ms/step - loss: 0.2568 - binary_crossentropy: 0.1521 - recall: 0.9192 - precision: 0.9493 - accuracy: 0.9351 - val_loss: 0.5497 - val_binary_crossentropy: 0.4451 - val_recall: 0.7152 - val_precision: 0.7854 - val_accuracy: 0.8526\n",
      "Epoch 174/500\n",
      "148/148 [==============================] - 2s 16ms/step - loss: 0.2567 - binary_crossentropy: 0.1519 - recall: 0.9201 - precision: 0.9502 - accuracy: 0.9360 - val_loss: 0.5467 - val_binary_crossentropy: 0.4421 - val_recall: 0.7134 - val_precision: 0.7898 - val_accuracy: 0.8538\n",
      "Epoch 175/500\n",
      "148/148 [==============================] - 2s 15ms/step - loss: 0.2531 - binary_crossentropy: 0.1483 - recall: 0.9217 - precision: 0.9515 - accuracy: 0.9374 - val_loss: 0.5615 - val_binary_crossentropy: 0.4570 - val_recall: 0.7024 - val_precision: 0.8116 - val_accuracy: 0.8586\n",
      "Epoch 176/500\n",
      "148/148 [==============================] - 2s 15ms/step - loss: 0.2528 - binary_crossentropy: 0.1481 - recall: 0.9226 - precision: 0.9509 - accuracy: 0.9375 - val_loss: 0.5471 - val_binary_crossentropy: 0.4424 - val_recall: 0.6988 - val_precision: 0.8047 - val_accuracy: 0.8555\n",
      "Epoch 177/500\n",
      "148/148 [==============================] - 2s 15ms/step - loss: 0.2538 - binary_crossentropy: 0.1488 - recall: 0.9229 - precision: 0.9510 - accuracy: 0.9377 - val_loss: 0.5570 - val_binary_crossentropy: 0.4522 - val_recall: 0.7013 - val_precision: 0.8060 - val_accuracy: 0.8565\n",
      "Epoch 178/500\n",
      "148/148 [==============================] - 2s 15ms/step - loss: 0.2519 - binary_crossentropy: 0.1469 - recall: 0.9243 - precision: 0.9514 - accuracy: 0.9385 - val_loss: 0.5601 - val_binary_crossentropy: 0.4553 - val_recall: 0.7072 - val_precision: 0.7977 - val_accuracy: 0.8551\n",
      "Epoch 179/500\n",
      "148/148 [==============================] - 2s 15ms/step - loss: 0.2503 - binary_crossentropy: 0.1452 - recall: 0.9250 - precision: 0.9512 - accuracy: 0.9388 - val_loss: 0.5648 - val_binary_crossentropy: 0.4599 - val_recall: 0.7084 - val_precision: 0.7965 - val_accuracy: 0.8550\n",
      "Epoch 180/500\n",
      "148/148 [==============================] - 2s 15ms/step - loss: 0.2496 - binary_crossentropy: 0.1446 - recall: 0.9259 - precision: 0.9518 - accuracy: 0.9395 - val_loss: 0.5708 - val_binary_crossentropy: 0.4660 - val_recall: 0.7058 - val_precision: 0.8010 - val_accuracy: 0.8559\n",
      "Epoch 181/500\n",
      "148/148 [==============================] - 2s 15ms/step - loss: 0.2501 - binary_crossentropy: 0.1450 - recall: 0.9256 - precision: 0.9523 - accuracy: 0.9396 - val_loss: 0.5644 - val_binary_crossentropy: 0.4596 - val_recall: 0.6989 - val_precision: 0.8121 - val_accuracy: 0.8580\n",
      "Epoch 182/500\n",
      "148/148 [==============================] - 2s 15ms/step - loss: 0.2466 - binary_crossentropy: 0.1416 - recall: 0.9275 - precision: 0.9532 - accuracy: 0.9410 - val_loss: 0.5678 - val_binary_crossentropy: 0.4630 - val_recall: 0.7063 - val_precision: 0.8000 - val_accuracy: 0.8557\n",
      "Epoch 183/500\n",
      "148/148 [==============================] - 2s 15ms/step - loss: 0.2455 - binary_crossentropy: 0.1405 - recall: 0.9284 - precision: 0.9532 - accuracy: 0.9414 - val_loss: 0.5640 - val_binary_crossentropy: 0.4592 - val_recall: 0.7084 - val_precision: 0.8003 - val_accuracy: 0.8563\n",
      "Epoch 184/500\n",
      "148/148 [==============================] - 2s 15ms/step - loss: 0.2436 - binary_crossentropy: 0.1386 - recall: 0.9297 - precision: 0.9548 - accuracy: 0.9428 - val_loss: 0.5615 - val_binary_crossentropy: 0.4566 - val_recall: 0.7075 - val_precision: 0.8004 - val_accuracy: 0.8561\n",
      "Epoch 185/500\n",
      "148/148 [==============================] - 2s 15ms/step - loss: 0.2439 - binary_crossentropy: 0.1387 - recall: 0.9295 - precision: 0.9541 - accuracy: 0.9424 - val_loss: 0.5640 - val_binary_crossentropy: 0.4590 - val_recall: 0.7047 - val_precision: 0.8028 - val_accuracy: 0.8563\n",
      "Epoch 186/500\n",
      "148/148 [==============================] - 2s 15ms/step - loss: 0.2440 - binary_crossentropy: 0.1388 - recall: 0.9299 - precision: 0.9555 - accuracy: 0.9433 - val_loss: 0.5728 - val_binary_crossentropy: 0.4677 - val_recall: 0.7095 - val_precision: 0.7917 - val_accuracy: 0.8536\n",
      "Epoch 187/500\n",
      "148/148 [==============================] - 2s 15ms/step - loss: 0.2421 - binary_crossentropy: 0.1370 - recall: 0.9299 - precision: 0.9556 - accuracy: 0.9434 - val_loss: 0.5738 - val_binary_crossentropy: 0.4689 - val_recall: 0.7057 - val_precision: 0.8028 - val_accuracy: 0.8565\n",
      "Epoch 188/500\n",
      "148/148 [==============================] - 2s 15ms/step - loss: 0.2410 - binary_crossentropy: 0.1359 - recall: 0.9302 - precision: 0.9554 - accuracy: 0.9434 - val_loss: 0.5751 - val_binary_crossentropy: 0.4701 - val_recall: 0.7075 - val_precision: 0.8045 - val_accuracy: 0.8575\n",
      "Epoch 189/500\n",
      "148/148 [==============================] - 2s 15ms/step - loss: 0.2398 - binary_crossentropy: 0.1347 - recall: 0.9311 - precision: 0.9564 - accuracy: 0.9443 - val_loss: 0.5822 - val_binary_crossentropy: 0.4773 - val_recall: 0.7219 - val_precision: 0.7808 - val_accuracy: 0.8525\n",
      "Epoch 190/500\n",
      "148/148 [==============================] - 2s 15ms/step - loss: 0.2402 - binary_crossentropy: 0.1349 - recall: 0.9331 - precision: 0.9550 - accuracy: 0.9445 - val_loss: 0.5801 - val_binary_crossentropy: 0.4751 - val_recall: 0.7033 - val_precision: 0.8096 - val_accuracy: 0.8582\n",
      "Epoch 191/500\n",
      "148/148 [==============================] - 2s 15ms/step - loss: 0.2389 - binary_crossentropy: 0.1338 - recall: 0.9332 - precision: 0.9573 - accuracy: 0.9458 - val_loss: 0.5855 - val_binary_crossentropy: 0.4806 - val_recall: 0.7069 - val_precision: 0.7995 - val_accuracy: 0.8557\n",
      "Epoch 192/500\n",
      "148/148 [==============================] - 2s 15ms/step - loss: 0.2375 - binary_crossentropy: 0.1325 - recall: 0.9325 - precision: 0.9565 - accuracy: 0.9451 - val_loss: 0.5815 - val_binary_crossentropy: 0.4766 - val_recall: 0.6987 - val_precision: 0.8069 - val_accuracy: 0.8562\n",
      "Epoch 193/500\n",
      "148/148 [==============================] - 2s 15ms/step - loss: 0.2360 - binary_crossentropy: 0.1309 - recall: 0.9330 - precision: 0.9575 - accuracy: 0.9458 - val_loss: 0.5877 - val_binary_crossentropy: 0.4828 - val_recall: 0.7118 - val_precision: 0.7932 - val_accuracy: 0.8546\n",
      "Epoch 194/500\n",
      "148/148 [==============================] - 2s 15ms/step - loss: 0.2358 - binary_crossentropy: 0.1309 - recall: 0.9333 - precision: 0.9574 - accuracy: 0.9459 - val_loss: 0.5789 - val_binary_crossentropy: 0.4739 - val_recall: 0.7049 - val_precision: 0.7995 - val_accuracy: 0.8552\n",
      "Epoch 195/500\n",
      "148/148 [==============================] - 2s 15ms/step - loss: 0.2371 - binary_crossentropy: 0.1319 - recall: 0.9336 - precision: 0.9558 - accuracy: 0.9452 - val_loss: 0.5956 - val_binary_crossentropy: 0.4906 - val_recall: 0.7145 - val_precision: 0.7926 - val_accuracy: 0.8550\n",
      "Epoch 196/500\n",
      "148/148 [==============================] - 2s 15ms/step - loss: 0.2367 - binary_crossentropy: 0.1315 - recall: 0.9339 - precision: 0.9568 - accuracy: 0.9459 - val_loss: 0.5872 - val_binary_crossentropy: 0.4820 - val_recall: 0.6931 - val_precision: 0.8149 - val_accuracy: 0.8575\n",
      "Epoch 197/500\n",
      "148/148 [==============================] - 2s 15ms/step - loss: 0.2340 - binary_crossentropy: 0.1287 - recall: 0.9360 - precision: 0.9581 - accuracy: 0.9475 - val_loss: 0.5885 - val_binary_crossentropy: 0.4834 - val_recall: 0.7013 - val_precision: 0.8057 - val_accuracy: 0.8564\n",
      "Epoch 198/500\n",
      "148/148 [==============================] - 2s 15ms/step - loss: 0.2341 - binary_crossentropy: 0.1289 - recall: 0.9347 - precision: 0.9574 - accuracy: 0.9465 - val_loss: 0.5946 - val_binary_crossentropy: 0.4895 - val_recall: 0.7070 - val_precision: 0.7976 - val_accuracy: 0.8550\n",
      "Epoch 199/500\n",
      "148/148 [==============================] - 2s 15ms/step - loss: 0.2326 - binary_crossentropy: 0.1274 - recall: 0.9370 - precision: 0.9577 - accuracy: 0.9478 - val_loss: 0.5904 - val_binary_crossentropy: 0.4855 - val_recall: 0.6967 - val_precision: 0.8094 - val_accuracy: 0.8566\n",
      "Epoch 200/500\n",
      "148/148 [==============================] - 2s 15ms/step - loss: 0.2330 - binary_crossentropy: 0.1276 - recall: 0.9364 - precision: 0.9581 - accuracy: 0.9477 - val_loss: 0.5954 - val_binary_crossentropy: 0.4903 - val_recall: 0.7147 - val_precision: 0.7918 - val_accuracy: 0.8548\n",
      "Epoch 201/500\n",
      "148/148 [==============================] - 2s 15ms/step - loss: 0.2295 - binary_crossentropy: 0.1241 - recall: 0.9387 - precision: 0.9590 - accuracy: 0.9493 - val_loss: 0.5962 - val_binary_crossentropy: 0.4910 - val_recall: 0.7143 - val_precision: 0.7831 - val_accuracy: 0.8516\n",
      "Epoch 202/500\n",
      "148/148 [==============================] - 2s 15ms/step - loss: 0.2286 - binary_crossentropy: 0.1233 - recall: 0.9401 - precision: 0.9584 - accuracy: 0.9496 - val_loss: 0.6066 - val_binary_crossentropy: 0.5016 - val_recall: 0.6902 - val_precision: 0.8160 - val_accuracy: 0.8572\n",
      "Epoch 203/500\n",
      "148/148 [==============================] - 2s 15ms/step - loss: 0.2304 - binary_crossentropy: 0.1251 - recall: 0.9370 - precision: 0.9592 - accuracy: 0.9486 - val_loss: 0.5989 - val_binary_crossentropy: 0.4938 - val_recall: 0.7004 - val_precision: 0.8017 - val_accuracy: 0.8549\n",
      "Epoch 204/500\n",
      "148/148 [==============================] - 2s 15ms/step - loss: 0.2296 - binary_crossentropy: 0.1243 - recall: 0.9382 - precision: 0.9591 - accuracy: 0.9491 - val_loss: 0.6020 - val_binary_crossentropy: 0.4969 - val_recall: 0.6982 - val_precision: 0.7995 - val_accuracy: 0.8537\n",
      "Epoch 205/500\n",
      "148/148 [==============================] - 2s 15ms/step - loss: 0.2263 - binary_crossentropy: 0.1210 - recall: 0.9401 - precision: 0.9608 - accuracy: 0.9509 - val_loss: 0.6134 - val_binary_crossentropy: 0.5084 - val_recall: 0.6895 - val_precision: 0.8198 - val_accuracy: 0.8582\n",
      "Epoch 206/500\n",
      "148/148 [==============================] - 2s 15ms/step - loss: 0.2257 - binary_crossentropy: 0.1206 - recall: 0.9391 - precision: 0.9602 - accuracy: 0.9501 - val_loss: 0.6012 - val_binary_crossentropy: 0.4963 - val_recall: 0.7086 - val_precision: 0.7875 - val_accuracy: 0.8519\n",
      "Epoch 207/500\n",
      "148/148 [==============================] - 2s 15ms/step - loss: 0.2273 - binary_crossentropy: 0.1220 - recall: 0.9386 - precision: 0.9599 - accuracy: 0.9497 - val_loss: 0.6065 - val_binary_crossentropy: 0.5015 - val_recall: 0.7006 - val_precision: 0.8045 - val_accuracy: 0.8559\n",
      "Epoch 208/500\n",
      "148/148 [==============================] - 2s 15ms/step - loss: 0.2264 - binary_crossentropy: 0.1213 - recall: 0.9399 - precision: 0.9604 - accuracy: 0.9506 - val_loss: 0.6168 - val_binary_crossentropy: 0.5119 - val_recall: 0.7029 - val_precision: 0.8028 - val_accuracy: 0.8559\n",
      "Epoch 209/500\n",
      "148/148 [==============================] - 2s 15ms/step - loss: 0.2255 - binary_crossentropy: 0.1203 - recall: 0.9404 - precision: 0.9600 - accuracy: 0.9506 - val_loss: 0.6206 - val_binary_crossentropy: 0.5157 - val_recall: 0.7061 - val_precision: 0.7976 - val_accuracy: 0.8548\n",
      "Epoch 210/500\n",
      "148/148 [==============================] - 2s 15ms/step - loss: 0.2251 - binary_crossentropy: 0.1200 - recall: 0.9402 - precision: 0.9612 - accuracy: 0.9511 - val_loss: 0.6182 - val_binary_crossentropy: 0.5134 - val_recall: 0.7115 - val_precision: 0.7837 - val_accuracy: 0.8512\n",
      "Epoch 211/500\n",
      "148/148 [==============================] - 2s 15ms/step - loss: 0.2242 - binary_crossentropy: 0.1191 - recall: 0.9418 - precision: 0.9603 - accuracy: 0.9514 - val_loss: 0.6000 - val_binary_crossentropy: 0.4951 - val_recall: 0.7001 - val_precision: 0.8105 - val_accuracy: 0.8577\n",
      "Epoch 212/500\n",
      "148/148 [==============================] - 2s 15ms/step - loss: 0.2232 - binary_crossentropy: 0.1181 - recall: 0.9422 - precision: 0.9610 - accuracy: 0.9520 - val_loss: 0.6105 - val_binary_crossentropy: 0.5057 - val_recall: 0.7000 - val_precision: 0.8037 - val_accuracy: 0.8555\n",
      "Epoch 213/500\n",
      "148/148 [==============================] - 2s 15ms/step - loss: 0.2231 - binary_crossentropy: 0.1180 - recall: 0.9424 - precision: 0.9627 - accuracy: 0.9530 - val_loss: 0.6105 - val_binary_crossentropy: 0.5057 - val_recall: 0.7050 - val_precision: 0.8016 - val_accuracy: 0.8559\n",
      "Epoch 214/500\n",
      "148/148 [==============================] - 2s 15ms/step - loss: 0.2221 - binary_crossentropy: 0.1170 - recall: 0.9426 - precision: 0.9606 - accuracy: 0.9519 - val_loss: 0.6062 - val_binary_crossentropy: 0.5014 - val_recall: 0.6883 - val_precision: 0.8202 - val_accuracy: 0.8580\n",
      "Epoch 215/500\n",
      "148/148 [==============================] - 2s 15ms/step - loss: 0.2212 - binary_crossentropy: 0.1162 - recall: 0.9420 - precision: 0.9624 - accuracy: 0.9526 - val_loss: 0.6198 - val_binary_crossentropy: 0.5150 - val_recall: 0.7066 - val_precision: 0.7951 - val_accuracy: 0.8541\n",
      "Epoch 216/500\n",
      "148/148 [==============================] - 2s 15ms/step - loss: 0.2204 - binary_crossentropy: 0.1154 - recall: 0.9429 - precision: 0.9622 - accuracy: 0.9529 - val_loss: 0.6169 - val_binary_crossentropy: 0.5121 - val_recall: 0.6943 - val_precision: 0.8080 - val_accuracy: 0.8556\n",
      "Epoch 217/500\n",
      "148/148 [==============================] - 2s 15ms/step - loss: 0.2206 - binary_crossentropy: 0.1157 - recall: 0.9429 - precision: 0.9627 - accuracy: 0.9532 - val_loss: 0.6132 - val_binary_crossentropy: 0.5083 - val_recall: 0.7079 - val_precision: 0.7944 - val_accuracy: 0.8542\n",
      "Epoch 218/500\n",
      "148/148 [==============================] - 2s 15ms/step - loss: 0.2176 - binary_crossentropy: 0.1126 - recall: 0.9450 - precision: 0.9630 - accuracy: 0.9543 - val_loss: 0.6241 - val_binary_crossentropy: 0.5192 - val_recall: 0.6980 - val_precision: 0.8126 - val_accuracy: 0.8579\n",
      "Epoch 219/500\n",
      "148/148 [==============================] - 2s 15ms/step - loss: 0.2201 - binary_crossentropy: 0.1150 - recall: 0.9427 - precision: 0.9622 - accuracy: 0.9529 - val_loss: 0.6179 - val_binary_crossentropy: 0.5131 - val_recall: 0.7124 - val_precision: 0.7948 - val_accuracy: 0.8553\n",
      "Epoch 220/500\n",
      "148/148 [==============================] - 2s 15ms/step - loss: 0.2173 - binary_crossentropy: 0.1124 - recall: 0.9441 - precision: 0.9636 - accuracy: 0.9542 - val_loss: 0.6298 - val_binary_crossentropy: 0.5249 - val_recall: 0.6974 - val_precision: 0.8048 - val_accuracy: 0.8552\n",
      "Epoch 221/500\n",
      "148/148 [==============================] - 2s 15ms/step - loss: 0.2181 - binary_crossentropy: 0.1131 - recall: 0.9438 - precision: 0.9632 - accuracy: 0.9539 - val_loss: 0.6289 - val_binary_crossentropy: 0.5242 - val_recall: 0.7002 - val_precision: 0.8074 - val_accuracy: 0.8567\n",
      "Epoch 222/500\n",
      "148/148 [==============================] - 2s 15ms/step - loss: 0.2180 - binary_crossentropy: 0.1131 - recall: 0.9444 - precision: 0.9628 - accuracy: 0.9540 - val_loss: 0.6217 - val_binary_crossentropy: 0.5170 - val_recall: 0.6999 - val_precision: 0.8050 - val_accuracy: 0.8559\n",
      "Epoch 223/500\n",
      "148/148 [==============================] - 2s 15ms/step - loss: 0.2177 - binary_crossentropy: 0.1128 - recall: 0.9447 - precision: 0.9635 - accuracy: 0.9544 - val_loss: 0.6353 - val_binary_crossentropy: 0.5307 - val_recall: 0.6979 - val_precision: 0.8048 - val_accuracy: 0.8553\n",
      "Epoch 224/500\n",
      "148/148 [==============================] - 2s 15ms/step - loss: 0.2162 - binary_crossentropy: 0.1114 - recall: 0.9457 - precision: 0.9635 - accuracy: 0.9549 - val_loss: 0.6352 - val_binary_crossentropy: 0.5305 - val_recall: 0.7047 - val_precision: 0.8003 - val_accuracy: 0.8554\n",
      "Epoch 225/500\n",
      "148/148 [==============================] - 2s 15ms/step - loss: 0.2166 - binary_crossentropy: 0.1116 - recall: 0.9458 - precision: 0.9640 - accuracy: 0.9552 - val_loss: 0.6297 - val_binary_crossentropy: 0.5251 - val_recall: 0.6884 - val_precision: 0.8197 - val_accuracy: 0.8579\n",
      "Epoch 226/500\n",
      "148/148 [==============================] - 2s 15ms/step - loss: 0.2155 - binary_crossentropy: 0.1106 - recall: 0.9467 - precision: 0.9644 - accuracy: 0.9559 - val_loss: 0.6257 - val_binary_crossentropy: 0.5211 - val_recall: 0.7061 - val_precision: 0.7962 - val_accuracy: 0.8544\n",
      "Epoch 227/500\n",
      "148/148 [==============================] - 2s 15ms/step - loss: 0.2141 - binary_crossentropy: 0.1095 - recall: 0.9457 - precision: 0.9638 - accuracy: 0.9551 - val_loss: 0.6362 - val_binary_crossentropy: 0.5318 - val_recall: 0.6954 - val_precision: 0.8139 - val_accuracy: 0.8577\n",
      "Epoch 228/500\n",
      "148/148 [==============================] - 2s 15ms/step - loss: 0.2136 - binary_crossentropy: 0.1088 - recall: 0.9460 - precision: 0.9653 - accuracy: 0.9560 - val_loss: 0.6352 - val_binary_crossentropy: 0.5309 - val_recall: 0.7155 - val_precision: 0.7829 - val_accuracy: 0.8518\n",
      "Epoch 229/500\n",
      "148/148 [==============================] - 2s 15ms/step - loss: 0.2119 - binary_crossentropy: 0.1073 - recall: 0.9488 - precision: 0.9647 - accuracy: 0.9571 - val_loss: 0.6332 - val_binary_crossentropy: 0.5289 - val_recall: 0.7077 - val_precision: 0.7888 - val_accuracy: 0.8522\n",
      "Epoch 230/500\n",
      "148/148 [==============================] - 2s 15ms/step - loss: 0.2118 - binary_crossentropy: 0.1073 - recall: 0.9474 - precision: 0.9646 - accuracy: 0.9563 - val_loss: 0.6344 - val_binary_crossentropy: 0.5301 - val_recall: 0.7053 - val_precision: 0.7984 - val_accuracy: 0.8549\n",
      "Epoch 231/500\n",
      "148/148 [==============================] - 2s 15ms/step - loss: 0.2114 - binary_crossentropy: 0.1069 - recall: 0.9491 - precision: 0.9649 - accuracy: 0.9573 - val_loss: 0.6275 - val_binary_crossentropy: 0.5231 - val_recall: 0.6993 - val_precision: 0.8064 - val_accuracy: 0.8562\n",
      "Epoch 232/500\n",
      "148/148 [==============================] - 2s 15ms/step - loss: 0.2129 - binary_crossentropy: 0.1083 - recall: 0.9473 - precision: 0.9647 - accuracy: 0.9564 - val_loss: 0.6330 - val_binary_crossentropy: 0.5285 - val_recall: 0.7004 - val_precision: 0.8071 - val_accuracy: 0.8567\n",
      "Epoch 233/500\n",
      "148/148 [==============================] - 2s 15ms/step - loss: 0.2119 - binary_crossentropy: 0.1073 - recall: 0.9486 - precision: 0.9657 - accuracy: 0.9574 - val_loss: 0.6531 - val_binary_crossentropy: 0.5488 - val_recall: 0.6905 - val_precision: 0.8190 - val_accuracy: 0.8582\n",
      "Epoch 234/500\n",
      "148/148 [==============================] - 2s 15ms/step - loss: 0.2115 - binary_crossentropy: 0.1069 - recall: 0.9486 - precision: 0.9656 - accuracy: 0.9574 - val_loss: 0.6390 - val_binary_crossentropy: 0.5346 - val_recall: 0.6884 - val_precision: 0.8247 - val_accuracy: 0.8595\n",
      "Epoch 235/500\n",
      "148/148 [==============================] - 2s 15ms/step - loss: 0.2121 - binary_crossentropy: 0.1077 - recall: 0.9486 - precision: 0.9644 - accuracy: 0.9568 - val_loss: 0.6370 - val_binary_crossentropy: 0.5327 - val_recall: 0.7046 - val_precision: 0.7963 - val_accuracy: 0.8540\n",
      "Epoch 236/500\n",
      "148/148 [==============================] - 2s 15ms/step - loss: 0.2109 - binary_crossentropy: 0.1066 - recall: 0.9489 - precision: 0.9646 - accuracy: 0.9570 - val_loss: 0.6371 - val_binary_crossentropy: 0.5329 - val_recall: 0.6989 - val_precision: 0.8126 - val_accuracy: 0.8581\n",
      "Epoch 237/500\n",
      "148/148 [==============================] - 2s 15ms/step - loss: 0.2082 - binary_crossentropy: 0.1038 - recall: 0.9514 - precision: 0.9651 - accuracy: 0.9585 - val_loss: 0.6465 - val_binary_crossentropy: 0.5424 - val_recall: 0.6888 - val_precision: 0.8200 - val_accuracy: 0.8581\n",
      "Epoch 238/500\n",
      "148/148 [==============================] - 2s 15ms/step - loss: 0.2106 - binary_crossentropy: 0.1064 - recall: 0.9494 - precision: 0.9658 - accuracy: 0.9579 - val_loss: 0.6448 - val_binary_crossentropy: 0.5407 - val_recall: 0.7103 - val_precision: 0.7915 - val_accuracy: 0.8537\n",
      "Epoch 239/500\n",
      "148/148 [==============================] - 2s 15ms/step - loss: 0.2072 - binary_crossentropy: 0.1030 - recall: 0.9501 - precision: 0.9668 - accuracy: 0.9587 - val_loss: 0.6590 - val_binary_crossentropy: 0.5552 - val_recall: 0.7041 - val_precision: 0.8023 - val_accuracy: 0.8560\n",
      "Epoch 240/500\n",
      "148/148 [==============================] - 2s 15ms/step - loss: 0.2040 - binary_crossentropy: 0.0999 - recall: 0.9524 - precision: 0.9674 - accuracy: 0.9602 - val_loss: 0.6427 - val_binary_crossentropy: 0.5388 - val_recall: 0.7002 - val_precision: 0.8064 - val_accuracy: 0.8564\n",
      "Epoch 241/500\n",
      "148/148 [==============================] - 2s 15ms/step - loss: 0.2063 - binary_crossentropy: 0.1022 - recall: 0.9517 - precision: 0.9662 - accuracy: 0.9592 - val_loss: 0.6602 - val_binary_crossentropy: 0.5564 - val_recall: 0.6975 - val_precision: 0.8128 - val_accuracy: 0.8579\n",
      "Epoch 242/500\n",
      "148/148 [==============================] - 2s 15ms/step - loss: 0.2052 - binary_crossentropy: 0.1013 - recall: 0.9516 - precision: 0.9658 - accuracy: 0.9590 - val_loss: 0.6568 - val_binary_crossentropy: 0.5532 - val_recall: 0.6920 - val_precision: 0.8200 - val_accuracy: 0.8589\n",
      "Epoch 243/500\n",
      "148/148 [==============================] - 2s 15ms/step - loss: 0.2065 - binary_crossentropy: 0.1026 - recall: 0.9516 - precision: 0.9665 - accuracy: 0.9593 - val_loss: 0.6591 - val_binary_crossentropy: 0.5556 - val_recall: 0.7058 - val_precision: 0.8039 - val_accuracy: 0.8569\n",
      "Epoch 244/500\n",
      "148/148 [==============================] - 2s 15ms/step - loss: 0.2073 - binary_crossentropy: 0.1036 - recall: 0.9490 - precision: 0.9662 - accuracy: 0.9579 - val_loss: 0.6529 - val_binary_crossentropy: 0.5494 - val_recall: 0.6988 - val_precision: 0.8116 - val_accuracy: 0.8578\n",
      "Epoch 245/500\n",
      "148/148 [==============================] - 2s 15ms/step - loss: 0.2058 - binary_crossentropy: 0.1019 - recall: 0.9512 - precision: 0.9664 - accuracy: 0.9590 - val_loss: 0.6523 - val_binary_crossentropy: 0.5487 - val_recall: 0.7072 - val_precision: 0.7974 - val_accuracy: 0.8550\n",
      "Epoch 246/500\n",
      "148/148 [==============================] - 2s 16ms/step - loss: 0.2054 - binary_crossentropy: 0.1016 - recall: 0.9520 - precision: 0.9664 - accuracy: 0.9594 - val_loss: 0.6482 - val_binary_crossentropy: 0.5447 - val_recall: 0.6943 - val_precision: 0.8133 - val_accuracy: 0.8573\n",
      "Epoch 247/500\n",
      "148/148 [==============================] - 2s 15ms/step - loss: 0.2043 - binary_crossentropy: 0.1005 - recall: 0.9527 - precision: 0.9669 - accuracy: 0.9600 - val_loss: 0.6479 - val_binary_crossentropy: 0.5443 - val_recall: 0.7155 - val_precision: 0.7875 - val_accuracy: 0.8535\n",
      "Epoch 248/500\n",
      "148/148 [==============================] - 2s 15ms/step - loss: 0.2030 - binary_crossentropy: 0.0993 - recall: 0.9518 - precision: 0.9676 - accuracy: 0.9600 - val_loss: 0.6658 - val_binary_crossentropy: 0.5622 - val_recall: 0.6989 - val_precision: 0.8062 - val_accuracy: 0.8561\n",
      "Epoch 249/500\n",
      "148/148 [==============================] - 2s 16ms/step - loss: 0.2039 - binary_crossentropy: 0.1001 - recall: 0.9518 - precision: 0.9676 - accuracy: 0.9600 - val_loss: 0.6576 - val_binary_crossentropy: 0.5541 - val_recall: 0.7073 - val_precision: 0.7981 - val_accuracy: 0.8553\n",
      "Epoch 250/500\n",
      "148/148 [==============================] - 2s 16ms/step - loss: 0.2027 - binary_crossentropy: 0.0990 - recall: 0.9531 - precision: 0.9676 - accuracy: 0.9606 - val_loss: 0.6602 - val_binary_crossentropy: 0.5569 - val_recall: 0.6927 - val_precision: 0.8166 - val_accuracy: 0.8580\n",
      "Epoch 251/500\n",
      "148/148 [==============================] - 2s 16ms/step - loss: 0.2009 - binary_crossentropy: 0.0973 - recall: 0.9524 - precision: 0.9691 - accuracy: 0.9610 - val_loss: 0.6570 - val_binary_crossentropy: 0.5537 - val_recall: 0.6959 - val_precision: 0.8151 - val_accuracy: 0.8582\n",
      "Epoch 252/500\n",
      "148/148 [==============================] - 2s 15ms/step - loss: 0.2045 - binary_crossentropy: 0.1010 - recall: 0.9528 - precision: 0.9667 - accuracy: 0.9600 - val_loss: 0.6554 - val_binary_crossentropy: 0.5521 - val_recall: 0.7022 - val_precision: 0.8024 - val_accuracy: 0.8556\n",
      "Epoch 253/500\n",
      "148/148 [==============================] - 2s 15ms/step - loss: 0.2002 - binary_crossentropy: 0.0968 - recall: 0.9552 - precision: 0.9678 - accuracy: 0.9617 - val_loss: 0.6713 - val_binary_crossentropy: 0.5681 - val_recall: 0.7128 - val_precision: 0.7971 - val_accuracy: 0.8562\n",
      "Epoch 254/500\n",
      "148/148 [==============================] - 2s 15ms/step - loss: 0.2033 - binary_crossentropy: 0.0999 - recall: 0.9533 - precision: 0.9677 - accuracy: 0.9607 - val_loss: 0.6699 - val_binary_crossentropy: 0.5668 - val_recall: 0.6886 - val_precision: 0.8227 - val_accuracy: 0.8589\n",
      "Epoch 255/500\n",
      "148/148 [==============================] - 2s 15ms/step - loss: 0.2025 - binary_crossentropy: 0.0991 - recall: 0.9527 - precision: 0.9685 - accuracy: 0.9609 - val_loss: 0.6627 - val_binary_crossentropy: 0.5595 - val_recall: 0.7000 - val_precision: 0.8065 - val_accuracy: 0.8564\n",
      "Epoch 256/500\n",
      "148/148 [==============================] - 2s 15ms/step - loss: 0.2012 - binary_crossentropy: 0.0979 - recall: 0.9530 - precision: 0.9688 - accuracy: 0.9612 - val_loss: 0.6650 - val_binary_crossentropy: 0.5619 - val_recall: 0.7031 - val_precision: 0.8103 - val_accuracy: 0.8584\n",
      "Epoch 257/500\n",
      "148/148 [==============================] - 2s 15ms/step - loss: 0.1978 - binary_crossentropy: 0.0946 - recall: 0.9556 - precision: 0.9691 - accuracy: 0.9626 - val_loss: 0.6634 - val_binary_crossentropy: 0.5604 - val_recall: 0.7056 - val_precision: 0.8036 - val_accuracy: 0.8567\n",
      "Epoch 258/500\n",
      "148/148 [==============================] - 2s 15ms/step - loss: 0.1988 - binary_crossentropy: 0.0957 - recall: 0.9544 - precision: 0.9692 - accuracy: 0.9621 - val_loss: 0.6686 - val_binary_crossentropy: 0.5656 - val_recall: 0.7083 - val_precision: 0.8011 - val_accuracy: 0.8565\n",
      "Epoch 259/500\n",
      "148/148 [==============================] - 2s 15ms/step - loss: 0.2005 - binary_crossentropy: 0.0973 - recall: 0.9547 - precision: 0.9689 - accuracy: 0.9620 - val_loss: 0.6766 - val_binary_crossentropy: 0.5736 - val_recall: 0.7006 - val_precision: 0.8038 - val_accuracy: 0.8557\n",
      "Epoch 260/500\n",
      "148/148 [==============================] - 2s 15ms/step - loss: 0.1999 - binary_crossentropy: 0.0968 - recall: 0.9543 - precision: 0.9672 - accuracy: 0.9609 - val_loss: 0.6733 - val_binary_crossentropy: 0.5704 - val_recall: 0.6842 - val_precision: 0.8313 - val_accuracy: 0.8605\n",
      "Epoch 261/500\n",
      "148/148 [==============================] - 2s 15ms/step - loss: 0.1997 - binary_crossentropy: 0.0965 - recall: 0.9550 - precision: 0.9676 - accuracy: 0.9615 - val_loss: 0.6626 - val_binary_crossentropy: 0.5597 - val_recall: 0.6972 - val_precision: 0.8082 - val_accuracy: 0.8563\n",
      "Epoch 262/500\n",
      "148/148 [==============================] - 2s 15ms/step - loss: 0.1976 - binary_crossentropy: 0.0945 - recall: 0.9571 - precision: 0.9677 - accuracy: 0.9626 - val_loss: 0.6690 - val_binary_crossentropy: 0.5663 - val_recall: 0.6877 - val_precision: 0.8182 - val_accuracy: 0.8573\n",
      "Epoch 263/500\n",
      "148/148 [==============================] - 2s 16ms/step - loss: 0.1980 - binary_crossentropy: 0.0951 - recall: 0.9537 - precision: 0.9693 - accuracy: 0.9617 - val_loss: 0.6775 - val_binary_crossentropy: 0.5748 - val_recall: 0.7012 - val_precision: 0.8085 - val_accuracy: 0.8573\n",
      "Epoch 264/500\n",
      "148/148 [==============================] - 2s 15ms/step - loss: 0.1969 - binary_crossentropy: 0.0940 - recall: 0.9552 - precision: 0.9693 - accuracy: 0.9625 - val_loss: 0.6754 - val_binary_crossentropy: 0.5726 - val_recall: 0.7012 - val_precision: 0.7988 - val_accuracy: 0.8541\n",
      "Epoch 265/500\n",
      "148/148 [==============================] - 2s 15ms/step - loss: 0.1981 - binary_crossentropy: 0.0952 - recall: 0.9553 - precision: 0.9681 - accuracy: 0.9619 - val_loss: 0.6719 - val_binary_crossentropy: 0.5691 - val_recall: 0.6961 - val_precision: 0.8172 - val_accuracy: 0.8589\n",
      "Epoch 266/500\n",
      "148/148 [==============================] - 2s 16ms/step - loss: 0.1970 - binary_crossentropy: 0.0939 - recall: 0.9560 - precision: 0.9694 - accuracy: 0.9629 - val_loss: 0.6767 - val_binary_crossentropy: 0.5740 - val_recall: 0.6843 - val_precision: 0.8278 - val_accuracy: 0.8594\n",
      "Epoch 267/500\n",
      "148/148 [==============================] - 2s 15ms/step - loss: 0.1971 - binary_crossentropy: 0.0945 - recall: 0.9553 - precision: 0.9683 - accuracy: 0.9620 - val_loss: 0.6810 - val_binary_crossentropy: 0.5784 - val_recall: 0.6818 - val_precision: 0.8303 - val_accuracy: 0.8596\n",
      "Epoch 268/500\n",
      "148/148 [==============================] - 2s 15ms/step - loss: 0.1961 - binary_crossentropy: 0.0934 - recall: 0.9569 - precision: 0.9692 - accuracy: 0.9632 - val_loss: 0.6699 - val_binary_crossentropy: 0.5673 - val_recall: 0.6953 - val_precision: 0.8111 - val_accuracy: 0.8568\n",
      "Epoch 269/500\n",
      "148/148 [==============================] - 2s 15ms/step - loss: 0.1944 - binary_crossentropy: 0.0918 - recall: 0.9568 - precision: 0.9700 - accuracy: 0.9636 - val_loss: 0.6838 - val_binary_crossentropy: 0.5814 - val_recall: 0.7015 - val_precision: 0.8045 - val_accuracy: 0.8561\n",
      "Epoch 270/500\n",
      "148/148 [==============================] - 2s 15ms/step - loss: 0.1964 - binary_crossentropy: 0.0937 - recall: 0.9567 - precision: 0.9694 - accuracy: 0.9632 - val_loss: 0.6766 - val_binary_crossentropy: 0.5741 - val_recall: 0.6937 - val_precision: 0.8150 - val_accuracy: 0.8577\n",
      "Epoch 271/500\n",
      "148/148 [==============================] - 2s 15ms/step - loss: 0.1949 - binary_crossentropy: 0.0924 - recall: 0.9568 - precision: 0.9697 - accuracy: 0.9635 - val_loss: 0.6741 - val_binary_crossentropy: 0.5718 - val_recall: 0.6952 - val_precision: 0.8100 - val_accuracy: 0.8564\n",
      "Epoch 272/500\n",
      "148/148 [==============================] - 2s 16ms/step - loss: 0.1946 - binary_crossentropy: 0.0921 - recall: 0.9565 - precision: 0.9709 - accuracy: 0.9640 - val_loss: 0.6798 - val_binary_crossentropy: 0.5777 - val_recall: 0.7011 - val_precision: 0.8038 - val_accuracy: 0.8558\n",
      "Epoch 273/500\n",
      "148/148 [==============================] - 2s 15ms/step - loss: 0.1953 - binary_crossentropy: 0.0929 - recall: 0.9560 - precision: 0.9709 - accuracy: 0.9637 - val_loss: 0.6839 - val_binary_crossentropy: 0.5818 - val_recall: 0.6971 - val_precision: 0.8106 - val_accuracy: 0.8571\n",
      "Epoch 274/500\n",
      "148/148 [==============================] - 2s 15ms/step - loss: 0.1937 - binary_crossentropy: 0.0913 - recall: 0.9577 - precision: 0.9704 - accuracy: 0.9643 - val_loss: 0.6994 - val_binary_crossentropy: 0.5974 - val_recall: 0.6817 - val_precision: 0.8284 - val_accuracy: 0.8590\n",
      "Epoch 275/500\n",
      "148/148 [==============================] - 2s 16ms/step - loss: 0.1935 - binary_crossentropy: 0.0912 - recall: 0.9581 - precision: 0.9698 - accuracy: 0.9641 - val_loss: 0.6883 - val_binary_crossentropy: 0.5863 - val_recall: 0.7085 - val_precision: 0.7979 - val_accuracy: 0.8555\n",
      "Epoch 276/500\n",
      "148/148 [==============================] - 2s 16ms/step - loss: 0.1931 - binary_crossentropy: 0.0908 - recall: 0.9582 - precision: 0.9698 - accuracy: 0.9642 - val_loss: 0.6802 - val_binary_crossentropy: 0.5782 - val_recall: 0.7024 - val_precision: 0.8090 - val_accuracy: 0.8578\n",
      "Epoch 277/500\n",
      "148/148 [==============================] - 2s 15ms/step - loss: 0.1936 - binary_crossentropy: 0.0915 - recall: 0.9580 - precision: 0.9700 - accuracy: 0.9642 - val_loss: 0.6759 - val_binary_crossentropy: 0.5740 - val_recall: 0.7021 - val_precision: 0.8050 - val_accuracy: 0.8564\n",
      "Epoch 278/500\n",
      "148/148 [==============================] - 2s 16ms/step - loss: 0.1921 - binary_crossentropy: 0.0899 - recall: 0.9591 - precision: 0.9702 - accuracy: 0.9648 - val_loss: 0.6983 - val_binary_crossentropy: 0.5964 - val_recall: 0.7034 - val_precision: 0.8067 - val_accuracy: 0.8573\n",
      "Epoch 279/500\n",
      "148/148 [==============================] - 2s 15ms/step - loss: 0.1907 - binary_crossentropy: 0.0887 - recall: 0.9591 - precision: 0.9701 - accuracy: 0.9648 - val_loss: 0.7006 - val_binary_crossentropy: 0.5987 - val_recall: 0.6988 - val_precision: 0.8036 - val_accuracy: 0.8551\n",
      "Epoch 280/500\n",
      "148/148 [==============================] - 2s 15ms/step - loss: 0.1911 - binary_crossentropy: 0.0891 - recall: 0.9597 - precision: 0.9704 - accuracy: 0.9652 - val_loss: 0.6756 - val_binary_crossentropy: 0.5738 - val_recall: 0.7062 - val_precision: 0.7967 - val_accuracy: 0.8545\n",
      "Epoch 281/500\n",
      "148/148 [==============================] - 2s 16ms/step - loss: 0.1934 - binary_crossentropy: 0.0915 - recall: 0.9585 - precision: 0.9698 - accuracy: 0.9643 - val_loss: 0.6929 - val_binary_crossentropy: 0.5913 - val_recall: 0.6939 - val_precision: 0.8137 - val_accuracy: 0.8573\n",
      "Epoch 282/500\n",
      "148/148 [==============================] - 2s 15ms/step - loss: 0.1914 - binary_crossentropy: 0.0895 - recall: 0.9599 - precision: 0.9694 - accuracy: 0.9648 - val_loss: 0.6668 - val_binary_crossentropy: 0.5652 - val_recall: 0.7033 - val_precision: 0.8066 - val_accuracy: 0.8572\n",
      "Epoch 283/500\n",
      "148/148 [==============================] - 2s 15ms/step - loss: 0.1915 - binary_crossentropy: 0.0897 - recall: 0.9582 - precision: 0.9718 - accuracy: 0.9652 - val_loss: 0.6871 - val_binary_crossentropy: 0.5856 - val_recall: 0.6927 - val_precision: 0.8170 - val_accuracy: 0.8581\n",
      "Epoch 284/500\n",
      "148/148 [==============================] - 2s 16ms/step - loss: 0.1890 - binary_crossentropy: 0.0873 - recall: 0.9606 - precision: 0.9710 - accuracy: 0.9659 - val_loss: 0.6875 - val_binary_crossentropy: 0.5860 - val_recall: 0.6968 - val_precision: 0.8115 - val_accuracy: 0.8573\n",
      "Epoch 285/500\n",
      "148/148 [==============================] - 2s 15ms/step - loss: 0.1908 - binary_crossentropy: 0.0891 - recall: 0.9611 - precision: 0.9701 - accuracy: 0.9658 - val_loss: 0.6991 - val_binary_crossentropy: 0.5976 - val_recall: 0.6895 - val_precision: 0.8248 - val_accuracy: 0.8598\n",
      "Epoch 286/500\n",
      "148/148 [==============================] - 2s 15ms/step - loss: 0.1904 - binary_crossentropy: 0.0886 - recall: 0.9600 - precision: 0.9698 - accuracy: 0.9651 - val_loss: 0.7003 - val_binary_crossentropy: 0.5988 - val_recall: 0.6906 - val_precision: 0.8204 - val_accuracy: 0.8587\n",
      "Epoch 287/500\n",
      "148/148 [==============================] - 2s 16ms/step - loss: 0.1890 - binary_crossentropy: 0.0874 - recall: 0.9611 - precision: 0.9696 - accuracy: 0.9655 - val_loss: 0.6972 - val_binary_crossentropy: 0.5958 - val_recall: 0.6873 - val_precision: 0.8232 - val_accuracy: 0.8587\n",
      "Epoch 288/500\n",
      "148/148 [==============================] - 2s 15ms/step - loss: 0.1890 - binary_crossentropy: 0.0874 - recall: 0.9598 - precision: 0.9707 - accuracy: 0.9655 - val_loss: 0.7050 - val_binary_crossentropy: 0.6038 - val_recall: 0.6858 - val_precision: 0.8260 - val_accuracy: 0.8593\n",
      "Epoch 289/500\n",
      "148/148 [==============================] - 2s 16ms/step - loss: 0.1896 - binary_crossentropy: 0.0881 - recall: 0.9598 - precision: 0.9701 - accuracy: 0.9651 - val_loss: 0.6985 - val_binary_crossentropy: 0.5972 - val_recall: 0.6895 - val_precision: 0.8184 - val_accuracy: 0.8578\n",
      "Epoch 290/500\n",
      "148/148 [==============================] - 2s 15ms/step - loss: 0.1877 - binary_crossentropy: 0.0863 - recall: 0.9607 - precision: 0.9709 - accuracy: 0.9660 - val_loss: 0.6839 - val_binary_crossentropy: 0.5827 - val_recall: 0.7030 - val_precision: 0.7996 - val_accuracy: 0.8548\n",
      "Epoch 291/500\n",
      "148/148 [==============================] - 2s 15ms/step - loss: 0.1883 - binary_crossentropy: 0.0868 - recall: 0.9618 - precision: 0.9709 - accuracy: 0.9665 - val_loss: 0.7011 - val_binary_crossentropy: 0.5999 - val_recall: 0.6985 - val_precision: 0.8075 - val_accuracy: 0.8564\n",
      "Epoch 292/500\n",
      "148/148 [==============================] - 2s 15ms/step - loss: 0.1886 - binary_crossentropy: 0.0871 - recall: 0.9601 - precision: 0.9712 - accuracy: 0.9658 - val_loss: 0.7015 - val_binary_crossentropy: 0.6003 - val_recall: 0.6884 - val_precision: 0.8201 - val_accuracy: 0.8580\n",
      "Epoch 293/500\n",
      "148/148 [==============================] - 2s 15ms/step - loss: 0.1882 - binary_crossentropy: 0.0869 - recall: 0.9604 - precision: 0.9712 - accuracy: 0.9660 - val_loss: 0.7036 - val_binary_crossentropy: 0.6025 - val_recall: 0.7018 - val_precision: 0.8025 - val_accuracy: 0.8555\n",
      "Epoch 294/500\n",
      "148/148 [==============================] - 2s 15ms/step - loss: 0.1865 - binary_crossentropy: 0.0851 - recall: 0.9612 - precision: 0.9711 - accuracy: 0.9663 - val_loss: 0.7114 - val_binary_crossentropy: 0.6104 - val_recall: 0.7031 - val_precision: 0.7988 - val_accuracy: 0.8545\n",
      "Epoch 295/500\n",
      "148/148 [==============================] - 2s 15ms/step - loss: 0.1880 - binary_crossentropy: 0.0867 - recall: 0.9609 - precision: 0.9705 - accuracy: 0.9659 - val_loss: 0.7098 - val_binary_crossentropy: 0.6087 - val_recall: 0.6931 - val_precision: 0.8148 - val_accuracy: 0.8575\n",
      "Epoch 296/500\n",
      "148/148 [==============================] - 2s 15ms/step - loss: 0.1874 - binary_crossentropy: 0.0863 - recall: 0.9604 - precision: 0.9712 - accuracy: 0.9660 - val_loss: 0.7103 - val_binary_crossentropy: 0.6094 - val_recall: 0.6879 - val_precision: 0.8208 - val_accuracy: 0.8581\n",
      "Epoch 297/500\n",
      "148/148 [==============================] - 2s 16ms/step - loss: 0.1887 - binary_crossentropy: 0.0877 - recall: 0.9610 - precision: 0.9708 - accuracy: 0.9660 - val_loss: 0.6968 - val_binary_crossentropy: 0.5960 - val_recall: 0.6904 - val_precision: 0.8206 - val_accuracy: 0.8587\n",
      "Epoch 298/500\n",
      "148/148 [==============================] - 2s 16ms/step - loss: 0.1853 - binary_crossentropy: 0.0843 - recall: 0.9620 - precision: 0.9726 - accuracy: 0.9675 - val_loss: 0.7179 - val_binary_crossentropy: 0.6172 - val_recall: 0.6850 - val_precision: 0.8223 - val_accuracy: 0.8579\n",
      "Epoch 299/500\n",
      "148/148 [==============================] - 2s 15ms/step - loss: 0.1840 - binary_crossentropy: 0.0831 - recall: 0.9623 - precision: 0.9728 - accuracy: 0.9677 - val_loss: 0.6976 - val_binary_crossentropy: 0.5970 - val_recall: 0.6954 - val_precision: 0.8101 - val_accuracy: 0.8565\n",
      "Epoch 300/500\n",
      "148/148 [==============================] - 2s 15ms/step - loss: 0.1869 - binary_crossentropy: 0.0860 - recall: 0.9604 - precision: 0.9718 - accuracy: 0.9663 - val_loss: 0.6994 - val_binary_crossentropy: 0.5988 - val_recall: 0.7058 - val_precision: 0.7989 - val_accuracy: 0.8552\n",
      "Epoch 301/500\n",
      "148/148 [==============================] - 2s 16ms/step - loss: 0.1855 - binary_crossentropy: 0.0846 - recall: 0.9621 - precision: 0.9711 - accuracy: 0.9667 - val_loss: 0.7110 - val_binary_crossentropy: 0.6104 - val_recall: 0.7004 - val_precision: 0.8064 - val_accuracy: 0.8564\n",
      "Epoch 302/500\n",
      "148/148 [==============================] - 2s 15ms/step - loss: 0.1851 - binary_crossentropy: 0.0842 - recall: 0.9633 - precision: 0.9721 - accuracy: 0.9678 - val_loss: 0.7082 - val_binary_crossentropy: 0.6077 - val_recall: 0.7002 - val_precision: 0.8036 - val_accuracy: 0.8555\n",
      "Epoch 303/500\n",
      "148/148 [==============================] - 2s 15ms/step - loss: 0.1824 - binary_crossentropy: 0.0817 - recall: 0.9630 - precision: 0.9728 - accuracy: 0.9680 - val_loss: 0.7043 - val_binary_crossentropy: 0.6039 - val_recall: 0.6931 - val_precision: 0.8160 - val_accuracy: 0.8579\n",
      "Epoch 304/500\n",
      "148/148 [==============================] - 2s 15ms/step - loss: 0.1848 - binary_crossentropy: 0.0841 - recall: 0.9620 - precision: 0.9716 - accuracy: 0.9669 - val_loss: 0.7211 - val_binary_crossentropy: 0.6207 - val_recall: 0.7008 - val_precision: 0.8004 - val_accuracy: 0.8545\n",
      "Epoch 305/500\n",
      "148/148 [==============================] - 2s 15ms/step - loss: 0.1870 - binary_crossentropy: 0.0863 - recall: 0.9611 - precision: 0.9713 - accuracy: 0.9664 - val_loss: 0.7096 - val_binary_crossentropy: 0.6091 - val_recall: 0.6925 - val_precision: 0.8078 - val_accuracy: 0.8551\n",
      "Epoch 306/500\n",
      "148/148 [==============================] - 2s 16ms/step - loss: 0.1847 - binary_crossentropy: 0.0839 - recall: 0.9633 - precision: 0.9719 - accuracy: 0.9677 - val_loss: 0.7210 - val_binary_crossentropy: 0.6206 - val_recall: 0.6913 - val_precision: 0.8123 - val_accuracy: 0.8563\n",
      "Epoch 307/500\n",
      "148/148 [==============================] - 2s 16ms/step - loss: 0.1863 - binary_crossentropy: 0.0856 - recall: 0.9622 - precision: 0.9707 - accuracy: 0.9666 - val_loss: 0.6988 - val_binary_crossentropy: 0.5983 - val_recall: 0.6989 - val_precision: 0.8110 - val_accuracy: 0.8576\n",
      "Epoch 308/500\n",
      "148/148 [==============================] - 2s 16ms/step - loss: 0.1854 - binary_crossentropy: 0.0846 - recall: 0.9623 - precision: 0.9717 - accuracy: 0.9671 - val_loss: 0.6985 - val_binary_crossentropy: 0.5980 - val_recall: 0.6960 - val_precision: 0.8155 - val_accuracy: 0.8584\n",
      "Epoch 309/500\n",
      "148/148 [==============================] - 2s 16ms/step - loss: 0.1824 - binary_crossentropy: 0.0819 - recall: 0.9637 - precision: 0.9726 - accuracy: 0.9683 - val_loss: 0.7224 - val_binary_crossentropy: 0.6222 - val_recall: 0.7011 - val_precision: 0.8128 - val_accuracy: 0.8587\n",
      "Epoch 310/500\n",
      "148/148 [==============================] - 2s 16ms/step - loss: 0.1826 - binary_crossentropy: 0.0821 - recall: 0.9636 - precision: 0.9730 - accuracy: 0.9684 - val_loss: 0.7021 - val_binary_crossentropy: 0.6019 - val_recall: 0.7023 - val_precision: 0.7958 - val_accuracy: 0.8534\n",
      "Epoch 311/500\n",
      "148/148 [==============================] - 2s 15ms/step - loss: 0.1848 - binary_crossentropy: 0.0845 - recall: 0.9620 - precision: 0.9714 - accuracy: 0.9668 - val_loss: 0.7133 - val_binary_crossentropy: 0.6131 - val_recall: 0.6933 - val_precision: 0.8202 - val_accuracy: 0.8592\n",
      "Epoch 312/500\n",
      "148/148 [==============================] - 2s 16ms/step - loss: 0.1824 - binary_crossentropy: 0.0821 - recall: 0.9634 - precision: 0.9727 - accuracy: 0.9682 - val_loss: 0.7150 - val_binary_crossentropy: 0.6149 - val_recall: 0.7084 - val_precision: 0.7963 - val_accuracy: 0.8549\n",
      "Epoch 313/500\n",
      "148/148 [==============================] - 2s 15ms/step - loss: 0.1846 - binary_crossentropy: 0.0843 - recall: 0.9617 - precision: 0.9718 - accuracy: 0.9669 - val_loss: 0.7175 - val_binary_crossentropy: 0.6174 - val_recall: 0.6975 - val_precision: 0.8099 - val_accuracy: 0.8569\n",
      "Epoch 314/500\n",
      "148/148 [==============================] - 2s 16ms/step - loss: 0.1827 - binary_crossentropy: 0.0825 - recall: 0.9637 - precision: 0.9724 - accuracy: 0.9682 - val_loss: 0.7276 - val_binary_crossentropy: 0.6277 - val_recall: 0.6882 - val_precision: 0.8190 - val_accuracy: 0.8577\n",
      "Epoch 315/500\n",
      "148/148 [==============================] - 2s 16ms/step - loss: 0.1829 - binary_crossentropy: 0.0829 - recall: 0.9633 - precision: 0.9734 - accuracy: 0.9685 - val_loss: 0.7345 - val_binary_crossentropy: 0.6348 - val_recall: 0.6986 - val_precision: 0.8077 - val_accuracy: 0.8565\n",
      "Epoch 316/500\n",
      "148/148 [==============================] - 2s 15ms/step - loss: 0.1821 - binary_crossentropy: 0.0822 - recall: 0.9629 - precision: 0.9738 - accuracy: 0.9685 - val_loss: 0.7205 - val_binary_crossentropy: 0.6207 - val_recall: 0.6981 - val_precision: 0.8090 - val_accuracy: 0.8568\n",
      "Epoch 317/500\n",
      "148/148 [==============================] - 2s 15ms/step - loss: 0.1811 - binary_crossentropy: 0.0811 - recall: 0.9643 - precision: 0.9732 - accuracy: 0.9689 - val_loss: 0.7132 - val_binary_crossentropy: 0.6135 - val_recall: 0.6902 - val_precision: 0.8190 - val_accuracy: 0.8581\n",
      "Epoch 318/500\n",
      "148/148 [==============================] - 2s 15ms/step - loss: 0.1805 - binary_crossentropy: 0.0805 - recall: 0.9640 - precision: 0.9732 - accuracy: 0.9687 - val_loss: 0.7080 - val_binary_crossentropy: 0.6083 - val_recall: 0.7028 - val_precision: 0.8034 - val_accuracy: 0.8560\n",
      "Epoch 319/500\n",
      "148/148 [==============================] - 2s 16ms/step - loss: 0.1792 - binary_crossentropy: 0.0794 - recall: 0.9653 - precision: 0.9726 - accuracy: 0.9690 - val_loss: 0.7287 - val_binary_crossentropy: 0.6292 - val_recall: 0.6905 - val_precision: 0.8182 - val_accuracy: 0.8579\n",
      "Epoch 320/500\n",
      "148/148 [==============================] - 2s 16ms/step - loss: 0.1814 - binary_crossentropy: 0.0815 - recall: 0.9640 - precision: 0.9718 - accuracy: 0.9680 - val_loss: 0.7346 - val_binary_crossentropy: 0.6350 - val_recall: 0.6922 - val_precision: 0.8170 - val_accuracy: 0.8580\n",
      "Epoch 321/500\n",
      "148/148 [==============================] - 2s 16ms/step - loss: 0.1831 - binary_crossentropy: 0.0833 - recall: 0.9640 - precision: 0.9726 - accuracy: 0.9685 - val_loss: 0.7176 - val_binary_crossentropy: 0.6180 - val_recall: 0.6837 - val_precision: 0.8260 - val_accuracy: 0.8587\n",
      "Epoch 322/500\n",
      "148/148 [==============================] - 2s 16ms/step - loss: 0.1807 - binary_crossentropy: 0.0808 - recall: 0.9633 - precision: 0.9743 - accuracy: 0.9690 - val_loss: 0.7384 - val_binary_crossentropy: 0.6389 - val_recall: 0.6876 - val_precision: 0.8207 - val_accuracy: 0.8580\n",
      "Epoch 323/500\n",
      "148/148 [==============================] - 2s 16ms/step - loss: 0.1792 - binary_crossentropy: 0.0795 - recall: 0.9645 - precision: 0.9741 - accuracy: 0.9694 - val_loss: 0.7235 - val_binary_crossentropy: 0.6242 - val_recall: 0.6949 - val_precision: 0.8108 - val_accuracy: 0.8566\n",
      "Epoch 324/500\n",
      "148/148 [==============================] - 2s 16ms/step - loss: 0.1808 - binary_crossentropy: 0.0811 - recall: 0.9641 - precision: 0.9734 - accuracy: 0.9688 - val_loss: 0.7158 - val_binary_crossentropy: 0.6165 - val_recall: 0.7018 - val_precision: 0.8093 - val_accuracy: 0.8577\n",
      "Epoch 325/500\n",
      "148/148 [==============================] - 2s 16ms/step - loss: 0.1792 - binary_crossentropy: 0.0797 - recall: 0.9649 - precision: 0.9736 - accuracy: 0.9694 - val_loss: 0.7351 - val_binary_crossentropy: 0.6359 - val_recall: 0.7070 - val_precision: 0.7941 - val_accuracy: 0.8538\n",
      "Epoch 326/500\n",
      "148/148 [==============================] - 2s 15ms/step - loss: 0.1784 - binary_crossentropy: 0.0790 - recall: 0.9646 - precision: 0.9730 - accuracy: 0.9689 - val_loss: 0.7389 - val_binary_crossentropy: 0.6399 - val_recall: 0.7116 - val_precision: 0.7895 - val_accuracy: 0.8533\n",
      "Epoch 327/500\n",
      "148/148 [==============================] - 2s 16ms/step - loss: 0.1801 - binary_crossentropy: 0.0807 - recall: 0.9644 - precision: 0.9726 - accuracy: 0.9686 - val_loss: 0.7276 - val_binary_crossentropy: 0.6284 - val_recall: 0.7008 - val_precision: 0.8085 - val_accuracy: 0.8572\n",
      "Epoch 328/500\n",
      "148/148 [==============================] - 2s 15ms/step - loss: 0.1789 - binary_crossentropy: 0.0795 - recall: 0.9654 - precision: 0.9740 - accuracy: 0.9698 - val_loss: 0.7381 - val_binary_crossentropy: 0.6390 - val_recall: 0.7011 - val_precision: 0.8086 - val_accuracy: 0.8574\n",
      "Epoch 329/500\n",
      "148/148 [==============================] - 2s 15ms/step - loss: 0.1787 - binary_crossentropy: 0.0794 - recall: 0.9647 - precision: 0.9740 - accuracy: 0.9695 - val_loss: 0.7155 - val_binary_crossentropy: 0.6166 - val_recall: 0.6900 - val_precision: 0.8183 - val_accuracy: 0.8578\n",
      "Epoch 330/500\n",
      "148/148 [==============================] - 2s 15ms/step - loss: 0.1793 - binary_crossentropy: 0.0801 - recall: 0.9644 - precision: 0.9746 - accuracy: 0.9696 - val_loss: 0.7111 - val_binary_crossentropy: 0.6120 - val_recall: 0.6958 - val_precision: 0.8117 - val_accuracy: 0.8571\n",
      "Epoch 331/500\n",
      "148/148 [==============================] - 2s 15ms/step - loss: 0.1776 - binary_crossentropy: 0.0783 - recall: 0.9649 - precision: 0.9746 - accuracy: 0.9699 - val_loss: 0.7322 - val_binary_crossentropy: 0.6334 - val_recall: 0.6913 - val_precision: 0.8236 - val_accuracy: 0.8598\n",
      "Epoch 332/500\n",
      "148/148 [==============================] - 2s 16ms/step - loss: 0.1767 - binary_crossentropy: 0.0777 - recall: 0.9656 - precision: 0.9736 - accuracy: 0.9697 - val_loss: 0.7265 - val_binary_crossentropy: 0.6278 - val_recall: 0.6999 - val_precision: 0.8072 - val_accuracy: 0.8566\n",
      "Epoch 333/500\n",
      "148/148 [==============================] - 2s 16ms/step - loss: 0.1773 - binary_crossentropy: 0.0782 - recall: 0.9650 - precision: 0.9749 - accuracy: 0.9701 - val_loss: 0.7320 - val_binary_crossentropy: 0.6333 - val_recall: 0.7020 - val_precision: 0.8032 - val_accuracy: 0.8558\n",
      "Epoch 334/500\n",
      "148/148 [==============================] - 2s 16ms/step - loss: 0.1771 - binary_crossentropy: 0.0782 - recall: 0.9657 - precision: 0.9738 - accuracy: 0.9699 - val_loss: 0.7241 - val_binary_crossentropy: 0.6255 - val_recall: 0.7000 - val_precision: 0.8108 - val_accuracy: 0.8578\n",
      "Epoch 335/500\n",
      "148/148 [==============================] - 2s 16ms/step - loss: 0.1787 - binary_crossentropy: 0.0798 - recall: 0.9652 - precision: 0.9738 - accuracy: 0.9697 - val_loss: 0.7397 - val_binary_crossentropy: 0.6410 - val_recall: 0.6988 - val_precision: 0.8112 - val_accuracy: 0.8577\n",
      "Epoch 336/500\n",
      "148/148 [==============================] - 2s 15ms/step - loss: 0.1770 - binary_crossentropy: 0.0782 - recall: 0.9664 - precision: 0.9744 - accuracy: 0.9705 - val_loss: 0.7312 - val_binary_crossentropy: 0.6327 - val_recall: 0.6967 - val_precision: 0.8132 - val_accuracy: 0.8578\n",
      "Epoch 337/500\n",
      "148/148 [==============================] - 2s 15ms/step - loss: 0.1747 - binary_crossentropy: 0.0760 - recall: 0.9654 - precision: 0.9746 - accuracy: 0.9701 - val_loss: 0.7292 - val_binary_crossentropy: 0.6309 - val_recall: 0.6970 - val_precision: 0.8098 - val_accuracy: 0.8568\n",
      "Epoch 338/500\n",
      "148/148 [==============================] - 2s 15ms/step - loss: 0.1781 - binary_crossentropy: 0.0794 - recall: 0.9660 - precision: 0.9744 - accuracy: 0.9703 - val_loss: 0.7153 - val_binary_crossentropy: 0.6169 - val_recall: 0.7175 - val_precision: 0.7812 - val_accuracy: 0.8516\n",
      "Epoch 339/500\n",
      "148/148 [==============================] - 2s 16ms/step - loss: 0.1753 - binary_crossentropy: 0.0767 - recall: 0.9665 - precision: 0.9748 - accuracy: 0.9708 - val_loss: 0.7333 - val_binary_crossentropy: 0.6351 - val_recall: 0.7166 - val_precision: 0.7833 - val_accuracy: 0.8522\n",
      "Epoch 340/500\n",
      "148/148 [==============================] - 2s 16ms/step - loss: 0.1769 - binary_crossentropy: 0.0784 - recall: 0.9648 - precision: 0.9739 - accuracy: 0.9695 - val_loss: 0.7391 - val_binary_crossentropy: 0.6409 - val_recall: 0.7017 - val_precision: 0.8056 - val_accuracy: 0.8565\n",
      "Epoch 341/500\n",
      "148/148 [==============================] - 2s 16ms/step - loss: 0.1744 - binary_crossentropy: 0.0760 - recall: 0.9676 - precision: 0.9742 - accuracy: 0.9710 - val_loss: 0.7401 - val_binary_crossentropy: 0.6418 - val_recall: 0.6900 - val_precision: 0.8190 - val_accuracy: 0.8581\n",
      "Epoch 342/500\n",
      "148/148 [==============================] - 2s 15ms/step - loss: 0.1776 - binary_crossentropy: 0.0789 - recall: 0.9646 - precision: 0.9735 - accuracy: 0.9692 - val_loss: 0.7589 - val_binary_crossentropy: 0.6606 - val_recall: 0.6852 - val_precision: 0.8253 - val_accuracy: 0.8589\n",
      "Epoch 343/500\n",
      "148/148 [==============================] - 2s 16ms/step - loss: 0.1765 - binary_crossentropy: 0.0778 - recall: 0.9659 - precision: 0.9736 - accuracy: 0.9699 - val_loss: 0.7360 - val_binary_crossentropy: 0.6377 - val_recall: 0.6950 - val_precision: 0.8230 - val_accuracy: 0.8605\n",
      "Epoch 344/500\n",
      "148/148 [==============================] - 2s 15ms/step - loss: 0.1741 - binary_crossentropy: 0.0756 - recall: 0.9668 - precision: 0.9750 - accuracy: 0.9710 - val_loss: 0.7469 - val_binary_crossentropy: 0.6487 - val_recall: 0.6890 - val_precision: 0.8293 - val_accuracy: 0.8610\n",
      "Epoch 345/500\n",
      "148/148 [==============================] - 2s 15ms/step - loss: 0.1741 - binary_crossentropy: 0.0757 - recall: 0.9671 - precision: 0.9745 - accuracy: 0.9709 - val_loss: 0.7392 - val_binary_crossentropy: 0.6412 - val_recall: 0.6980 - val_precision: 0.8113 - val_accuracy: 0.8575\n",
      "Epoch 346/500\n",
      "148/148 [==============================] - 2s 16ms/step - loss: 0.1773 - binary_crossentropy: 0.0789 - recall: 0.9652 - precision: 0.9738 - accuracy: 0.9696 - val_loss: 0.7229 - val_binary_crossentropy: 0.6247 - val_recall: 0.6953 - val_precision: 0.8114 - val_accuracy: 0.8569\n",
      "Epoch 347/500\n",
      "148/148 [==============================] - 2s 16ms/step - loss: 0.1743 - binary_crossentropy: 0.0760 - recall: 0.9655 - precision: 0.9759 - accuracy: 0.9708 - val_loss: 0.7557 - val_binary_crossentropy: 0.6578 - val_recall: 0.6923 - val_precision: 0.8181 - val_accuracy: 0.8583\n",
      "Epoch 348/500\n",
      "148/148 [==============================] - 2s 16ms/step - loss: 0.1756 - binary_crossentropy: 0.0774 - recall: 0.9653 - precision: 0.9747 - accuracy: 0.9702 - val_loss: 0.7384 - val_binary_crossentropy: 0.6405 - val_recall: 0.7039 - val_precision: 0.8065 - val_accuracy: 0.8573\n",
      "Epoch 349/500\n",
      "148/148 [==============================] - 2s 15ms/step - loss: 0.1737 - binary_crossentropy: 0.0754 - recall: 0.9667 - precision: 0.9755 - accuracy: 0.9712 - val_loss: 0.7434 - val_binary_crossentropy: 0.6454 - val_recall: 0.7110 - val_precision: 0.7875 - val_accuracy: 0.8524\n",
      "Epoch 350/500\n",
      "148/148 [==============================] - 2s 15ms/step - loss: 0.1740 - binary_crossentropy: 0.0758 - recall: 0.9668 - precision: 0.9753 - accuracy: 0.9711 - val_loss: 0.7483 - val_binary_crossentropy: 0.6505 - val_recall: 0.6950 - val_precision: 0.8163 - val_accuracy: 0.8584\n",
      "Epoch 351/500\n",
      "148/148 [==============================] - 2s 16ms/step - loss: 0.1736 - binary_crossentropy: 0.0756 - recall: 0.9670 - precision: 0.9757 - accuracy: 0.9715 - val_loss: 0.7296 - val_binary_crossentropy: 0.6319 - val_recall: 0.6918 - val_precision: 0.8269 - val_accuracy: 0.8610\n",
      "Epoch 352/500\n",
      "148/148 [==============================] - 2s 16ms/step - loss: 0.1730 - binary_crossentropy: 0.0750 - recall: 0.9666 - precision: 0.9753 - accuracy: 0.9711 - val_loss: 0.7571 - val_binary_crossentropy: 0.6594 - val_recall: 0.6921 - val_precision: 0.8249 - val_accuracy: 0.8604\n",
      "Epoch 353/500\n",
      "148/148 [==============================] - 2s 16ms/step - loss: 0.1743 - binary_crossentropy: 0.0762 - recall: 0.9664 - precision: 0.9752 - accuracy: 0.9709 - val_loss: 0.7558 - val_binary_crossentropy: 0.6581 - val_recall: 0.6828 - val_precision: 0.8321 - val_accuracy: 0.8604\n",
      "Epoch 354/500\n",
      "148/148 [==============================] - 2s 16ms/step - loss: 0.1739 - binary_crossentropy: 0.0758 - recall: 0.9675 - precision: 0.9749 - accuracy: 0.9713 - val_loss: 0.7332 - val_binary_crossentropy: 0.6355 - val_recall: 0.7031 - val_precision: 0.8010 - val_accuracy: 0.8553\n",
      "Epoch 355/500\n",
      "148/148 [==============================] - 2s 16ms/step - loss: 0.1732 - binary_crossentropy: 0.0752 - recall: 0.9676 - precision: 0.9749 - accuracy: 0.9713 - val_loss: 0.7516 - val_binary_crossentropy: 0.6539 - val_recall: 0.6889 - val_precision: 0.8256 - val_accuracy: 0.8599\n",
      "Epoch 356/500\n",
      "148/148 [==============================] - 2s 15ms/step - loss: 0.1717 - binary_crossentropy: 0.0738 - recall: 0.9678 - precision: 0.9761 - accuracy: 0.9721 - val_loss: 0.7594 - val_binary_crossentropy: 0.6619 - val_recall: 0.6867 - val_precision: 0.8266 - val_accuracy: 0.8597\n",
      "Epoch 357/500\n",
      "148/148 [==============================] - 2s 15ms/step - loss: 0.1739 - binary_crossentropy: 0.0761 - recall: 0.9668 - precision: 0.9746 - accuracy: 0.9708 - val_loss: 0.7333 - val_binary_crossentropy: 0.6357 - val_recall: 0.7002 - val_precision: 0.8083 - val_accuracy: 0.8570\n",
      "Epoch 358/500\n",
      "148/148 [==============================] - 2s 15ms/step - loss: 0.1721 - binary_crossentropy: 0.0742 - recall: 0.9675 - precision: 0.9760 - accuracy: 0.9719 - val_loss: 0.7462 - val_binary_crossentropy: 0.6487 - val_recall: 0.6821 - val_precision: 0.8299 - val_accuracy: 0.8596\n",
      "Epoch 359/500\n",
      "148/148 [==============================] - 2s 16ms/step - loss: 0.1712 - binary_crossentropy: 0.0734 - recall: 0.9679 - precision: 0.9759 - accuracy: 0.9720 - val_loss: 0.7742 - val_binary_crossentropy: 0.6768 - val_recall: 0.6853 - val_precision: 0.8240 - val_accuracy: 0.8585\n",
      "Epoch 360/500\n",
      "148/148 [==============================] - 2s 15ms/step - loss: 0.1729 - binary_crossentropy: 0.0753 - recall: 0.9667 - precision: 0.9747 - accuracy: 0.9708 - val_loss: 0.7649 - val_binary_crossentropy: 0.6676 - val_recall: 0.6797 - val_precision: 0.8306 - val_accuracy: 0.8592\n",
      "Epoch 361/500\n",
      "148/148 [==============================] - 2s 15ms/step - loss: 0.1727 - binary_crossentropy: 0.0750 - recall: 0.9677 - precision: 0.9757 - accuracy: 0.9718 - val_loss: 0.7548 - val_binary_crossentropy: 0.6576 - val_recall: 0.6990 - val_precision: 0.8072 - val_accuracy: 0.8564\n",
      "Epoch 362/500\n",
      "148/148 [==============================] - 2s 15ms/step - loss: 0.1755 - binary_crossentropy: 0.0779 - recall: 0.9658 - precision: 0.9732 - accuracy: 0.9696 - val_loss: 0.7667 - val_binary_crossentropy: 0.6695 - val_recall: 0.6989 - val_precision: 0.8093 - val_accuracy: 0.8571\n",
      "Epoch 363/500\n",
      "148/148 [==============================] - 2s 15ms/step - loss: 0.1726 - binary_crossentropy: 0.0751 - recall: 0.9688 - precision: 0.9749 - accuracy: 0.9719 - val_loss: 0.7587 - val_binary_crossentropy: 0.6615 - val_recall: 0.7048 - val_precision: 0.7993 - val_accuracy: 0.8551\n",
      "Epoch 364/500\n",
      "148/148 [==============================] - 2s 15ms/step - loss: 0.1717 - binary_crossentropy: 0.0741 - recall: 0.9676 - precision: 0.9753 - accuracy: 0.9716 - val_loss: 0.7533 - val_binary_crossentropy: 0.6562 - val_recall: 0.6895 - val_precision: 0.8248 - val_accuracy: 0.8598\n",
      "Epoch 365/500\n",
      "148/148 [==============================] - 2s 15ms/step - loss: 0.1724 - binary_crossentropy: 0.0750 - recall: 0.9679 - precision: 0.9757 - accuracy: 0.9719 - val_loss: 0.7533 - val_binary_crossentropy: 0.6563 - val_recall: 0.6995 - val_precision: 0.8107 - val_accuracy: 0.8577\n",
      "Epoch 366/500\n",
      "148/148 [==============================] - 2s 16ms/step - loss: 0.1710 - binary_crossentropy: 0.0736 - recall: 0.9682 - precision: 0.9757 - accuracy: 0.9720 - val_loss: 0.7620 - val_binary_crossentropy: 0.6650 - val_recall: 0.6918 - val_precision: 0.8176 - val_accuracy: 0.8581\n",
      "Epoch 367/500\n",
      "148/148 [==============================] - 2s 15ms/step - loss: 0.1709 - binary_crossentropy: 0.0736 - recall: 0.9689 - precision: 0.9761 - accuracy: 0.9726 - val_loss: 0.7521 - val_binary_crossentropy: 0.6551 - val_recall: 0.6940 - val_precision: 0.8104 - val_accuracy: 0.8563\n",
      "Epoch 368/500\n",
      "148/148 [==============================] - 2s 15ms/step - loss: 0.1687 - binary_crossentropy: 0.0716 - recall: 0.9691 - precision: 0.9760 - accuracy: 0.9726 - val_loss: 0.7632 - val_binary_crossentropy: 0.6664 - val_recall: 0.6945 - val_precision: 0.8112 - val_accuracy: 0.8567\n",
      "Epoch 369/500\n",
      "148/148 [==============================] - 2s 15ms/step - loss: 0.1685 - binary_crossentropy: 0.0715 - recall: 0.9691 - precision: 0.9772 - accuracy: 0.9732 - val_loss: 0.7501 - val_binary_crossentropy: 0.6533 - val_recall: 0.6990 - val_precision: 0.8090 - val_accuracy: 0.8570\n",
      "Epoch 370/500\n",
      "148/148 [==============================] - 2s 15ms/step - loss: 0.1704 - binary_crossentropy: 0.0733 - recall: 0.9676 - precision: 0.9757 - accuracy: 0.9717 - val_loss: 0.7587 - val_binary_crossentropy: 0.6618 - val_recall: 0.6898 - val_precision: 0.8162 - val_accuracy: 0.8571\n",
      "Epoch 371/500\n",
      "148/148 [==============================] - 2s 16ms/step - loss: 0.1699 - binary_crossentropy: 0.0728 - recall: 0.9680 - precision: 0.9759 - accuracy: 0.9721 - val_loss: 0.7627 - val_binary_crossentropy: 0.6659 - val_recall: 0.6973 - val_precision: 0.8108 - val_accuracy: 0.8572\n",
      "Epoch 372/500\n",
      "148/148 [==============================] - 2s 16ms/step - loss: 0.1702 - binary_crossentropy: 0.0731 - recall: 0.9680 - precision: 0.9757 - accuracy: 0.9719 - val_loss: 0.7845 - val_binary_crossentropy: 0.6878 - val_recall: 0.6861 - val_precision: 0.8214 - val_accuracy: 0.8579\n",
      "Epoch 373/500\n",
      "148/148 [==============================] - 2s 16ms/step - loss: 0.1715 - binary_crossentropy: 0.0745 - recall: 0.9680 - precision: 0.9751 - accuracy: 0.9716 - val_loss: 0.7621 - val_binary_crossentropy: 0.6654 - val_recall: 0.6953 - val_precision: 0.8169 - val_accuracy: 0.8587\n",
      "Epoch 374/500\n",
      "148/148 [==============================] - 2s 16ms/step - loss: 0.1692 - binary_crossentropy: 0.0723 - recall: 0.9694 - precision: 0.9754 - accuracy: 0.9725 - val_loss: 0.7625 - val_binary_crossentropy: 0.6659 - val_recall: 0.6879 - val_precision: 0.8227 - val_accuracy: 0.8587\n",
      "Epoch 375/500\n",
      "148/148 [==============================] - 2s 16ms/step - loss: 0.1680 - binary_crossentropy: 0.0711 - recall: 0.9705 - precision: 0.9763 - accuracy: 0.9735 - val_loss: 0.7541 - val_binary_crossentropy: 0.6575 - val_recall: 0.6979 - val_precision: 0.8056 - val_accuracy: 0.8556\n",
      "Epoch 376/500\n",
      "148/148 [==============================] - 2s 15ms/step - loss: 0.1670 - binary_crossentropy: 0.0701 - recall: 0.9693 - precision: 0.9765 - accuracy: 0.9730 - val_loss: 0.7678 - val_binary_crossentropy: 0.6713 - val_recall: 0.6899 - val_precision: 0.8190 - val_accuracy: 0.8580\n",
      "Epoch 377/500\n",
      "148/148 [==============================] - 2s 16ms/step - loss: 0.1682 - binary_crossentropy: 0.0714 - recall: 0.9692 - precision: 0.9767 - accuracy: 0.9730 - val_loss: 0.7569 - val_binary_crossentropy: 0.6605 - val_recall: 0.6956 - val_precision: 0.8172 - val_accuracy: 0.8589\n",
      "Epoch 378/500\n",
      "148/148 [==============================] - 2s 15ms/step - loss: 0.1667 - binary_crossentropy: 0.0699 - recall: 0.9693 - precision: 0.9769 - accuracy: 0.9732 - val_loss: 0.7544 - val_binary_crossentropy: 0.6580 - val_recall: 0.7092 - val_precision: 0.7975 - val_accuracy: 0.8555\n",
      "Epoch 379/500\n",
      "148/148 [==============================] - 2s 15ms/step - loss: 0.1692 - binary_crossentropy: 0.0726 - recall: 0.9698 - precision: 0.9744 - accuracy: 0.9722 - val_loss: 0.7771 - val_binary_crossentropy: 0.6807 - val_recall: 0.7047 - val_precision: 0.8033 - val_accuracy: 0.8564\n",
      "Epoch 380/500\n",
      "148/148 [==============================] - 2s 15ms/step - loss: 0.1692 - binary_crossentropy: 0.0725 - recall: 0.9687 - precision: 0.9755 - accuracy: 0.9722 - val_loss: 0.7348 - val_binary_crossentropy: 0.6385 - val_recall: 0.7063 - val_precision: 0.7974 - val_accuracy: 0.8548\n",
      "Epoch 381/500\n",
      "148/148 [==============================] - 2s 16ms/step - loss: 0.1692 - binary_crossentropy: 0.0726 - recall: 0.9694 - precision: 0.9745 - accuracy: 0.9720 - val_loss: 0.7669 - val_binary_crossentropy: 0.6706 - val_recall: 0.6872 - val_precision: 0.8191 - val_accuracy: 0.8574\n",
      "Epoch 382/500\n",
      "148/148 [==============================] - 2s 16ms/step - loss: 0.1677 - binary_crossentropy: 0.0711 - recall: 0.9694 - precision: 0.9761 - accuracy: 0.9729 - val_loss: 0.7593 - val_binary_crossentropy: 0.6632 - val_recall: 0.6954 - val_precision: 0.8097 - val_accuracy: 0.8564\n",
      "Epoch 383/500\n",
      "148/148 [==============================] - 2s 16ms/step - loss: 0.1679 - binary_crossentropy: 0.0713 - recall: 0.9687 - precision: 0.9758 - accuracy: 0.9723 - val_loss: 0.7727 - val_binary_crossentropy: 0.6765 - val_recall: 0.6945 - val_precision: 0.8182 - val_accuracy: 0.8589\n",
      "Epoch 384/500\n",
      "148/148 [==============================] - 2s 15ms/step - loss: 0.1686 - binary_crossentropy: 0.0722 - recall: 0.9689 - precision: 0.9753 - accuracy: 0.9722 - val_loss: 0.7481 - val_binary_crossentropy: 0.6521 - val_recall: 0.6952 - val_precision: 0.8116 - val_accuracy: 0.8570\n",
      "Epoch 385/500\n",
      "148/148 [==============================] - 2s 15ms/step - loss: 0.1685 - binary_crossentropy: 0.0721 - recall: 0.9689 - precision: 0.9763 - accuracy: 0.9727 - val_loss: 0.7566 - val_binary_crossentropy: 0.6606 - val_recall: 0.7035 - val_precision: 0.8002 - val_accuracy: 0.8551\n",
      "Epoch 386/500\n",
      "148/148 [==============================] - 2s 15ms/step - loss: 0.1682 - binary_crossentropy: 0.0718 - recall: 0.9701 - precision: 0.9765 - accuracy: 0.9734 - val_loss: 0.7638 - val_binary_crossentropy: 0.6677 - val_recall: 0.6862 - val_precision: 0.8261 - val_accuracy: 0.8594\n",
      "Epoch 387/500\n",
      "148/148 [==============================] - 2s 15ms/step - loss: 0.1683 - binary_crossentropy: 0.0719 - recall: 0.9687 - precision: 0.9755 - accuracy: 0.9722 - val_loss: 0.7571 - val_binary_crossentropy: 0.6611 - val_recall: 0.6895 - val_precision: 0.8235 - val_accuracy: 0.8594\n",
      "Epoch 388/500\n",
      "148/148 [==============================] - 2s 15ms/step - loss: 0.1664 - binary_crossentropy: 0.0702 - recall: 0.9697 - precision: 0.9763 - accuracy: 0.9731 - val_loss: 0.7762 - val_binary_crossentropy: 0.6803 - val_recall: 0.6920 - val_precision: 0.8184 - val_accuracy: 0.8584\n",
      "Epoch 389/500\n",
      "148/148 [==============================] - 2s 16ms/step - loss: 0.1684 - binary_crossentropy: 0.0721 - recall: 0.9700 - precision: 0.9750 - accuracy: 0.9726 - val_loss: 0.7690 - val_binary_crossentropy: 0.6731 - val_recall: 0.6820 - val_precision: 0.8324 - val_accuracy: 0.8603\n",
      "Epoch 390/500\n",
      "148/148 [==============================] - 2s 15ms/step - loss: 0.1665 - binary_crossentropy: 0.0703 - recall: 0.9697 - precision: 0.9765 - accuracy: 0.9732 - val_loss: 0.7880 - val_binary_crossentropy: 0.6923 - val_recall: 0.6918 - val_precision: 0.8142 - val_accuracy: 0.8570\n",
      "Epoch 391/500\n",
      "148/148 [==============================] - 2s 15ms/step - loss: 0.1648 - binary_crossentropy: 0.0688 - recall: 0.9712 - precision: 0.9775 - accuracy: 0.9744 - val_loss: 0.7905 - val_binary_crossentropy: 0.6949 - val_recall: 0.6975 - val_precision: 0.8149 - val_accuracy: 0.8586\n",
      "Epoch 392/500\n",
      "148/148 [==============================] - 2s 16ms/step - loss: 0.1686 - binary_crossentropy: 0.0727 - recall: 0.9689 - precision: 0.9747 - accuracy: 0.9718 - val_loss: 0.7604 - val_binary_crossentropy: 0.6645 - val_recall: 0.6906 - val_precision: 0.8248 - val_accuracy: 0.8601\n",
      "Epoch 393/500\n",
      "148/148 [==============================] - 2s 15ms/step - loss: 0.1689 - binary_crossentropy: 0.0728 - recall: 0.9689 - precision: 0.9760 - accuracy: 0.9725 - val_loss: 0.7612 - val_binary_crossentropy: 0.6654 - val_recall: 0.6911 - val_precision: 0.8150 - val_accuracy: 0.8571\n",
      "Epoch 394/500\n",
      "148/148 [==============================] - 2s 15ms/step - loss: 0.1652 - binary_crossentropy: 0.0692 - recall: 0.9706 - precision: 0.9769 - accuracy: 0.9738 - val_loss: 0.7705 - val_binary_crossentropy: 0.6749 - val_recall: 0.6986 - val_precision: 0.8108 - val_accuracy: 0.8575\n",
      "Epoch 395/500\n",
      "148/148 [==============================] - 2s 16ms/step - loss: 0.1645 - binary_crossentropy: 0.0687 - recall: 0.9714 - precision: 0.9770 - accuracy: 0.9743 - val_loss: 0.7815 - val_binary_crossentropy: 0.6859 - val_recall: 0.7016 - val_precision: 0.8070 - val_accuracy: 0.8569\n",
      "Epoch 396/500\n",
      "148/148 [==============================] - 2s 16ms/step - loss: 0.1664 - binary_crossentropy: 0.0705 - recall: 0.9692 - precision: 0.9760 - accuracy: 0.9727 - val_loss: 0.7724 - val_binary_crossentropy: 0.6768 - val_recall: 0.6931 - val_precision: 0.8201 - val_accuracy: 0.8592\n",
      "Epoch 397/500\n",
      "148/148 [==============================] - 2s 16ms/step - loss: 0.1678 - binary_crossentropy: 0.0718 - recall: 0.9687 - precision: 0.9766 - accuracy: 0.9727 - val_loss: 0.7648 - val_binary_crossentropy: 0.6694 - val_recall: 0.6956 - val_precision: 0.8105 - val_accuracy: 0.8567\n",
      "Epoch 398/500\n",
      "148/148 [==============================] - 2s 15ms/step - loss: 0.1633 - binary_crossentropy: 0.0675 - recall: 0.9717 - precision: 0.9765 - accuracy: 0.9742 - val_loss: 0.7647 - val_binary_crossentropy: 0.6695 - val_recall: 0.7104 - val_precision: 0.7945 - val_accuracy: 0.8547\n",
      "Epoch 399/500\n",
      "148/148 [==============================] - 2s 15ms/step - loss: 0.1649 - binary_crossentropy: 0.0692 - recall: 0.9714 - precision: 0.9765 - accuracy: 0.9740 - val_loss: 0.7639 - val_binary_crossentropy: 0.6687 - val_recall: 0.7010 - val_precision: 0.8054 - val_accuracy: 0.8563\n",
      "Epoch 400/500\n",
      "148/148 [==============================] - 2s 15ms/step - loss: 0.1652 - binary_crossentropy: 0.0695 - recall: 0.9704 - precision: 0.9773 - accuracy: 0.9739 - val_loss: 0.7731 - val_binary_crossentropy: 0.6780 - val_recall: 0.6847 - val_precision: 0.8287 - val_accuracy: 0.8598\n",
      "Epoch 401/500\n",
      "148/148 [==============================] - 2s 16ms/step - loss: 0.1660 - binary_crossentropy: 0.0704 - recall: 0.9706 - precision: 0.9761 - accuracy: 0.9734 - val_loss: 0.7750 - val_binary_crossentropy: 0.6797 - val_recall: 0.7012 - val_precision: 0.8060 - val_accuracy: 0.8565\n",
      "Epoch 402/500\n",
      "148/148 [==============================] - 2s 15ms/step - loss: 0.1650 - binary_crossentropy: 0.0694 - recall: 0.9703 - precision: 0.9766 - accuracy: 0.9735 - val_loss: 0.7728 - val_binary_crossentropy: 0.6776 - val_recall: 0.6939 - val_precision: 0.8162 - val_accuracy: 0.8581\n",
      "Epoch 403/500\n",
      "148/148 [==============================] - 2s 15ms/step - loss: 0.1659 - binary_crossentropy: 0.0704 - recall: 0.9698 - precision: 0.9771 - accuracy: 0.9736 - val_loss: 0.7882 - val_binary_crossentropy: 0.6930 - val_recall: 0.6857 - val_precision: 0.8283 - val_accuracy: 0.8599\n",
      "Epoch 404/500\n",
      "148/148 [==============================] - 2s 15ms/step - loss: 0.1651 - binary_crossentropy: 0.0696 - recall: 0.9699 - precision: 0.9771 - accuracy: 0.9736 - val_loss: 0.7797 - val_binary_crossentropy: 0.6846 - val_recall: 0.6915 - val_precision: 0.8174 - val_accuracy: 0.8579\n",
      "Epoch 405/500\n",
      "148/148 [==============================] - 2s 16ms/step - loss: 0.1655 - binary_crossentropy: 0.0702 - recall: 0.9703 - precision: 0.9769 - accuracy: 0.9737 - val_loss: 0.7747 - val_binary_crossentropy: 0.6797 - val_recall: 0.6870 - val_precision: 0.8223 - val_accuracy: 0.8584\n",
      "Epoch 406/500\n",
      "148/148 [==============================] - 2s 16ms/step - loss: 0.1642 - binary_crossentropy: 0.0689 - recall: 0.9711 - precision: 0.9769 - accuracy: 0.9741 - val_loss: 0.7836 - val_binary_crossentropy: 0.6886 - val_recall: 0.6829 - val_precision: 0.8286 - val_accuracy: 0.8594\n",
      "Epoch 407/500\n",
      "148/148 [==============================] - 2s 15ms/step - loss: 0.1653 - binary_crossentropy: 0.0701 - recall: 0.9702 - precision: 0.9771 - accuracy: 0.9738 - val_loss: 0.7894 - val_binary_crossentropy: 0.6944 - val_recall: 0.6921 - val_precision: 0.8154 - val_accuracy: 0.8574\n",
      "Epoch 408/500\n",
      "148/148 [==============================] - 2s 15ms/step - loss: 0.1650 - binary_crossentropy: 0.0699 - recall: 0.9699 - precision: 0.9768 - accuracy: 0.9734 - val_loss: 0.7685 - val_binary_crossentropy: 0.6736 - val_recall: 0.6953 - val_precision: 0.8178 - val_accuracy: 0.8590\n",
      "Epoch 409/500\n",
      "148/148 [==============================] - 2s 16ms/step - loss: 0.1660 - binary_crossentropy: 0.0709 - recall: 0.9706 - precision: 0.9762 - accuracy: 0.9735 - val_loss: 0.7738 - val_binary_crossentropy: 0.6789 - val_recall: 0.6923 - val_precision: 0.8132 - val_accuracy: 0.8568\n",
      "Epoch 410/500\n",
      "148/148 [==============================] - 2s 16ms/step - loss: 0.1646 - binary_crossentropy: 0.0695 - recall: 0.9708 - precision: 0.9769 - accuracy: 0.9740 - val_loss: 0.7609 - val_binary_crossentropy: 0.6660 - val_recall: 0.6947 - val_precision: 0.8133 - val_accuracy: 0.8574\n",
      "Epoch 411/500\n",
      "148/148 [==============================] - 2s 16ms/step - loss: 0.1626 - binary_crossentropy: 0.0676 - recall: 0.9710 - precision: 0.9774 - accuracy: 0.9743 - val_loss: 0.7788 - val_binary_crossentropy: 0.6840 - val_recall: 0.6940 - val_precision: 0.8165 - val_accuracy: 0.8583\n",
      "Epoch 412/500\n",
      "148/148 [==============================] - 2s 16ms/step - loss: 0.1608 - binary_crossentropy: 0.0659 - recall: 0.9721 - precision: 0.9781 - accuracy: 0.9752 - val_loss: 0.7948 - val_binary_crossentropy: 0.7001 - val_recall: 0.6902 - val_precision: 0.8210 - val_accuracy: 0.8588\n",
      "Epoch 413/500\n",
      "148/148 [==============================] - 2s 15ms/step - loss: 0.1645 - binary_crossentropy: 0.0695 - recall: 0.9708 - precision: 0.9769 - accuracy: 0.9739 - val_loss: 0.7936 - val_binary_crossentropy: 0.6988 - val_recall: 0.6917 - val_precision: 0.8213 - val_accuracy: 0.8592\n",
      "Epoch 414/500\n",
      "148/148 [==============================] - 2s 15ms/step - loss: 0.1638 - binary_crossentropy: 0.0689 - recall: 0.9712 - precision: 0.9768 - accuracy: 0.9741 - val_loss: 0.7742 - val_binary_crossentropy: 0.6795 - val_recall: 0.6954 - val_precision: 0.8132 - val_accuracy: 0.8575\n",
      "Epoch 415/500\n",
      "148/148 [==============================] - 2s 16ms/step - loss: 0.1615 - binary_crossentropy: 0.0666 - recall: 0.9725 - precision: 0.9773 - accuracy: 0.9750 - val_loss: 0.7712 - val_binary_crossentropy: 0.6765 - val_recall: 0.6861 - val_precision: 0.8287 - val_accuracy: 0.8602\n",
      "Epoch 416/500\n",
      "148/148 [==============================] - 2s 15ms/step - loss: 0.1647 - binary_crossentropy: 0.0696 - recall: 0.9701 - precision: 0.9769 - accuracy: 0.9736 - val_loss: 0.7584 - val_binary_crossentropy: 0.6637 - val_recall: 0.6990 - val_precision: 0.8091 - val_accuracy: 0.8570\n",
      "Epoch 417/500\n",
      "148/148 [==============================] - 2s 15ms/step - loss: 0.1615 - binary_crossentropy: 0.0666 - recall: 0.9727 - precision: 0.9770 - accuracy: 0.9749 - val_loss: 0.7942 - val_binary_crossentropy: 0.6995 - val_recall: 0.6827 - val_precision: 0.8319 - val_accuracy: 0.8603\n",
      "Epoch 418/500\n",
      "148/148 [==============================] - 2s 16ms/step - loss: 0.1633 - binary_crossentropy: 0.0685 - recall: 0.9714 - precision: 0.9779 - accuracy: 0.9747 - val_loss: 0.7671 - val_binary_crossentropy: 0.6726 - val_recall: 0.6999 - val_precision: 0.8082 - val_accuracy: 0.8569\n",
      "Epoch 419/500\n",
      "148/148 [==============================] - 2s 15ms/step - loss: 0.1622 - binary_crossentropy: 0.0676 - recall: 0.9713 - precision: 0.9778 - accuracy: 0.9746 - val_loss: 0.7720 - val_binary_crossentropy: 0.6777 - val_recall: 0.6990 - val_precision: 0.8128 - val_accuracy: 0.8583\n",
      "Epoch 420/500\n",
      "148/148 [==============================] - 2s 16ms/step - loss: 0.1643 - binary_crossentropy: 0.0696 - recall: 0.9706 - precision: 0.9768 - accuracy: 0.9738 - val_loss: 0.7896 - val_binary_crossentropy: 0.6954 - val_recall: 0.6965 - val_precision: 0.8174 - val_accuracy: 0.8591\n",
      "Epoch 421/500\n",
      "148/148 [==============================] - 4s 25ms/step - loss: 0.1627 - binary_crossentropy: 0.0680 - recall: 0.9716 - precision: 0.9778 - accuracy: 0.9748 - val_loss: 0.7816 - val_binary_crossentropy: 0.6873 - val_recall: 0.6931 - val_precision: 0.8145 - val_accuracy: 0.8574\n",
      "Epoch 422/500\n",
      "148/148 [==============================] - 2s 17ms/step - loss: 0.1637 - binary_crossentropy: 0.0692 - recall: 0.9705 - precision: 0.9778 - accuracy: 0.9742 - val_loss: 0.7984 - val_binary_crossentropy: 0.7042 - val_recall: 0.6736 - val_precision: 0.8414 - val_accuracy: 0.8609\n",
      "Epoch 423/500\n",
      "148/148 [==============================] - 2s 16ms/step - loss: 0.1610 - binary_crossentropy: 0.0666 - recall: 0.9725 - precision: 0.9778 - accuracy: 0.9752 - val_loss: 0.7795 - val_binary_crossentropy: 0.6853 - val_recall: 0.6869 - val_precision: 0.8227 - val_accuracy: 0.8585\n",
      "Epoch 424/500\n",
      "148/148 [==============================] - 2s 16ms/step - loss: 0.1603 - binary_crossentropy: 0.0658 - recall: 0.9728 - precision: 0.9774 - accuracy: 0.9752 - val_loss: 0.8077 - val_binary_crossentropy: 0.7137 - val_recall: 0.6798 - val_precision: 0.8319 - val_accuracy: 0.8596\n",
      "Epoch 425/500\n",
      "148/148 [==============================] - 2s 16ms/step - loss: 0.1623 - binary_crossentropy: 0.0680 - recall: 0.9711 - precision: 0.9773 - accuracy: 0.9743 - val_loss: 0.7675 - val_binary_crossentropy: 0.6734 - val_recall: 0.6947 - val_precision: 0.8159 - val_accuracy: 0.8582\n",
      "Epoch 426/500\n",
      "148/148 [==============================] - 2s 16ms/step - loss: 0.1630 - binary_crossentropy: 0.0685 - recall: 0.9706 - precision: 0.9772 - accuracy: 0.9740 - val_loss: 0.7839 - val_binary_crossentropy: 0.6897 - val_recall: 0.6836 - val_precision: 0.8203 - val_accuracy: 0.8570\n",
      "Epoch 427/500\n",
      "148/148 [==============================] - 2s 16ms/step - loss: 0.1631 - binary_crossentropy: 0.0688 - recall: 0.9707 - precision: 0.9782 - accuracy: 0.9745 - val_loss: 0.7751 - val_binary_crossentropy: 0.6810 - val_recall: 0.6960 - val_precision: 0.8148 - val_accuracy: 0.8582\n",
      "Epoch 428/500\n",
      "148/148 [==============================] - 2s 16ms/step - loss: 0.1597 - binary_crossentropy: 0.0653 - recall: 0.9728 - precision: 0.9784 - accuracy: 0.9757 - val_loss: 0.8000 - val_binary_crossentropy: 0.7061 - val_recall: 0.6965 - val_precision: 0.8135 - val_accuracy: 0.8579\n",
      "Epoch 429/500\n",
      "148/148 [==============================] - 2s 16ms/step - loss: 0.1608 - binary_crossentropy: 0.0665 - recall: 0.9730 - precision: 0.9773 - accuracy: 0.9752 - val_loss: 0.7951 - val_binary_crossentropy: 0.7011 - val_recall: 0.6872 - val_precision: 0.8236 - val_accuracy: 0.8589\n",
      "Epoch 430/500\n",
      "148/148 [==============================] - 2s 17ms/step - loss: 0.1599 - binary_crossentropy: 0.0657 - recall: 0.9727 - precision: 0.9789 - accuracy: 0.9759 - val_loss: 0.7966 - val_binary_crossentropy: 0.7028 - val_recall: 0.7000 - val_precision: 0.8091 - val_accuracy: 0.8573\n",
      "Epoch 431/500\n",
      "148/148 [==============================] - 2s 16ms/step - loss: 0.1610 - binary_crossentropy: 0.0668 - recall: 0.9723 - precision: 0.9771 - accuracy: 0.9747 - val_loss: 0.7868 - val_binary_crossentropy: 0.6931 - val_recall: 0.6963 - val_precision: 0.8116 - val_accuracy: 0.8572\n",
      "Epoch 432/500\n",
      "148/148 [==============================] - 2s 16ms/step - loss: 0.1611 - binary_crossentropy: 0.0670 - recall: 0.9725 - precision: 0.9777 - accuracy: 0.9752 - val_loss: 0.8030 - val_binary_crossentropy: 0.7093 - val_recall: 0.6797 - val_precision: 0.8322 - val_accuracy: 0.8597\n",
      "Epoch 433/500\n",
      "148/148 [==============================] - 2s 16ms/step - loss: 0.1606 - binary_crossentropy: 0.0665 - recall: 0.9717 - precision: 0.9780 - accuracy: 0.9749 - val_loss: 0.7811 - val_binary_crossentropy: 0.6873 - val_recall: 0.7044 - val_precision: 0.8019 - val_accuracy: 0.8559\n",
      "Epoch 434/500\n",
      "148/148 [==============================] - 2s 16ms/step - loss: 0.1603 - binary_crossentropy: 0.0662 - recall: 0.9722 - precision: 0.9777 - accuracy: 0.9750 - val_loss: 0.8013 - val_binary_crossentropy: 0.7076 - val_recall: 0.6775 - val_precision: 0.8392 - val_accuracy: 0.8612\n",
      "Epoch 435/500\n",
      "148/148 [==============================] - 2s 16ms/step - loss: 0.1596 - binary_crossentropy: 0.0657 - recall: 0.9727 - precision: 0.9781 - accuracy: 0.9754 - val_loss: 0.7804 - val_binary_crossentropy: 0.6867 - val_recall: 0.6950 - val_precision: 0.8124 - val_accuracy: 0.8571\n",
      "Epoch 436/500\n",
      "148/148 [==============================] - 2s 16ms/step - loss: 0.1595 - binary_crossentropy: 0.0658 - recall: 0.9733 - precision: 0.9777 - accuracy: 0.9755 - val_loss: 0.7951 - val_binary_crossentropy: 0.7014 - val_recall: 0.6911 - val_precision: 0.8171 - val_accuracy: 0.8577\n",
      "Epoch 437/500\n",
      "148/148 [==============================] - 2s 16ms/step - loss: 0.1602 - binary_crossentropy: 0.0664 - recall: 0.9729 - precision: 0.9769 - accuracy: 0.9749 - val_loss: 0.8044 - val_binary_crossentropy: 0.7108 - val_recall: 0.6851 - val_precision: 0.8273 - val_accuracy: 0.8595\n",
      "Epoch 438/500\n",
      "148/148 [==============================] - 2s 16ms/step - loss: 0.1598 - binary_crossentropy: 0.0660 - recall: 0.9725 - precision: 0.9781 - accuracy: 0.9754 - val_loss: 0.7935 - val_binary_crossentropy: 0.6999 - val_recall: 0.7006 - val_precision: 0.8087 - val_accuracy: 0.8573\n",
      "Epoch 439/500\n",
      "148/148 [==============================] - 2s 17ms/step - loss: 0.1616 - binary_crossentropy: 0.0678 - recall: 0.9721 - precision: 0.9776 - accuracy: 0.9749 - val_loss: 0.7953 - val_binary_crossentropy: 0.7017 - val_recall: 0.6867 - val_precision: 0.8211 - val_accuracy: 0.8579\n",
      "Epoch 440/500\n",
      "148/148 [==============================] - 2s 16ms/step - loss: 0.1599 - binary_crossentropy: 0.0661 - recall: 0.9724 - precision: 0.9784 - accuracy: 0.9755 - val_loss: 0.7926 - val_binary_crossentropy: 0.6992 - val_recall: 0.6888 - val_precision: 0.8223 - val_accuracy: 0.8589\n",
      "Epoch 441/500\n",
      "148/148 [==============================] - 2s 17ms/step - loss: 0.1600 - binary_crossentropy: 0.0663 - recall: 0.9721 - precision: 0.9777 - accuracy: 0.9750 - val_loss: 0.7966 - val_binary_crossentropy: 0.7033 - val_recall: 0.6900 - val_precision: 0.8184 - val_accuracy: 0.8579\n",
      "Epoch 442/500\n",
      "148/148 [==============================] - 2s 17ms/step - loss: 0.1606 - binary_crossentropy: 0.0670 - recall: 0.9731 - precision: 0.9768 - accuracy: 0.9750 - val_loss: 0.7918 - val_binary_crossentropy: 0.6984 - val_recall: 0.6922 - val_precision: 0.8127 - val_accuracy: 0.8566\n",
      "Epoch 443/500\n",
      "148/148 [==============================] - 2s 16ms/step - loss: 0.1618 - binary_crossentropy: 0.0681 - recall: 0.9713 - precision: 0.9776 - accuracy: 0.9746 - val_loss: 0.8097 - val_binary_crossentropy: 0.7163 - val_recall: 0.6934 - val_precision: 0.8108 - val_accuracy: 0.8563\n",
      "Epoch 444/500\n",
      "148/148 [==============================] - 2s 16ms/step - loss: 0.1603 - binary_crossentropy: 0.0666 - recall: 0.9731 - precision: 0.9770 - accuracy: 0.9751 - val_loss: 0.7864 - val_binary_crossentropy: 0.6930 - val_recall: 0.6868 - val_precision: 0.8248 - val_accuracy: 0.8591\n",
      "Epoch 445/500\n",
      "148/148 [==============================] - 2s 16ms/step - loss: 0.1618 - binary_crossentropy: 0.0681 - recall: 0.9717 - precision: 0.9767 - accuracy: 0.9743 - val_loss: 0.8013 - val_binary_crossentropy: 0.7079 - val_recall: 0.6865 - val_precision: 0.8221 - val_accuracy: 0.8582\n",
      "Epoch 446/500\n",
      "148/148 [==============================] - 2s 16ms/step - loss: 0.1603 - binary_crossentropy: 0.0666 - recall: 0.9733 - precision: 0.9777 - accuracy: 0.9756 - val_loss: 0.7885 - val_binary_crossentropy: 0.6952 - val_recall: 0.6952 - val_precision: 0.8101 - val_accuracy: 0.8564\n",
      "Epoch 447/500\n",
      "148/148 [==============================] - 2s 16ms/step - loss: 0.1582 - binary_crossentropy: 0.0645 - recall: 0.9731 - precision: 0.9781 - accuracy: 0.9757 - val_loss: 0.8131 - val_binary_crossentropy: 0.7200 - val_recall: 0.6865 - val_precision: 0.8251 - val_accuracy: 0.8591\n",
      "Epoch 448/500\n",
      "148/148 [==============================] - 2s 16ms/step - loss: 0.1577 - binary_crossentropy: 0.0641 - recall: 0.9732 - precision: 0.9789 - accuracy: 0.9761 - val_loss: 0.8022 - val_binary_crossentropy: 0.7090 - val_recall: 0.6928 - val_precision: 0.8167 - val_accuracy: 0.8580\n",
      "Epoch 449/500\n",
      "148/148 [==============================] - 2s 16ms/step - loss: 0.1601 - binary_crossentropy: 0.0667 - recall: 0.9726 - precision: 0.9773 - accuracy: 0.9750 - val_loss: 0.8159 - val_binary_crossentropy: 0.7228 - val_recall: 0.6706 - val_precision: 0.8458 - val_accuracy: 0.8614\n",
      "Epoch 450/500\n",
      "148/148 [==============================] - 2s 16ms/step - loss: 0.1583 - binary_crossentropy: 0.0649 - recall: 0.9725 - precision: 0.9784 - accuracy: 0.9755 - val_loss: 0.8144 - val_binary_crossentropy: 0.7214 - val_recall: 0.6895 - val_precision: 0.8205 - val_accuracy: 0.8584\n",
      "Epoch 451/500\n",
      "148/148 [==============================] - 2s 16ms/step - loss: 0.1598 - binary_crossentropy: 0.0664 - recall: 0.9719 - precision: 0.9775 - accuracy: 0.9748 - val_loss: 0.7919 - val_binary_crossentropy: 0.6990 - val_recall: 0.6851 - val_precision: 0.8275 - val_accuracy: 0.8596\n",
      "Epoch 452/500\n",
      "148/148 [==============================] - 2s 16ms/step - loss: 0.1590 - binary_crossentropy: 0.0658 - recall: 0.9723 - precision: 0.9778 - accuracy: 0.9751 - val_loss: 0.7969 - val_binary_crossentropy: 0.7040 - val_recall: 0.6906 - val_precision: 0.8169 - val_accuracy: 0.8576\n",
      "Epoch 453/500\n",
      "148/148 [==============================] - 2s 16ms/step - loss: 0.1582 - binary_crossentropy: 0.0651 - recall: 0.9727 - precision: 0.9784 - accuracy: 0.9756 - val_loss: 0.8000 - val_binary_crossentropy: 0.7071 - val_recall: 0.6852 - val_precision: 0.8239 - val_accuracy: 0.8585\n",
      "Epoch 454/500\n",
      "148/148 [==============================] - 2s 16ms/step - loss: 0.1577 - binary_crossentropy: 0.0646 - recall: 0.9737 - precision: 0.9782 - accuracy: 0.9760 - val_loss: 0.8134 - val_binary_crossentropy: 0.7206 - val_recall: 0.6995 - val_precision: 0.8056 - val_accuracy: 0.8560\n",
      "Epoch 455/500\n",
      "148/148 [==============================] - 2s 16ms/step - loss: 0.1576 - binary_crossentropy: 0.0644 - recall: 0.9744 - precision: 0.9782 - accuracy: 0.9763 - val_loss: 0.7985 - val_binary_crossentropy: 0.7058 - val_recall: 0.6950 - val_precision: 0.8102 - val_accuracy: 0.8564\n",
      "Epoch 456/500\n",
      "148/148 [==============================] - 2s 16ms/step - loss: 0.1572 - binary_crossentropy: 0.0642 - recall: 0.9739 - precision: 0.9787 - accuracy: 0.9763 - val_loss: 0.8136 - val_binary_crossentropy: 0.7211 - val_recall: 0.6924 - val_precision: 0.8126 - val_accuracy: 0.8566\n",
      "Epoch 457/500\n",
      "148/148 [==============================] - 2s 16ms/step - loss: 0.1590 - binary_crossentropy: 0.0659 - recall: 0.9725 - precision: 0.9780 - accuracy: 0.9753 - val_loss: 0.7976 - val_binary_crossentropy: 0.7050 - val_recall: 0.7018 - val_precision: 0.8035 - val_accuracy: 0.8558\n",
      "Epoch 458/500\n",
      "148/148 [==============================] - 2s 16ms/step - loss: 0.1584 - binary_crossentropy: 0.0655 - recall: 0.9718 - precision: 0.9795 - accuracy: 0.9757 - val_loss: 0.7925 - val_binary_crossentropy: 0.6999 - val_recall: 0.6879 - val_precision: 0.8220 - val_accuracy: 0.8585\n",
      "Epoch 459/500\n",
      "148/148 [==============================] - 2s 16ms/step - loss: 0.1568 - binary_crossentropy: 0.0638 - recall: 0.9743 - precision: 0.9782 - accuracy: 0.9763 - val_loss: 0.8063 - val_binary_crossentropy: 0.7138 - val_recall: 0.6838 - val_precision: 0.8274 - val_accuracy: 0.8592\n",
      "Epoch 460/500\n",
      "148/148 [==============================] - 2s 16ms/step - loss: 0.1573 - binary_crossentropy: 0.0645 - recall: 0.9738 - precision: 0.9787 - accuracy: 0.9763 - val_loss: 0.8019 - val_binary_crossentropy: 0.7093 - val_recall: 0.6903 - val_precision: 0.8193 - val_accuracy: 0.8583\n",
      "Epoch 461/500\n",
      "148/148 [==============================] - 2s 16ms/step - loss: 0.1593 - binary_crossentropy: 0.0664 - recall: 0.9732 - precision: 0.9774 - accuracy: 0.9754 - val_loss: 0.8127 - val_binary_crossentropy: 0.7200 - val_recall: 0.6788 - val_precision: 0.8398 - val_accuracy: 0.8617\n",
      "Epoch 462/500\n",
      "148/148 [==============================] - 2s 16ms/step - loss: 0.1568 - binary_crossentropy: 0.0639 - recall: 0.9736 - precision: 0.9787 - accuracy: 0.9762 - val_loss: 0.8180 - val_binary_crossentropy: 0.7255 - val_recall: 0.6856 - val_precision: 0.8228 - val_accuracy: 0.8582\n",
      "Epoch 463/500\n",
      "148/148 [==============================] - 2s 16ms/step - loss: 0.1567 - binary_crossentropy: 0.0640 - recall: 0.9737 - precision: 0.9781 - accuracy: 0.9759 - val_loss: 0.8384 - val_binary_crossentropy: 0.7461 - val_recall: 0.6781 - val_precision: 0.8313 - val_accuracy: 0.8590\n",
      "Epoch 464/500\n",
      "148/148 [==============================] - 2s 16ms/step - loss: 0.1569 - binary_crossentropy: 0.0642 - recall: 0.9738 - precision: 0.9783 - accuracy: 0.9761 - val_loss: 0.8102 - val_binary_crossentropy: 0.7179 - val_recall: 0.6950 - val_precision: 0.8120 - val_accuracy: 0.8570\n",
      "Epoch 465/500\n",
      "148/148 [==============================] - 2s 16ms/step - loss: 0.1591 - binary_crossentropy: 0.0665 - recall: 0.9737 - precision: 0.9780 - accuracy: 0.9759 - val_loss: 0.8185 - val_binary_crossentropy: 0.7263 - val_recall: 0.6866 - val_precision: 0.8275 - val_accuracy: 0.8599\n",
      "Epoch 466/500\n",
      "148/148 [==============================] - 2s 16ms/step - loss: 0.1552 - binary_crossentropy: 0.0627 - recall: 0.9737 - precision: 0.9792 - accuracy: 0.9765 - val_loss: 0.8116 - val_binary_crossentropy: 0.7195 - val_recall: 0.6943 - val_precision: 0.8109 - val_accuracy: 0.8565\n",
      "Epoch 467/500\n",
      "148/148 [==============================] - 2s 16ms/step - loss: 0.1559 - binary_crossentropy: 0.0634 - recall: 0.9739 - precision: 0.9785 - accuracy: 0.9763 - val_loss: 0.7928 - val_binary_crossentropy: 0.7008 - val_recall: 0.7048 - val_precision: 0.7980 - val_accuracy: 0.8547\n",
      "Epoch 468/500\n",
      "148/148 [==============================] - 2s 16ms/step - loss: 0.1550 - binary_crossentropy: 0.0625 - recall: 0.9744 - precision: 0.9790 - accuracy: 0.9767 - val_loss: 0.8152 - val_binary_crossentropy: 0.7232 - val_recall: 0.6982 - val_precision: 0.8125 - val_accuracy: 0.8579\n",
      "Epoch 469/500\n",
      "148/148 [==============================] - 2s 16ms/step - loss: 0.1554 - binary_crossentropy: 0.0629 - recall: 0.9753 - precision: 0.9780 - accuracy: 0.9767 - val_loss: 0.8321 - val_binary_crossentropy: 0.7400 - val_recall: 0.6948 - val_precision: 0.8134 - val_accuracy: 0.8574\n",
      "Epoch 470/500\n",
      "148/148 [==============================] - 2s 16ms/step - loss: 0.1576 - binary_crossentropy: 0.0650 - recall: 0.9740 - precision: 0.9774 - accuracy: 0.9757 - val_loss: 0.8244 - val_binary_crossentropy: 0.7322 - val_recall: 0.6860 - val_precision: 0.8294 - val_accuracy: 0.8603\n",
      "Epoch 471/500\n",
      "148/148 [==============================] - 2s 16ms/step - loss: 0.1549 - binary_crossentropy: 0.0626 - recall: 0.9750 - precision: 0.9786 - accuracy: 0.9768 - val_loss: 0.8228 - val_binary_crossentropy: 0.7307 - val_recall: 0.6915 - val_precision: 0.8186 - val_accuracy: 0.8583\n",
      "Epoch 472/500\n",
      "148/148 [==============================] - 2s 16ms/step - loss: 0.1557 - binary_crossentropy: 0.0631 - recall: 0.9741 - precision: 0.9787 - accuracy: 0.9765 - val_loss: 0.8061 - val_binary_crossentropy: 0.7142 - val_recall: 0.6973 - val_precision: 0.8078 - val_accuracy: 0.8562\n",
      "Epoch 473/500\n",
      "148/148 [==============================] - 2s 16ms/step - loss: 0.1570 - binary_crossentropy: 0.0647 - recall: 0.9736 - precision: 0.9780 - accuracy: 0.9758 - val_loss: 0.8246 - val_binary_crossentropy: 0.7327 - val_recall: 0.6830 - val_precision: 0.8307 - val_accuracy: 0.8600\n",
      "Epoch 474/500\n",
      "148/148 [==============================] - 2s 16ms/step - loss: 0.1569 - binary_crossentropy: 0.0646 - recall: 0.9732 - precision: 0.9773 - accuracy: 0.9753 - val_loss: 0.8065 - val_binary_crossentropy: 0.7146 - val_recall: 0.6934 - val_precision: 0.8129 - val_accuracy: 0.8569\n",
      "Epoch 475/500\n",
      "148/148 [==============================] - 2s 16ms/step - loss: 0.1553 - binary_crossentropy: 0.0630 - recall: 0.9739 - precision: 0.9787 - accuracy: 0.9764 - val_loss: 0.8157 - val_binary_crossentropy: 0.7237 - val_recall: 0.6869 - val_precision: 0.8224 - val_accuracy: 0.8584\n",
      "Epoch 476/500\n",
      "148/148 [==============================] - 2s 16ms/step - loss: 0.1589 - binary_crossentropy: 0.0666 - recall: 0.9715 - precision: 0.9779 - accuracy: 0.9748 - val_loss: 0.7990 - val_binary_crossentropy: 0.7070 - val_recall: 0.6950 - val_precision: 0.8067 - val_accuracy: 0.8553\n",
      "Epoch 477/500\n",
      "148/148 [==============================] - 2s 16ms/step - loss: 0.1533 - binary_crossentropy: 0.0610 - recall: 0.9751 - precision: 0.9796 - accuracy: 0.9774 - val_loss: 0.8224 - val_binary_crossentropy: 0.7305 - val_recall: 0.6950 - val_precision: 0.8115 - val_accuracy: 0.8569\n",
      "Epoch 478/500\n",
      "148/148 [==============================] - 2s 16ms/step - loss: 0.1543 - binary_crossentropy: 0.0620 - recall: 0.9751 - precision: 0.9791 - accuracy: 0.9772 - val_loss: 0.8261 - val_binary_crossentropy: 0.7343 - val_recall: 0.6929 - val_precision: 0.8138 - val_accuracy: 0.8571\n",
      "Epoch 479/500\n",
      "148/148 [==============================] - 2s 16ms/step - loss: 0.1576 - binary_crossentropy: 0.0654 - recall: 0.9731 - precision: 0.9779 - accuracy: 0.9756 - val_loss: 0.8240 - val_binary_crossentropy: 0.7322 - val_recall: 0.6902 - val_precision: 0.8167 - val_accuracy: 0.8574\n",
      "Epoch 480/500\n",
      "148/148 [==============================] - 2s 16ms/step - loss: 0.1542 - binary_crossentropy: 0.0622 - recall: 0.9745 - precision: 0.9788 - accuracy: 0.9767 - val_loss: 0.8142 - val_binary_crossentropy: 0.7224 - val_recall: 0.6972 - val_precision: 0.8053 - val_accuracy: 0.8554\n",
      "Epoch 481/500\n",
      "148/148 [==============================] - 2s 16ms/step - loss: 0.1554 - binary_crossentropy: 0.0634 - recall: 0.9736 - precision: 0.9790 - accuracy: 0.9764 - val_loss: 0.8239 - val_binary_crossentropy: 0.7322 - val_recall: 0.6950 - val_precision: 0.8155 - val_accuracy: 0.8581\n",
      "Epoch 482/500\n",
      "148/148 [==============================] - 2s 16ms/step - loss: 0.1548 - binary_crossentropy: 0.0628 - recall: 0.9743 - precision: 0.9792 - accuracy: 0.9768 - val_loss: 0.8140 - val_binary_crossentropy: 0.7223 - val_recall: 0.6943 - val_precision: 0.8115 - val_accuracy: 0.8567\n",
      "Epoch 483/500\n",
      "148/148 [==============================] - 2s 16ms/step - loss: 0.1587 - binary_crossentropy: 0.0666 - recall: 0.9716 - precision: 0.9780 - accuracy: 0.9749 - val_loss: 0.8080 - val_binary_crossentropy: 0.7162 - val_recall: 0.6931 - val_precision: 0.8102 - val_accuracy: 0.8560\n",
      "Epoch 484/500\n",
      "148/148 [==============================] - 2s 16ms/step - loss: 0.1566 - binary_crossentropy: 0.0645 - recall: 0.9730 - precision: 0.9786 - accuracy: 0.9759 - val_loss: 0.8244 - val_binary_crossentropy: 0.7329 - val_recall: 0.6935 - val_precision: 0.8116 - val_accuracy: 0.8565\n",
      "Epoch 485/500\n",
      "148/148 [==============================] - 2s 16ms/step - loss: 0.1539 - binary_crossentropy: 0.0619 - recall: 0.9747 - precision: 0.9803 - accuracy: 0.9776 - val_loss: 0.8286 - val_binary_crossentropy: 0.7370 - val_recall: 0.6967 - val_precision: 0.8174 - val_accuracy: 0.8592\n",
      "Epoch 486/500\n",
      "148/148 [==============================] - 2s 16ms/step - loss: 0.1554 - binary_crossentropy: 0.0635 - recall: 0.9735 - precision: 0.9786 - accuracy: 0.9761 - val_loss: 0.8155 - val_binary_crossentropy: 0.7238 - val_recall: 0.6839 - val_precision: 0.8265 - val_accuracy: 0.8590\n",
      "Epoch 487/500\n",
      "148/148 [==============================] - 2s 16ms/step - loss: 0.1543 - binary_crossentropy: 0.0623 - recall: 0.9738 - precision: 0.9796 - accuracy: 0.9767 - val_loss: 0.8117 - val_binary_crossentropy: 0.7202 - val_recall: 0.6861 - val_precision: 0.8227 - val_accuracy: 0.8583\n",
      "Epoch 488/500\n",
      "148/148 [==============================] - 2s 16ms/step - loss: 0.1529 - binary_crossentropy: 0.0612 - recall: 0.9752 - precision: 0.9797 - accuracy: 0.9775 - val_loss: 0.8321 - val_binary_crossentropy: 0.7406 - val_recall: 0.6985 - val_precision: 0.8074 - val_accuracy: 0.8564\n",
      "Epoch 489/500\n",
      "148/148 [==============================] - 2s 16ms/step - loss: 0.1551 - binary_crossentropy: 0.0634 - recall: 0.9743 - precision: 0.9791 - accuracy: 0.9768 - val_loss: 0.8152 - val_binary_crossentropy: 0.7237 - val_recall: 0.6989 - val_precision: 0.8029 - val_accuracy: 0.8550\n",
      "Epoch 490/500\n",
      "148/148 [==============================] - 2s 16ms/step - loss: 0.1549 - binary_crossentropy: 0.0632 - recall: 0.9735 - precision: 0.9786 - accuracy: 0.9761 - val_loss: 0.8411 - val_binary_crossentropy: 0.7497 - val_recall: 0.6868 - val_precision: 0.8201 - val_accuracy: 0.8577\n",
      "Epoch 491/500\n",
      "148/148 [==============================] - 2s 16ms/step - loss: 0.1535 - binary_crossentropy: 0.0617 - recall: 0.9749 - precision: 0.9791 - accuracy: 0.9771 - val_loss: 0.8176 - val_binary_crossentropy: 0.7262 - val_recall: 0.6938 - val_precision: 0.8144 - val_accuracy: 0.8575\n",
      "Epoch 492/500\n",
      "148/148 [==============================] - 2s 16ms/step - loss: 0.1542 - binary_crossentropy: 0.0626 - recall: 0.9742 - precision: 0.9790 - accuracy: 0.9767 - val_loss: 0.8287 - val_binary_crossentropy: 0.7373 - val_recall: 0.6806 - val_precision: 0.8324 - val_accuracy: 0.8599\n",
      "Epoch 493/500\n",
      "148/148 [==============================] - 2s 16ms/step - loss: 0.1523 - binary_crossentropy: 0.0607 - recall: 0.9751 - precision: 0.9799 - accuracy: 0.9776 - val_loss: 0.8224 - val_binary_crossentropy: 0.7312 - val_recall: 0.6818 - val_precision: 0.8273 - val_accuracy: 0.8587\n",
      "Epoch 494/500\n",
      "148/148 [==============================] - 2s 16ms/step - loss: 0.1553 - binary_crossentropy: 0.0637 - recall: 0.9730 - precision: 0.9785 - accuracy: 0.9758 - val_loss: 0.8188 - val_binary_crossentropy: 0.7274 - val_recall: 0.6888 - val_precision: 0.8217 - val_accuracy: 0.8586\n",
      "Epoch 495/500\n",
      "148/148 [==============================] - 2s 16ms/step - loss: 0.1540 - binary_crossentropy: 0.0625 - recall: 0.9743 - precision: 0.9783 - accuracy: 0.9764 - val_loss: 0.8178 - val_binary_crossentropy: 0.7266 - val_recall: 0.6940 - val_precision: 0.8147 - val_accuracy: 0.8577\n",
      "Epoch 496/500\n",
      "148/148 [==============================] - 2s 16ms/step - loss: 0.1535 - binary_crossentropy: 0.0620 - recall: 0.9740 - precision: 0.9796 - accuracy: 0.9769 - val_loss: 0.8285 - val_binary_crossentropy: 0.7374 - val_recall: 0.7067 - val_precision: 0.7950 - val_accuracy: 0.8541\n",
      "Epoch 497/500\n",
      "148/148 [==============================] - 2s 16ms/step - loss: 0.1544 - binary_crossentropy: 0.0630 - recall: 0.9749 - precision: 0.9785 - accuracy: 0.9767 - val_loss: 0.8296 - val_binary_crossentropy: 0.7385 - val_recall: 0.6947 - val_precision: 0.8122 - val_accuracy: 0.8570\n",
      "Epoch 498/500\n",
      "148/148 [==============================] - 2s 16ms/step - loss: 0.1534 - binary_crossentropy: 0.0621 - recall: 0.9748 - precision: 0.9792 - accuracy: 0.9771 - val_loss: 0.8365 - val_binary_crossentropy: 0.7454 - val_recall: 0.6859 - val_precision: 0.8176 - val_accuracy: 0.8566\n",
      "Epoch 499/500\n",
      "148/148 [==============================] - 2s 16ms/step - loss: 0.1535 - binary_crossentropy: 0.0621 - recall: 0.9741 - precision: 0.9793 - accuracy: 0.9767 - val_loss: 0.8293 - val_binary_crossentropy: 0.7383 - val_recall: 0.6812 - val_precision: 0.8281 - val_accuracy: 0.8588\n",
      "Epoch 500/500\n",
      "148/148 [==============================] - 2s 16ms/step - loss: 0.1548 - binary_crossentropy: 0.0634 - recall: 0.9738 - precision: 0.9789 - accuracy: 0.9764 - val_loss: 0.8076 - val_binary_crossentropy: 0.7165 - val_recall: 0.6920 - val_precision: 0.8175 - val_accuracy: 0.8581\n"
     ]
    }
   ],
   "source": [
    "model_under.compile( optimizer = tf.keras.optimizers.Adam(learning_rate=0.0001), \n",
    "                loss=Loss,\n",
    "                metrics=[Loss, Recall, Precision,'accuracy'])\n",
    "   \n",
    "history_model_under = model_under.fit(X_train_preprocessed_balanced, y_train_balanced, validation_data=(X_test_preprocessed, y_test), epochs=500, batch_size=1024,verbose=1) "
   ]
  },
  {
   "cell_type": "code",
   "execution_count": 27,
   "metadata": {
    "colab": {
     "base_uri": "https://localhost:8080/",
     "height": 295
    },
    "id": "PAt35KaKh_3E",
    "outputId": "bbe5c5c3-ef5a-4ddd-e5a1-c93f1b2ccf89"
   },
   "outputs": [
    {
     "data": {
      "image/png": "[encoded data removed]",
      "text/plain": [
       "<Figure size 432x288 with 1 Axes>"
      ]
     },
     "metadata": {
      "tags": []
     },
     "output_type": "display_data"
    }
   ],
   "source": [
    "plt.plot(history_model_under.history['accuracy']) \n",
    "plt.plot(history_model_under.history['val_accuracy']) \n",
    "plt.title('accuracy') \n",
    "plt.ylabel('accuracy')\n",
    "plt.xlabel('epoch') \n",
    "plt.legend(['train', 'test'], loc='upper left') \n",
    "plt.show()"
   ]
  },
  {
   "cell_type": "code",
   "execution_count": 28,
   "metadata": {
    "colab": {
     "base_uri": "https://localhost:8080/",
     "height": 295
    },
    "id": "DVnr_vTfiBtD",
    "outputId": "e45d69d4-f6ac-42be-96a9-4acb49c7b3a7"
   },
   "outputs": [
    {
     "data": {
      "image/png": "[encoded data removed]",
      "text/plain": [
       "<Figure size 432x288 with 1 Axes>"
      ]
     },
     "metadata": {
      "tags": []
     },
     "output_type": "display_data"
    }
   ],
   "source": [
    "plt.plot(history_model_under.history['loss']) \n",
    "plt.plot(history_model_under.history['val_loss']) \n",
    "plt.title('model loss') \n",
    "plt.ylabel('loss')\n",
    "plt.xlabel('epoch') \n",
    "plt.legend(['train', 'test'], loc='upper left') \n",
    "plt.show()"
   ]
  },
  {
   "cell_type": "code",
   "execution_count": 29,
   "metadata": {
    "id": "a1IjpkLzho1Z"
   },
   "outputs": [],
   "source": [
    "# Predicting the Test set results\n",
    "y_pred_proba_under = model_under.predict(X_test_preprocessed)\n",
    "#Converting probabilities into a binary result\n",
    "y_pred_under = (y_pred_proba_under > 0.5)"
   ]
  },
  {
   "cell_type": "code",
   "execution_count": 30,
   "metadata": {
    "colab": {
     "base_uri": "https://localhost:8080/"
    },
    "id": "x4Z6LIIfh2Vm",
    "outputId": "bd0ad98c-c210-4f26-f393-286a73a25bd4"
   },
   "outputs": [
    {
     "name": "stdout",
     "output_type": "stream",
     "text": [
      "[[30304  2224]\n",
      " [ 4436  9965]]\n",
      "              precision    recall  f1-score   support\n",
      "\n",
      "           0       0.87      0.93      0.90     32528\n",
      "           1       0.82      0.69      0.75     14401\n",
      "\n",
      "    accuracy                           0.86     46929\n",
      "   macro avg       0.84      0.81      0.83     46929\n",
      "weighted avg       0.86      0.86      0.85     46929\n",
      "\n"
     ]
    }
   ],
   "source": [
    "# Making the Confusion Matrix\n",
    "print(confusion_matrix(y_test, y_pred_under))\n",
    "print(classification_report(y_test,y_pred_under))"
   ]
  },
  {
   "cell_type": "code",
   "execution_count": 31,
   "metadata": {
    "colab": {
     "base_uri": "https://localhost:8080/"
    },
    "id": "kui7bOzFVjMW",
    "outputId": "da6edb90-e01a-4345-f136-002820afbb31"
   },
   "outputs": [
    {
     "name": "stdout",
     "output_type": "stream",
     "text": [
      "1467/1467 [==============================] - 5s 3ms/step - loss: 0.8076 - binary_crossentropy: 0.7161 - recall: 0.6920 - precision: 0.8175 - accuracy: 0.8581\n"
     ]
    }
   ],
   "source": [
    "results = model_under.evaluate(X_test_preprocessed, y_test)"
   ]
  },
  {
   "cell_type": "code",
   "execution_count": null,
   "metadata": {
    "colab": {
     "base_uri": "https://localhost:8080/",
     "height": 476
    },
    "id": "3pUes6qciKao",
    "outputId": "f4047546-742a-4c26-9f46-876c08ee7217"
   },
   "outputs": [
    {
     "data": {
      "image/png": "[encoded data removed]",
      "text/plain": [
       "<Figure size 576x504 with 2 Axes>"
      ]
     },
     "metadata": {
      "tags": []
     },
     "output_type": "display_data"
    }
   ],
   "source": [
    "import seaborn as sns\n",
    "conf_matrix = confusion_matrix(y_test, y_pred_under)\n",
    "\n",
    "group_names = ['True Neg','False Pos','False Neg','True Pos']\n",
    "group_counts = [\"{0:0.0f}\".format(value) for value in\n",
    "                conf_matrix.flatten()]\n",
    "group_percentages = [\"{0:.2%}\".format(value) for value in\n",
    "                     conf_matrix.flatten()/np.sum(conf_matrix)]\n",
    "labels = [f\"{v1}\\n{v2}\\n{v3}\" for v1, v2, v3 in\n",
    "          zip(group_names,group_counts,group_percentages)]\n",
    "labels = np.asarray(labels).reshape(2,2)\n",
    "sns.set(font_scale=1.6)\n",
    "fig, ax = plt.subplots(figsize=(8,7)) \n",
    "sns.heatmap(conf_matrix, annot=labels, fmt='', cmap='Blues',annot_kws={\"size\": 16})\n",
    "plt.title('Confusion Matrix: NN', fontsize = 16); # title with fontsize 20\n",
    "plt.xlabel('Predicted', fontsize = 16);\n",
    "plt.ylabel('Actual', fontsize = 16);\n",
    "#plt.savefig('plots/confusion_matrix_NN_under.png',dpi=300)"
   ]
  },
  {
   "cell_type": "code",
   "execution_count": 36,
   "metadata": {
    "id": "PfXpnhzGieKb"
   },
   "outputs": [],
   "source": [
    "y_pred_under2 = (y_pred_proba_under > 0.3)"
   ]
  },
  {
   "cell_type": "code",
   "execution_count": 37,
   "metadata": {
    "colab": {
     "base_uri": "https://localhost:8080/"
    },
    "id": "pRKTamcIihun",
    "outputId": "90fea6a8-3183-4a6d-d653-488233c6c302"
   },
   "outputs": [
    {
     "name": "stdout",
     "output_type": "stream",
     "text": [
      "[[29199  3329]\n",
      " [ 3954 10447]]\n",
      "              precision    recall  f1-score   support\n",
      "\n",
      "           0       0.88      0.90      0.89     32528\n",
      "           1       0.76      0.73      0.74     14401\n",
      "\n",
      "    accuracy                           0.84     46929\n",
      "   macro avg       0.82      0.81      0.82     46929\n",
      "weighted avg       0.84      0.84      0.84     46929\n",
      "\n"
     ]
    }
   ],
   "source": [
    "# Making the Confusion Matrix\n",
    "print(confusion_matrix(y_test, y_pred_under2))\n",
    "print(classification_report(y_test,y_pred_under2))"
   ]
  },
  {
   "cell_type": "code",
   "execution_count": null,
   "metadata": {
    "id": "ej9HyzZSwmLx"
   },
   "outputs": [],
   "source": []
  }
 ],
 "metadata": {
  "accelerator": "GPU",
  "colab": {
   "name": "Collab_mit_ANN-3-Copy1.ipynb",
   "provenance": [],
   "toc_visible": true
  },
  "kernelspec": {
   "display_name": "Python 3",
   "language": "python",
   "name": "python3"
  },
  "language_info": {
   "codemirror_mode": {
    "name": "ipython",
    "version": 3
   },
   "file_extension": ".py",
   "mimetype": "text/x-python",
   "name": "python",
   "nbconvert_exporter": "python",
   "pygments_lexer": "ipython3",
   "version": "3.8.5"
  }
 },
 "nbformat": 4,
 "nbformat_minor": 4
}
