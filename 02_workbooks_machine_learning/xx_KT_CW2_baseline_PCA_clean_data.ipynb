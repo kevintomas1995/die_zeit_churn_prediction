{
 "cells": [
  {
   "cell_type": "markdown",
   "metadata": {},
   "source": [
    "Data preprocessing from other group (Baseline_Model.ipynb)"
   ]
  },
  {
   "cell_type": "code",
   "execution_count": 1,
   "metadata": {},
   "outputs": [],
   "source": [
    "# data analysis and wrangling\n",
    "import pandas as pd\n",
    "import numpy as np\n",
    "import math\n",
    "import IPython\n",
    "\n",
    "\n",
    "# visualization\n",
    "import seaborn as sns\n",
    "sns.set(style=\"white\")  \n",
    "import matplotlib\n",
    "import matplotlib.pyplot as plt\n",
    "%matplotlib inline\n",
    "plt.style.use('ggplot')\n",
    "from pandas.plotting import scatter_matrix\n",
    "\n",
    "# warnings handler\n",
    "import warnings\n",
    "warnings.filterwarnings(\"ignore\")\n",
    "\n",
    "# Machine Learning Libraries\n",
    "from sklearn.metrics import confusion_matrix, classification_report\n",
    "from sklearn.metrics import fbeta_score, accuracy_score, f1_score, recall_score, precision_score\n",
    "from sklearn.linear_model import LogisticRegression\n",
    "from sklearn.neighbors import KNeighborsClassifier\n",
    "from sklearn.svm import SVC\n",
    "from sklearn.tree import DecisionTreeClassifier\n",
    "from sklearn.ensemble import RandomForestClassifier\n",
    "#from xgboost import XGBClassifier\n",
    "from sklearn.ensemble import AdaBoostClassifier\n",
    "from sklearn.model_selection import GridSearchCV\n",
    "from sklearn.metrics import make_scorer \n",
    "from sklearn.model_selection import KFold\n",
    "from sklearn.metrics import roc_curve\n",
    "from sklearn.metrics import roc_auc_score\n",
    "from sklearn.decomposition import PCA\n",
    "\n",
    "# Pipeline\n",
    "from sklearn.model_selection import train_test_split, cross_val_predict\n",
    "from sklearn.pipeline import Pipeline\n",
    "from sklearn.preprocessing import StandardScaler, OneHotEncoder, MinMaxScaler\n",
    "from sklearn.compose import ColumnTransformer\n",
    "from sklearn.impute import SimpleImputer"
   ]
  },
  {
   "cell_type": "code",
   "execution_count": 2,
   "metadata": {},
   "outputs": [],
   "source": [
    "import statsmodels.api as sm"
   ]
  },
  {
   "cell_type": "code",
   "execution_count": 25,
   "metadata": {},
   "outputs": [],
   "source": [
    "df = pd.read_csv(\"/Users/kevintomas/Desktop/nf-sep-20/capstone kram/Data/no_dupli_and_outl.csv\")"
   ]
  },
  {
   "cell_type": "code",
   "execution_count": 26,
   "metadata": {},
   "outputs": [],
   "source": [
    "df.drop(\"Unnamed: 0\", axis=1, inplace=True)"
   ]
  },
  {
   "cell_type": "code",
   "execution_count": 27,
   "metadata": {},
   "outputs": [
    {
     "name": "stdout",
     "output_type": "stream",
     "text": [
      "(143053, 169)\n",
      "(143053, 161)\n"
     ]
    }
   ],
   "source": [
    "print(df.shape)\n",
    "df.drop([\"avg_churn\", \"ort\", \"date_x\", \"kuendigungs_eingangs_datum\", \"abo_registrierung_min\", \"training_set\", \"liefer_beginn_evt\", \"nl_registrierung_min\"], axis=1, inplace=True)\n",
    "print(df.shape)"
   ]
  },
  {
   "cell_type": "code",
   "execution_count": 28,
   "metadata": {},
   "outputs": [],
   "source": [
    "df=df.dropna()"
   ]
  },
  {
   "cell_type": "code",
   "execution_count": 29,
   "metadata": {},
   "outputs": [
    {
     "data": {
      "text/plain": [
       "(143041, 160)"
      ]
     },
     "execution_count": 29,
     "metadata": {},
     "output_type": "execute_result"
    }
   ],
   "source": [
    "y = df['churn']\n",
    "X = df.drop('churn', axis = 1)\n",
    "X.shape"
   ]
  },
  {
   "cell_type": "markdown",
   "metadata": {},
   "source": [
    "**Dummies**"
   ]
  },
  {
   "cell_type": "code",
   "execution_count": 30,
   "metadata": {},
   "outputs": [],
   "source": [
    "other = [\"zon_che_opt_in\", \n",
    " \"zon_sit_opt_in\",\n",
    " \"zon_zp_grey\",\n",
    " \"zon_premium\",\n",
    " \"zon_boa\",\n",
    " \"zon_kommentar\",\n",
    " \"zon_sonstige\",\n",
    " \"zon_zp_red\",\n",
    " \"zon_rawr\",\n",
    " \"zon_community\",\n",
    " \"zon_app_sonstige\",\n",
    " \"zon_schach\",\n",
    " \"zon_blog_kommentare\",\n",
    " \"zon_quiz\",\n",
    " \"nl_zeitbrief\",\n",
    " \"nl_zeitshop\",\n",
    " \"nl_zeitverlag_hamburg\",\n",
    " \"nl_fdz_organisch\"]"
   ]
  },
  {
   "cell_type": "code",
   "execution_count": 31,
   "metadata": {},
   "outputs": [],
   "source": [
    "categoric_features = list(X.columns[X.dtypes==object]) + other"
   ]
  },
  {
   "cell_type": "code",
   "execution_count": 32,
   "metadata": {},
   "outputs": [],
   "source": [
    "dummies = pd.get_dummies(X, columns=categoric_features, drop_first=True)"
   ]
  },
  {
   "cell_type": "markdown",
   "metadata": {},
   "source": [
    "**Scaling**"
   ]
  },
  {
   "cell_type": "code",
   "execution_count": 33,
   "metadata": {},
   "outputs": [],
   "source": [
    "numeric_features = ['lesedauer',\n",
    " 'shop_kauf',\n",
    " 'cnt_abo',\n",
    " 'cnt_abo_diezeit',\n",
    " 'cnt_abo_diezeit_digital',\n",
    " 'cnt_abo_magazin',\n",
    " 'cnt_umwandlungsstatus2_dkey',\n",
    " 'nl_blacklist_dum',\n",
    " 'nl_bounced_dum',\n",
    " 'nl_aktivitaet',\n",
    " 'nl_sperrliste_dum',\n",
    " 'nl_opt_in_dum',\n",
    " 'received_anzahl_1w',\n",
    " 'received_anzahl_1m',\n",
    " 'received_anzahl_3m',\n",
    " 'received_anzahl_6m',\n",
    " 'opened_anzahl_1w',\n",
    " 'opened_anzahl_1m',\n",
    " 'opened_anzahl_3m',\n",
    " 'openedanzahl_6m',\n",
    " 'clicked_anzahl_1w',\n",
    " 'clicked_anzahl_1m',\n",
    " 'clicked_anzahl_3m',\n",
    " 'clicked_anzahl_6m',\n",
    " 'unsubscribed_anzahl_1w',\n",
    " 'unsubscribed_anzahl_1m',\n",
    " 'unsubscribed_anzahl_3m',\n",
    " 'unsubscribed_anzahl_6m',\n",
    " 'openrate_1w',\n",
    " 'clickrate_1w',\n",
    " 'openrate_1m',\n",
    " 'clickrate_1m',\n",
    " 'openrate_3m',\n",
    " 'clickrate_3m',\n",
    " 'received_anzahl_bestandskunden_1w',\n",
    " 'received_anzahl_bestandskunden_1m',\n",
    " 'received_anzahl_bestandskunden_3m',\n",
    " 'received_anzahl_bestandskunden_6m',\n",
    " 'opened_anzahl_bestandskunden_1w',\n",
    " 'opened_anzahl_bestandskunden_1m',\n",
    " 'opened_anzahl_bestandskunden_3m',\n",
    " 'openedanzahl_bestandskunden_6m',\n",
    " 'clicked_anzahl_bestandskunden_1w',\n",
    " 'clicked_anzahl_bestandskunden_1m',\n",
    " 'clicked_anzahl_bestandskunden_3m',\n",
    " 'clicked_anzahl_bestandskunden_6m',\n",
    " 'unsubscribed_anzahl_bestandskunden_1w',\n",
    " 'unsubscribed_anzahl_bestandskunden_1m',\n",
    " 'unsubscribed_anzahl_bestandskunden_3m',\n",
    " 'unsubscribed_anzahl_bestandskunden_6m',\n",
    " 'openrate_bestandskunden_1w',\n",
    " 'clickrate_bestandskunden_1w',\n",
    " 'openrate_bestandskunden_1m',\n",
    " 'clickrate_bestandskunden_1m',\n",
    " 'openrate_bestandskunden_3m',\n",
    " 'clickrate_bestandskunden_3m',\n",
    " 'received_anzahl_produktnews_1w',\n",
    " 'received_anzahl_produktnews_1m',\n",
    " 'received_anzahl_produktnews_3m',\n",
    " 'received_anzahl_produktnews_6m',\n",
    " 'opened_anzahl_produktnews_1w',\n",
    " 'opened_anzahl_produktnews_1m',\n",
    " 'opened_anzahl_produktnews_3m',\n",
    " 'openedanzahl_produktnews_6m',\n",
    " 'clicked_anzahl_produktnews_1w',\n",
    " 'clicked_anzahl_produktnews_1m',\n",
    " 'clicked_anzahl_produktnews_3m',\n",
    " 'clicked_anzahl_produktnews_6m',\n",
    " 'unsubscribed_anzahl_produktnews_1w',\n",
    " 'unsubscribed_anzahl_produktnews_1m',\n",
    " 'unsubscribed_anzahl_produktnews_3m',\n",
    " 'unsubscribed_anzahl_produktnews_6m',\n",
    " 'openrate_produktnews_1w',\n",
    " 'clickrate_produktnews_1w',\n",
    " 'openrate_produktnews_1m',\n",
    " 'clickrate_produktnews_1m',\n",
    " 'openrate_produktnews_3m',\n",
    " 'clickrate_produktnews_3m',\n",
    " 'received_anzahl_hamburg_1w',\n",
    " 'received_anzahl_hamburg_1m',\n",
    " 'received_anzahl_hamburg_3m',\n",
    " 'received_anzahl_hamburg_6m',\n",
    " 'opened_anzahl_hamburg_1w',\n",
    " 'opened_anzahl_hamburg_1m',\n",
    " 'opened_anzahl_hamburg_3m',\n",
    " 'openedanzahl_hamburg_6m',\n",
    " 'clicked_anzahl_hamburg_1w',\n",
    " 'clicked_anzahl_hamburg_1m',\n",
    " 'clicked_anzahl_hamburg_3m',\n",
    " 'clicked_anzahl_hamburg_6m',\n",
    " 'unsubscribed_anzahl_hamburg_1w',\n",
    " 'unsubscribed_anzahl_hamburg_1m',\n",
    " 'unsubscribed_anzahl_hamburg_3m',\n",
    " 'unsubscribed_anzahl_hamburg_6m',\n",
    " 'openrate_hamburg_1w',\n",
    " 'clickrate_hamburg_1w',\n",
    " 'openrate_hamburg_1m',\n",
    " 'clickrate_hamburg_1m',\n",
    " 'openrate_hamburg_3m',\n",
    " 'clickrate_hamburg_3m',\n",
    " 'received_anzahl_zeitbrief_1w',\n",
    " 'received_anzahl_zeitbrief_1m',\n",
    " 'received_anzahl_zeitbrief_3m',\n",
    " 'received_anzahl_zeitbrief_6m',\n",
    " 'opened_anzahl_zeitbrief_1w',\n",
    " 'opened_anzahl_zeitbrief_1m',\n",
    " 'opened_anzahl_zeitbrief_3m',\n",
    " 'openedanzahl_zeitbrief_6m',\n",
    " 'clicked_anzahl_zeitbrief_1w',\n",
    " 'clicked_anzahl_zeitbrief_1m',\n",
    " 'clicked_anzahl_zeitbrief_3m',\n",
    " 'clicked_anzahl_zeitbrief_6m',\n",
    " 'unsubscribed_anzahl_zeitbrief_1w',\n",
    " 'unsubscribed_anzahl_zeitbrief_1m',\n",
    " 'unsubscribed_anzahl_zeitbrief_3m',\n",
    " 'unsubscribed_anzahl_zeitbrief_6m',\n",
    " 'openrate_zeitbrief_1w',\n",
    " 'clickrate_zeitbrief_1w',\n",
    " 'openrate_zeitbrief_1m',\n",
    " 'clickrate_zeitbrief_1m',\n",
    " 'openrate_zeitbrief_3m',\n",
    " 'clickrate_zeitbrief_3m']"
   ]
  },
  {
   "cell_type": "code",
   "execution_count": 34,
   "metadata": {},
   "outputs": [],
   "source": [
    "scaler = StandardScaler()"
   ]
  },
  {
   "cell_type": "code",
   "execution_count": 35,
   "metadata": {},
   "outputs": [],
   "source": [
    "X_scaled = scaler.fit_transform(dummies[numeric_features])"
   ]
  },
  {
   "cell_type": "code",
   "execution_count": 36,
   "metadata": {},
   "outputs": [],
   "source": [
    "X_preprocessed = np.concatenate([X_scaled, dummies.drop(numeric_features, axis=1)], axis=1)"
   ]
  },
  {
   "cell_type": "markdown",
   "metadata": {},
   "source": [
    "**Splitting**"
   ]
  },
  {
   "cell_type": "code",
   "execution_count": 37,
   "metadata": {},
   "outputs": [],
   "source": [
    "X_train, X_test, y_train, y_test = train_test_split(X_preprocessed, y, test_size = .3, random_state=25)"
   ]
  },
  {
   "cell_type": "code",
   "execution_count": 38,
   "metadata": {},
   "outputs": [
    {
     "data": {
      "text/plain": [
       "(100128, 999)"
      ]
     },
     "execution_count": 38,
     "metadata": {},
     "output_type": "execute_result"
    }
   ],
   "source": [
    "X_train.shape"
   ]
  },
  {
   "cell_type": "markdown",
   "metadata": {},
   "source": [
    "**PCA**"
   ]
  },
  {
   "cell_type": "code",
   "execution_count": 39,
   "metadata": {},
   "outputs": [],
   "source": [
    "pca = PCA(n_components=None)"
   ]
  },
  {
   "cell_type": "code",
   "execution_count": 40,
   "metadata": {},
   "outputs": [],
   "source": [
    "X_train_scaled_pca  = pca.fit(X_train)"
   ]
  },
  {
   "cell_type": "code",
   "execution_count": 41,
   "metadata": {},
   "outputs": [],
   "source": [
    "X_train_trans_pca = pca.transform(X_train)"
   ]
  },
  {
   "cell_type": "code",
   "execution_count": 42,
   "metadata": {},
   "outputs": [],
   "source": [
    "pca_explained_var = pca.explained_variance_ratio_\n",
    "\n",
    "cum_explaiend_var = pca_explained_var.cumsum()"
   ]
  },
  {
   "cell_type": "code",
   "execution_count": 44,
   "metadata": {},
   "outputs": [
    {
     "name": "stdout",
     "output_type": "stream",
     "text": [
      "Number of Principal Components that explain >=95% of Variance:  74\n",
      "Total Variance Explained by 74 components: 95.10570746032604%\n"
     ]
    }
   ],
   "source": [
    "sum_variance, component_count = 0, 0\n",
    "while sum_variance < 0.95:\n",
    "    sum_variance += pca.explained_variance_ratio_[component_count]\n",
    "    component_count += 1\n",
    "    \n",
    "print('Number of Principal Components that explain >=95% of Variance: ', component_count)\n",
    "print('Total Variance Explained by '+str(component_count)+' components:', str(sum_variance*100)+'%')"
   ]
  },
  {
   "cell_type": "markdown",
   "metadata": {},
   "source": [
    "**Modelling with 38 components explaining 85% of the variance**"
   ]
  },
  {
   "cell_type": "code",
   "execution_count": 45,
   "metadata": {},
   "outputs": [
    {
     "data": {
      "text/plain": [
       "PCA(n_components=38)"
      ]
     },
     "execution_count": 45,
     "metadata": {},
     "output_type": "execute_result"
    }
   ],
   "source": [
    "pca = PCA(n_components=38)\n",
    "pca.fit(X_train)"
   ]
  },
  {
   "cell_type": "code",
   "execution_count": 46,
   "metadata": {},
   "outputs": [],
   "source": [
    "X_train_pca = pca.transform(X_train)\n",
    "X_test_pca = pca.transform(X_test)"
   ]
  },
  {
   "cell_type": "code",
   "execution_count": 47,
   "metadata": {},
   "outputs": [],
   "source": [
    "X_train_pca_cst = sm.add_constant(X_train_pca)\n",
    "X_test_pca_cst = sm.add_constant(X_test_pca)"
   ]
  },
  {
   "cell_type": "markdown",
   "metadata": {},
   "source": [
    "Training"
   ]
  },
  {
   "cell_type": "code",
   "execution_count": 48,
   "metadata": {},
   "outputs": [],
   "source": [
    "model = LogisticRegression().fit(X_train_pca_cst, y_train)"
   ]
  },
  {
   "cell_type": "code",
   "execution_count": 49,
   "metadata": {},
   "outputs": [],
   "source": [
    "y_pred_train = model.predict(X_train_pca_cst)\n",
    "y_pred_test = model.predict(X_test_pca_cst)"
   ]
  },
  {
   "cell_type": "code",
   "execution_count": 50,
   "metadata": {},
   "outputs": [
    {
     "name": "stdout",
     "output_type": "stream",
     "text": [
      "Training Set Accuracy: 72.64101949504635%\n",
      "Testing Set Accuracy: 72.3254025586652%\n",
      "Training Set Recall: 23.029961179866618%\n",
      "Testing Set Recall: 23.58912203620938%\n",
      "Training Set Precision: 62.32378557959953%\n",
      "Testing Set Precision: 63.512135427289415%\n"
     ]
    }
   ],
   "source": [
    "train_score = accuracy_score(y_train, y_pred_train)*100\n",
    "test_score = accuracy_score(y_test, y_pred_test)*100\n",
    "recall_train = recall_score(y_train, y_pred_train)*100\n",
    "recall_test = recall_score(y_test, y_pred_test)*100\n",
    "precision_train = precision_score(y_train, y_pred_train)*100\n",
    "precision_test = precision_score(y_test, y_pred_test)*100\n",
    "\n",
    "\n",
    "print(\"Training Set Accuracy:\",str(train_score)+'%')\n",
    "print(\"Testing Set Accuracy:\",str(test_score)+'%')\n",
    "print(\"Training Set Recall:\",str(recall_train)+'%')\n",
    "print(\"Testing Set Recall:\",str(recall_test)+'%')\n",
    "print(\"Training Set Precision:\",str(precision_train)+'%')\n",
    "print(\"Testing Set Precision:\",str(precision_test)+'%')"
   ]
  },
  {
   "cell_type": "markdown",
   "metadata": {},
   "source": [
    "**Modelling with 74 components explaining 95% of the variance**"
   ]
  },
  {
   "cell_type": "code",
   "execution_count": 51,
   "metadata": {},
   "outputs": [
    {
     "data": {
      "text/plain": [
       "PCA(n_components=74)"
      ]
     },
     "execution_count": 51,
     "metadata": {},
     "output_type": "execute_result"
    }
   ],
   "source": [
    "pca = PCA(n_components=74)\n",
    "pca.fit(X_train)"
   ]
  },
  {
   "cell_type": "code",
   "execution_count": 52,
   "metadata": {},
   "outputs": [],
   "source": [
    "X_train_pca = pca.transform(X_train)\n",
    "X_test_pca = pca.transform(X_test)"
   ]
  },
  {
   "cell_type": "code",
   "execution_count": 53,
   "metadata": {},
   "outputs": [],
   "source": [
    "X_train_pca_cst = sm.add_constant(X_train_pca)\n",
    "X_test_pca_cst = sm.add_constant(X_test_pca)"
   ]
  },
  {
   "cell_type": "markdown",
   "metadata": {},
   "source": [
    "Training"
   ]
  },
  {
   "cell_type": "code",
   "execution_count": 54,
   "metadata": {},
   "outputs": [],
   "source": [
    "model = LogisticRegression().fit(X_train_pca_cst, y_train)"
   ]
  },
  {
   "cell_type": "code",
   "execution_count": 55,
   "metadata": {},
   "outputs": [],
   "source": [
    "y_pred_train = model.predict(X_train_pca_cst)\n",
    "y_pred_test = model.predict(X_test_pca_cst)"
   ]
  },
  {
   "cell_type": "code",
   "execution_count": 56,
   "metadata": {},
   "outputs": [
    {
     "name": "stdout",
     "output_type": "stream",
     "text": [
      "Training Set Accuracy: 73.62076542026207%\n",
      "Testing Set Accuracy: 73.3600540628714%\n",
      "Training Set Recall: 31.076014466306116%\n",
      "Testing Set Recall: 31.63396712370275%\n",
      "Training Set Precision: 62.41503398640543%\n",
      "Testing Set Precision: 63.436123348017624%\n"
     ]
    }
   ],
   "source": [
    "train_score = accuracy_score(y_train, y_pred_train)*100\n",
    "test_score = accuracy_score(y_test, y_pred_test)*100\n",
    "recall_train = recall_score(y_train, y_pred_train)*100\n",
    "recall_test = recall_score(y_test, y_pred_test)*100\n",
    "precision_train = precision_score(y_train, y_pred_train)*100\n",
    "precision_test = precision_score(y_test, y_pred_test)*100\n",
    "\n",
    "\n",
    "print(\"Training Set Accuracy:\",str(train_score)+'%')\n",
    "print(\"Testing Set Accuracy:\",str(test_score)+'%')\n",
    "print(\"Training Set Recall:\",str(recall_train)+'%')\n",
    "print(\"Testing Set Recall:\",str(recall_test)+'%')\n",
    "print(\"Training Set Precision:\",str(precision_train)+'%')\n",
    "print(\"Testing Set Precision:\",str(precision_test)+'%')"
   ]
  },
  {
   "cell_type": "code",
   "execution_count": null,
   "metadata": {},
   "outputs": [],
   "source": []
  }
 ],
 "metadata": {
  "kernelspec": {
   "display_name": "Python 3",
   "language": "python",
   "name": "python3"
  },
  "language_info": {
   "codemirror_mode": {
    "name": "ipython",
    "version": 3
   },
   "file_extension": ".py",
   "mimetype": "text/x-python",
   "name": "python",
   "nbconvert_exporter": "python",
   "pygments_lexer": "ipython3",
   "version": "3.8.5"
  }
 },
 "nbformat": 4,
 "nbformat_minor": 4
}
