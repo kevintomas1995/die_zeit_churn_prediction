{
 "cells": [
  {
   "cell_type": "markdown",
   "metadata": {},
   "source": [
    "Removed some features + Balance + CrossVal"
   ]
  },
  {
   "cell_type": "code",
   "execution_count": 1,
   "metadata": {},
   "outputs": [],
   "source": [
    "# data analysis and wrangling\n",
    "import pandas as pd\n",
    "import numpy as np\n",
    "import math\n",
    "import IPython\n",
    "\n",
    "\n",
    "# visualization\n",
    "import seaborn as sns\n",
    "sns.set(style=\"white\")  \n",
    "import matplotlib\n",
    "import matplotlib.pyplot as plt\n",
    "%matplotlib inline\n",
    "plt.style.use('ggplot')\n",
    "from pandas.plotting import scatter_matrix\n",
    "\n",
    "# warnings handler\n",
    "import warnings\n",
    "warnings.filterwarnings(\"ignore\")\n",
    "\n",
    "# Machine Learning Libraries\n",
    "from sklearn.metrics import confusion_matrix, classification_report\n",
    "from sklearn.metrics import fbeta_score, accuracy_score, f1_score, recall_score, precision_score\n",
    "from sklearn.linear_model import LogisticRegression\n",
    "from sklearn.neighbors import KNeighborsClassifier\n",
    "from sklearn.svm import SVC\n",
    "from sklearn.tree import DecisionTreeClassifier\n",
    "from sklearn.ensemble import RandomForestClassifier\n",
    "#from xgboost import XGBClassifier\n",
    "from sklearn.ensemble import AdaBoostClassifier\n",
    "from sklearn.model_selection import GridSearchCV\n",
    "from sklearn.metrics import make_scorer \n",
    "from sklearn.model_selection import KFold\n",
    "from sklearn.metrics import roc_curve\n",
    "from sklearn.metrics import roc_auc_score\n",
    "from sklearn.decomposition import PCA\n",
    "\n",
    "# Pipeline\n",
    "from sklearn.model_selection import train_test_split, cross_val_predict\n",
    "from sklearn.pipeline import Pipeline\n",
    "from sklearn.preprocessing import StandardScaler, OneHotEncoder, MinMaxScaler\n",
    "from sklearn.compose import ColumnTransformer\n",
    "from sklearn.impute import SimpleImputer"
   ]
  },
  {
   "cell_type": "code",
   "execution_count": 2,
   "metadata": {},
   "outputs": [],
   "source": [
    "import statsmodels.api as sm"
   ]
  },
  {
   "cell_type": "code",
   "execution_count": 3,
   "metadata": {},
   "outputs": [],
   "source": [
    "df = pd.read_csv(\"/Users/kevintomas/Desktop/nf-sep-20/capstone kram/Data/no_dupli_and_outl.csv\")"
   ]
  },
  {
   "cell_type": "code",
   "execution_count": 4,
   "metadata": {},
   "outputs": [],
   "source": [
    "df.drop(\"Unnamed: 0\", axis=1, inplace=True)"
   ]
  },
  {
   "cell_type": "code",
   "execution_count": 5,
   "metadata": {},
   "outputs": [
    {
     "name": "stdout",
     "output_type": "stream",
     "text": [
      "(143053, 169)\n",
      "(143053, 68)\n"
     ]
    }
   ],
   "source": [
    "print(df.shape)\n",
    "df.drop([\"avg_churn\", \n",
    " \"ort\", \n",
    " \"date_x\", \n",
    " \"kuendigungs_eingangs_datum\", \n",
    " \"abo_registrierung_min\", \n",
    " \"training_set\", \n",
    " \"liefer_beginn_evt\", \n",
    " \"nl_registrierung_min\",\n",
    " \"zon_rawr\",\n",
    " \"zon_community\",\n",
    " \"zon_app_sonstige\",\n",
    " \"zon_schach\",\n",
    " \"zon_blog_kommentare\",\n",
    " \"zon_quiz\",\n",
    " \"zon_boa\",\n",
    " \"zon_kommentar\",\n",
    " 'plz_1',\n",
    " 'plz_2',\n",
    " 'cnt_abo_diezeit',\n",
    " 'cnt_abo_diezeit_digital',\n",
    " 'cnt_abo_magazin',\n",
    " 'received_anzahl_1w',\n",
    " 'received_anzahl_1m',\n",
    " 'received_anzahl_3m',\n",
    " 'opened_anzahl_1w',\n",
    " 'opened_anzahl_1m',\n",
    " 'opened_anzahl_3m',\n",
    " 'clicked_anzahl_1w',\n",
    " 'clicked_anzahl_1m',\n",
    " 'clicked_anzahl_3m',\n",
    " 'unsubscribed_anzahl_1w',\n",
    " 'unsubscribed_anzahl_1m',\n",
    " 'unsubscribed_anzahl_3m',\n",
    " 'openrate_1w',\n",
    " 'clickrate_1w',\n",
    " 'openrate_1m',\n",
    " 'clickrate_1m',\n",
    " 'received_anzahl_bestandskunden_1w',\n",
    " 'received_anzahl_bestandskunden_1m',\n",
    " 'received_anzahl_bestandskunden_3m',\n",
    " 'opened_anzahl_bestandskunden_1w',\n",
    " 'opened_anzahl_bestandskunden_1m',\n",
    " 'opened_anzahl_bestandskunden_3m',\n",
    " 'clicked_anzahl_bestandskunden_1w',\n",
    " 'clicked_anzahl_bestandskunden_1m',\n",
    " 'clicked_anzahl_bestandskunden_3m',\n",
    " 'unsubscribed_anzahl_bestandskunden_1w',\n",
    " 'unsubscribed_anzahl_bestandskunden_1m',\n",
    " 'unsubscribed_anzahl_bestandskunden_3m',\n",
    " 'openrate_bestandskunden_1w',\n",
    " 'clickrate_bestandskunden_1w',\n",
    " 'openrate_bestandskunden_1m',\n",
    " 'clickrate_bestandskunden_1m',\n",
    " 'received_anzahl_produktnews_1w',\n",
    " 'received_anzahl_produktnews_1m',\n",
    " 'received_anzahl_produktnews_3m',\n",
    " 'opened_anzahl_produktnews_1w',\n",
    " 'opened_anzahl_produktnews_1m',\n",
    " 'opened_anzahl_produktnews_3m',\n",
    " 'clicked_anzahl_produktnews_1w',\n",
    " 'clicked_anzahl_produktnews_1m',\n",
    " 'clicked_anzahl_produktnews_3m',\n",
    " 'unsubscribed_anzahl_produktnews_1w',\n",
    " 'unsubscribed_anzahl_produktnews_1m',\n",
    " 'unsubscribed_anzahl_produktnews_3m',\n",
    " 'openrate_produktnews_1w',\n",
    " 'clickrate_produktnews_1w',\n",
    " 'openrate_produktnews_1m',\n",
    " 'clickrate_produktnews_1m',\n",
    " 'received_anzahl_hamburg_1w',\n",
    " 'received_anzahl_hamburg_1m',\n",
    " 'received_anzahl_hamburg_3m',\n",
    " 'opened_anzahl_hamburg_1w',\n",
    " 'opened_anzahl_hamburg_1m',\n",
    " 'opened_anzahl_hamburg_3m',\n",
    " 'clicked_anzahl_hamburg_1w',\n",
    " 'clicked_anzahl_hamburg_1m',\n",
    " 'clicked_anzahl_hamburg_3m',\n",
    " 'unsubscribed_anzahl_hamburg_1w',\n",
    " 'unsubscribed_anzahl_hamburg_1m',\n",
    " 'unsubscribed_anzahl_hamburg_3m',\n",
    " 'openrate_hamburg_1w',\n",
    " 'clickrate_hamburg_1w',\n",
    " 'openrate_hamburg_1m',\n",
    " 'clickrate_hamburg_1m',\n",
    " 'received_anzahl_zeitbrief_1w',\n",
    " 'received_anzahl_zeitbrief_1m',\n",
    " 'received_anzahl_zeitbrief_3m',\n",
    " 'opened_anzahl_zeitbrief_1w',\n",
    " 'opened_anzahl_zeitbrief_1m',\n",
    " 'opened_anzahl_zeitbrief_3m',\n",
    " 'clicked_anzahl_zeitbrief_1w',\n",
    " 'clicked_anzahl_zeitbrief_1m',\n",
    " 'clicked_anzahl_zeitbrief_3m',\n",
    " 'unsubscribed_anzahl_zeitbrief_1w',\n",
    " 'unsubscribed_anzahl_zeitbrief_1m',\n",
    " 'unsubscribed_anzahl_zeitbrief_3m',\n",
    " 'openrate_zeitbrief_1w',\n",
    " 'clickrate_zeitbrief_1w',\n",
    " 'openrate_zeitbrief_1m',\n",
    " 'clickrate_zeitbrief_1m',], axis=1, inplace=True)\n",
    "print(df.shape)"
   ]
  },
  {
   "cell_type": "code",
   "execution_count": 6,
   "metadata": {},
   "outputs": [],
   "source": [
    "df=df.dropna()"
   ]
  },
  {
   "cell_type": "markdown",
   "metadata": {},
   "source": [
    "**Balancing**"
   ]
  },
  {
   "cell_type": "code",
   "execution_count": 7,
   "metadata": {},
   "outputs": [],
   "source": [
    "count_class_0, count_class_1 = df.churn.value_counts()"
   ]
  },
  {
   "cell_type": "code",
   "execution_count": 8,
   "metadata": {},
   "outputs": [],
   "source": [
    "churn_class_0 = df[df['churn'] == 0]\n",
    "churn_class_1 = df[df['churn'] == 1]"
   ]
  },
  {
   "cell_type": "markdown",
   "metadata": {},
   "source": [
    "**Upsampling**"
   ]
  },
  {
   "cell_type": "code",
   "execution_count": 9,
   "metadata": {},
   "outputs": [],
   "source": [
    "churn_class_1_up = churn_class_1.sample(count_class_0, replace=True)"
   ]
  },
  {
   "cell_type": "code",
   "execution_count": 10,
   "metadata": {},
   "outputs": [],
   "source": [
    "df = pd.concat([churn_class_1_up, churn_class_0], axis=0)"
   ]
  },
  {
   "cell_type": "code",
   "execution_count": 180,
   "metadata": {},
   "outputs": [
    {
     "data": {
      "text/plain": [
       "1    99701\n",
       "0    99701\n",
       "Name: churn, dtype: int64"
      ]
     },
     "execution_count": 180,
     "metadata": {},
     "output_type": "execute_result"
    }
   ],
   "source": [
    "df.churn.value_counts()"
   ]
  },
  {
   "cell_type": "markdown",
   "metadata": {},
   "source": [
    "**Downsampling**"
   ]
  },
  {
   "cell_type": "code",
   "execution_count": 96,
   "metadata": {},
   "outputs": [],
   "source": [
    "churn_class_1_down = churn_class_0.sample(count_class_1, replace=True)"
   ]
  },
  {
   "cell_type": "code",
   "execution_count": 97,
   "metadata": {},
   "outputs": [],
   "source": [
    "df = pd.concat([churn_class_1_down, churn_class_1], axis=0)"
   ]
  },
  {
   "cell_type": "code",
   "execution_count": 98,
   "metadata": {},
   "outputs": [
    {
     "data": {
      "text/plain": [
       "1    43340\n",
       "0    43340\n",
       "Name: churn, dtype: int64"
      ]
     },
     "execution_count": 98,
     "metadata": {},
     "output_type": "execute_result"
    }
   ],
   "source": [
    "df.churn.value_counts()"
   ]
  },
  {
   "cell_type": "code",
   "execution_count": 11,
   "metadata": {},
   "outputs": [
    {
     "data": {
      "text/plain": [
       "(199402, 67)"
      ]
     },
     "execution_count": 11,
     "metadata": {},
     "output_type": "execute_result"
    }
   ],
   "source": [
    "y = df['churn']\n",
    "X = df.drop('churn', axis = 1)\n",
    "X.shape"
   ]
  },
  {
   "cell_type": "markdown",
   "metadata": {},
   "source": [
    "**Dummies**"
   ]
  },
  {
   "cell_type": "code",
   "execution_count": 12,
   "metadata": {},
   "outputs": [],
   "source": [
    "other = [\"zon_che_opt_in\", \n",
    " \"zon_sit_opt_in\",\n",
    " \"zon_zp_grey\",\n",
    " \"zon_premium\",\n",
    " \"zon_sonstige\",\n",
    " \"zon_zp_red\",\n",
    " \"nl_zeitbrief\",\n",
    " \"nl_zeitshop\",\n",
    " \"nl_zeitverlag_hamburg\",\n",
    " \"nl_fdz_organisch\"]"
   ]
  },
  {
   "cell_type": "code",
   "execution_count": 13,
   "metadata": {},
   "outputs": [],
   "source": [
    "categoric_features = list(X.columns[X.dtypes==object]) + other"
   ]
  },
  {
   "cell_type": "code",
   "execution_count": 14,
   "metadata": {},
   "outputs": [
    {
     "data": {
      "text/plain": [
       "['kanal',\n",
       " 'objekt_name',\n",
       " 'aboform_name',\n",
       " 'zahlung_rhythmus_name',\n",
       " 'zahlung_weg_name',\n",
       " 'plz_3',\n",
       " 'land_iso_code',\n",
       " 'anrede',\n",
       " 'titel',\n",
       " 'zon_che_opt_in',\n",
       " 'zon_sit_opt_in',\n",
       " 'zon_zp_grey',\n",
       " 'zon_premium',\n",
       " 'zon_sonstige',\n",
       " 'zon_zp_red',\n",
       " 'nl_zeitbrief',\n",
       " 'nl_zeitshop',\n",
       " 'nl_zeitverlag_hamburg',\n",
       " 'nl_fdz_organisch']"
      ]
     },
     "execution_count": 14,
     "metadata": {},
     "output_type": "execute_result"
    }
   ],
   "source": [
    "categoric_features"
   ]
  },
  {
   "cell_type": "code",
   "execution_count": 15,
   "metadata": {},
   "outputs": [],
   "source": [
    "dummies = pd.get_dummies(X, columns=categoric_features, drop_first=True)"
   ]
  },
  {
   "cell_type": "markdown",
   "metadata": {},
   "source": [
    "**Scaling**"
   ]
  },
  {
   "cell_type": "code",
   "execution_count": 16,
   "metadata": {},
   "outputs": [],
   "source": [
    "numeric_features = ['lesedauer',\n",
    " 'shop_kauf',\n",
    " 'cnt_abo',\n",
    " 'cnt_umwandlungsstatus2_dkey',\n",
    " 'nl_blacklist_dum',\n",
    " 'nl_bounced_dum',\n",
    " 'nl_aktivitaet',\n",
    " 'nl_sperrliste_dum',\n",
    " 'nl_opt_in_dum',\n",
    " 'received_anzahl_6m',\n",
    " 'openedanzahl_6m',\n",
    " 'clicked_anzahl_6m',\n",
    " 'unsubscribed_anzahl_6m',\n",
    " 'openrate_3m',\n",
    " 'clickrate_3m',\n",
    " 'received_anzahl_bestandskunden_6m',\n",
    " 'openedanzahl_bestandskunden_6m',\n",
    " 'clicked_anzahl_bestandskunden_6m',\n",
    " 'unsubscribed_anzahl_bestandskunden_6m',\n",
    " 'openrate_bestandskunden_3m',\n",
    " 'clickrate_bestandskunden_3m',\n",
    " 'received_anzahl_produktnews_6m',\n",
    " 'openedanzahl_produktnews_6m',\n",
    " 'clicked_anzahl_produktnews_6m',\n",
    " 'unsubscribed_anzahl_produktnews_6m',\n",
    " 'openrate_produktnews_3m',\n",
    " 'clickrate_produktnews_3m',\n",
    " 'received_anzahl_hamburg_6m',\n",
    " 'openedanzahl_hamburg_6m',\n",
    " 'clicked_anzahl_hamburg_6m',\n",
    " 'unsubscribed_anzahl_hamburg_6m',\n",
    " 'openrate_hamburg_3m',\n",
    " 'clickrate_hamburg_3m',\n",
    " 'received_anzahl_zeitbrief_6m',\n",
    " 'openedanzahl_zeitbrief_6m',\n",
    " 'clicked_anzahl_zeitbrief_6m',\n",
    " 'unsubscribed_anzahl_zeitbrief_6m',\n",
    " 'openrate_zeitbrief_3m',\n",
    " 'clickrate_zeitbrief_3m']"
   ]
  },
  {
   "cell_type": "code",
   "execution_count": 17,
   "metadata": {},
   "outputs": [],
   "source": [
    "scaler = StandardScaler()"
   ]
  },
  {
   "cell_type": "code",
   "execution_count": 18,
   "metadata": {},
   "outputs": [],
   "source": [
    "X_scaled = scaler.fit_transform(dummies[numeric_features])"
   ]
  },
  {
   "cell_type": "code",
   "execution_count": 19,
   "metadata": {},
   "outputs": [],
   "source": [
    "X_preprocessed = np.concatenate([X_scaled, dummies.drop(numeric_features, axis=1)], axis=1)"
   ]
  },
  {
   "cell_type": "markdown",
   "metadata": {},
   "source": [
    "**Splitting**"
   ]
  },
  {
   "cell_type": "code",
   "execution_count": 20,
   "metadata": {},
   "outputs": [],
   "source": [
    "X_train, X_test, y_train, y_test = train_test_split(X_preprocessed, y, test_size = .3, random_state=25)"
   ]
  },
  {
   "cell_type": "code",
   "execution_count": 21,
   "metadata": {},
   "outputs": [
    {
     "data": {
      "text/plain": [
       "(139581, 794)"
      ]
     },
     "execution_count": 21,
     "metadata": {},
     "output_type": "execute_result"
    }
   ],
   "source": [
    "X_train.shape"
   ]
  },
  {
   "cell_type": "markdown",
   "metadata": {},
   "source": [
    "## PCA"
   ]
  },
  {
   "cell_type": "code",
   "execution_count": 87,
   "metadata": {},
   "outputs": [],
   "source": [
    "pca = PCA(n_components=None)"
   ]
  },
  {
   "cell_type": "code",
   "execution_count": 88,
   "metadata": {},
   "outputs": [],
   "source": [
    "X_train_scaled_pca  = pca.fit(X_train)"
   ]
  },
  {
   "cell_type": "code",
   "execution_count": 89,
   "metadata": {},
   "outputs": [],
   "source": [
    "X_train_trans_pca = pca.transform(X_train)"
   ]
  },
  {
   "cell_type": "code",
   "execution_count": 90,
   "metadata": {},
   "outputs": [],
   "source": [
    "pca_explained_var = pca.explained_variance_ratio_\n",
    "\n",
    "cum_explaiend_var = pca_explained_var.cumsum()"
   ]
  },
  {
   "cell_type": "code",
   "execution_count": 91,
   "metadata": {},
   "outputs": [
    {
     "name": "stdout",
     "output_type": "stream",
     "text": [
      "Number of Principal Components that explain >=50% of Variance:  9\n",
      "Total Variance Explained by 9 components: 51.65510125713676%\n"
     ]
    }
   ],
   "source": [
    "sum_variance, component_count = 0, 0\n",
    "while sum_variance < 0.50:\n",
    "    sum_variance += pca.explained_variance_ratio_[component_count]\n",
    "    component_count += 1\n",
    "    \n",
    "print('Number of Principal Components that explain >=50% of Variance: ', component_count)\n",
    "print('Total Variance Explained by '+str(component_count)+' components:', str(sum_variance*100)+'%')"
   ]
  },
  {
   "cell_type": "markdown",
   "metadata": {},
   "source": [
    "## Modelling with 9 components explaining 50% of the variance"
   ]
  },
  {
   "cell_type": "code",
   "execution_count": 101,
   "metadata": {},
   "outputs": [
    {
     "data": {
      "text/plain": [
       "PCA(n_components=9)"
      ]
     },
     "execution_count": 101,
     "metadata": {},
     "output_type": "execute_result"
    }
   ],
   "source": [
    "pca = PCA(n_components=9)\n",
    "pca.fit(X_train)"
   ]
  },
  {
   "cell_type": "code",
   "execution_count": 102,
   "metadata": {},
   "outputs": [],
   "source": [
    "X_train_pca = pca.transform(X_train)\n",
    "X_test_pca = pca.transform(X_test)"
   ]
  },
  {
   "cell_type": "code",
   "execution_count": 103,
   "metadata": {},
   "outputs": [],
   "source": [
    "X_train_pca_cst = sm.add_constant(X_train_pca)\n",
    "X_test_pca_cst = sm.add_constant(X_test_pca)"
   ]
  },
  {
   "cell_type": "markdown",
   "metadata": {},
   "source": [
    "**LOGREG**"
   ]
  },
  {
   "cell_type": "code",
   "execution_count": 95,
   "metadata": {},
   "outputs": [],
   "source": [
    "model = LogisticRegression().fit(X_train_pca_cst, y_train)"
   ]
  },
  {
   "cell_type": "code",
   "execution_count": 96,
   "metadata": {},
   "outputs": [],
   "source": [
    "y_pred_train = model.predict(X_train_pca_cst)\n",
    "y_pred_test = model.predict(X_test_pca_cst)"
   ]
  },
  {
   "cell_type": "code",
   "execution_count": 97,
   "metadata": {},
   "outputs": [
    {
     "name": "stdout",
     "output_type": "stream",
     "text": [
      "Training Set Accuracy: 63.812409998495504%\n",
      "Testing Set Accuracy: 63.97251801206934%\n",
      "Training Set Recall: 69.51194990233253%\n",
      "Testing Set Recall: 69.84406689496959%\n",
      "Training Set Precision: 62.30223606802178%\n",
      "Testing Set Precision: 62.72805995998686%\n"
     ]
    }
   ],
   "source": [
    "train_score = accuracy_score(y_train, y_pred_train)*100\n",
    "test_score = accuracy_score(y_test, y_pred_test)*100\n",
    "recall_train = recall_score(y_train, y_pred_train)*100\n",
    "recall_test = recall_score(y_test, y_pred_test)*100\n",
    "precision_train = precision_score(y_train, y_pred_train)*100\n",
    "precision_test = precision_score(y_test, y_pred_test)*100\n",
    "\n",
    "\n",
    "print(\"Training Set Accuracy:\",str(train_score)+'%')\n",
    "print(\"Testing Set Accuracy:\",str(test_score)+'%')\n",
    "print(\"Training Set Recall:\",str(recall_train)+'%')\n",
    "print(\"Testing Set Recall:\",str(recall_test)+'%')\n",
    "print(\"Training Set Precision:\",str(precision_train)+'%')\n",
    "print(\"Testing Set Precision:\",str(precision_test)+'%')"
   ]
  },
  {
   "cell_type": "markdown",
   "metadata": {},
   "source": [
    "**RANDOM FOREST**"
   ]
  },
  {
   "cell_type": "code",
   "execution_count": 98,
   "metadata": {},
   "outputs": [],
   "source": [
    "model = RandomForestClassifier().fit(X_train_pca_cst, y_train)"
   ]
  },
  {
   "cell_type": "code",
   "execution_count": 99,
   "metadata": {},
   "outputs": [],
   "source": [
    "y_pred_train = model.predict(X_train_pca_cst)\n",
    "y_pred_test = model.predict(X_test_pca_cst)"
   ]
  },
  {
   "cell_type": "code",
   "execution_count": 100,
   "metadata": {},
   "outputs": [
    {
     "name": "stdout",
     "output_type": "stream",
     "text": [
      "Training Set Accuracy: 99.987820691928%\n",
      "Testing Set Accuracy: 85.40479095969643%\n",
      "Training Set Recall: 99.99425485464782%\n",
      "Testing Set Recall: 88.43634671011071%\n",
      "Training Set Precision: 99.98133069090804%\n",
      "Testing Set Precision: 83.50809996232576%\n"
     ]
    }
   ],
   "source": [
    "train_score = accuracy_score(y_train, y_pred_train)*100\n",
    "test_score = accuracy_score(y_test, y_pred_test)*100\n",
    "recall_train = recall_score(y_train, y_pred_train)*100\n",
    "recall_test = recall_score(y_test, y_pred_test)*100\n",
    "precision_train = precision_score(y_train, y_pred_train)*100\n",
    "precision_test = precision_score(y_test, y_pred_test)*100\n",
    "\n",
    "\n",
    "print(\"Training Set Accuracy:\",str(train_score)+'%')\n",
    "print(\"Testing Set Accuracy:\",str(test_score)+'%')\n",
    "print(\"Training Set Recall:\",str(recall_train)+'%')\n",
    "print(\"Testing Set Recall:\",str(recall_test)+'%')\n",
    "print(\"Training Set Precision:\",str(precision_train)+'%')\n",
    "print(\"Testing Set Precision:\",str(precision_test)+'%')"
   ]
  },
  {
   "cell_type": "markdown",
   "metadata": {},
   "source": [
    "<br/>**CROSSVALIDATION WITH 50% VARIANCE**<br/>"
   ]
  },
  {
   "cell_type": "code",
   "execution_count": 42,
   "metadata": {},
   "outputs": [],
   "source": [
    "from sklearn.model_selection import cross_val_score"
   ]
  },
  {
   "cell_type": "markdown",
   "metadata": {},
   "source": [
    "**RANDOMFOREST**"
   ]
  },
  {
   "cell_type": "markdown",
   "metadata": {},
   "source": [
    "**Upsampled**"
   ]
  },
  {
   "cell_type": "code",
   "execution_count": 104,
   "metadata": {},
   "outputs": [],
   "source": [
    "clf = RandomForestClassifier()\n",
    "recall = cross_val_score(clf, X_train_pca_cst, y_train, cv=5, scoring=\"recall\")"
   ]
  },
  {
   "cell_type": "code",
   "execution_count": 105,
   "metadata": {},
   "outputs": [
    {
     "name": "stdout",
     "output_type": "stream",
     "text": [
      "Recall: 0.85 (+/- 0.01)\n"
     ]
    }
   ],
   "source": [
    "print(\"Recall: %0.2f (+/- %0.2f)\" % (recall.mean(), recall.std() * 2))"
   ]
  },
  {
   "cell_type": "markdown",
   "metadata": {},
   "source": [
    "## Modelling with 20 components explaining 75% of the variance"
   ]
  },
  {
   "cell_type": "code",
   "execution_count": 78,
   "metadata": {},
   "outputs": [
    {
     "data": {
      "text/plain": [
       "PCA(n_components=20)"
      ]
     },
     "execution_count": 78,
     "metadata": {},
     "output_type": "execute_result"
    }
   ],
   "source": [
    "pca = PCA(n_components=20)\n",
    "pca.fit(X_train)"
   ]
  },
  {
   "cell_type": "code",
   "execution_count": 79,
   "metadata": {},
   "outputs": [],
   "source": [
    "X_train_pca = pca.transform(X_train)\n",
    "X_test_pca = pca.transform(X_test)"
   ]
  },
  {
   "cell_type": "code",
   "execution_count": 80,
   "metadata": {},
   "outputs": [],
   "source": [
    "X_train_pca_cst = sm.add_constant(X_train_pca)\n",
    "X_test_pca_cst = sm.add_constant(X_test_pca)"
   ]
  },
  {
   "cell_type": "markdown",
   "metadata": {},
   "source": [
    "**LOGREG**"
   ]
  },
  {
   "cell_type": "code",
   "execution_count": 81,
   "metadata": {},
   "outputs": [],
   "source": [
    "model = LogisticRegression().fit(X_train_pca_cst, y_train)"
   ]
  },
  {
   "cell_type": "code",
   "execution_count": 82,
   "metadata": {},
   "outputs": [],
   "source": [
    "y_pred_train = model.predict(X_train_pca_cst)\n",
    "y_pred_test = model.predict(X_test_pca_cst)"
   ]
  },
  {
   "cell_type": "code",
   "execution_count": 83,
   "metadata": {},
   "outputs": [
    {
     "name": "stdout",
     "output_type": "stream",
     "text": [
      "Training Set Accuracy: 64.88992054792557%\n",
      "Testing Set Accuracy: 64.97216696477825%\n",
      "Training Set Recall: 69.31230610134436%\n",
      "Testing Set Recall: 69.61798051667387%\n",
      "Training Set Precision: 63.58186537372033%\n",
      "Testing Set Precision: 63.92611814990078%\n"
     ]
    }
   ],
   "source": [
    "train_score = accuracy_score(y_train, y_pred_train)*100\n",
    "test_score = accuracy_score(y_test, y_pred_test)*100\n",
    "recall_train = recall_score(y_train, y_pred_train)*100\n",
    "recall_test = recall_score(y_test, y_pred_test)*100\n",
    "precision_train = precision_score(y_train, y_pred_train)*100\n",
    "precision_test = precision_score(y_test, y_pred_test)*100\n",
    "\n",
    "\n",
    "print(\"Training Set Accuracy:\",str(train_score)+'%')\n",
    "print(\"Testing Set Accuracy:\",str(test_score)+'%')\n",
    "print(\"Training Set Recall:\",str(recall_train)+'%')\n",
    "print(\"Testing Set Recall:\",str(recall_test)+'%')\n",
    "print(\"Training Set Precision:\",str(precision_train)+'%')\n",
    "print(\"Testing Set Precision:\",str(precision_test)+'%')"
   ]
  },
  {
   "cell_type": "markdown",
   "metadata": {},
   "source": [
    "**RANDOM FOREST**"
   ]
  },
  {
   "cell_type": "code",
   "execution_count": 84,
   "metadata": {},
   "outputs": [],
   "source": [
    "model = RandomForestClassifier().fit(X_train_pca_cst, y_train)"
   ]
  },
  {
   "cell_type": "code",
   "execution_count": 85,
   "metadata": {},
   "outputs": [],
   "source": [
    "y_pred_train = model.predict(X_train_pca_cst)\n",
    "y_pred_test = model.predict(X_test_pca_cst)"
   ]
  },
  {
   "cell_type": "code",
   "execution_count": 86,
   "metadata": {},
   "outputs": [
    {
     "name": "stdout",
     "output_type": "stream",
     "text": [
      "Training Set Accuracy: 99.9871042620414%\n",
      "Testing Set Accuracy: 86.22222965179452%\n",
      "Training Set Recall: 99.99281856830979%\n",
      "Testing Set Recall: 88.85859626957476%\n",
      "Training Set Precision: 99.98133042279412%\n",
      "Testing Set Precision: 84.53047411202834%\n"
     ]
    }
   ],
   "source": [
    "train_score = accuracy_score(y_train, y_pred_train)*100\n",
    "test_score = accuracy_score(y_test, y_pred_test)*100\n",
    "recall_train = recall_score(y_train, y_pred_train)*100\n",
    "recall_test = recall_score(y_test, y_pred_test)*100\n",
    "precision_train = precision_score(y_train, y_pred_train)*100\n",
    "precision_test = precision_score(y_test, y_pred_test)*100\n",
    "\n",
    "\n",
    "print(\"Training Set Accuracy:\",str(train_score)+'%')\n",
    "print(\"Testing Set Accuracy:\",str(test_score)+'%')\n",
    "print(\"Training Set Recall:\",str(recall_train)+'%')\n",
    "print(\"Testing Set Recall:\",str(recall_test)+'%')\n",
    "print(\"Training Set Precision:\",str(precision_train)+'%')\n",
    "print(\"Testing Set Precision:\",str(precision_test)+'%')"
   ]
  },
  {
   "cell_type": "markdown",
   "metadata": {},
   "source": [
    "## Modelling with 28 components explaining 85% of the variance"
   ]
  },
  {
   "cell_type": "code",
   "execution_count": 57,
   "metadata": {},
   "outputs": [
    {
     "data": {
      "text/plain": [
       "PCA(n_components=28)"
      ]
     },
     "execution_count": 57,
     "metadata": {},
     "output_type": "execute_result"
    }
   ],
   "source": [
    "pca = PCA(n_components=28)\n",
    "pca.fit(X_train)"
   ]
  },
  {
   "cell_type": "code",
   "execution_count": 58,
   "metadata": {},
   "outputs": [],
   "source": [
    "X_train_pca = pca.transform(X_train)\n",
    "X_test_pca = pca.transform(X_test)"
   ]
  },
  {
   "cell_type": "code",
   "execution_count": 59,
   "metadata": {},
   "outputs": [],
   "source": [
    "X_train_pca_cst = sm.add_constant(X_train_pca)\n",
    "X_test_pca_cst = sm.add_constant(X_test_pca)"
   ]
  },
  {
   "cell_type": "markdown",
   "metadata": {},
   "source": [
    "**LOGREG**"
   ]
  },
  {
   "cell_type": "code",
   "execution_count": 30,
   "metadata": {},
   "outputs": [],
   "source": [
    "model = LogisticRegression().fit(X_train_pca_cst, y_train)"
   ]
  },
  {
   "cell_type": "code",
   "execution_count": 31,
   "metadata": {},
   "outputs": [],
   "source": [
    "y_pred_train = model.predict(X_train_pca_cst)\n",
    "y_pred_test = model.predict(X_test_pca_cst)"
   ]
  },
  {
   "cell_type": "code",
   "execution_count": 32,
   "metadata": {},
   "outputs": [
    {
     "name": "stdout",
     "output_type": "stream",
     "text": [
      "Training Set Accuracy: 65.61996260235992%\n",
      "Testing Set Accuracy: 65.40846859798398%\n",
      "Training Set Recall: 67.8142594507641%\n",
      "Testing Set Recall: 67.81261428998903%\n",
      "Training Set Precision: 64.86111492705443%\n",
      "Testing Set Precision: 64.93886907794193%\n"
     ]
    }
   ],
   "source": [
    "train_score = accuracy_score(y_train, y_pred_train)*100\n",
    "test_score = accuracy_score(y_test, y_pred_test)*100\n",
    "recall_train = recall_score(y_train, y_pred_train)*100\n",
    "recall_test = recall_score(y_test, y_pred_test)*100\n",
    "precision_train = precision_score(y_train, y_pred_train)*100\n",
    "precision_test = precision_score(y_test, y_pred_test)*100\n",
    "\n",
    "\n",
    "print(\"Training Set Accuracy:\",str(train_score)+'%')\n",
    "print(\"Testing Set Accuracy:\",str(test_score)+'%')\n",
    "print(\"Training Set Recall:\",str(recall_train)+'%')\n",
    "print(\"Testing Set Recall:\",str(recall_test)+'%')\n",
    "print(\"Training Set Precision:\",str(precision_train)+'%')\n",
    "print(\"Testing Set Precision:\",str(precision_test)+'%')"
   ]
  },
  {
   "cell_type": "markdown",
   "metadata": {},
   "source": [
    "**Upsampled**<br/>\n",
    "Training Set Accuracy: 65.6744112737407%<br/>\n",
    "Testing Set Accuracy: 65.4251851356547%<br/>\n",
    "Training Set Recall: 67.84585775020108%<br/>\n",
    "Testing Set Recall: 67.68959670179872%<br/>\n",
    "Training Set Precision: 64.91987575932492%<br/>\n",
    "Testing Set Precision: 64.99489209551781%<br/>"
   ]
  },
  {
   "cell_type": "markdown",
   "metadata": {},
   "source": [
    "**Downsampled**<br/>\n",
    "Training Set Accuracy: 65.51519546443404%<br/>\n",
    "Testing Set Accuracy: 65.39378557145055%<br/>\n",
    "Training Set Recall: 67.2543247444845%<br/>\n",
    "Testing Set Recall: 66.93369954985884%<br/>\n",
    "Training Set Precision: 64.84357559715535%<br/>\n",
    "Testing Set Precision: 65.28501265069207%<br/>"
   ]
  },
  {
   "cell_type": "markdown",
   "metadata": {},
   "source": [
    "**RANDOM FOREST**"
   ]
  },
  {
   "cell_type": "code",
   "execution_count": 60,
   "metadata": {},
   "outputs": [],
   "source": [
    "model = RandomForestClassifier().fit(X_train_pca_cst, y_train)"
   ]
  },
  {
   "cell_type": "code",
   "execution_count": 61,
   "metadata": {},
   "outputs": [],
   "source": [
    "y_pred_train = model.predict(X_train_pca_cst)\n",
    "y_pred_test = model.predict(X_test_pca_cst)"
   ]
  },
  {
   "cell_type": "code",
   "execution_count": 62,
   "metadata": {},
   "outputs": [
    {
     "name": "stdout",
     "output_type": "stream",
     "text": [
      "Training Set Accuracy: 99.9871042620414%\n",
      "Testing Set Accuracy: 86.34760368432491%\n",
      "Training Set Recall: 99.99425485464782%\n",
      "Testing Set Recall: 88.68903148585298%\n",
      "Training Set Precision: 99.97989487893845%\n",
      "Testing Set Precision: 84.8441475826972%\n"
     ]
    }
   ],
   "source": [
    "train_score = accuracy_score(y_train, y_pred_train)*100\n",
    "test_score = accuracy_score(y_test, y_pred_test)*100\n",
    "recall_train = recall_score(y_train, y_pred_train)*100\n",
    "recall_test = recall_score(y_test, y_pred_test)*100\n",
    "precision_train = precision_score(y_train, y_pred_train)*100\n",
    "precision_test = precision_score(y_test, y_pred_test)*100\n",
    "\n",
    "\n",
    "print(\"Training Set Accuracy:\",str(train_score)+'%')\n",
    "print(\"Testing Set Accuracy:\",str(test_score)+'%')\n",
    "print(\"Training Set Recall:\",str(recall_train)+'%')\n",
    "print(\"Testing Set Recall:\",str(recall_test)+'%')\n",
    "print(\"Training Set Precision:\",str(precision_train)+'%')\n",
    "print(\"Testing Set Precision:\",str(precision_test)+'%')"
   ]
  },
  {
   "cell_type": "markdown",
   "metadata": {},
   "source": [
    "## Modelling with 28 components explaining 85% of the variance"
   ]
  },
  {
   "cell_type": "code",
   "execution_count": 57,
   "metadata": {},
   "outputs": [
    {
     "data": {
      "text/plain": [
       "PCA(n_components=28)"
      ]
     },
     "execution_count": 57,
     "metadata": {},
     "output_type": "execute_result"
    }
   ],
   "source": [
    "pca = PCA(n_components=28)\n",
    "pca.fit(X_train)"
   ]
  },
  {
   "cell_type": "code",
   "execution_count": 58,
   "metadata": {},
   "outputs": [],
   "source": [
    "X_train_pca = pca.transform(X_train)\n",
    "X_test_pca = pca.transform(X_test)"
   ]
  },
  {
   "cell_type": "code",
   "execution_count": 59,
   "metadata": {},
   "outputs": [],
   "source": [
    "X_train_pca_cst = sm.add_constant(X_train_pca)\n",
    "X_test_pca_cst = sm.add_constant(X_test_pca)"
   ]
  },
  {
   "cell_type": "markdown",
   "metadata": {},
   "source": [
    "**LOGREG**"
   ]
  },
  {
   "cell_type": "code",
   "execution_count": 30,
   "metadata": {},
   "outputs": [],
   "source": [
    "model = LogisticRegression().fit(X_train_pca_cst, y_train)"
   ]
  },
  {
   "cell_type": "code",
   "execution_count": 31,
   "metadata": {},
   "outputs": [],
   "source": [
    "y_pred_train = model.predict(X_train_pca_cst)\n",
    "y_pred_test = model.predict(X_test_pca_cst)"
   ]
  },
  {
   "cell_type": "code",
   "execution_count": 32,
   "metadata": {},
   "outputs": [
    {
     "name": "stdout",
     "output_type": "stream",
     "text": [
      "Training Set Accuracy: 65.61996260235992%\n",
      "Testing Set Accuracy: 65.40846859798398%\n",
      "Training Set Recall: 67.8142594507641%\n",
      "Testing Set Recall: 67.81261428998903%\n",
      "Training Set Precision: 64.86111492705443%\n",
      "Testing Set Precision: 64.93886907794193%\n"
     ]
    }
   ],
   "source": [
    "train_score = accuracy_score(y_train, y_pred_train)*100\n",
    "test_score = accuracy_score(y_test, y_pred_test)*100\n",
    "recall_train = recall_score(y_train, y_pred_train)*100\n",
    "recall_test = recall_score(y_test, y_pred_test)*100\n",
    "precision_train = precision_score(y_train, y_pred_train)*100\n",
    "precision_test = precision_score(y_test, y_pred_test)*100\n",
    "\n",
    "\n",
    "print(\"Training Set Accuracy:\",str(train_score)+'%')\n",
    "print(\"Testing Set Accuracy:\",str(test_score)+'%')\n",
    "print(\"Training Set Recall:\",str(recall_train)+'%')\n",
    "print(\"Testing Set Recall:\",str(recall_test)+'%')\n",
    "print(\"Training Set Precision:\",str(precision_train)+'%')\n",
    "print(\"Testing Set Precision:\",str(precision_test)+'%')"
   ]
  },
  {
   "cell_type": "markdown",
   "metadata": {},
   "source": [
    "**Upsampled**<br/>\n",
    "Training Set Accuracy: 65.6744112737407%<br/>\n",
    "Testing Set Accuracy: 65.4251851356547%<br/>\n",
    "Training Set Recall: 67.84585775020108%<br/>\n",
    "Testing Set Recall: 67.68959670179872%<br/>\n",
    "Training Set Precision: 64.91987575932492%<br/>\n",
    "Testing Set Precision: 64.99489209551781%<br/>"
   ]
  },
  {
   "cell_type": "markdown",
   "metadata": {},
   "source": [
    "**Downsampled**<br/>\n",
    "Training Set Accuracy: 65.51519546443404%<br/>\n",
    "Testing Set Accuracy: 65.39378557145055%<br/>\n",
    "Training Set Recall: 67.2543247444845%<br/>\n",
    "Testing Set Recall: 66.93369954985884%<br/>\n",
    "Training Set Precision: 64.84357559715535%<br/>\n",
    "Testing Set Precision: 65.28501265069207%<br/>"
   ]
  },
  {
   "cell_type": "markdown",
   "metadata": {},
   "source": [
    "**RANDOM FOREST**"
   ]
  },
  {
   "cell_type": "code",
   "execution_count": 60,
   "metadata": {},
   "outputs": [],
   "source": [
    "model = RandomForestClassifier().fit(X_train_pca_cst, y_train)"
   ]
  },
  {
   "cell_type": "code",
   "execution_count": 61,
   "metadata": {},
   "outputs": [],
   "source": [
    "y_pred_train = model.predict(X_train_pca_cst)\n",
    "y_pred_test = model.predict(X_test_pca_cst)"
   ]
  },
  {
   "cell_type": "code",
   "execution_count": 62,
   "metadata": {},
   "outputs": [
    {
     "name": "stdout",
     "output_type": "stream",
     "text": [
      "Training Set Accuracy: 99.9871042620414%\n",
      "Testing Set Accuracy: 86.34760368432491%\n",
      "Training Set Recall: 99.99425485464782%\n",
      "Testing Set Recall: 88.68903148585298%\n",
      "Training Set Precision: 99.97989487893845%\n",
      "Testing Set Precision: 84.8441475826972%\n"
     ]
    }
   ],
   "source": [
    "train_score = accuracy_score(y_train, y_pred_train)*100\n",
    "test_score = accuracy_score(y_test, y_pred_test)*100\n",
    "recall_train = recall_score(y_train, y_pred_train)*100\n",
    "recall_test = recall_score(y_test, y_pred_test)*100\n",
    "precision_train = precision_score(y_train, y_pred_train)*100\n",
    "precision_test = precision_score(y_test, y_pred_test)*100\n",
    "\n",
    "\n",
    "print(\"Training Set Accuracy:\",str(train_score)+'%')\n",
    "print(\"Testing Set Accuracy:\",str(test_score)+'%')\n",
    "print(\"Training Set Recall:\",str(recall_train)+'%')\n",
    "print(\"Testing Set Recall:\",str(recall_test)+'%')\n",
    "print(\"Training Set Precision:\",str(precision_train)+'%')\n",
    "print(\"Testing Set Precision:\",str(precision_test)+'%')"
   ]
  },
  {
   "cell_type": "markdown",
   "metadata": {},
   "source": [
    "## Modelling with 50 components explaining 95% of the variance"
   ]
  },
  {
   "cell_type": "code",
   "execution_count": 33,
   "metadata": {},
   "outputs": [
    {
     "data": {
      "text/plain": [
       "PCA(n_components=50)"
      ]
     },
     "execution_count": 33,
     "metadata": {},
     "output_type": "execute_result"
    }
   ],
   "source": [
    "pca = PCA(n_components=50)\n",
    "pca.fit(X_train)"
   ]
  },
  {
   "cell_type": "code",
   "execution_count": 34,
   "metadata": {},
   "outputs": [],
   "source": [
    "X_train_pca = pca.transform(X_train)\n",
    "X_test_pca = pca.transform(X_test)"
   ]
  },
  {
   "cell_type": "code",
   "execution_count": 35,
   "metadata": {},
   "outputs": [],
   "source": [
    "X_train_pca_cst = sm.add_constant(X_train_pca)\n",
    "X_test_pca_cst = sm.add_constant(X_test_pca)"
   ]
  },
  {
   "cell_type": "markdown",
   "metadata": {},
   "source": [
    "Training"
   ]
  },
  {
   "cell_type": "code",
   "execution_count": 36,
   "metadata": {},
   "outputs": [],
   "source": [
    "model = LogisticRegression().fit(X_train_pca_cst, y_train)"
   ]
  },
  {
   "cell_type": "code",
   "execution_count": 37,
   "metadata": {},
   "outputs": [],
   "source": [
    "y_pred_train = model.predict(X_train_pca_cst)\n",
    "y_pred_test = model.predict(X_test_pca_cst)"
   ]
  },
  {
   "cell_type": "code",
   "execution_count": 38,
   "metadata": {},
   "outputs": [
    {
     "name": "stdout",
     "output_type": "stream",
     "text": [
      "Training Set Accuracy: 67.76423725292125%\n",
      "Testing Set Accuracy: 67.50639407565905%\n",
      "Training Set Recall: 69.17011375387797%\n",
      "Testing Set Recall: 68.92642218306348%\n",
      "Training Set Precision: 67.1776702143983%\n",
      "Testing Set Precision: 67.2582162670733%\n"
     ]
    }
   ],
   "source": [
    "train_score = accuracy_score(y_train, y_pred_train)*100\n",
    "test_score = accuracy_score(y_test, y_pred_test)*100\n",
    "recall_train = recall_score(y_train, y_pred_train)*100\n",
    "recall_test = recall_score(y_test, y_pred_test)*100\n",
    "precision_train = precision_score(y_train, y_pred_train)*100\n",
    "precision_test = precision_score(y_test, y_pred_test)*100\n",
    "\n",
    "\n",
    "print(\"Training Set Accuracy:\",str(train_score)+'%')\n",
    "print(\"Testing Set Accuracy:\",str(test_score)+'%')\n",
    "print(\"Training Set Recall:\",str(recall_train)+'%')\n",
    "print(\"Testing Set Recall:\",str(recall_test)+'%')\n",
    "print(\"Training Set Precision:\",str(precision_train)+'%')\n",
    "print(\"Testing Set Precision:\",str(precision_test)+'%')"
   ]
  },
  {
   "cell_type": "markdown",
   "metadata": {},
   "source": [
    "**Upsampled**<br/>\n",
    "Training Set Accuracy: 67.70692286199412%<br/>\n",
    "Testing Set Accuracy: 67.50472242189198%<br/>\n",
    "Training Set Recall: 68.92307250373435%<br/>\n",
    "Testing Set Recall: 68.85660138976627%<br/>\n",
    "Training Set Precision: 67.1851592579629%<br/>\n",
    "Testing Set Precision: 67.27957897472548%<br/>"
   ]
  },
  {
   "cell_type": "markdown",
   "metadata": {},
   "source": [
    "**Downsampled**<br/>\n",
    "Training Set Accuracy: 67.58191047531149%<br/>\n",
    "Testing Set Accuracy: 67.59729272419628%<br/>\n",
    "Training Set Recall: 68.72953395296531%<br/>\n",
    "Testing Set Recall: 68.2383459220264%<br/>\n",
    "Training Set Precision: 67.03984513631231%<br/>\n",
    "Testing Set Precision: 67.72166275459983%<br/>"
   ]
  },
  {
   "cell_type": "markdown",
   "metadata": {},
   "source": [
    "**RANDOM FOREST**"
   ]
  },
  {
   "cell_type": "code",
   "execution_count": 39,
   "metadata": {},
   "outputs": [],
   "source": [
    "model = RandomForestClassifier().fit(X_train_pca_cst, y_train)"
   ]
  },
  {
   "cell_type": "code",
   "execution_count": 40,
   "metadata": {},
   "outputs": [],
   "source": [
    "y_pred_train = model.predict(X_train_pca_cst)\n",
    "y_pred_test = model.predict(X_test_pca_cst)"
   ]
  },
  {
   "cell_type": "code",
   "execution_count": 41,
   "metadata": {},
   "outputs": [
    {
     "name": "stdout",
     "output_type": "stream",
     "text": [
      "Training Set Accuracy: 99.9871042620414%\n",
      "Testing Set Accuracy: 87.63644873873724%\n",
      "Training Set Recall: 99.99138228197172%\n",
      "Testing Set Recall: 88.60591149383251%\n",
      "Training Set Precision: 99.98276604911676%\n",
      "Testing Set Precision: 87.03746040040498%\n"
     ]
    }
   ],
   "source": [
    "train_score = accuracy_score(y_train, y_pred_train)*100\n",
    "test_score = accuracy_score(y_test, y_pred_test)*100\n",
    "recall_train = recall_score(y_train, y_pred_train)*100\n",
    "recall_test = recall_score(y_test, y_pred_test)*100\n",
    "precision_train = precision_score(y_train, y_pred_train)*100\n",
    "precision_test = precision_score(y_test, y_pred_test)*100\n",
    "\n",
    "\n",
    "print(\"Training Set Accuracy:\",str(train_score)+'%')\n",
    "print(\"Testing Set Accuracy:\",str(test_score)+'%')\n",
    "print(\"Training Set Recall:\",str(recall_train)+'%')\n",
    "print(\"Testing Set Recall:\",str(recall_test)+'%')\n",
    "print(\"Training Set Precision:\",str(precision_train)+'%')\n",
    "print(\"Testing Set Precision:\",str(precision_test)+'%')"
   ]
  },
  {
   "cell_type": "markdown",
   "metadata": {},
   "source": [
    "**Upsampled**<br/>\n",
    "Training Set Accuracy: 99.9871042620414%<br/>\n",
    "Testing Set Accuracy: 87.26366994868023%<br/>\n",
    "Training Set Recall: 99.99856371366195%<br/>\n",
    "Testing Set Recall: 87.7414635768195%<br/>\n",
    "Training Set Precision: 99.97558874210225%<br/>\n",
    "Testing Set Precision: 87.03251764395489%<br/>"
   ]
  },
  {
   "cell_type": "markdown",
   "metadata": {},
   "source": [
    "**Downsampled**<br/>\n",
    "Training Set Accuracy: 99.98846331333641%<br/>\n",
    "Testing Set Accuracy: 71.7005076142132%<br/>\n",
    "Training Set Recall: 99.99338471206958%<br/>\n",
    "Testing Set Recall: 68.29938200961318%<br/>\n",
    "Training Set Precision: 99.98346342108745%<br/>\n",
    "Testing Set Precision: 73.64264560710761%<br/>"
   ]
  },
  {
   "cell_type": "markdown",
   "metadata": {},
   "source": [
    "**RANDOM FOREST MIT PARAMETERN VON ANDERER GRUPPE**"
   ]
  },
  {
   "cell_type": "code",
   "execution_count": 51,
   "metadata": {},
   "outputs": [],
   "source": [
    "model = RandomForestClassifier(n_estimators = 380, criterion = \"entropy\", max_depth = 35,\n",
    "                                     max_features = \"auto\", min_samples_leaf = 1,\n",
    "                                     min_samples_split = 4, n_jobs = -1, bootstrap = True).fit(X_train_pca_cst, y_train)"
   ]
  },
  {
   "cell_type": "code",
   "execution_count": 52,
   "metadata": {},
   "outputs": [],
   "source": [
    "y_pred_train = model.predict(X_train_pca_cst)\n",
    "y_pred_test = model.predict(X_test_pca_cst)"
   ]
  },
  {
   "cell_type": "code",
   "execution_count": 53,
   "metadata": {},
   "outputs": [
    {
     "name": "stdout",
     "output_type": "stream",
     "text": [
      "Training Set Accuracy: 99.9871042620414%\n",
      "Testing Set Accuracy: 87.5077313986727%\n",
      "Training Set Recall: 99.98994599563369%\n",
      "Testing Set Recall: 89.05475945074309%\n",
      "Training Set Precision: 99.98420175791348%\n",
      "Testing Set Precision: 86.49809468449267%\n"
     ]
    }
   ],
   "source": [
    "train_score = accuracy_score(y_train, y_pred_train)*100\n",
    "test_score = accuracy_score(y_test, y_pred_test)*100\n",
    "recall_train = recall_score(y_train, y_pred_train)*100\n",
    "recall_test = recall_score(y_test, y_pred_test)*100\n",
    "precision_train = precision_score(y_train, y_pred_train)*100\n",
    "precision_test = precision_score(y_test, y_pred_test)*100\n",
    "\n",
    "\n",
    "print(\"Training Set Accuracy:\",str(train_score)+'%')\n",
    "print(\"Testing Set Accuracy:\",str(test_score)+'%')\n",
    "print(\"Training Set Recall:\",str(recall_train)+'%')\n",
    "print(\"Testing Set Recall:\",str(recall_test)+'%')\n",
    "print(\"Training Set Precision:\",str(precision_train)+'%')\n",
    "print(\"Testing Set Precision:\",str(precision_test)+'%')"
   ]
  },
  {
   "cell_type": "markdown",
   "metadata": {},
   "source": [
    "## Crossvalidation"
   ]
  },
  {
   "cell_type": "code",
   "execution_count": 42,
   "metadata": {},
   "outputs": [],
   "source": [
    "from sklearn.model_selection import cross_val_score"
   ]
  },
  {
   "cell_type": "markdown",
   "metadata": {},
   "source": [
    "LOGREG"
   ]
  },
  {
   "cell_type": "code",
   "execution_count": 43,
   "metadata": {},
   "outputs": [],
   "source": [
    "clf = LogisticRegression()\n",
    "scores = cross_val_score(clf, X_train_pca_cst, y_train, cv=5, scoring=\"recall\")"
   ]
  },
  {
   "cell_type": "code",
   "execution_count": 44,
   "metadata": {},
   "outputs": [
    {
     "name": "stdout",
     "output_type": "stream",
     "text": [
      "Recall: 0.69 (+/- 0.00)\n"
     ]
    }
   ],
   "source": [
    "print(\"Recall: %0.2f (+/- %0.2f)\" % (scores.mean(), scores.std() * 2))"
   ]
  },
  {
   "cell_type": "markdown",
   "metadata": {},
   "source": [
    "**RANDOMFOREST**"
   ]
  },
  {
   "cell_type": "markdown",
   "metadata": {},
   "source": [
    "**Downsampled**"
   ]
  },
  {
   "cell_type": "code",
   "execution_count": 45,
   "metadata": {},
   "outputs": [],
   "source": [
    "clf = RandomForestClassifier()\n",
    "recall = cross_val_score(clf, X_train_pca_cst, y_train, cv=5, scoring=\"recall\")"
   ]
  },
  {
   "cell_type": "code",
   "execution_count": 46,
   "metadata": {},
   "outputs": [
    {
     "name": "stdout",
     "output_type": "stream",
     "text": [
      "Recall: 0.85 (+/- 0.01)\n"
     ]
    }
   ],
   "source": [
    "print(\"Recall: %0.2f (+/- %0.2f)\" % (recall.mean(), recall.std() * 2))"
   ]
  },
  {
   "cell_type": "code",
   "execution_count": null,
   "metadata": {},
   "outputs": [],
   "source": []
  },
  {
   "cell_type": "markdown",
   "metadata": {},
   "source": [
    "**Upsampled**"
   ]
  },
  {
   "cell_type": "code",
   "execution_count": 163,
   "metadata": {},
   "outputs": [],
   "source": [
    "clf = RandomForestClassifier()\n",
    "scores = cross_val_score(clf, X_train_pca_cst, y_train, cv=5)"
   ]
  },
  {
   "cell_type": "code",
   "execution_count": 164,
   "metadata": {},
   "outputs": [
    {
     "name": "stdout",
     "output_type": "stream",
     "text": [
      "Accuracy: 0.84 (+/- 0.01)\n"
     ]
    }
   ],
   "source": [
    "print(\"Accuracy: %0.2f (+/- %0.2f)\" % (scores.mean(), scores.std() * 2))"
   ]
  },
  {
   "cell_type": "code",
   "execution_count": 55,
   "metadata": {},
   "outputs": [],
   "source": [
    "clf = RandomForestClassifier(n_estimators = 380, criterion = \"entropy\", max_depth = 35,\n",
    "                                     max_features = \"auto\", min_samples_leaf = 1,\n",
    "                                     min_samples_split = 4, n_jobs = -1, bootstrap = True)\n",
    "                             \n",
    "recall = cross_val_score(clf, X_train_pca_cst, y_train, cv=5, scoring=\"recall\")"
   ]
  },
  {
   "cell_type": "code",
   "execution_count": 56,
   "metadata": {},
   "outputs": [
    {
     "name": "stdout",
     "output_type": "stream",
     "text": [
      "Recall: 0.85 (+/- 0.01)\n"
     ]
    }
   ],
   "source": [
    "print(\"Recall: %0.2f (+/- %0.2f)\" % (recall.mean(), recall.std() * 2))"
   ]
  },
  {
   "cell_type": "code",
   "execution_count": 170,
   "metadata": {},
   "outputs": [],
   "source": [
    "clf = RandomForestClassifier()\n",
    "recall = cross_val_score(clf, X_train_pca_cst, y_train, cv=5, scoring=\"precision\")"
   ]
  },
  {
   "cell_type": "code",
   "execution_count": 171,
   "metadata": {},
   "outputs": [
    {
     "name": "stdout",
     "output_type": "stream",
     "text": [
      "Precision: 0.83 (+/- 0.00)\n"
     ]
    }
   ],
   "source": [
    "print(\"Precision: %0.2f (+/- %0.2f)\" % (recall.mean(), recall.std() * 2))"
   ]
  },
  {
   "cell_type": "code",
   "execution_count": null,
   "metadata": {},
   "outputs": [],
   "source": []
  },
  {
   "cell_type": "markdown",
   "metadata": {},
   "source": [
    "**include all data**"
   ]
  },
  {
   "cell_type": "code",
   "execution_count": 190,
   "metadata": {},
   "outputs": [],
   "source": [
    "pca = PCA(n_components=None)"
   ]
  },
  {
   "cell_type": "code",
   "execution_count": 192,
   "metadata": {},
   "outputs": [],
   "source": [
    "X_scaled_pca  = pca.fit(X_preprocessed)"
   ]
  },
  {
   "cell_type": "code",
   "execution_count": 193,
   "metadata": {},
   "outputs": [],
   "source": [
    "X_trans_pca = pca.transform(X_preprocessed)"
   ]
  },
  {
   "cell_type": "code",
   "execution_count": 194,
   "metadata": {},
   "outputs": [],
   "source": [
    "pca_explained_var = pca.explained_variance_ratio_\n",
    "\n",
    "cum_explaiend_var = pca_explained_var.cumsum()"
   ]
  },
  {
   "cell_type": "code",
   "execution_count": 195,
   "metadata": {},
   "outputs": [
    {
     "name": "stdout",
     "output_type": "stream",
     "text": [
      "Number of Principal Components that explain >=95% of Variance:  50\n",
      "Total Variance Explained by 50 components: 95.03986697695774%\n"
     ]
    }
   ],
   "source": [
    "sum_variance, component_count = 0, 0\n",
    "while sum_variance < 0.95:\n",
    "    sum_variance += pca.explained_variance_ratio_[component_count]\n",
    "    component_count += 1\n",
    "    \n",
    "print('Number of Principal Components that explain >=95% of Variance: ', component_count)\n",
    "print('Total Variance Explained by '+str(component_count)+' components:', str(sum_variance*100)+'%')"
   ]
  },
  {
   "cell_type": "code",
   "execution_count": 196,
   "metadata": {},
   "outputs": [
    {
     "data": {
      "text/plain": [
       "PCA(n_components=50)"
      ]
     },
     "execution_count": 196,
     "metadata": {},
     "output_type": "execute_result"
    }
   ],
   "source": [
    "pca = PCA(n_components=50)\n",
    "pca.fit(X_train)"
   ]
  },
  {
   "cell_type": "code",
   "execution_count": 197,
   "metadata": {},
   "outputs": [],
   "source": [
    "X_pca = pca.transform(X_preprocessed)"
   ]
  },
  {
   "cell_type": "code",
   "execution_count": 199,
   "metadata": {},
   "outputs": [],
   "source": [
    "X_pca_cst = sm.add_constant(X_pca)"
   ]
  },
  {
   "cell_type": "code",
   "execution_count": null,
   "metadata": {},
   "outputs": [],
   "source": []
  },
  {
   "cell_type": "code",
   "execution_count": null,
   "metadata": {},
   "outputs": [],
   "source": []
  },
  {
   "cell_type": "code",
   "execution_count": null,
   "metadata": {},
   "outputs": [],
   "source": []
  },
  {
   "cell_type": "code",
   "execution_count": 200,
   "metadata": {},
   "outputs": [],
   "source": [
    "clf = RandomForestClassifier()\n",
    "scores = cross_val_score(clf, X_pca_cst, y, cv=7)"
   ]
  },
  {
   "cell_type": "code",
   "execution_count": 201,
   "metadata": {},
   "outputs": [
    {
     "name": "stdout",
     "output_type": "stream",
     "text": [
      "Accuracy: 0.87 (+/- 0.14)\n"
     ]
    }
   ],
   "source": [
    "print(\"Accuracy: %0.2f (+/- %0.2f)\" % (scores.mean(), scores.std() * 2))"
   ]
  },
  {
   "cell_type": "code",
   "execution_count": 202,
   "metadata": {},
   "outputs": [],
   "source": [
    "clf = RandomForestClassifier()\n",
    "recall = cross_val_score(clf, X_pca_cst, y, cv=7, scoring=\"recall\")"
   ]
  },
  {
   "cell_type": "code",
   "execution_count": 203,
   "metadata": {},
   "outputs": [
    {
     "name": "stdout",
     "output_type": "stream",
     "text": [
      "Recall: 0.91 (+/- 0.01)\n"
     ]
    }
   ],
   "source": [
    "print(\"Recall: %0.2f (+/- %0.2f)\" % (recall.mean(), recall.std() * 2))"
   ]
  },
  {
   "cell_type": "code",
   "execution_count": null,
   "metadata": {},
   "outputs": [],
   "source": [
    "clf = RandomForestClassifier()\n",
    "precision = cross_val_score(clf, X_pca_cst, y, cv=7, scoring=\"precision\")"
   ]
  },
  {
   "cell_type": "code",
   "execution_count": null,
   "metadata": {},
   "outputs": [],
   "source": [
    "print(\"Precision: %0.2f (+/- %0.2f)\" % (precision.mean(), precision.std() * 2))"
   ]
  },
  {
   "cell_type": "code",
   "execution_count": null,
   "metadata": {},
   "outputs": [],
   "source": []
  }
 ],
 "metadata": {
  "kernelspec": {
   "display_name": "Python 3",
   "language": "python",
   "name": "python3"
  },
  "language_info": {
   "codemirror_mode": {
    "name": "ipython",
    "version": 3
   },
   "file_extension": ".py",
   "mimetype": "text/x-python",
   "name": "python",
   "nbconvert_exporter": "python",
   "pygments_lexer": "ipython3",
   "version": "3.8.5"
  }
 },
 "nbformat": 4,
 "nbformat_minor": 4
}
