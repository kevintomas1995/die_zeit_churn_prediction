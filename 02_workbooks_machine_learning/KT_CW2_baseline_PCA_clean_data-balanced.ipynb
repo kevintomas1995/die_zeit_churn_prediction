{
 "cells": [
  {
   "cell_type": "markdown",
   "metadata": {},
   "source": [
    "Data preprocessing from other group (Baseline_Model.ipynb). Balanced Data"
   ]
  },
  {
   "cell_type": "code",
   "execution_count": 1,
   "metadata": {},
   "outputs": [],
   "source": [
    "# data analysis and wrangling\n",
    "import pandas as pd\n",
    "import numpy as np\n",
    "import math\n",
    "import IPython\n",
    "\n",
    "\n",
    "# visualization\n",
    "import seaborn as sns\n",
    "sns.set(style=\"white\")  \n",
    "import matplotlib\n",
    "import matplotlib.pyplot as plt\n",
    "%matplotlib inline\n",
    "plt.style.use('ggplot')\n",
    "from pandas.plotting import scatter_matrix\n",
    "\n",
    "# warnings handler\n",
    "import warnings\n",
    "warnings.filterwarnings(\"ignore\")\n",
    "\n",
    "# Machine Learning Libraries\n",
    "from sklearn.metrics import confusion_matrix, classification_report\n",
    "from sklearn.metrics import fbeta_score, accuracy_score, f1_score, recall_score, precision_score\n",
    "from sklearn.linear_model import LogisticRegression\n",
    "from sklearn.neighbors import KNeighborsClassifier\n",
    "from sklearn.svm import SVC\n",
    "from sklearn.tree import DecisionTreeClassifier\n",
    "from sklearn.ensemble import RandomForestClassifier\n",
    "#from xgboost import XGBClassifier\n",
    "from sklearn.ensemble import AdaBoostClassifier\n",
    "from sklearn.model_selection import GridSearchCV\n",
    "from sklearn.metrics import make_scorer \n",
    "from sklearn.model_selection import KFold\n",
    "from sklearn.metrics import roc_curve\n",
    "from sklearn.metrics import roc_auc_score\n",
    "from sklearn.decomposition import PCA\n",
    "\n",
    "# Pipeline\n",
    "from sklearn.model_selection import train_test_split, cross_val_predict\n",
    "from sklearn.pipeline import Pipeline\n",
    "from sklearn.preprocessing import StandardScaler, OneHotEncoder, MinMaxScaler\n",
    "from sklearn.compose import ColumnTransformer\n",
    "from sklearn.impute import SimpleImputer"
   ]
  },
  {
   "cell_type": "code",
   "execution_count": 2,
   "metadata": {},
   "outputs": [],
   "source": [
    "import statsmodels.api as sm"
   ]
  },
  {
   "cell_type": "code",
   "execution_count": 43,
   "metadata": {},
   "outputs": [],
   "source": [
    "df = pd.read_csv(\"/Users/kevintomas/Desktop/nf-sep-20/capstone kram/Data/no_dupli_and_outl.csv\")"
   ]
  },
  {
   "cell_type": "code",
   "execution_count": 44,
   "metadata": {},
   "outputs": [],
   "source": [
    "df.drop(\"Unnamed: 0\", axis=1, inplace=True)"
   ]
  },
  {
   "cell_type": "code",
   "execution_count": 45,
   "metadata": {},
   "outputs": [
    {
     "name": "stdout",
     "output_type": "stream",
     "text": [
      "(143053, 169)\n",
      "(143053, 161)\n"
     ]
    }
   ],
   "source": [
    "print(df.shape)\n",
    "df.drop([\"avg_churn\", \"ort\", \"date_x\", \"kuendigungs_eingangs_datum\", \"abo_registrierung_min\", \"training_set\", \"liefer_beginn_evt\", \"nl_registrierung_min\"], axis=1, inplace=True)\n",
    "print(df.shape)"
   ]
  },
  {
   "cell_type": "code",
   "execution_count": 46,
   "metadata": {},
   "outputs": [],
   "source": [
    "df=df.dropna()"
   ]
  },
  {
   "cell_type": "code",
   "execution_count": 49,
   "metadata": {},
   "outputs": [
    {
     "data": {
      "text/plain": [
       "0    99701\n",
       "1    43340\n",
       "Name: churn, dtype: int64"
      ]
     },
     "execution_count": 49,
     "metadata": {},
     "output_type": "execute_result"
    }
   ],
   "source": [
    "df.churn.value_counts()"
   ]
  },
  {
   "cell_type": "markdown",
   "metadata": {},
   "source": [
    "**Balancing**"
   ]
  },
  {
   "cell_type": "code",
   "execution_count": 47,
   "metadata": {},
   "outputs": [],
   "source": [
    "count_class_0, count_class_1 = df.churn.value_counts()"
   ]
  },
  {
   "cell_type": "code",
   "execution_count": 48,
   "metadata": {},
   "outputs": [],
   "source": [
    "churn_class_0 = df[df['churn'] == 0]\n",
    "churn_class_1 = df[df['churn'] == 1]"
   ]
  },
  {
   "cell_type": "markdown",
   "metadata": {},
   "source": [
    "**Upsampling**"
   ]
  },
  {
   "cell_type": "code",
   "execution_count": 9,
   "metadata": {},
   "outputs": [],
   "source": [
    "churn_class_1_up = churn_class_1.sample(count_class_0, replace=True)"
   ]
  },
  {
   "cell_type": "code",
   "execution_count": 10,
   "metadata": {},
   "outputs": [],
   "source": [
    "df = pd.concat([churn_class_1_up, churn_class_0], axis=0)"
   ]
  },
  {
   "cell_type": "code",
   "execution_count": 11,
   "metadata": {},
   "outputs": [
    {
     "data": {
      "text/plain": [
       "1    99701\n",
       "0    99701\n",
       "Name: churn, dtype: int64"
      ]
     },
     "execution_count": 11,
     "metadata": {},
     "output_type": "execute_result"
    }
   ],
   "source": [
    "df.churn.value_counts()"
   ]
  },
  {
   "cell_type": "markdown",
   "metadata": {},
   "source": [
    "**Downsampling**"
   ]
  },
  {
   "cell_type": "code",
   "execution_count": 50,
   "metadata": {},
   "outputs": [],
   "source": [
    "churn_class_1_down = churn_class_0.sample(count_class_1, replace=True)"
   ]
  },
  {
   "cell_type": "code",
   "execution_count": 51,
   "metadata": {},
   "outputs": [],
   "source": [
    "df = pd.concat([churn_class_1_down, churn_class_1], axis=0)"
   ]
  },
  {
   "cell_type": "code",
   "execution_count": 52,
   "metadata": {},
   "outputs": [
    {
     "data": {
      "text/plain": [
       "1    43340\n",
       "0    43340\n",
       "Name: churn, dtype: int64"
      ]
     },
     "execution_count": 52,
     "metadata": {},
     "output_type": "execute_result"
    }
   ],
   "source": [
    "df.churn.value_counts()"
   ]
  },
  {
   "cell_type": "code",
   "execution_count": null,
   "metadata": {},
   "outputs": [],
   "source": []
  },
  {
   "cell_type": "code",
   "execution_count": 53,
   "metadata": {},
   "outputs": [
    {
     "data": {
      "text/plain": [
       "(86680, 160)"
      ]
     },
     "execution_count": 53,
     "metadata": {},
     "output_type": "execute_result"
    }
   ],
   "source": [
    "y = df['churn']\n",
    "X = df.drop('churn', axis = 1)\n",
    "X.shape"
   ]
  },
  {
   "cell_type": "markdown",
   "metadata": {},
   "source": [
    "**Dummies**"
   ]
  },
  {
   "cell_type": "code",
   "execution_count": 54,
   "metadata": {},
   "outputs": [],
   "source": [
    "other = [\"zon_che_opt_in\", \n",
    " \"zon_sit_opt_in\",\n",
    " \"zon_zp_grey\",\n",
    " \"zon_premium\",\n",
    " \"zon_boa\",\n",
    " \"zon_kommentar\",\n",
    " \"zon_sonstige\",\n",
    " \"zon_zp_red\",\n",
    " \"zon_rawr\",\n",
    " \"zon_community\",\n",
    " \"zon_app_sonstige\",\n",
    " \"zon_schach\",\n",
    " \"zon_blog_kommentare\",\n",
    " \"zon_quiz\",\n",
    " \"nl_zeitbrief\",\n",
    " \"nl_zeitshop\",\n",
    " \"nl_zeitverlag_hamburg\",\n",
    " \"nl_fdz_organisch\"]"
   ]
  },
  {
   "cell_type": "code",
   "execution_count": 55,
   "metadata": {},
   "outputs": [],
   "source": [
    "categoric_features = list(X.columns[X.dtypes==object]) + other"
   ]
  },
  {
   "cell_type": "code",
   "execution_count": 56,
   "metadata": {},
   "outputs": [],
   "source": [
    "dummies = pd.get_dummies(X, columns=categoric_features, drop_first=True)"
   ]
  },
  {
   "cell_type": "markdown",
   "metadata": {},
   "source": [
    "**Scaling**"
   ]
  },
  {
   "cell_type": "code",
   "execution_count": 57,
   "metadata": {},
   "outputs": [],
   "source": [
    "numeric_features = ['lesedauer',\n",
    " 'shop_kauf',\n",
    " 'cnt_abo',\n",
    " 'cnt_abo_diezeit',\n",
    " 'cnt_abo_diezeit_digital',\n",
    " 'cnt_abo_magazin',\n",
    " 'cnt_umwandlungsstatus2_dkey',\n",
    " 'nl_blacklist_dum',\n",
    " 'nl_bounced_dum',\n",
    " 'nl_aktivitaet',\n",
    " 'nl_sperrliste_dum',\n",
    " 'nl_opt_in_dum',\n",
    " 'received_anzahl_1w',\n",
    " 'received_anzahl_1m',\n",
    " 'received_anzahl_3m',\n",
    " 'received_anzahl_6m',\n",
    " 'opened_anzahl_1w',\n",
    " 'opened_anzahl_1m',\n",
    " 'opened_anzahl_3m',\n",
    " 'openedanzahl_6m',\n",
    " 'clicked_anzahl_1w',\n",
    " 'clicked_anzahl_1m',\n",
    " 'clicked_anzahl_3m',\n",
    " 'clicked_anzahl_6m',\n",
    " 'unsubscribed_anzahl_1w',\n",
    " 'unsubscribed_anzahl_1m',\n",
    " 'unsubscribed_anzahl_3m',\n",
    " 'unsubscribed_anzahl_6m',\n",
    " 'openrate_1w',\n",
    " 'clickrate_1w',\n",
    " 'openrate_1m',\n",
    " 'clickrate_1m',\n",
    " 'openrate_3m',\n",
    " 'clickrate_3m',\n",
    " 'received_anzahl_bestandskunden_1w',\n",
    " 'received_anzahl_bestandskunden_1m',\n",
    " 'received_anzahl_bestandskunden_3m',\n",
    " 'received_anzahl_bestandskunden_6m',\n",
    " 'opened_anzahl_bestandskunden_1w',\n",
    " 'opened_anzahl_bestandskunden_1m',\n",
    " 'opened_anzahl_bestandskunden_3m',\n",
    " 'openedanzahl_bestandskunden_6m',\n",
    " 'clicked_anzahl_bestandskunden_1w',\n",
    " 'clicked_anzahl_bestandskunden_1m',\n",
    " 'clicked_anzahl_bestandskunden_3m',\n",
    " 'clicked_anzahl_bestandskunden_6m',\n",
    " 'unsubscribed_anzahl_bestandskunden_1w',\n",
    " 'unsubscribed_anzahl_bestandskunden_1m',\n",
    " 'unsubscribed_anzahl_bestandskunden_3m',\n",
    " 'unsubscribed_anzahl_bestandskunden_6m',\n",
    " 'openrate_bestandskunden_1w',\n",
    " 'clickrate_bestandskunden_1w',\n",
    " 'openrate_bestandskunden_1m',\n",
    " 'clickrate_bestandskunden_1m',\n",
    " 'openrate_bestandskunden_3m',\n",
    " 'clickrate_bestandskunden_3m',\n",
    " 'received_anzahl_produktnews_1w',\n",
    " 'received_anzahl_produktnews_1m',\n",
    " 'received_anzahl_produktnews_3m',\n",
    " 'received_anzahl_produktnews_6m',\n",
    " 'opened_anzahl_produktnews_1w',\n",
    " 'opened_anzahl_produktnews_1m',\n",
    " 'opened_anzahl_produktnews_3m',\n",
    " 'openedanzahl_produktnews_6m',\n",
    " 'clicked_anzahl_produktnews_1w',\n",
    " 'clicked_anzahl_produktnews_1m',\n",
    " 'clicked_anzahl_produktnews_3m',\n",
    " 'clicked_anzahl_produktnews_6m',\n",
    " 'unsubscribed_anzahl_produktnews_1w',\n",
    " 'unsubscribed_anzahl_produktnews_1m',\n",
    " 'unsubscribed_anzahl_produktnews_3m',\n",
    " 'unsubscribed_anzahl_produktnews_6m',\n",
    " 'openrate_produktnews_1w',\n",
    " 'clickrate_produktnews_1w',\n",
    " 'openrate_produktnews_1m',\n",
    " 'clickrate_produktnews_1m',\n",
    " 'openrate_produktnews_3m',\n",
    " 'clickrate_produktnews_3m',\n",
    " 'received_anzahl_hamburg_1w',\n",
    " 'received_anzahl_hamburg_1m',\n",
    " 'received_anzahl_hamburg_3m',\n",
    " 'received_anzahl_hamburg_6m',\n",
    " 'opened_anzahl_hamburg_1w',\n",
    " 'opened_anzahl_hamburg_1m',\n",
    " 'opened_anzahl_hamburg_3m',\n",
    " 'openedanzahl_hamburg_6m',\n",
    " 'clicked_anzahl_hamburg_1w',\n",
    " 'clicked_anzahl_hamburg_1m',\n",
    " 'clicked_anzahl_hamburg_3m',\n",
    " 'clicked_anzahl_hamburg_6m',\n",
    " 'unsubscribed_anzahl_hamburg_1w',\n",
    " 'unsubscribed_anzahl_hamburg_1m',\n",
    " 'unsubscribed_anzahl_hamburg_3m',\n",
    " 'unsubscribed_anzahl_hamburg_6m',\n",
    " 'openrate_hamburg_1w',\n",
    " 'clickrate_hamburg_1w',\n",
    " 'openrate_hamburg_1m',\n",
    " 'clickrate_hamburg_1m',\n",
    " 'openrate_hamburg_3m',\n",
    " 'clickrate_hamburg_3m',\n",
    " 'received_anzahl_zeitbrief_1w',\n",
    " 'received_anzahl_zeitbrief_1m',\n",
    " 'received_anzahl_zeitbrief_3m',\n",
    " 'received_anzahl_zeitbrief_6m',\n",
    " 'opened_anzahl_zeitbrief_1w',\n",
    " 'opened_anzahl_zeitbrief_1m',\n",
    " 'opened_anzahl_zeitbrief_3m',\n",
    " 'openedanzahl_zeitbrief_6m',\n",
    " 'clicked_anzahl_zeitbrief_1w',\n",
    " 'clicked_anzahl_zeitbrief_1m',\n",
    " 'clicked_anzahl_zeitbrief_3m',\n",
    " 'clicked_anzahl_zeitbrief_6m',\n",
    " 'unsubscribed_anzahl_zeitbrief_1w',\n",
    " 'unsubscribed_anzahl_zeitbrief_1m',\n",
    " 'unsubscribed_anzahl_zeitbrief_3m',\n",
    " 'unsubscribed_anzahl_zeitbrief_6m',\n",
    " 'openrate_zeitbrief_1w',\n",
    " 'clickrate_zeitbrief_1w',\n",
    " 'openrate_zeitbrief_1m',\n",
    " 'clickrate_zeitbrief_1m',\n",
    " 'openrate_zeitbrief_3m',\n",
    " 'clickrate_zeitbrief_3m']"
   ]
  },
  {
   "cell_type": "code",
   "execution_count": 58,
   "metadata": {},
   "outputs": [],
   "source": [
    "scaler = StandardScaler()"
   ]
  },
  {
   "cell_type": "code",
   "execution_count": 59,
   "metadata": {},
   "outputs": [],
   "source": [
    "X_scaled = scaler.fit_transform(dummies[numeric_features])"
   ]
  },
  {
   "cell_type": "code",
   "execution_count": 60,
   "metadata": {},
   "outputs": [],
   "source": [
    "X_preprocessed = np.concatenate([X_scaled, dummies.drop(numeric_features, axis=1)], axis=1)"
   ]
  },
  {
   "cell_type": "markdown",
   "metadata": {},
   "source": [
    "**Splitting**"
   ]
  },
  {
   "cell_type": "code",
   "execution_count": 61,
   "metadata": {},
   "outputs": [],
   "source": [
    "X_train, X_test, y_train, y_test = train_test_split(X_preprocessed, y, test_size = .3, random_state=25)"
   ]
  },
  {
   "cell_type": "code",
   "execution_count": 62,
   "metadata": {},
   "outputs": [
    {
     "data": {
      "text/plain": [
       "(60676, 991)"
      ]
     },
     "execution_count": 62,
     "metadata": {},
     "output_type": "execute_result"
    }
   ],
   "source": [
    "X_train.shape"
   ]
  },
  {
   "cell_type": "markdown",
   "metadata": {},
   "source": [
    "**PCA**"
   ]
  },
  {
   "cell_type": "code",
   "execution_count": 63,
   "metadata": {},
   "outputs": [],
   "source": [
    "pca = PCA(n_components=None)"
   ]
  },
  {
   "cell_type": "code",
   "execution_count": 64,
   "metadata": {},
   "outputs": [],
   "source": [
    "X_train_scaled_pca  = pca.fit(X_train)"
   ]
  },
  {
   "cell_type": "code",
   "execution_count": 65,
   "metadata": {},
   "outputs": [],
   "source": [
    "X_train_trans_pca = pca.transform(X_train)"
   ]
  },
  {
   "cell_type": "code",
   "execution_count": 66,
   "metadata": {},
   "outputs": [],
   "source": [
    "pca_explained_var = pca.explained_variance_ratio_\n",
    "\n",
    "cum_explaiend_var = pca_explained_var.cumsum()"
   ]
  },
  {
   "cell_type": "code",
   "execution_count": 69,
   "metadata": {},
   "outputs": [
    {
     "name": "stdout",
     "output_type": "stream",
     "text": [
      "Number of Principal Components that explain >=85% of Variance:  39\n",
      "Total Variance Explained by 39 components: 85.18678069240588%\n"
     ]
    }
   ],
   "source": [
    "sum_variance, component_count = 0, 0\n",
    "while sum_variance < 0.85:\n",
    "    sum_variance += pca.explained_variance_ratio_[component_count]\n",
    "    component_count += 1\n",
    "    \n",
    "print('Number of Principal Components that explain >=85% of Variance: ', component_count)\n",
    "print('Total Variance Explained by '+str(component_count)+' components:', str(sum_variance*100)+'%')"
   ]
  },
  {
   "cell_type": "markdown",
   "metadata": {},
   "source": [
    "**Modelling with 39 components explaining 85% of the variance**"
   ]
  },
  {
   "cell_type": "code",
   "execution_count": 70,
   "metadata": {},
   "outputs": [
    {
     "data": {
      "text/plain": [
       "PCA(n_components=38)"
      ]
     },
     "execution_count": 70,
     "metadata": {},
     "output_type": "execute_result"
    }
   ],
   "source": [
    "pca = PCA(n_components=38)\n",
    "pca.fit(X_train)"
   ]
  },
  {
   "cell_type": "code",
   "execution_count": 71,
   "metadata": {},
   "outputs": [],
   "source": [
    "X_train_pca = pca.transform(X_train)\n",
    "X_test_pca = pca.transform(X_test)"
   ]
  },
  {
   "cell_type": "code",
   "execution_count": 72,
   "metadata": {},
   "outputs": [],
   "source": [
    "X_train_pca_cst = sm.add_constant(X_train_pca)\n",
    "X_test_pca_cst = sm.add_constant(X_test_pca)"
   ]
  },
  {
   "cell_type": "markdown",
   "metadata": {},
   "source": [
    "Training"
   ]
  },
  {
   "cell_type": "code",
   "execution_count": 73,
   "metadata": {},
   "outputs": [],
   "source": [
    "model = LogisticRegression().fit(X_train_pca_cst, y_train)"
   ]
  },
  {
   "cell_type": "code",
   "execution_count": 74,
   "metadata": {},
   "outputs": [],
   "source": [
    "y_pred_train = model.predict(X_train_pca_cst)\n",
    "y_pred_test = model.predict(X_test_pca_cst)"
   ]
  },
  {
   "cell_type": "code",
   "execution_count": 75,
   "metadata": {},
   "outputs": [
    {
     "name": "stdout",
     "output_type": "stream",
     "text": [
      "Training Set Accuracy: 65.48388160063287%\n",
      "Testing Set Accuracy: 65.40147669589294%\n",
      "Training Set Recall: 68.66999636159163%\n",
      "Testing Set Recall: 68.67322804608224%\n",
      "Training Set Precision: 64.41114420451724%\n",
      "Testing Set Precision: 64.79268643823784%\n"
     ]
    }
   ],
   "source": [
    "train_score = accuracy_score(y_train, y_pred_train)*100\n",
    "test_score = accuracy_score(y_test, y_pred_test)*100\n",
    "recall_train = recall_score(y_train, y_pred_train)*100\n",
    "recall_test = recall_score(y_test, y_pred_test)*100\n",
    "precision_train = precision_score(y_train, y_pred_train)*100\n",
    "precision_test = precision_score(y_test, y_pred_test)*100\n",
    "\n",
    "\n",
    "print(\"Training Set Accuracy:\",str(train_score)+'%')\n",
    "print(\"Testing Set Accuracy:\",str(test_score)+'%')\n",
    "print(\"Training Set Recall:\",str(recall_train)+'%')\n",
    "print(\"Testing Set Recall:\",str(recall_test)+'%')\n",
    "print(\"Training Set Precision:\",str(precision_train)+'%')\n",
    "print(\"Testing Set Precision:\",str(precision_test)+'%')"
   ]
  },
  {
   "cell_type": "markdown",
   "metadata": {},
   "source": [
    "**Upsampled**<br/>\n",
    "Training Set Accuracy: 65.59130540689635%<br/>\n",
    "Testing Set Accuracy: 65.23294495244146%<br/>\n",
    "Training Set Recall: 69.09255429162357%<br/>\n",
    "Testing Set Recall: 68.70366060444859%<br/>\n",
    "Training Set Precision: 64.47181494089581%<br/>\n",
    "Testing Set Precision: 64.47627071047458%<br/>"
   ]
  },
  {
   "cell_type": "markdown",
   "metadata": {},
   "source": [
    "**Downsampled**<br/>\n",
    "Training Set Accuracy: 65.48388160063287%<br/>\n",
    "Testing Set Accuracy: 65.40147669589294%<br/>\n",
    "Training Set Recall: 68.66999636159163%<br/>\n",
    "Testing Set Recall: 68.67322804608224%<br/>\n",
    "Training Set Precision: 64.41114420451724%<br/>\n",
    "Testing Set Precision: 64.79268643823784%<br/>"
   ]
  },
  {
   "cell_type": "markdown",
   "metadata": {},
   "source": [
    "**Modelling with 74 components explaining 95% of the variance**"
   ]
  },
  {
   "cell_type": "code",
   "execution_count": 76,
   "metadata": {},
   "outputs": [
    {
     "data": {
      "text/plain": [
       "PCA(n_components=74)"
      ]
     },
     "execution_count": 76,
     "metadata": {},
     "output_type": "execute_result"
    }
   ],
   "source": [
    "pca = PCA(n_components=74)\n",
    "pca.fit(X_train)"
   ]
  },
  {
   "cell_type": "code",
   "execution_count": 77,
   "metadata": {},
   "outputs": [],
   "source": [
    "X_train_pca = pca.transform(X_train)\n",
    "X_test_pca = pca.transform(X_test)"
   ]
  },
  {
   "cell_type": "code",
   "execution_count": 78,
   "metadata": {},
   "outputs": [],
   "source": [
    "X_train_pca_cst = sm.add_constant(X_train_pca)\n",
    "X_test_pca_cst = sm.add_constant(X_test_pca)"
   ]
  },
  {
   "cell_type": "markdown",
   "metadata": {},
   "source": [
    "Training"
   ]
  },
  {
   "cell_type": "code",
   "execution_count": 79,
   "metadata": {},
   "outputs": [],
   "source": [
    "model = LogisticRegression().fit(X_train_pca_cst, y_train)"
   ]
  },
  {
   "cell_type": "code",
   "execution_count": 80,
   "metadata": {},
   "outputs": [],
   "source": [
    "y_pred_train = model.predict(X_train_pca_cst)\n",
    "y_pred_test = model.predict(X_test_pca_cst)"
   ]
  },
  {
   "cell_type": "code",
   "execution_count": 81,
   "metadata": {},
   "outputs": [
    {
     "name": "stdout",
     "output_type": "stream",
     "text": [
      "Training Set Accuracy: 66.87817258883248%\n",
      "Testing Set Accuracy: 66.88201815105369%\n",
      "Training Set Recall: 67.67439552806536%\n",
      "Testing Set Recall: 67.67376211184863%\n",
      "Training Set Precision: 66.46309771309772%\n",
      "Testing Set Precision: 66.96866742166856%\n"
     ]
    }
   ],
   "source": [
    "train_score = accuracy_score(y_train, y_pred_train)*100\n",
    "test_score = accuracy_score(y_test, y_pred_test)*100\n",
    "recall_train = recall_score(y_train, y_pred_train)*100\n",
    "recall_test = recall_score(y_test, y_pred_test)*100\n",
    "precision_train = precision_score(y_train, y_pred_train)*100\n",
    "precision_test = precision_score(y_test, y_pred_test)*100\n",
    "\n",
    "\n",
    "print(\"Training Set Accuracy:\",str(train_score)+'%')\n",
    "print(\"Testing Set Accuracy:\",str(test_score)+'%')\n",
    "print(\"Training Set Recall:\",str(recall_train)+'%')\n",
    "print(\"Testing Set Recall:\",str(recall_test)+'%')\n",
    "print(\"Training Set Precision:\",str(precision_train)+'%')\n",
    "print(\"Testing Set Precision:\",str(precision_test)+'%')"
   ]
  },
  {
   "cell_type": "markdown",
   "metadata": {},
   "source": [
    "**Upsampled**<br/>\n",
    "Training Set Accuracy: 67.08721101009449%<br/>\n",
    "Testing Set Accuracy: 66.62877584794637%<br/>\n",
    "Training Set Recall: 67.93203493048374%<br/>\n",
    "Testing Set Recall: 67.44688632509892%<br/>\n",
    "Training Set Precision: 66.70004230714991%<br/>\n",
    "Testing Set Precision: 66.60319127979513%<br/>"
   ]
  },
  {
   "cell_type": "markdown",
   "metadata": {},
   "source": [
    "**Downsampled**<br/>\n",
    "Training Set Accuracy: 66.87817258883248%<br/>\n",
    "Testing Set Accuracy: 66.88201815105369%<br/>\n",
    "Training Set Recall: 67.67439552806536%<br/>\n",
    "Testing Set Recall: 67.67376211184863%<br/>\n",
    "Training Set Precision: 66.46309771309772%<br/>\n",
    "Testing Set Precision: 66.96866742166856%<br/>"
   ]
  },
  {
   "cell_type": "markdown",
   "metadata": {},
   "source": [
    "**Random Forest**"
   ]
  },
  {
   "cell_type": "code",
   "execution_count": 82,
   "metadata": {},
   "outputs": [],
   "source": [
    "model = RandomForestClassifier().fit(X_train_pca_cst, y_train)"
   ]
  },
  {
   "cell_type": "code",
   "execution_count": 83,
   "metadata": {},
   "outputs": [],
   "source": [
    "y_pred_train = model.predict(X_train_pca_cst)\n",
    "y_pred_test = model.predict(X_test_pca_cst)"
   ]
  },
  {
   "cell_type": "code",
   "execution_count": 84,
   "metadata": {},
   "outputs": [
    {
     "name": "stdout",
     "output_type": "stream",
     "text": [
      "Training Set Accuracy: 99.98846331333641%\n",
      "Testing Set Accuracy: 70.6391324411629%\n",
      "Training Set Recall: 99.99007706810438%\n",
      "Testing Set Recall: 66.47592889295795%\n",
      "Training Set Precision: 99.98676986174505%\n",
      "Testing Set Precision: 72.88773632256985%\n"
     ]
    }
   ],
   "source": [
    "train_score = accuracy_score(y_train, y_pred_train)*100\n",
    "test_score = accuracy_score(y_test, y_pred_test)*100\n",
    "recall_train = recall_score(y_train, y_pred_train)*100\n",
    "recall_test = recall_score(y_test, y_pred_test)*100\n",
    "precision_train = precision_score(y_train, y_pred_train)*100\n",
    "precision_test = precision_score(y_test, y_pred_test)*100\n",
    "\n",
    "\n",
    "print(\"Training Set Accuracy:\",str(train_score)+'%')\n",
    "print(\"Testing Set Accuracy:\",str(test_score)+'%')\n",
    "print(\"Training Set Recall:\",str(recall_train)+'%')\n",
    "print(\"Testing Set Recall:\",str(recall_test)+'%')\n",
    "print(\"Training Set Precision:\",str(precision_train)+'%')\n",
    "print(\"Testing Set Precision:\",str(precision_test)+'%')"
   ]
  },
  {
   "cell_type": "markdown",
   "metadata": {},
   "source": [
    "**Upsampled**<br/>\n",
    "Training Set Accuracy: 99.98567140226822%<br/>\n",
    "Testing Set Accuracy: 87.27537152504972%<br/>\n",
    "Training Set Recall: 99.98994599563369%<br/>\n",
    "Testing Set Recall: 87.51205239884297%<br/>\n",
    "Training Set Precision: 99.98132988654316%<br/>\n",
    "Testing Set Precision: 87.22205653312125%<br/>"
   ]
  },
  {
   "cell_type": "markdown",
   "metadata": {},
   "source": [
    "**Downsampled**<br/>\n",
    "Training Set Accuracy: 99.98846331333641%<br/>\n",
    "Testing Set Accuracy: 70.6391324411629%<br/>\n",
    "Training Set Recall: 99.99007706810438%<br/>\n",
    "Testing Set Recall: 66.47592889295795%<br/>\n",
    "Training Set Precision: 99.98676986174505%<br/>\n",
    "Testing Set Precision: 72.88773632256985%<br/>\n"
   ]
  },
  {
   "cell_type": "code",
   "execution_count": null,
   "metadata": {},
   "outputs": [],
   "source": []
  }
 ],
 "metadata": {
  "kernelspec": {
   "display_name": "Python 3",
   "language": "python",
   "name": "python3"
  },
  "language_info": {
   "codemirror_mode": {
    "name": "ipython",
    "version": 3
   },
   "file_extension": ".py",
   "mimetype": "text/x-python",
   "name": "python",
   "nbconvert_exporter": "python",
   "pygments_lexer": "ipython3",
   "version": "3.8.5"
  }
 },
 "nbformat": 4,
 "nbformat_minor": 4
}
