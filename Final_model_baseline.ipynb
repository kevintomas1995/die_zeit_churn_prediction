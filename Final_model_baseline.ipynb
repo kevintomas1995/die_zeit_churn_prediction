{
 "cells": [
  {
   "cell_type": "markdown",
   "metadata": {},
   "source": [
    "# **Churn Prediction 'Die ZEIT' - Baseline**\n",
    "### **Used Libraries**"
   ]
  },
  {
   "cell_type": "code",
   "execution_count": 1,
   "metadata": {},
   "outputs": [],
   "source": [
    "# Basic packages\n",
    "import pandas as pd\n",
    "import numpy as np\n",
    "import seaborn as sns\n",
    "import matplotlib.pyplot as plt\n",
    "from scipy import stats\n",
    "\n",
    "# Individual functions\n",
    "import functions_models as mdl\n",
    "\n",
    "# Scaling modules\n",
    "from sklearn.preprocessing import MinMaxScaler, StandardScaler\n",
    "\n",
    "# SUPERVISED LEARNING\n",
    "# Libraries for classification issues\n",
    "from sklearn.linear_model import LogisticRegression\n",
    "from sklearn.naive_bayes import GaussianNB\n",
    "\n",
    "# Libraries for classification and regression issues\n",
    "from sklearn.neighbors import KNeighborsClassifier\n",
    "from sklearn.ensemble import RandomForestClassifier\n",
    "from xgboost import XGBClassifier\n",
    "\n",
    "# Libraries for splitting data, hyperparameter tuning & Pipeline\n",
    "from sklearn.model_selection import train_test_split\n",
    "\n",
    "# Librarie for data balancing (sampling)\n",
    "from imblearn.under_sampling import RandomUnderSampler\n",
    "from imblearn.over_sampling import RandomOverSampler\n",
    "\n",
    "# Display the whole content of the data frame (all columns and rows)\n",
    "pd.set_option('display.max_columns', None)\n",
    "pd.set_option('display.max_rows', None)\n",
    "\n",
    "# Define decimal places shown in the notebook\n",
    "pd.options.display.float_format = '{:,.2f}'.format\n",
    "\n",
    "# Visualization\n",
    "%matplotlib inline\n",
    "sns.set_style('whitegrid')\n",
    "\n",
    "# Ignore warnings while plotting\n",
    "import warnings\n",
    "warnings.filterwarnings(\"ignore\")"
   ]
  },
  {
   "cell_type": "markdown",
   "metadata": {},
   "source": [
    "### **Settings**"
   ]
  },
  {
   "cell_type": "code",
   "execution_count": 2,
   "metadata": {},
   "outputs": [],
   "source": [
    "RSEED = 42\n",
    "TEST_SIZE = 0.3\n",
    "PATH = '00_plots/'"
   ]
  },
  {
   "cell_type": "markdown",
   "metadata": {},
   "source": [
    "### **Read Data**"
   ]
  },
  {
   "cell_type": "code",
   "execution_count": 3,
   "metadata": {},
   "outputs": [],
   "source": [
    "df = pd.read_csv('00_data/f_chtr_churn_traintable_nf.csv')"
   ]
  },
  {
   "cell_type": "markdown",
   "metadata": {},
   "source": [
    "### **Data insight**"
   ]
  },
  {
   "cell_type": "code",
   "execution_count": 4,
   "metadata": {},
   "outputs": [
    {
     "name": "stdout",
     "output_type": "stream",
     "text": [
      "The shape of the data set:\n",
      "209043 rows\n",
      "171 columns\n",
      "\n",
      "=========================\n",
      "Numeric features: 153\n",
      "Objectlike features: 18\n"
     ]
    }
   ],
   "source": [
    "# Numeric and categorical features\n",
    "shape_init_rows = df.shape[0]\n",
    "shape_init_cols = df.shape[1]\n",
    "\n",
    "print('The shape of the data set:\\n{0} rows\\n{1} columns\\n'.format(shape_init_rows, shape_init_cols))\n",
    "print('='*25)\n",
    "cont_f = df.select_dtypes(include=['float64', 'int64'])\n",
    "print('Numeric features: {0}'.format(len(cont_f.columns)))\n",
    "cat_f = df.select_dtypes(include=\"object\")\n",
    "print('Objectlike features: {0}'.format(len(cat_f.columns)))"
   ]
  },
  {
   "cell_type": "markdown",
   "metadata": {},
   "source": [
    "## **1 - Data Preprocessing for Modeling**\n",
    "### **Drop Irrelevant Features**"
   ]
  },
  {
   "cell_type": "code",
   "execution_count": 5,
   "metadata": {},
   "outputs": [],
   "source": [
    "df.drop(columns=['Unnamed: 0',\n",
    "                 'auftrag_new_id',\n",
    "                 'kuendigungs_eingangs_datum',\n",
    "                 'avg_churn',\n",
    "                 'training_set'], inplace=True)"
   ]
  },
  {
   "cell_type": "markdown",
   "metadata": {},
   "source": [
    "### **Drop Redundant Features**"
   ]
  },
  {
   "cell_type": "code",
   "execution_count": 6,
   "metadata": {},
   "outputs": [],
   "source": [
    "df.drop(columns=['ort',\n",
    "                 'plz_1',\n",
    "                 'plz_2'], inplace=True)"
   ]
  },
  {
   "cell_type": "markdown",
   "metadata": {},
   "source": [
    "### **Dealing with Missing Values**"
   ]
  },
  {
   "cell_type": "code",
   "execution_count": 7,
   "metadata": {},
   "outputs": [
    {
     "data": {
      "text/plain": [
       "opened_anzahl_3m       0\n",
       "openedanzahl_6m        0\n",
       "received_anzahl_1w     0\n",
       "date_x                 0\n",
       "email_am_kunden       12\n",
       "dtype: int64"
      ]
     },
     "execution_count": 7,
     "metadata": {},
     "output_type": "execute_result"
    }
   ],
   "source": [
    "df.isna().sum().sort_values().tail()"
   ]
  },
  {
   "cell_type": "code",
   "execution_count": 8,
   "metadata": {},
   "outputs": [],
   "source": [
    "df.dropna(subset=['email_am_kunden'], inplace=True)"
   ]
  },
  {
   "cell_type": "markdown",
   "metadata": {},
   "source": [
    "### **Summary**"
   ]
  },
  {
   "cell_type": "code",
   "execution_count": 9,
   "metadata": {},
   "outputs": [
    {
     "name": "stdout",
     "output_type": "stream",
     "text": [
      "The shape of the data set (after dealing with missing values):\n",
      "\n",
      "209031 rows \n",
      "163 columns\n",
      "\n",
      "=========================\n",
      "By dropping the rows containing missing values -- 0.006 % -- of the rows got removed\n",
      "(compared to the inital data set).\n",
      "\n",
      "=========================\n",
      "Features after dropping columns:\n",
      "\n",
      "Numeric features: 150\n",
      "Objectlike features: 13\n"
     ]
    }
   ],
   "source": [
    "# Numeric and categorical features\n",
    "shape_a_nan_rows = df.shape[0]\n",
    "shape_a_nan_cols = df.shape[1]\n",
    "\n",
    "print('The shape of the data set (after dealing with missing values):\\n\\n{0} rows \\n{1} columns\\n'.format(shape_a_nan_rows, shape_a_nan_cols))\n",
    "print('='*25)\n",
    "print('By dropping the rows containing missing values -- {0} % -- of the rows got removed\\n(compared to the inital data set).\\n'\n",
    "      .format(round(((shape_init_rows-shape_a_nan_rows)/shape_init_rows)*100, ndigits=3)))\n",
    "print('='*25)\n",
    "print('Features after dropping columns:\\n')\n",
    "cont_f = df.select_dtypes(include=['float64', 'int64'])\n",
    "print('Numeric features: {0}'.format(len(cont_f.columns)))\n",
    "cat_f = df.select_dtypes(include=\"object\")\n",
    "print('Objectlike features: {0}'.format(len(cat_f.columns)))"
   ]
  },
  {
   "cell_type": "markdown",
   "metadata": {},
   "source": [
    "### **Dealing with DTypes and Dummies**\n",
    "#### **Reformating zon_* columns**"
   ]
  },
  {
   "cell_type": "code",
   "execution_count": 10,
   "metadata": {},
   "outputs": [],
   "source": [
    "zon_columns = ['zon_che_opt_in', 'zon_sit_opt_in', 'zon_zp_grey', \n",
    "               'zon_premium', 'zon_boa', 'zon_kommentar', \n",
    "               'zon_sonstige', 'zon_zp_red', 'zon_rawr', \n",
    "               'zon_community', 'zon_app_sonstige', 'zon_schach', \n",
    "               'zon_blog_kommentare', 'zon_quiz'\n",
    "              ]\n",
    "\n",
    "zon_columns_ind = []\n",
    "\n",
    "for col in zon_columns:\n",
    "    ind = df.columns.get_loc(col)\n",
    "    zon_columns_ind.append(ind)\n",
    "\n",
    "for i in df.iloc[: , lambda df: [17, 18, 19, 20, 21, 22, 23, 24, 25, 26, 27, 28, 29, 30]]:\n",
    "    df[i] = df[i].apply(mdl.todumm)"
   ]
  },
  {
   "cell_type": "markdown",
   "metadata": {},
   "source": [
    "#### **DType Conversions**"
   ]
  },
  {
   "cell_type": "code",
   "execution_count": 11,
   "metadata": {},
   "outputs": [],
   "source": [
    "# Create list with categorical features and converting them -->> dtype = category\n",
    "category_features = ['kanal',\n",
    "                     'objekt_name',\n",
    "                     'aboform_name',\n",
    "                     'zahlung_rhythmus_name',\n",
    "                     'zahlung_weg_name',\n",
    "                     'land_iso_code',\n",
    "                     'anrede',\n",
    "                     'titel',\n",
    "                     'email_am_kunden'\n",
    "                    ]\n",
    "\n",
    "df[category_features] = df[category_features].astype('category')"
   ]
  },
  {
   "cell_type": "code",
   "execution_count": 12,
   "metadata": {},
   "outputs": [],
   "source": [
    "# Convert columns with dates -->> dtype = datetime\n",
    "df['liefer_beginn_evt'] = pd.to_datetime(df['liefer_beginn_evt'])\n",
    "df['abo_registrierung_min'] = pd.to_datetime(df['abo_registrierung_min'])\n",
    "df['nl_registrierung_min'] = pd.to_datetime(df['nl_registrierung_min'])\n",
    "df['date_x'] = pd.to_datetime(df['date_x'])"
   ]
  },
  {
   "cell_type": "code",
   "execution_count": 13,
   "metadata": {},
   "outputs": [],
   "source": [
    "# Creating new columns for datelike features (year & month)\n",
    "df['liefer_beginn_evt_year'] = df['liefer_beginn_evt'].dt.strftime('%Y')\n",
    "df['liefer_beginn_evt_month'] = df['liefer_beginn_evt'].dt.strftime('%m')\n",
    "\n",
    "df['abo_registrierung_min_year'] = df['abo_registrierung_min'].dt.strftime('%Y')\n",
    "df['abo_registrierung_min_month'] = df['abo_registrierung_min'].dt.strftime('%m')\n",
    "\n",
    "df['nl_registrierung_min_year'] = df['nl_registrierung_min'].dt.strftime('%Y')\n",
    "df['nl_registrierung_min_month'] = df['nl_registrierung_min'].dt.strftime('%m')\n",
    "\n",
    "df['date_x_year'] = df['date_x'].dt.strftime('%Y')\n",
    "df['date_x_month'] = df['date_x'].dt.strftime('%m')"
   ]
  },
  {
   "cell_type": "code",
   "execution_count": 14,
   "metadata": {},
   "outputs": [],
   "source": [
    "# Dropping original datelike columns\n",
    "df.drop(columns=['liefer_beginn_evt',\n",
    "                 'abo_registrierung_min',\n",
    "                 'nl_registrierung_min',\n",
    "                 'date_x'], inplace=True)"
   ]
  },
  {
   "cell_type": "code",
   "execution_count": 15,
   "metadata": {},
   "outputs": [],
   "source": [
    "# Replace values for foreign countrys ('xx') with '000' and convert dtype\n",
    "df['plz_3'] = df['plz_3'].replace('xx', '000').astype('int')"
   ]
  },
  {
   "cell_type": "markdown",
   "metadata": {},
   "source": [
    "#### **Dummy Creation**"
   ]
  },
  {
   "cell_type": "code",
   "execution_count": 16,
   "metadata": {},
   "outputs": [],
   "source": [
    "# List with varibales to be converted into dummies\n",
    "date_dum_features = ['liefer_beginn_evt_year',\n",
    "                     'liefer_beginn_evt_month',\n",
    "                     'abo_registrierung_min_year',\n",
    "                     'abo_registrierung_min_month',\n",
    "                     'nl_registrierung_min_year',\n",
    "                     'nl_registrierung_min_month',\n",
    "                     'date_x_year',\n",
    "                     'date_x_month'\n",
    "                    ]"
   ]
  },
  {
   "cell_type": "code",
   "execution_count": 17,
   "metadata": {},
   "outputs": [],
   "source": [
    "# Creating dummies\n",
    "dummy_df1 = pd.get_dummies(df[category_features], drop_first=True)\n",
    "dummy_df2 = pd.get_dummies(df[date_dum_features], drop_first=True)"
   ]
  },
  {
   "cell_type": "code",
   "execution_count": 18,
   "metadata": {},
   "outputs": [],
   "source": [
    "# Columns containing initial information for dummy columns\n",
    "df.drop(columns=category_features, inplace=True)\n",
    "df.drop(columns=date_dum_features, inplace=True)"
   ]
  },
  {
   "cell_type": "markdown",
   "metadata": {},
   "source": [
    "#### **Creat Clean df for Modelling (Concatinate Dummies to df)**"
   ]
  },
  {
   "cell_type": "code",
   "execution_count": 19,
   "metadata": {},
   "outputs": [],
   "source": [
    "df_model = pd.concat([df, dummy_df1,dummy_df2], axis=1)"
   ]
  },
  {
   "cell_type": "markdown",
   "metadata": {},
   "source": [
    "## **2 - Modeling**\n",
    "### **Data Balance - Initial Data**"
   ]
  },
  {
   "cell_type": "code",
   "execution_count": 20,
   "metadata": {},
   "outputs": [
    {
     "name": "stdout",
     "output_type": "stream",
     "text": [
      "Target variable (zeros):\n",
      "142743 -->> 68% of the data are zeros.\n",
      "\n",
      "Target variable (ones):\n",
      "66288 -->> 32% of the data are ones.\n",
      "\n"
     ]
    }
   ],
   "source": [
    "target_counts = df_model.churn.value_counts()\n",
    "target_sum = target_counts.sum()\n",
    "\n",
    "print('Target variable (zeros):\\n{0} -->> {1}% of the data are zeros.\\n'.format(target_counts[0], round((target_counts[0]/target_sum)*100)))\n",
    "print('Target variable (ones):\\n{0} -->> {1}% of the data are ones.\\n'.format(target_counts[1], round((target_counts[1]/target_sum)*100)))"
   ]
  },
  {
   "cell_type": "markdown",
   "metadata": {},
   "source": [
    "The distribution of the **target variable is not balanced**. This might also lead to a imbalance in the sample data for training, which effects the results calculated by the selected model."
   ]
  },
  {
   "cell_type": "markdown",
   "metadata": {},
   "source": [
    "### **Data Selection**\n",
    "+ y = Target variable -->> ```churn```\n",
    "+ X = Predictors -->> ```remaining columns```"
   ]
  },
  {
   "cell_type": "code",
   "execution_count": 21,
   "metadata": {},
   "outputs": [
    {
     "name": "stdout",
     "output_type": "stream",
     "text": [
      "The target variable (y) has 209031 rows.\n",
      "\n",
      "The predictor variables (X) have 209031 rows and 314 columns.\n"
     ]
    }
   ],
   "source": [
    "X = df_model.drop('churn', axis=1)\n",
    "y = df_model['churn']\n",
    "\n",
    "print('The target variable (y) has {0} rows.\\n'.format(y.shape[0]))\n",
    "print('The predictor variables (X) have {0} rows and {1} columns.'.format(X.shape[0], X.shape[1]))"
   ]
  },
  {
   "cell_type": "markdown",
   "metadata": {},
   "source": [
    "### **Train-Test-Split**"
   ]
  },
  {
   "cell_type": "code",
   "execution_count": 22,
   "metadata": {},
   "outputs": [
    {
     "name": "stdout",
     "output_type": "stream",
     "text": [
      "The test size is 30.0% of the preprocessed data set.\n",
      "=========================\n",
      "The train set has 146321 rows.\n",
      "=========================\n",
      "The test set has 62710 rows.\n"
     ]
    }
   ],
   "source": [
    "X_train, X_test, y_train, y_test = train_test_split(X, y, test_size = TEST_SIZE, random_state = RSEED)\n",
    "\n",
    "print('The test size is {}% of the preprocessed data set.'.format(TEST_SIZE*100))\n",
    "print('='*25)\n",
    "print('The train set has {0} rows.'.format(X_train.shape[0]))\n",
    "print('='*25)\n",
    "print('The test set has {0} rows.'.format(X_test.shape[0]))"
   ]
  },
  {
   "cell_type": "markdown",
   "metadata": {},
   "source": [
    "### **Scaling the data**"
   ]
  },
  {
   "cell_type": "code",
   "execution_count": 23,
   "metadata": {},
   "outputs": [
    {
     "data": {
      "text/html": [
       "<div>\n",
       "<style scoped>\n",
       "    .dataframe tbody tr th:only-of-type {\n",
       "        vertical-align: middle;\n",
       "    }\n",
       "\n",
       "    .dataframe tbody tr th {\n",
       "        vertical-align: top;\n",
       "    }\n",
       "\n",
       "    .dataframe thead th {\n",
       "        text-align: right;\n",
       "    }\n",
       "</style>\n",
       "<table border=\"1\" class=\"dataframe\">\n",
       "  <thead>\n",
       "    <tr style=\"text-align: right;\">\n",
       "      <th></th>\n",
       "      <th>count</th>\n",
       "      <th>mean</th>\n",
       "      <th>std</th>\n",
       "      <th>min</th>\n",
       "      <th>25%</th>\n",
       "      <th>50%</th>\n",
       "      <th>75%</th>\n",
       "      <th>max</th>\n",
       "    </tr>\n",
       "  </thead>\n",
       "  <tbody>\n",
       "    <tr>\n",
       "      <th>cnt_umwandlungsstatus2_dkey</th>\n",
       "      <td>209,031.00</td>\n",
       "      <td>2.90</td>\n",
       "      <td>72.65</td>\n",
       "      <td>0.00</td>\n",
       "      <td>0.00</td>\n",
       "      <td>0.00</td>\n",
       "      <td>1.00</td>\n",
       "      <td>3,129.00</td>\n",
       "    </tr>\n",
       "    <tr>\n",
       "      <th>nl_zeitbrief</th>\n",
       "      <td>209,031.00</td>\n",
       "      <td>1.41</td>\n",
       "      <td>0.85</td>\n",
       "      <td>0.00</td>\n",
       "      <td>1.00</td>\n",
       "      <td>2.00</td>\n",
       "      <td>2.00</td>\n",
       "      <td>2.00</td>\n",
       "    </tr>\n",
       "    <tr>\n",
       "      <th>nl_zeitshop</th>\n",
       "      <td>209,031.00</td>\n",
       "      <td>0.34</td>\n",
       "      <td>0.72</td>\n",
       "      <td>0.00</td>\n",
       "      <td>0.00</td>\n",
       "      <td>0.00</td>\n",
       "      <td>0.00</td>\n",
       "      <td>2.00</td>\n",
       "    </tr>\n",
       "    <tr>\n",
       "      <th>nl_zeitverlag_hamburg</th>\n",
       "      <td>209,031.00</td>\n",
       "      <td>0.12</td>\n",
       "      <td>0.47</td>\n",
       "      <td>0.00</td>\n",
       "      <td>0.00</td>\n",
       "      <td>0.00</td>\n",
       "      <td>0.00</td>\n",
       "      <td>2.00</td>\n",
       "    </tr>\n",
       "    <tr>\n",
       "      <th>nl_fdz_organisch</th>\n",
       "      <td>209,031.00</td>\n",
       "      <td>0.00</td>\n",
       "      <td>0.02</td>\n",
       "      <td>0.00</td>\n",
       "      <td>0.00</td>\n",
       "      <td>0.00</td>\n",
       "      <td>0.00</td>\n",
       "      <td>1.00</td>\n",
       "    </tr>\n",
       "    <tr>\n",
       "      <th>nl_blacklist_sum</th>\n",
       "      <td>209,031.00</td>\n",
       "      <td>0.06</td>\n",
       "      <td>0.47</td>\n",
       "      <td>0.00</td>\n",
       "      <td>0.00</td>\n",
       "      <td>0.00</td>\n",
       "      <td>0.00</td>\n",
       "      <td>22.00</td>\n",
       "    </tr>\n",
       "    <tr>\n",
       "      <th>nl_bounced_sum</th>\n",
       "      <td>209,031.00</td>\n",
       "      <td>0.19</td>\n",
       "      <td>0.72</td>\n",
       "      <td>0.00</td>\n",
       "      <td>0.00</td>\n",
       "      <td>0.00</td>\n",
       "      <td>0.00</td>\n",
       "      <td>16.00</td>\n",
       "    </tr>\n",
       "    <tr>\n",
       "      <th>nl_aktivitaet</th>\n",
       "      <td>209,031.00</td>\n",
       "      <td>6.89</td>\n",
       "      <td>4.54</td>\n",
       "      <td>0.00</td>\n",
       "      <td>4.00</td>\n",
       "      <td>6.00</td>\n",
       "      <td>9.00</td>\n",
       "      <td>39.00</td>\n",
       "    </tr>\n",
       "    <tr>\n",
       "      <th>nl_sperrliste_sum</th>\n",
       "      <td>209,031.00</td>\n",
       "      <td>0.11</td>\n",
       "      <td>1.71</td>\n",
       "      <td>0.00</td>\n",
       "      <td>0.00</td>\n",
       "      <td>0.00</td>\n",
       "      <td>0.00</td>\n",
       "      <td>133.00</td>\n",
       "    </tr>\n",
       "    <tr>\n",
       "      <th>nl_opt_in_sum</th>\n",
       "      <td>209,031.00</td>\n",
       "      <td>0.29</td>\n",
       "      <td>0.66</td>\n",
       "      <td>0.00</td>\n",
       "      <td>0.00</td>\n",
       "      <td>0.00</td>\n",
       "      <td>0.00</td>\n",
       "      <td>19.00</td>\n",
       "    </tr>\n",
       "    <tr>\n",
       "      <th>boa_reg</th>\n",
       "      <td>209,031.00</td>\n",
       "      <td>0.08</td>\n",
       "      <td>0.27</td>\n",
       "      <td>0.00</td>\n",
       "      <td>0.00</td>\n",
       "      <td>0.00</td>\n",
       "      <td>0.00</td>\n",
       "      <td>1.00</td>\n",
       "    </tr>\n",
       "    <tr>\n",
       "      <th>che_reg</th>\n",
       "      <td>209,031.00</td>\n",
       "      <td>0.09</td>\n",
       "      <td>0.29</td>\n",
       "      <td>0.00</td>\n",
       "      <td>0.00</td>\n",
       "      <td>0.00</td>\n",
       "      <td>0.00</td>\n",
       "      <td>1.00</td>\n",
       "    </tr>\n",
       "    <tr>\n",
       "      <th>sit_reg</th>\n",
       "      <td>209,031.00</td>\n",
       "      <td>0.08</td>\n",
       "      <td>0.26</td>\n",
       "      <td>0.00</td>\n",
       "      <td>0.00</td>\n",
       "      <td>0.00</td>\n",
       "      <td>0.00</td>\n",
       "      <td>1.00</td>\n",
       "    </tr>\n",
       "    <tr>\n",
       "      <th>sso_reg</th>\n",
       "      <td>209,031.00</td>\n",
       "      <td>0.71</td>\n",
       "      <td>0.45</td>\n",
       "      <td>0.00</td>\n",
       "      <td>0.00</td>\n",
       "      <td>1.00</td>\n",
       "      <td>1.00</td>\n",
       "      <td>1.00</td>\n",
       "    </tr>\n",
       "    <tr>\n",
       "      <th>received_anzahl_1w</th>\n",
       "      <td>209,031.00</td>\n",
       "      <td>3.34</td>\n",
       "      <td>4.45</td>\n",
       "      <td>0.00</td>\n",
       "      <td>0.00</td>\n",
       "      <td>2.00</td>\n",
       "      <td>5.00</td>\n",
       "      <td>54.00</td>\n",
       "    </tr>\n",
       "    <tr>\n",
       "      <th>received_anzahl_1m</th>\n",
       "      <td>209,031.00</td>\n",
       "      <td>12.80</td>\n",
       "      <td>16.50</td>\n",
       "      <td>0.00</td>\n",
       "      <td>1.00</td>\n",
       "      <td>7.00</td>\n",
       "      <td>19.00</td>\n",
       "      <td>203.00</td>\n",
       "    </tr>\n",
       "    <tr>\n",
       "      <th>received_anzahl_3m</th>\n",
       "      <td>209,031.00</td>\n",
       "      <td>36.72</td>\n",
       "      <td>45.26</td>\n",
       "      <td>0.00</td>\n",
       "      <td>2.00</td>\n",
       "      <td>20.00</td>\n",
       "      <td>57.00</td>\n",
       "      <td>573.00</td>\n",
       "    </tr>\n",
       "    <tr>\n",
       "      <th>received_anzahl_6m</th>\n",
       "      <td>209,031.00</td>\n",
       "      <td>72.57</td>\n",
       "      <td>87.43</td>\n",
       "      <td>0.00</td>\n",
       "      <td>5.00</td>\n",
       "      <td>43.00</td>\n",
       "      <td>116.00</td>\n",
       "      <td>1,147.00</td>\n",
       "    </tr>\n",
       "    <tr>\n",
       "      <th>opened_anzahl_1w</th>\n",
       "      <td>209,031.00</td>\n",
       "      <td>1.11</td>\n",
       "      <td>2.59</td>\n",
       "      <td>0.00</td>\n",
       "      <td>0.00</td>\n",
       "      <td>0.00</td>\n",
       "      <td>1.00</td>\n",
       "      <td>60.00</td>\n",
       "    </tr>\n",
       "    <tr>\n",
       "      <th>opened_anzahl_1m</th>\n",
       "      <td>209,031.00</td>\n",
       "      <td>4.18</td>\n",
       "      <td>9.24</td>\n",
       "      <td>0.00</td>\n",
       "      <td>0.00</td>\n",
       "      <td>1.00</td>\n",
       "      <td>4.00</td>\n",
       "      <td>314.00</td>\n",
       "    </tr>\n",
       "    <tr>\n",
       "      <th>opened_anzahl_3m</th>\n",
       "      <td>209,031.00</td>\n",
       "      <td>11.66</td>\n",
       "      <td>25.02</td>\n",
       "      <td>0.00</td>\n",
       "      <td>0.00</td>\n",
       "      <td>2.00</td>\n",
       "      <td>11.00</td>\n",
       "      <td>572.00</td>\n",
       "    </tr>\n",
       "    <tr>\n",
       "      <th>openedanzahl_6m</th>\n",
       "      <td>209,031.00</td>\n",
       "      <td>22.61</td>\n",
       "      <td>47.68</td>\n",
       "      <td>0.00</td>\n",
       "      <td>0.00</td>\n",
       "      <td>4.00</td>\n",
       "      <td>22.00</td>\n",
       "      <td>1,145.00</td>\n",
       "    </tr>\n",
       "    <tr>\n",
       "      <th>clicked_anzahl_1w</th>\n",
       "      <td>209,031.00</td>\n",
       "      <td>0.12</td>\n",
       "      <td>0.50</td>\n",
       "      <td>0.00</td>\n",
       "      <td>0.00</td>\n",
       "      <td>0.00</td>\n",
       "      <td>0.00</td>\n",
       "      <td>19.00</td>\n",
       "    </tr>\n",
       "    <tr>\n",
       "      <th>clicked_anzahl_1m</th>\n",
       "      <td>209,031.00</td>\n",
       "      <td>0.45</td>\n",
       "      <td>1.65</td>\n",
       "      <td>0.00</td>\n",
       "      <td>0.00</td>\n",
       "      <td>0.00</td>\n",
       "      <td>0.00</td>\n",
       "      <td>66.00</td>\n",
       "    </tr>\n",
       "    <tr>\n",
       "      <th>clicked_anzahl_3m</th>\n",
       "      <td>209,031.00</td>\n",
       "      <td>1.20</td>\n",
       "      <td>3.91</td>\n",
       "      <td>0.00</td>\n",
       "      <td>0.00</td>\n",
       "      <td>0.00</td>\n",
       "      <td>1.00</td>\n",
       "      <td>169.00</td>\n",
       "    </tr>\n",
       "  </tbody>\n",
       "</table>\n",
       "</div>"
      ],
      "text/plain": [
       "                                 count  mean   std  min  25%   50%    75%  \\\n",
       "cnt_umwandlungsstatus2_dkey 209,031.00  2.90 72.65 0.00 0.00  0.00   1.00   \n",
       "nl_zeitbrief                209,031.00  1.41  0.85 0.00 1.00  2.00   2.00   \n",
       "nl_zeitshop                 209,031.00  0.34  0.72 0.00 0.00  0.00   0.00   \n",
       "nl_zeitverlag_hamburg       209,031.00  0.12  0.47 0.00 0.00  0.00   0.00   \n",
       "nl_fdz_organisch            209,031.00  0.00  0.02 0.00 0.00  0.00   0.00   \n",
       "nl_blacklist_sum            209,031.00  0.06  0.47 0.00 0.00  0.00   0.00   \n",
       "nl_bounced_sum              209,031.00  0.19  0.72 0.00 0.00  0.00   0.00   \n",
       "nl_aktivitaet               209,031.00  6.89  4.54 0.00 4.00  6.00   9.00   \n",
       "nl_sperrliste_sum           209,031.00  0.11  1.71 0.00 0.00  0.00   0.00   \n",
       "nl_opt_in_sum               209,031.00  0.29  0.66 0.00 0.00  0.00   0.00   \n",
       "boa_reg                     209,031.00  0.08  0.27 0.00 0.00  0.00   0.00   \n",
       "che_reg                     209,031.00  0.09  0.29 0.00 0.00  0.00   0.00   \n",
       "sit_reg                     209,031.00  0.08  0.26 0.00 0.00  0.00   0.00   \n",
       "sso_reg                     209,031.00  0.71  0.45 0.00 0.00  1.00   1.00   \n",
       "received_anzahl_1w          209,031.00  3.34  4.45 0.00 0.00  2.00   5.00   \n",
       "received_anzahl_1m          209,031.00 12.80 16.50 0.00 1.00  7.00  19.00   \n",
       "received_anzahl_3m          209,031.00 36.72 45.26 0.00 2.00 20.00  57.00   \n",
       "received_anzahl_6m          209,031.00 72.57 87.43 0.00 5.00 43.00 116.00   \n",
       "opened_anzahl_1w            209,031.00  1.11  2.59 0.00 0.00  0.00   1.00   \n",
       "opened_anzahl_1m            209,031.00  4.18  9.24 0.00 0.00  1.00   4.00   \n",
       "opened_anzahl_3m            209,031.00 11.66 25.02 0.00 0.00  2.00  11.00   \n",
       "openedanzahl_6m             209,031.00 22.61 47.68 0.00 0.00  4.00  22.00   \n",
       "clicked_anzahl_1w           209,031.00  0.12  0.50 0.00 0.00  0.00   0.00   \n",
       "clicked_anzahl_1m           209,031.00  0.45  1.65 0.00 0.00  0.00   0.00   \n",
       "clicked_anzahl_3m           209,031.00  1.20  3.91 0.00 0.00  0.00   1.00   \n",
       "\n",
       "                                 max  \n",
       "cnt_umwandlungsstatus2_dkey 3,129.00  \n",
       "nl_zeitbrief                    2.00  \n",
       "nl_zeitshop                     2.00  \n",
       "nl_zeitverlag_hamburg           2.00  \n",
       "nl_fdz_organisch                1.00  \n",
       "nl_blacklist_sum               22.00  \n",
       "nl_bounced_sum                 16.00  \n",
       "nl_aktivitaet                  39.00  \n",
       "nl_sperrliste_sum             133.00  \n",
       "nl_opt_in_sum                  19.00  \n",
       "boa_reg                         1.00  \n",
       "che_reg                         1.00  \n",
       "sit_reg                         1.00  \n",
       "sso_reg                         1.00  \n",
       "received_anzahl_1w             54.00  \n",
       "received_anzahl_1m            203.00  \n",
       "received_anzahl_3m            573.00  \n",
       "received_anzahl_6m          1,147.00  \n",
       "opened_anzahl_1w               60.00  \n",
       "opened_anzahl_1m              314.00  \n",
       "opened_anzahl_3m              572.00  \n",
       "openedanzahl_6m             1,145.00  \n",
       "clicked_anzahl_1w              19.00  \n",
       "clicked_anzahl_1m              66.00  \n",
       "clicked_anzahl_3m             169.00  "
      ]
     },
     "execution_count": 23,
     "metadata": {},
     "output_type": "execute_result"
    }
   ],
   "source": [
    "df.describe().transpose()[25:50]"
   ]
  },
  {
   "cell_type": "markdown",
   "metadata": {},
   "source": [
    "Different value ranges of the predictors ...\n",
    "................<br/>\n",
    "............<br/>\n",
    "........<br/>"
   ]
  },
  {
   "cell_type": "code",
   "execution_count": 24,
   "metadata": {},
   "outputs": [],
   "source": [
    "features_2_scale = ['lesedauer',\n",
    "                    'plz_3',\n",
    "                    'shop_kauf',\n",
    "                    'cnt_abo', 'cnt_abo_diezeit', 'cnt_abo_diezeit_digital', 'cnt_abo_magazin', 'cnt_umwandlungsstatus2_dkey',\n",
    "                    'nl_zeitbrief', 'nl_zeitshop', 'nl_zeitverlag_hamburg', 'nl_fdz_organisch', 'nl_blacklist_sum', 'nl_bounced_sum', 'nl_aktivitaet', 'nl_sperrliste_sum', 'nl_opt_in_sum',\n",
    "                    'received_anzahl_1w', 'received_anzahl_1m', 'received_anzahl_3m', 'received_anzahl_6m', \n",
    "                    'opened_anzahl_1w', 'opened_anzahl_1m', 'opened_anzahl_3m', 'openedanzahl_6m', \n",
    "                    'clicked_anzahl_1w', 'clicked_anzahl_1m', 'clicked_anzahl_3m', 'clicked_anzahl_6m', \n",
    "                    'unsubscribed_anzahl_1w', 'unsubscribed_anzahl_1m', 'unsubscribed_anzahl_3m', 'unsubscribed_anzahl_6m', \n",
    "                    'openrate_1w', 'clickrate_1w', 'openrate_1m', 'clickrate_1m', 'openrate_3m', 'clickrate_3m',\n",
    "                    'received_anzahl_bestandskunden_1w', 'received_anzahl_bestandskunden_1m', 'received_anzahl_bestandskunden_3m', 'received_anzahl_bestandskunden_6m', \n",
    "                    'opened_anzahl_bestandskunden_1w', 'opened_anzahl_bestandskunden_1m', 'opened_anzahl_bestandskunden_3m', 'openedanzahl_bestandskunden_6m', \n",
    "                    'clicked_anzahl_bestandskunden_1w', 'clicked_anzahl_bestandskunden_1m', 'clicked_anzahl_bestandskunden_3m', 'clicked_anzahl_bestandskunden_6m', \n",
    "                    'unsubscribed_anzahl_bestandskunden_1w', 'unsubscribed_anzahl_bestandskunden_1m', 'unsubscribed_anzahl_bestandskunden_3m', 'unsubscribed_anzahl_bestandskunden_6m', \n",
    "                    'openrate_bestandskunden_1w', 'clickrate_bestandskunden_1w', \n",
    "                    'openrate_bestandskunden_1m', 'clickrate_bestandskunden_1m', \n",
    "                    'openrate_bestandskunden_3m', 'clickrate_bestandskunden_3m', \n",
    "                    'received_anzahl_produktnews_1w', 'received_anzahl_produktnews_1m', 'received_anzahl_produktnews_3m', 'received_anzahl_produktnews_6m', \n",
    "                    'opened_anzahl_produktnews_1w', 'opened_anzahl_produktnews_1m', 'opened_anzahl_produktnews_3m', 'openedanzahl_produktnews_6m', \n",
    "                    'clicked_anzahl_produktnews_1w', 'clicked_anzahl_produktnews_1m', 'clicked_anzahl_produktnews_3m', 'clicked_anzahl_produktnews_6m', \n",
    "                    'unsubscribed_anzahl_produktnews_1w', 'unsubscribed_anzahl_produktnews_1m', 'unsubscribed_anzahl_produktnews_3m', 'unsubscribed_anzahl_produktnews_6m', \n",
    "                    'openrate_produktnews_1w', 'clickrate_produktnews_1w', \n",
    "                    'openrate_produktnews_1m', 'clickrate_produktnews_1m', \n",
    "                    'openrate_produktnews_3m', 'clickrate_produktnews_3m', \n",
    "                    'received_anzahl_hamburg_1w', 'received_anzahl_hamburg_1m', 'received_anzahl_hamburg_3m', 'received_anzahl_hamburg_6m', \n",
    "                    'opened_anzahl_hamburg_1w', 'opened_anzahl_hamburg_1m', 'opened_anzahl_hamburg_3m', 'openedanzahl_hamburg_6m', \n",
    "                    'clicked_anzahl_hamburg_1w', 'clicked_anzahl_hamburg_1m', 'clicked_anzahl_hamburg_3m', 'clicked_anzahl_hamburg_6m', \n",
    "                    'unsubscribed_anzahl_hamburg_1w', 'unsubscribed_anzahl_hamburg_1m', 'unsubscribed_anzahl_hamburg_3m', 'unsubscribed_anzahl_hamburg_6m', \n",
    "                    'openrate_hamburg_1w', 'clickrate_hamburg_1w', \n",
    "                    'openrate_hamburg_1m', 'clickrate_hamburg_1m', \n",
    "                    'openrate_hamburg_3m', 'clickrate_hamburg_3m', \n",
    "                    'received_anzahl_zeitbrief_1w', 'received_anzahl_zeitbrief_1m', 'received_anzahl_zeitbrief_3m', 'received_anzahl_zeitbrief_6m', \n",
    "                    'opened_anzahl_zeitbrief_1w', 'opened_anzahl_zeitbrief_1m', 'opened_anzahl_zeitbrief_3m', 'openedanzahl_zeitbrief_6m', \n",
    "                    'clicked_anzahl_zeitbrief_1w', 'clicked_anzahl_zeitbrief_1m', 'clicked_anzahl_zeitbrief_3m', 'clicked_anzahl_zeitbrief_6m', \n",
    "                    'unsubscribed_anzahl_zeitbrief_1w', 'unsubscribed_anzahl_zeitbrief_1m', 'unsubscribed_anzahl_zeitbrief_3m', 'unsubscribed_anzahl_zeitbrief_6m', \n",
    "                    'openrate_zeitbrief_1w', 'clickrate_zeitbrief_1w', \n",
    "                    'openrate_zeitbrief_1m', 'clickrate_zeitbrief_1m', \n",
    "                    'openrate_zeitbrief_3m', 'clickrate_zeitbrief_3m'\n",
    "                    ]"
   ]
  },
  {
   "cell_type": "code",
   "execution_count": 25,
   "metadata": {},
   "outputs": [],
   "source": [
    "scaler = StandardScaler()\n",
    "\n",
    "# if you scale every column, do scaler.fit_transform(X_train)\n",
    "X_train_scaled = scaler.fit_transform(X_train[features_2_scale])\n",
    "\n",
    "# if you scale every column, do scaler.transform(X_train)\n",
    "X_test_scaled = scaler.transform(X_test[features_2_scale])\n",
    "\n",
    "# if you scale every column, you can skip this part\n",
    "X_train_scaled = np.concatenate([X_train_scaled, X_train.drop(features_2_scale, axis=1)], axis=1)\n",
    "X_test_scaled = np.concatenate([X_test_scaled, X_test.drop(features_2_scale, axis=1)], axis=1)"
   ]
  },
  {
   "cell_type": "markdown",
   "metadata": {},
   "source": [
    "### **Data Balance - Train Data**"
   ]
  },
  {
   "cell_type": "code",
   "execution_count": 26,
   "metadata": {},
   "outputs": [
    {
     "name": "stdout",
     "output_type": "stream",
     "text": [
      "Target variable - train (zeros):\n",
      "99844 -->> 68% of the sample are zeros.\n",
      "\n",
      "Target variable - train (ones):\n",
      "46477 -->> 32% of the sample are ones.\n",
      "\n"
     ]
    }
   ],
   "source": [
    "target_counts_y_train = y_train.value_counts()\n",
    "target_sum_y_train = target_counts_y_train.sum()\n",
    "\n",
    "print('Target variable - train (zeros):\\n{0} -->> {1}% of the sample are zeros.\\n'.format(target_counts_y_train[0], round((target_counts_y_train[0]/target_sum_y_train)*100)))\n",
    "print('Target variable - train (ones):\\n{0} -->> {1}% of the sample are ones.\\n'.format(target_counts_y_train[1], round((target_counts_y_train[1]/target_sum_y_train)*100)))"
   ]
  },
  {
   "cell_type": "markdown",
   "metadata": {},
   "source": [
    "Need to be sampled\n",
    "................<br/>\n",
    "............<br/>\n",
    "........<br/>"
   ]
  },
  {
   "cell_type": "code",
   "execution_count": 27,
   "metadata": {},
   "outputs": [
    {
     "data": {
      "text/plain": [
       "146321"
      ]
     },
     "execution_count": 27,
     "metadata": {},
     "output_type": "execute_result"
    }
   ],
   "source": [
    "target_sum_y_train"
   ]
  },
  {
   "cell_type": "code",
   "execution_count": 28,
   "metadata": {},
   "outputs": [],
   "source": [
    "# Instantiate the random sampler\n",
    "rus = RandomUnderSampler(random_state = RSEED)\n",
    "\n",
    "X_train_scaled_balanced, y_train_balanced = rus.fit_resample(X_train_scaled, y_train)"
   ]
  },
  {
   "cell_type": "code",
   "execution_count": 29,
   "metadata": {},
   "outputs": [
    {
     "name": "stdout",
     "output_type": "stream",
     "text": [
      "1    46477\n",
      "0    46477\n",
      "Name: churn, dtype: int64\n",
      "92954\n"
     ]
    }
   ],
   "source": [
    "target_counts_y_train_balanced = y_train_balanced.value_counts()\n",
    "target_sum_y_train_balanced = target_counts_y_train_balanced.sum()\n",
    "\n",
    "print(target_counts_y_train_balanced)\n",
    "print(target_sum_y_train_balanced)"
   ]
  },
  {
   "cell_type": "code",
   "execution_count": null,
   "metadata": {},
   "outputs": [],
   "source": []
  },
  {
   "cell_type": "markdown",
   "metadata": {},
   "source": [
    "After the sampling ...\n",
    "................<br/>\n",
    "............<br/>\n",
    "........<br/>"
   ]
  },
  {
   "cell_type": "markdown",
   "metadata": {},
   "source": [
    "### **Initialize the Model(s) for Predictions**"
   ]
  },
  {
   "cell_type": "code",
   "execution_count": 30,
   "metadata": {},
   "outputs": [],
   "source": [
    "# Initialize the models\n",
    "model_NB = GaussianNB(var_smoothing=1e-09)\n",
    "\n",
    "model_LG = LogisticRegression()\n",
    "\n",
    "model_KNN = KNeighborsClassifier(n_neighbors=5, metric='euclidean')\n",
    "\n",
    "model_RF = RandomForestClassifier(n_estimators = 500, min_samples_split = 2, \n",
    "                               max_leaf_nodes = 50, max_depth = 25, \n",
    "                               bootstrap = True, max_features = 'auto',   \n",
    "                               n_jobs=-1, verbose = 1, random_state = RSEED)\n",
    "\n",
    "model_XGB = XGBClassifier(n_estimators = 200, gamma = 100, \n",
    "                      learning_rate = 0.01, max_depth = 12, booster = 'gbtree',\n",
    "                      scale_pos_weight = 1.5, objective = 'binary:logistic', random_state = RSEED)"
   ]
  },
  {
   "cell_type": "markdown",
   "metadata": {},
   "source": [
    "### **Run the Model(s)**"
   ]
  },
  {
   "cell_type": "code",
   "execution_count": 31,
   "metadata": {},
   "outputs": [
    {
     "name": "stdout",
     "output_type": "stream",
     "text": [
      "Finished working out in the gym: LogisticRegression \n",
      "Finished working out in the gym: GaussianNB \n",
      "Finished working out in the gym: XGBClassifier \n"
     ]
    },
    {
     "name": "stderr",
     "output_type": "stream",
     "text": [
      "[Parallel(n_jobs=-1)]: Using backend ThreadingBackend with 8 concurrent workers.\n",
      "[Parallel(n_jobs=-1)]: Done  34 tasks      | elapsed:    1.7s\n",
      "[Parallel(n_jobs=-1)]: Done 184 tasks      | elapsed:    8.3s\n",
      "[Parallel(n_jobs=-1)]: Done 434 tasks      | elapsed:   18.8s\n",
      "[Parallel(n_jobs=-1)]: Done 500 out of 500 | elapsed:   21.6s finished\n",
      "[Parallel(n_jobs=8)]: Using backend ThreadingBackend with 8 concurrent workers.\n",
      "[Parallel(n_jobs=8)]: Done  34 tasks      | elapsed:    0.1s\n",
      "[Parallel(n_jobs=8)]: Done 184 tasks      | elapsed:    0.4s\n",
      "[Parallel(n_jobs=8)]: Done 434 tasks      | elapsed:    0.9s\n",
      "[Parallel(n_jobs=8)]: Done 500 out of 500 | elapsed:    1.1s finished\n",
      "[Parallel(n_jobs=8)]: Using backend ThreadingBackend with 8 concurrent workers.\n",
      "[Parallel(n_jobs=8)]: Done  34 tasks      | elapsed:    0.0s\n",
      "[Parallel(n_jobs=8)]: Done 184 tasks      | elapsed:    0.2s\n"
     ]
    },
    {
     "name": "stdout",
     "output_type": "stream",
     "text": [
      "Finished working out in the gym: RandomForestClassifier \n"
     ]
    },
    {
     "name": "stderr",
     "output_type": "stream",
     "text": [
      "[Parallel(n_jobs=8)]: Done 434 tasks      | elapsed:    0.4s\n",
      "[Parallel(n_jobs=8)]: Done 500 out of 500 | elapsed:    0.5s finished\n"
     ]
    }
   ],
   "source": [
    "# List with models to be investigated\n",
    "models = [model_LG, model_NB, model_XGB, model_RF]\n",
    "\n",
    "# Call the run_model function to run all models initialized and added to list\n",
    "results_list, predicted_target_values_list = mdl.run_models(X_train_scaled_balanced, X_test_scaled, y_train_balanced, y_test, models)"
   ]
  },
  {
   "cell_type": "markdown",
   "metadata": {},
   "source": [
    "## **3 - Model Evaluation**\n",
    "### **Create the Evaluation Reporting**\n"
   ]
  },
  {
   "cell_type": "code",
   "execution_count": 32,
   "metadata": {},
   "outputs": [
    {
     "name": "stdout",
     "output_type": "stream",
     "text": [
      "\u001b[1m \u001b[4mReporting for LogisticRegression:\n",
      "\u001b[0m\n"
     ]
    },
    {
     "data": {
      "text/html": [
       "<div>\n",
       "<style scoped>\n",
       "    .dataframe tbody tr th:only-of-type {\n",
       "        vertical-align: middle;\n",
       "    }\n",
       "\n",
       "    .dataframe tbody tr th {\n",
       "        vertical-align: top;\n",
       "    }\n",
       "\n",
       "    .dataframe thead th {\n",
       "        text-align: right;\n",
       "    }\n",
       "</style>\n",
       "<table border=\"1\" class=\"dataframe\">\n",
       "  <thead>\n",
       "    <tr style=\"text-align: right;\">\n",
       "      <th></th>\n",
       "      <th>model_name</th>\n",
       "      <th>train_time</th>\n",
       "      <th>pred_time</th>\n",
       "      <th>acc_train</th>\n",
       "      <th>acc_test</th>\n",
       "      <th>precision_train</th>\n",
       "      <th>precision_test</th>\n",
       "      <th>recall_train</th>\n",
       "      <th>recall_test</th>\n",
       "    </tr>\n",
       "  </thead>\n",
       "  <tbody>\n",
       "    <tr>\n",
       "      <th>0</th>\n",
       "      <td>LogisticRegression</td>\n",
       "      <td>4.07</td>\n",
       "      <td>0.07</td>\n",
       "      <td>0.69</td>\n",
       "      <td>0.68</td>\n",
       "      <td>0.69</td>\n",
       "      <td>0.50</td>\n",
       "      <td>0.70</td>\n",
       "      <td>0.70</td>\n",
       "    </tr>\n",
       "  </tbody>\n",
       "</table>\n",
       "</div>"
      ],
      "text/plain": [
       "           model_name  train_time  pred_time  acc_train  acc_test  \\\n",
       "0  LogisticRegression        4.07       0.07       0.69      0.68   \n",
       "\n",
       "   precision_train  precision_test  recall_train  recall_test  \n",
       "0             0.69            0.50          0.70         0.70  "
      ]
     },
     "metadata": {},
     "output_type": "display_data"
    },
    {
     "name": "stdout",
     "output_type": "stream",
     "text": [
      "\u001b[1m\n",
      "Classification Report for LogisticRegression :\n",
      "\n",
      "\u001b[0m               precision    recall  f1-score   support\n",
      "\n",
      "           0       0.83      0.67      0.74     42899\n",
      "           1       0.50      0.70      0.58     19811\n",
      "\n",
      "    accuracy                           0.68     62710\n",
      "   macro avg       0.66      0.69      0.66     62710\n",
      "weighted avg       0.72      0.68      0.69     62710\n",
      "\n"
     ]
    },
    {
     "data": {
      "image/png": "[encoded data removed]",
      "text/plain": [
       "<Figure size 288x288 with 1 Axes>"
      ]
     },
     "metadata": {},
     "output_type": "display_data"
    },
    {
     "name": "stdout",
     "output_type": "stream",
     "text": [
      "\n",
      "====================================================================================================\n",
      "====================================================================================================\n",
      "\n",
      "\u001b[1m \u001b[4mReporting for GaussianNB:\n",
      "\u001b[0m\n"
     ]
    },
    {
     "data": {
      "text/html": [
       "<div>\n",
       "<style scoped>\n",
       "    .dataframe tbody tr th:only-of-type {\n",
       "        vertical-align: middle;\n",
       "    }\n",
       "\n",
       "    .dataframe tbody tr th {\n",
       "        vertical-align: top;\n",
       "    }\n",
       "\n",
       "    .dataframe thead th {\n",
       "        text-align: right;\n",
       "    }\n",
       "</style>\n",
       "<table border=\"1\" class=\"dataframe\">\n",
       "  <thead>\n",
       "    <tr style=\"text-align: right;\">\n",
       "      <th></th>\n",
       "      <th>model_name</th>\n",
       "      <th>train_time</th>\n",
       "      <th>pred_time</th>\n",
       "      <th>acc_train</th>\n",
       "      <th>acc_test</th>\n",
       "      <th>precision_train</th>\n",
       "      <th>precision_test</th>\n",
       "      <th>recall_train</th>\n",
       "      <th>recall_test</th>\n",
       "    </tr>\n",
       "  </thead>\n",
       "  <tbody>\n",
       "    <tr>\n",
       "      <th>1</th>\n",
       "      <td>GaussianNB</td>\n",
       "      <td>0.53</td>\n",
       "      <td>1.47</td>\n",
       "      <td>0.59</td>\n",
       "      <td>0.48</td>\n",
       "      <td>0.56</td>\n",
       "      <td>0.36</td>\n",
       "      <td>0.85</td>\n",
       "      <td>0.85</td>\n",
       "    </tr>\n",
       "  </tbody>\n",
       "</table>\n",
       "</div>"
      ],
      "text/plain": [
       "   model_name  train_time  pred_time  acc_train  acc_test  precision_train  \\\n",
       "1  GaussianNB        0.53       1.47       0.59      0.48             0.56   \n",
       "\n",
       "   precision_test  recall_train  recall_test  \n",
       "1            0.36          0.85         0.85  "
      ]
     },
     "metadata": {},
     "output_type": "display_data"
    },
    {
     "name": "stdout",
     "output_type": "stream",
     "text": [
      "\u001b[1m\n",
      "Classification Report for GaussianNB :\n",
      "\n",
      "\u001b[0m               precision    recall  f1-score   support\n",
      "\n",
      "           0       0.82      0.31      0.45     42899\n",
      "           1       0.36      0.85      0.51     19811\n",
      "\n",
      "    accuracy                           0.48     62710\n",
      "   macro avg       0.59      0.58      0.48     62710\n",
      "weighted avg       0.67      0.48      0.47     62710\n",
      "\n"
     ]
    },
    {
     "data": {
      "image/png": "[encoded data removed]",
      "text/plain": [
       "<Figure size 288x288 with 1 Axes>"
      ]
     },
     "metadata": {},
     "output_type": "display_data"
    },
    {
     "name": "stdout",
     "output_type": "stream",
     "text": [
      "\n",
      "====================================================================================================\n",
      "====================================================================================================\n",
      "\n",
      "\u001b[1m \u001b[4mReporting for XGBClassifier:\n",
      "\u001b[0m\n"
     ]
    },
    {
     "data": {
      "text/html": [
       "<div>\n",
       "<style scoped>\n",
       "    .dataframe tbody tr th:only-of-type {\n",
       "        vertical-align: middle;\n",
       "    }\n",
       "\n",
       "    .dataframe tbody tr th {\n",
       "        vertical-align: top;\n",
       "    }\n",
       "\n",
       "    .dataframe thead th {\n",
       "        text-align: right;\n",
       "    }\n",
       "</style>\n",
       "<table border=\"1\" class=\"dataframe\">\n",
       "  <thead>\n",
       "    <tr style=\"text-align: right;\">\n",
       "      <th></th>\n",
       "      <th>model_name</th>\n",
       "      <th>train_time</th>\n",
       "      <th>pred_time</th>\n",
       "      <th>acc_train</th>\n",
       "      <th>acc_test</th>\n",
       "      <th>precision_train</th>\n",
       "      <th>precision_test</th>\n",
       "      <th>recall_train</th>\n",
       "      <th>recall_test</th>\n",
       "    </tr>\n",
       "  </thead>\n",
       "  <tbody>\n",
       "    <tr>\n",
       "      <th>2</th>\n",
       "      <td>XGBClassifier</td>\n",
       "      <td>176.57</td>\n",
       "      <td>1.70</td>\n",
       "      <td>0.66</td>\n",
       "      <td>0.60</td>\n",
       "      <td>0.62</td>\n",
       "      <td>0.43</td>\n",
       "      <td>0.82</td>\n",
       "      <td>0.82</td>\n",
       "    </tr>\n",
       "  </tbody>\n",
       "</table>\n",
       "</div>"
      ],
      "text/plain": [
       "      model_name  train_time  pred_time  acc_train  acc_test  precision_train  \\\n",
       "2  XGBClassifier      176.57       1.70       0.66      0.60             0.62   \n",
       "\n",
       "   precision_test  recall_train  recall_test  \n",
       "2            0.43          0.82         0.82  "
      ]
     },
     "metadata": {},
     "output_type": "display_data"
    },
    {
     "name": "stdout",
     "output_type": "stream",
     "text": [
      "\u001b[1m\n",
      "Classification Report for XGBClassifier :\n",
      "\n",
      "\u001b[0m               precision    recall  f1-score   support\n",
      "\n",
      "           0       0.86      0.50      0.63     42899\n",
      "           1       0.43      0.82      0.57     19811\n",
      "\n",
      "    accuracy                           0.60     62710\n",
      "   macro avg       0.65      0.66      0.60     62710\n",
      "weighted avg       0.72      0.60      0.61     62710\n",
      "\n"
     ]
    },
    {
     "data": {
      "image/png": "[encoded data removed]",
      "text/plain": [
       "<Figure size 288x288 with 1 Axes>"
      ]
     },
     "metadata": {},
     "output_type": "display_data"
    },
    {
     "name": "stdout",
     "output_type": "stream",
     "text": [
      "\n",
      "====================================================================================================\n",
      "====================================================================================================\n",
      "\n",
      "\u001b[1m \u001b[4mReporting for RandomForestClassifier:\n",
      "\u001b[0m\n"
     ]
    },
    {
     "data": {
      "text/html": [
       "<div>\n",
       "<style scoped>\n",
       "    .dataframe tbody tr th:only-of-type {\n",
       "        vertical-align: middle;\n",
       "    }\n",
       "\n",
       "    .dataframe tbody tr th {\n",
       "        vertical-align: top;\n",
       "    }\n",
       "\n",
       "    .dataframe thead th {\n",
       "        text-align: right;\n",
       "    }\n",
       "</style>\n",
       "<table border=\"1\" class=\"dataframe\">\n",
       "  <thead>\n",
       "    <tr style=\"text-align: right;\">\n",
       "      <th></th>\n",
       "      <th>model_name</th>\n",
       "      <th>train_time</th>\n",
       "      <th>pred_time</th>\n",
       "      <th>acc_train</th>\n",
       "      <th>acc_test</th>\n",
       "      <th>precision_train</th>\n",
       "      <th>precision_test</th>\n",
       "      <th>recall_train</th>\n",
       "      <th>recall_test</th>\n",
       "    </tr>\n",
       "  </thead>\n",
       "  <tbody>\n",
       "    <tr>\n",
       "      <th>3</th>\n",
       "      <td>RandomForestClassifier</td>\n",
       "      <td>21.84</td>\n",
       "      <td>1.69</td>\n",
       "      <td>0.68</td>\n",
       "      <td>0.69</td>\n",
       "      <td>0.69</td>\n",
       "      <td>0.50</td>\n",
       "      <td>0.66</td>\n",
       "      <td>0.66</td>\n",
       "    </tr>\n",
       "  </tbody>\n",
       "</table>\n",
       "</div>"
      ],
      "text/plain": [
       "               model_name  train_time  pred_time  acc_train  acc_test  \\\n",
       "3  RandomForestClassifier       21.84       1.69       0.68      0.69   \n",
       "\n",
       "   precision_train  precision_test  recall_train  recall_test  \n",
       "3             0.69            0.50          0.66         0.66  "
      ]
     },
     "metadata": {},
     "output_type": "display_data"
    },
    {
     "name": "stdout",
     "output_type": "stream",
     "text": [
      "\u001b[1m\n",
      "Classification Report for RandomForestClassifier :\n",
      "\n",
      "\u001b[0m               precision    recall  f1-score   support\n",
      "\n",
      "           0       0.82      0.70      0.76     42899\n",
      "           1       0.50      0.66      0.57     19811\n",
      "\n",
      "    accuracy                           0.69     62710\n",
      "   macro avg       0.66      0.68      0.66     62710\n",
      "weighted avg       0.72      0.69      0.70     62710\n",
      "\n"
     ]
    },
    {
     "data": {
      "image/png": "[encoded data removed]",
      "text/plain": [
       "<Figure size 288x288 with 1 Axes>"
      ]
     },
     "metadata": {},
     "output_type": "display_data"
    },
    {
     "name": "stdout",
     "output_type": "stream",
     "text": [
      "\n",
      "====================================================================================================\n",
      "====================================================================================================\n",
      "\n"
     ]
    }
   ],
   "source": [
    "mdl.ml_reporting(results_list, predicted_target_values_list)"
   ]
  },
  {
   "cell_type": "markdown",
   "metadata": {},
   "source": [
    "In several experiments different combinations of scaling and balancing strategies have been tested (focusing on the logistic regression as the benchmark model, which the ZEIT has implemented at the moment). Investigated combinations are as follow:\n",
    "\n",
    "Scaling Strategie | Balancing Strategie\n",
    "----------------- | -----------------\n",
    "Unscaled | Unbalanced\n",
    "MinMaxScaler | RandomOverSampling\n",
    "MinMaxScaler | RandomUnderSampling\n",
    "StandardScaler | RandomOverSampling\n",
    "StandardScaler | RandomUnderSampling\n",
    "\n",
    "\n",
    "As a result the combination of **StandardScaler** and **RandomUnderSampling** gives the best balance between recall and percision as well as the best accuracy."
   ]
  },
  {
   "cell_type": "markdown",
   "metadata": {},
   "source": [
    "### **Exporting Results**"
   ]
  },
  {
   "cell_type": "code",
   "execution_count": 35,
   "metadata": {},
   "outputs": [
    {
     "name": "stdout",
     "output_type": "stream",
     "text": [
      "LogisticRegression exported.\n",
      "GaussianNB exported.\n",
      "XGBClassifier exported.\n",
      "RandomForestClassifier exported.\n"
     ]
    }
   ],
   "source": [
    "#mdl.ml_reporting_exp_figs(results_list, predicted_target_values_list, PATH)"
   ]
  },
  {
   "cell_type": "code",
   "execution_count": 36,
   "metadata": {},
   "outputs": [],
   "source": [
    "#mdl.ml_reporting_exp_tables(results_list, predicted_target_values_list, PATH)"
   ]
  },
  {
   "cell_type": "code",
   "execution_count": null,
   "metadata": {},
   "outputs": [],
   "source": []
  }
 ],
 "metadata": {
  "kernelspec": {
   "display_name": "Python 3",
   "language": "python",
   "name": "python3"
  },
  "language_info": {
   "codemirror_mode": {
    "name": "ipython",
    "version": 3
   },
   "file_extension": ".py",
   "mimetype": "text/x-python",
   "name": "python",
   "nbconvert_exporter": "python",
   "pygments_lexer": "ipython3",
   "version": "3.8.5"
  }
 },
 "nbformat": 4,
 "nbformat_minor": 4
}
