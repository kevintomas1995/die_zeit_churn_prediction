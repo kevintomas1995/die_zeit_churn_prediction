{
 "cells": [
  {
   "cell_type": "markdown",
   "metadata": {},
   "source": [
    "# Exploratory Data Analysis\n",
    "\n",
    "## 1 - Introduction\n",
    "\n",
    "#### **Project Name**\n",
    "\n",
    "\n",
    "#### **Description**\n",
    "\n",
    "\n",
    "#### **Team**\n",
    "+ Kevin Tomas\n",
    "+ Sebastian Rötten\n",
    "+ Chandrakantha Hassan Anantharajaiah\n",
    "+ Michael Leder\n",
    "\n",
    "#### **Time Period**\n",
    "+ **Start:** 23/11/2020\n",
    "+ **End:** 18/12/2020\n",
    "\n",
    "#### **Table of Content**\n",
    "\n",
    "[…]"
   ]
  },
  {
   "cell_type": "markdown",
   "metadata": {},
   "source": [
    "## **2 - Environments and Imports**"
   ]
  },
  {
   "cell_type": "code",
   "execution_count": 1,
   "metadata": {},
   "outputs": [],
   "source": [
    "import numpy as np\n",
    "import pandas as pd\n",
    "\n",
    "import seaborn as sns\n",
    "import matplotlib.pyplot as plt\n",
    "\n",
    "%matplotlib inline\n",
    "sns.set_theme(style=\"whitegrid\")\n",
    "sns.set_palette('Blues_r')\n",
    "\n",
    "# Define decimal places shown in the notebook\n",
    "pd.options.display.float_format = '{:,.1f}'.format"
   ]
  },
  {
   "cell_type": "markdown",
   "metadata": {},
   "source": [
    "## **3 - Business Understanding**\n",
    "### **3.1 - Data Set**"
   ]
  },
  {
   "cell_type": "code",
   "execution_count": 2,
   "metadata": {},
   "outputs": [],
   "source": [
    "df = pd.read_csv('00_data/f_chtr_churn_traintable_nf.csv', index_col=0)"
   ]
  },
  {
   "cell_type": "code",
   "execution_count": 3,
   "metadata": {},
   "outputs": [
    {
     "data": {
      "text/plain": [
       "(209043, 170)"
      ]
     },
     "execution_count": 3,
     "metadata": {},
     "output_type": "execute_result"
    }
   ],
   "source": [
    "df.shape"
   ]
  },
  {
   "cell_type": "code",
   "execution_count": 4,
   "metadata": {},
   "outputs": [
    {
     "data": {
      "text/plain": [
       "Index(['auftrag_new_id', 'liefer_beginn_evt', 'kanal', 'objekt_name',\n",
       "       'aboform_name', 'zahlung_rhythmus_name', 'lesedauer', 'rechnungsmonat',\n",
       "       'zahlung_weg_name', 'studentenabo',\n",
       "       ...\n",
       "       'openrate_zeitbrief_1w', 'clickrate_zeitbrief_1w',\n",
       "       'openrate_zeitbrief_1m', 'clickrate_zeitbrief_1m',\n",
       "       'openrate_zeitbrief_3m', 'clickrate_zeitbrief_3m', 'training_set',\n",
       "       'kuendigungs_eingangs_datum', 'churn', 'date_x'],\n",
       "      dtype='object', length=170)"
      ]
     },
     "execution_count": 4,
     "metadata": {},
     "output_type": "execute_result"
    }
   ],
   "source": [
    "df.columns"
   ]
  },
  {
   "cell_type": "code",
   "execution_count": 5,
   "metadata": {},
   "outputs": [],
   "source": [
    "# Rename inconsistent column names\n",
    "df.rename({'openedanzahl_6m':'opened_anzahl_6m'}, axis=1, inplace=True)"
   ]
  },
  {
   "cell_type": "markdown",
   "metadata": {},
   "source": [
    "## **X - Data Split**\n",
    "Each of the team members investigates a subset of the initial data frame. Therefore, a subset of the data frame has to be selected by dropping the not relevant columns."
   ]
  },
  {
   "cell_type": "code",
   "execution_count": 9,
   "metadata": {},
   "outputs": [],
   "source": [
    "# List comprehension for columns to be dropped\n",
    "cols1 = [i for i in range(22, 56)] # Slice 1\n",
    "cols2 = [i for i in range(100, 166)] # Slice 2\n",
    "\n",
    "# Convert to list type\n",
    "cols1 = list(df.columns[cols1])\n",
    "cols2 = list(df.columns[cols2])\n",
    "\n",
    "#print(cols1)\n",
    "#print('---------------')\n",
    "#print(cols2)"
   ]
  },
  {
   "cell_type": "code",
   "execution_count": 10,
   "metadata": {},
   "outputs": [],
   "source": [
    "df_c = df.drop(columns=cols1, axis=1)\n",
    "df_c = df_c.drop(columns=cols2, axis=1)"
   ]
  },
  {
   "cell_type": "code",
   "execution_count": 12,
   "metadata": {},
   "outputs": [
    {
     "data": {
      "text/plain": [
       "Index(['auftrag_new_id', 'liefer_beginn_evt', 'kanal', 'objekt_name',\n",
       "       'aboform_name', 'zahlung_rhythmus_name', 'lesedauer', 'rechnungsmonat',\n",
       "       'zahlung_weg_name', 'studentenabo', 'plz_1', 'plz_2', 'plz_3', 'ort',\n",
       "       'metropole', 'land_iso_code', 'shop_kauf', 'unterbrechung', 'anrede',\n",
       "       'titel', 'avg_churn', 'email_am_kunden', 'received_anzahl_1w',\n",
       "       'received_anzahl_1m', 'received_anzahl_3m', 'received_anzahl_6m',\n",
       "       'opened_anzahl_1w', 'opened_anzahl_1m', 'opened_anzahl_3m',\n",
       "       'opened_anzahl_6m', 'clicked_anzahl_1w', 'clicked_anzahl_1m',\n",
       "       'clicked_anzahl_3m', 'clicked_anzahl_6m', 'unsubscribed_anzahl_1w',\n",
       "       'unsubscribed_anzahl_1m', 'unsubscribed_anzahl_3m',\n",
       "       'unsubscribed_anzahl_6m', 'openrate_1w', 'clickrate_1w', 'openrate_1m',\n",
       "       'clickrate_1m', 'openrate_3m', 'clickrate_3m',\n",
       "       'received_anzahl_bestandskunden_1w',\n",
       "       'received_anzahl_bestandskunden_1m',\n",
       "       'received_anzahl_bestandskunden_3m',\n",
       "       'received_anzahl_bestandskunden_6m', 'opened_anzahl_bestandskunden_1w',\n",
       "       'opened_anzahl_bestandskunden_1m', 'opened_anzahl_bestandskunden_3m',\n",
       "       'openedanzahl_bestandskunden_6m', 'clicked_anzahl_bestandskunden_1w',\n",
       "       'clicked_anzahl_bestandskunden_1m', 'clicked_anzahl_bestandskunden_3m',\n",
       "       'clicked_anzahl_bestandskunden_6m',\n",
       "       'unsubscribed_anzahl_bestandskunden_1w',\n",
       "       'unsubscribed_anzahl_bestandskunden_1m',\n",
       "       'unsubscribed_anzahl_bestandskunden_3m',\n",
       "       'unsubscribed_anzahl_bestandskunden_6m', 'openrate_bestandskunden_1w',\n",
       "       'clickrate_bestandskunden_1w', 'openrate_bestandskunden_1m',\n",
       "       'clickrate_bestandskunden_1m', 'openrate_bestandskunden_3m',\n",
       "       'clickrate_bestandskunden_3m', 'training_set',\n",
       "       'kuendigungs_eingangs_datum', 'churn', 'date_x'],\n",
       "      dtype='object')"
      ]
     },
     "execution_count": 12,
     "metadata": {},
     "output_type": "execute_result"
    }
   ],
   "source": [
    "df_c.columns"
   ]
  },
  {
   "cell_type": "markdown",
   "metadata": {},
   "source": [
    "## **Y - Data Exploration (get an overview)**"
   ]
  },
  {
   "cell_type": "code",
   "execution_count": 13,
   "metadata": {},
   "outputs": [
    {
     "data": {
      "text/html": [
       "<div>\n",
       "<style scoped>\n",
       "    .dataframe tbody tr th:only-of-type {\n",
       "        vertical-align: middle;\n",
       "    }\n",
       "\n",
       "    .dataframe tbody tr th {\n",
       "        vertical-align: top;\n",
       "    }\n",
       "\n",
       "    .dataframe thead th {\n",
       "        text-align: right;\n",
       "    }\n",
       "</style>\n",
       "<table border=\"1\" class=\"dataframe\">\n",
       "  <thead>\n",
       "    <tr style=\"text-align: right;\">\n",
       "      <th></th>\n",
       "      <th>auftrag_new_id</th>\n",
       "      <th>liefer_beginn_evt</th>\n",
       "      <th>kanal</th>\n",
       "      <th>objekt_name</th>\n",
       "      <th>aboform_name</th>\n",
       "      <th>zahlung_rhythmus_name</th>\n",
       "      <th>lesedauer</th>\n",
       "      <th>rechnungsmonat</th>\n",
       "      <th>zahlung_weg_name</th>\n",
       "      <th>studentenabo</th>\n",
       "      <th>...</th>\n",
       "      <th>openrate_bestandskunden_1w</th>\n",
       "      <th>clickrate_bestandskunden_1w</th>\n",
       "      <th>openrate_bestandskunden_1m</th>\n",
       "      <th>clickrate_bestandskunden_1m</th>\n",
       "      <th>openrate_bestandskunden_3m</th>\n",
       "      <th>clickrate_bestandskunden_3m</th>\n",
       "      <th>training_set</th>\n",
       "      <th>kuendigungs_eingangs_datum</th>\n",
       "      <th>churn</th>\n",
       "      <th>date_x</th>\n",
       "    </tr>\n",
       "  </thead>\n",
       "  <tbody>\n",
       "    <tr>\n",
       "      <th>0</th>\n",
       "      <td>6BE5B590-07EA-4543-B422-F7ABB2AF9464</td>\n",
       "      <td>2013-10-02</td>\n",
       "      <td>andere</td>\n",
       "      <td>ZEIT Digital</td>\n",
       "      <td>Probeabo</td>\n",
       "      <td>jährlich</td>\n",
       "      <td>68</td>\n",
       "      <td>0</td>\n",
       "      <td>Bankeinzug</td>\n",
       "      <td>0</td>\n",
       "      <td>...</td>\n",
       "      <td>0.0</td>\n",
       "      <td>0.0</td>\n",
       "      <td>0.0</td>\n",
       "      <td>0.0</td>\n",
       "      <td>0.0</td>\n",
       "      <td>0.0</td>\n",
       "      <td>1</td>\n",
       "      <td>NaN</td>\n",
       "      <td>0</td>\n",
       "      <td>2019-06-18 00:00:00</td>\n",
       "    </tr>\n",
       "  </tbody>\n",
       "</table>\n",
       "<p>1 rows × 70 columns</p>\n",
       "</div>"
      ],
      "text/plain": [
       "                         auftrag_new_id liefer_beginn_evt   kanal  \\\n",
       "0  6BE5B590-07EA-4543-B422-F7ABB2AF9464        2013-10-02  andere   \n",
       "\n",
       "    objekt_name aboform_name zahlung_rhythmus_name  lesedauer  rechnungsmonat  \\\n",
       "0  ZEIT Digital     Probeabo              jährlich         68               0   \n",
       "\n",
       "  zahlung_weg_name  studentenabo  ... openrate_bestandskunden_1w  \\\n",
       "0       Bankeinzug             0  ...                        0.0   \n",
       "\n",
       "  clickrate_bestandskunden_1w openrate_bestandskunden_1m  \\\n",
       "0                         0.0                        0.0   \n",
       "\n",
       "  clickrate_bestandskunden_1m  openrate_bestandskunden_3m  \\\n",
       "0                         0.0                         0.0   \n",
       "\n",
       "  clickrate_bestandskunden_3m  training_set  kuendigungs_eingangs_datum churn  \\\n",
       "0                         0.0             1                         NaN     0   \n",
       "\n",
       "                date_x  \n",
       "0  2019-06-18 00:00:00  \n",
       "\n",
       "[1 rows x 70 columns]"
      ]
     },
     "execution_count": 13,
     "metadata": {},
     "output_type": "execute_result"
    }
   ],
   "source": [
    "df_c.head(1)"
   ]
  },
  {
   "cell_type": "markdown",
   "metadata": {},
   "source": [
    "### **Descriptive Statistics**"
   ]
  },
  {
   "cell_type": "code",
   "execution_count": 14,
   "metadata": {},
   "outputs": [
    {
     "data": {
      "text/html": [
       "<div>\n",
       "<style scoped>\n",
       "    .dataframe tbody tr th:only-of-type {\n",
       "        vertical-align: middle;\n",
       "    }\n",
       "\n",
       "    .dataframe tbody tr th {\n",
       "        vertical-align: top;\n",
       "    }\n",
       "\n",
       "    .dataframe thead th {\n",
       "        text-align: right;\n",
       "    }\n",
       "</style>\n",
       "<table border=\"1\" class=\"dataframe\">\n",
       "  <thead>\n",
       "    <tr style=\"text-align: right;\">\n",
       "      <th></th>\n",
       "      <th>count</th>\n",
       "      <th>mean</th>\n",
       "      <th>std</th>\n",
       "      <th>min</th>\n",
       "      <th>25%</th>\n",
       "      <th>50%</th>\n",
       "      <th>75%</th>\n",
       "      <th>max</th>\n",
       "    </tr>\n",
       "  </thead>\n",
       "  <tbody>\n",
       "    <tr>\n",
       "      <th>lesedauer</th>\n",
       "      <td>209,043.0</td>\n",
       "      <td>32.0</td>\n",
       "      <td>21.6</td>\n",
       "      <td>0.0</td>\n",
       "      <td>14.0</td>\n",
       "      <td>27.0</td>\n",
       "      <td>47.0</td>\n",
       "      <td>88.0</td>\n",
       "    </tr>\n",
       "    <tr>\n",
       "      <th>rechnungsmonat</th>\n",
       "      <td>209,043.0</td>\n",
       "      <td>0.1</td>\n",
       "      <td>0.3</td>\n",
       "      <td>0.0</td>\n",
       "      <td>0.0</td>\n",
       "      <td>0.0</td>\n",
       "      <td>0.0</td>\n",
       "      <td>1.0</td>\n",
       "    </tr>\n",
       "    <tr>\n",
       "      <th>studentenabo</th>\n",
       "      <td>209,043.0</td>\n",
       "      <td>0.1</td>\n",
       "      <td>0.3</td>\n",
       "      <td>0.0</td>\n",
       "      <td>0.0</td>\n",
       "      <td>0.0</td>\n",
       "      <td>0.0</td>\n",
       "      <td>1.0</td>\n",
       "    </tr>\n",
       "    <tr>\n",
       "      <th>metropole</th>\n",
       "      <td>209,043.0</td>\n",
       "      <td>0.3</td>\n",
       "      <td>0.5</td>\n",
       "      <td>0.0</td>\n",
       "      <td>0.0</td>\n",
       "      <td>0.0</td>\n",
       "      <td>1.0</td>\n",
       "      <td>1.0</td>\n",
       "    </tr>\n",
       "    <tr>\n",
       "      <th>shop_kauf</th>\n",
       "      <td>209,043.0</td>\n",
       "      <td>0.5</td>\n",
       "      <td>2.5</td>\n",
       "      <td>0.0</td>\n",
       "      <td>0.0</td>\n",
       "      <td>0.0</td>\n",
       "      <td>0.0</td>\n",
       "      <td>152.0</td>\n",
       "    </tr>\n",
       "    <tr>\n",
       "      <th>unterbrechung</th>\n",
       "      <td>209,043.0</td>\n",
       "      <td>0.1</td>\n",
       "      <td>0.3</td>\n",
       "      <td>0.0</td>\n",
       "      <td>0.0</td>\n",
       "      <td>0.0</td>\n",
       "      <td>0.0</td>\n",
       "      <td>1.0</td>\n",
       "    </tr>\n",
       "    <tr>\n",
       "      <th>avg_churn</th>\n",
       "      <td>209,043.0</td>\n",
       "      <td>0.3</td>\n",
       "      <td>0.1</td>\n",
       "      <td>0.1</td>\n",
       "      <td>0.2</td>\n",
       "      <td>0.3</td>\n",
       "      <td>0.4</td>\n",
       "      <td>0.7</td>\n",
       "    </tr>\n",
       "    <tr>\n",
       "      <th>email_am_kunden</th>\n",
       "      <td>209,031.0</td>\n",
       "      <td>0.9</td>\n",
       "      <td>0.2</td>\n",
       "      <td>0.0</td>\n",
       "      <td>1.0</td>\n",
       "      <td>1.0</td>\n",
       "      <td>1.0</td>\n",
       "      <td>1.0</td>\n",
       "    </tr>\n",
       "    <tr>\n",
       "      <th>received_anzahl_1w</th>\n",
       "      <td>209,043.0</td>\n",
       "      <td>3.3</td>\n",
       "      <td>4.4</td>\n",
       "      <td>0.0</td>\n",
       "      <td>0.0</td>\n",
       "      <td>2.0</td>\n",
       "      <td>5.0</td>\n",
       "      <td>54.0</td>\n",
       "    </tr>\n",
       "    <tr>\n",
       "      <th>received_anzahl_1m</th>\n",
       "      <td>209,043.0</td>\n",
       "      <td>12.8</td>\n",
       "      <td>16.5</td>\n",
       "      <td>0.0</td>\n",
       "      <td>1.0</td>\n",
       "      <td>7.0</td>\n",
       "      <td>19.0</td>\n",
       "      <td>203.0</td>\n",
       "    </tr>\n",
       "    <tr>\n",
       "      <th>received_anzahl_3m</th>\n",
       "      <td>209,043.0</td>\n",
       "      <td>36.7</td>\n",
       "      <td>45.3</td>\n",
       "      <td>0.0</td>\n",
       "      <td>2.0</td>\n",
       "      <td>20.0</td>\n",
       "      <td>57.0</td>\n",
       "      <td>573.0</td>\n",
       "    </tr>\n",
       "    <tr>\n",
       "      <th>received_anzahl_6m</th>\n",
       "      <td>209,043.0</td>\n",
       "      <td>72.6</td>\n",
       "      <td>87.4</td>\n",
       "      <td>0.0</td>\n",
       "      <td>5.0</td>\n",
       "      <td>43.0</td>\n",
       "      <td>116.0</td>\n",
       "      <td>1,147.0</td>\n",
       "    </tr>\n",
       "    <tr>\n",
       "      <th>opened_anzahl_1w</th>\n",
       "      <td>209,043.0</td>\n",
       "      <td>1.1</td>\n",
       "      <td>2.6</td>\n",
       "      <td>0.0</td>\n",
       "      <td>0.0</td>\n",
       "      <td>0.0</td>\n",
       "      <td>1.0</td>\n",
       "      <td>60.0</td>\n",
       "    </tr>\n",
       "    <tr>\n",
       "      <th>opened_anzahl_1m</th>\n",
       "      <td>209,043.0</td>\n",
       "      <td>4.2</td>\n",
       "      <td>9.2</td>\n",
       "      <td>0.0</td>\n",
       "      <td>0.0</td>\n",
       "      <td>1.0</td>\n",
       "      <td>4.0</td>\n",
       "      <td>314.0</td>\n",
       "    </tr>\n",
       "    <tr>\n",
       "      <th>opened_anzahl_3m</th>\n",
       "      <td>209,043.0</td>\n",
       "      <td>11.7</td>\n",
       "      <td>25.0</td>\n",
       "      <td>0.0</td>\n",
       "      <td>0.0</td>\n",
       "      <td>2.0</td>\n",
       "      <td>11.0</td>\n",
       "      <td>572.0</td>\n",
       "    </tr>\n",
       "    <tr>\n",
       "      <th>opened_anzahl_6m</th>\n",
       "      <td>209,043.0</td>\n",
       "      <td>22.6</td>\n",
       "      <td>47.7</td>\n",
       "      <td>0.0</td>\n",
       "      <td>0.0</td>\n",
       "      <td>4.0</td>\n",
       "      <td>22.0</td>\n",
       "      <td>1,145.0</td>\n",
       "    </tr>\n",
       "    <tr>\n",
       "      <th>clicked_anzahl_1w</th>\n",
       "      <td>209,043.0</td>\n",
       "      <td>0.1</td>\n",
       "      <td>0.5</td>\n",
       "      <td>0.0</td>\n",
       "      <td>0.0</td>\n",
       "      <td>0.0</td>\n",
       "      <td>0.0</td>\n",
       "      <td>19.0</td>\n",
       "    </tr>\n",
       "    <tr>\n",
       "      <th>clicked_anzahl_1m</th>\n",
       "      <td>209,043.0</td>\n",
       "      <td>0.5</td>\n",
       "      <td>1.6</td>\n",
       "      <td>0.0</td>\n",
       "      <td>0.0</td>\n",
       "      <td>0.0</td>\n",
       "      <td>0.0</td>\n",
       "      <td>66.0</td>\n",
       "    </tr>\n",
       "    <tr>\n",
       "      <th>clicked_anzahl_3m</th>\n",
       "      <td>209,043.0</td>\n",
       "      <td>1.2</td>\n",
       "      <td>3.9</td>\n",
       "      <td>0.0</td>\n",
       "      <td>0.0</td>\n",
       "      <td>0.0</td>\n",
       "      <td>1.0</td>\n",
       "      <td>169.0</td>\n",
       "    </tr>\n",
       "    <tr>\n",
       "      <th>clicked_anzahl_6m</th>\n",
       "      <td>209,043.0</td>\n",
       "      <td>2.2</td>\n",
       "      <td>7.1</td>\n",
       "      <td>0.0</td>\n",
       "      <td>0.0</td>\n",
       "      <td>0.0</td>\n",
       "      <td>2.0</td>\n",
       "      <td>307.0</td>\n",
       "    </tr>\n",
       "    <tr>\n",
       "      <th>unsubscribed_anzahl_1w</th>\n",
       "      <td>209,043.0</td>\n",
       "      <td>0.0</td>\n",
       "      <td>0.1</td>\n",
       "      <td>0.0</td>\n",
       "      <td>0.0</td>\n",
       "      <td>0.0</td>\n",
       "      <td>0.0</td>\n",
       "      <td>5.0</td>\n",
       "    </tr>\n",
       "    <tr>\n",
       "      <th>unsubscribed_anzahl_1m</th>\n",
       "      <td>209,043.0</td>\n",
       "      <td>0.0</td>\n",
       "      <td>0.1</td>\n",
       "      <td>0.0</td>\n",
       "      <td>0.0</td>\n",
       "      <td>0.0</td>\n",
       "      <td>0.0</td>\n",
       "      <td>5.0</td>\n",
       "    </tr>\n",
       "    <tr>\n",
       "      <th>unsubscribed_anzahl_3m</th>\n",
       "      <td>209,043.0</td>\n",
       "      <td>0.0</td>\n",
       "      <td>0.2</td>\n",
       "      <td>0.0</td>\n",
       "      <td>0.0</td>\n",
       "      <td>0.0</td>\n",
       "      <td>0.0</td>\n",
       "      <td>8.0</td>\n",
       "    </tr>\n",
       "    <tr>\n",
       "      <th>unsubscribed_anzahl_6m</th>\n",
       "      <td>209,043.0</td>\n",
       "      <td>0.1</td>\n",
       "      <td>0.3</td>\n",
       "      <td>0.0</td>\n",
       "      <td>0.0</td>\n",
       "      <td>0.0</td>\n",
       "      <td>0.0</td>\n",
       "      <td>13.0</td>\n",
       "    </tr>\n",
       "    <tr>\n",
       "      <th>openrate_1w</th>\n",
       "      <td>209,043.0</td>\n",
       "      <td>0.2</td>\n",
       "      <td>0.4</td>\n",
       "      <td>0.0</td>\n",
       "      <td>0.0</td>\n",
       "      <td>0.0</td>\n",
       "      <td>0.4</td>\n",
       "      <td>22.0</td>\n",
       "    </tr>\n",
       "    <tr>\n",
       "      <th>clickrate_1w</th>\n",
       "      <td>209,043.0</td>\n",
       "      <td>0.0</td>\n",
       "      <td>0.2</td>\n",
       "      <td>0.0</td>\n",
       "      <td>0.0</td>\n",
       "      <td>0.0</td>\n",
       "      <td>0.0</td>\n",
       "      <td>3.0</td>\n",
       "    </tr>\n",
       "    <tr>\n",
       "      <th>openrate_1m</th>\n",
       "      <td>209,043.0</td>\n",
       "      <td>0.2</td>\n",
       "      <td>0.3</td>\n",
       "      <td>0.0</td>\n",
       "      <td>0.0</td>\n",
       "      <td>0.0</td>\n",
       "      <td>0.4</td>\n",
       "      <td>10.8</td>\n",
       "    </tr>\n",
       "    <tr>\n",
       "      <th>clickrate_1m</th>\n",
       "      <td>209,043.0</td>\n",
       "      <td>0.1</td>\n",
       "      <td>0.2</td>\n",
       "      <td>0.0</td>\n",
       "      <td>0.0</td>\n",
       "      <td>0.0</td>\n",
       "      <td>0.0</td>\n",
       "      <td>2.0</td>\n",
       "    </tr>\n",
       "    <tr>\n",
       "      <th>openrate_3m</th>\n",
       "      <td>209,043.0</td>\n",
       "      <td>0.3</td>\n",
       "      <td>0.3</td>\n",
       "      <td>0.0</td>\n",
       "      <td>0.0</td>\n",
       "      <td>0.1</td>\n",
       "      <td>0.4</td>\n",
       "      <td>9.0</td>\n",
       "    </tr>\n",
       "    <tr>\n",
       "      <th>clickrate_3m</th>\n",
       "      <td>209,043.0</td>\n",
       "      <td>0.1</td>\n",
       "      <td>0.2</td>\n",
       "      <td>0.0</td>\n",
       "      <td>0.0</td>\n",
       "      <td>0.0</td>\n",
       "      <td>0.1</td>\n",
       "      <td>2.0</td>\n",
       "    </tr>\n",
       "    <tr>\n",
       "      <th>received_anzahl_bestandskunden_1w</th>\n",
       "      <td>209,043.0</td>\n",
       "      <td>0.1</td>\n",
       "      <td>0.2</td>\n",
       "      <td>0.0</td>\n",
       "      <td>0.0</td>\n",
       "      <td>0.0</td>\n",
       "      <td>0.0</td>\n",
       "      <td>4.0</td>\n",
       "    </tr>\n",
       "    <tr>\n",
       "      <th>received_anzahl_bestandskunden_1m</th>\n",
       "      <td>209,043.0</td>\n",
       "      <td>0.2</td>\n",
       "      <td>0.4</td>\n",
       "      <td>0.0</td>\n",
       "      <td>0.0</td>\n",
       "      <td>0.0</td>\n",
       "      <td>0.0</td>\n",
       "      <td>4.0</td>\n",
       "    </tr>\n",
       "    <tr>\n",
       "      <th>received_anzahl_bestandskunden_3m</th>\n",
       "      <td>209,043.0</td>\n",
       "      <td>0.3</td>\n",
       "      <td>1.0</td>\n",
       "      <td>0.0</td>\n",
       "      <td>0.0</td>\n",
       "      <td>0.0</td>\n",
       "      <td>0.0</td>\n",
       "      <td>12.0</td>\n",
       "    </tr>\n",
       "    <tr>\n",
       "      <th>received_anzahl_bestandskunden_6m</th>\n",
       "      <td>209,043.0</td>\n",
       "      <td>0.4</td>\n",
       "      <td>1.1</td>\n",
       "      <td>0.0</td>\n",
       "      <td>0.0</td>\n",
       "      <td>0.0</td>\n",
       "      <td>0.0</td>\n",
       "      <td>16.0</td>\n",
       "    </tr>\n",
       "    <tr>\n",
       "      <th>opened_anzahl_bestandskunden_1w</th>\n",
       "      <td>209,043.0</td>\n",
       "      <td>0.0</td>\n",
       "      <td>0.1</td>\n",
       "      <td>0.0</td>\n",
       "      <td>0.0</td>\n",
       "      <td>0.0</td>\n",
       "      <td>0.0</td>\n",
       "      <td>1.0</td>\n",
       "    </tr>\n",
       "    <tr>\n",
       "      <th>opened_anzahl_bestandskunden_1m</th>\n",
       "      <td>209,043.0</td>\n",
       "      <td>0.1</td>\n",
       "      <td>0.3</td>\n",
       "      <td>0.0</td>\n",
       "      <td>0.0</td>\n",
       "      <td>0.0</td>\n",
       "      <td>0.0</td>\n",
       "      <td>4.0</td>\n",
       "    </tr>\n",
       "    <tr>\n",
       "      <th>opened_anzahl_bestandskunden_3m</th>\n",
       "      <td>209,043.0</td>\n",
       "      <td>0.1</td>\n",
       "      <td>0.6</td>\n",
       "      <td>0.0</td>\n",
       "      <td>0.0</td>\n",
       "      <td>0.0</td>\n",
       "      <td>0.0</td>\n",
       "      <td>12.0</td>\n",
       "    </tr>\n",
       "    <tr>\n",
       "      <th>openedanzahl_bestandskunden_6m</th>\n",
       "      <td>209,043.0</td>\n",
       "      <td>0.2</td>\n",
       "      <td>0.7</td>\n",
       "      <td>0.0</td>\n",
       "      <td>0.0</td>\n",
       "      <td>0.0</td>\n",
       "      <td>0.0</td>\n",
       "      <td>16.0</td>\n",
       "    </tr>\n",
       "    <tr>\n",
       "      <th>clicked_anzahl_bestandskunden_1w</th>\n",
       "      <td>209,043.0</td>\n",
       "      <td>0.0</td>\n",
       "      <td>0.0</td>\n",
       "      <td>0.0</td>\n",
       "      <td>0.0</td>\n",
       "      <td>0.0</td>\n",
       "      <td>0.0</td>\n",
       "      <td>1.0</td>\n",
       "    </tr>\n",
       "    <tr>\n",
       "      <th>clicked_anzahl_bestandskunden_1m</th>\n",
       "      <td>209,043.0</td>\n",
       "      <td>0.0</td>\n",
       "      <td>0.1</td>\n",
       "      <td>0.0</td>\n",
       "      <td>0.0</td>\n",
       "      <td>0.0</td>\n",
       "      <td>0.0</td>\n",
       "      <td>2.0</td>\n",
       "    </tr>\n",
       "    <tr>\n",
       "      <th>clicked_anzahl_bestandskunden_3m</th>\n",
       "      <td>209,043.0</td>\n",
       "      <td>0.0</td>\n",
       "      <td>0.1</td>\n",
       "      <td>0.0</td>\n",
       "      <td>0.0</td>\n",
       "      <td>0.0</td>\n",
       "      <td>0.0</td>\n",
       "      <td>3.0</td>\n",
       "    </tr>\n",
       "    <tr>\n",
       "      <th>clicked_anzahl_bestandskunden_6m</th>\n",
       "      <td>209,043.0</td>\n",
       "      <td>0.0</td>\n",
       "      <td>0.1</td>\n",
       "      <td>0.0</td>\n",
       "      <td>0.0</td>\n",
       "      <td>0.0</td>\n",
       "      <td>0.0</td>\n",
       "      <td>4.0</td>\n",
       "    </tr>\n",
       "    <tr>\n",
       "      <th>unsubscribed_anzahl_bestandskunden_1w</th>\n",
       "      <td>209,043.0</td>\n",
       "      <td>0.0</td>\n",
       "      <td>0.0</td>\n",
       "      <td>0.0</td>\n",
       "      <td>0.0</td>\n",
       "      <td>0.0</td>\n",
       "      <td>0.0</td>\n",
       "      <td>1.0</td>\n",
       "    </tr>\n",
       "    <tr>\n",
       "      <th>unsubscribed_anzahl_bestandskunden_1m</th>\n",
       "      <td>209,043.0</td>\n",
       "      <td>0.0</td>\n",
       "      <td>0.0</td>\n",
       "      <td>0.0</td>\n",
       "      <td>0.0</td>\n",
       "      <td>0.0</td>\n",
       "      <td>0.0</td>\n",
       "      <td>1.0</td>\n",
       "    </tr>\n",
       "    <tr>\n",
       "      <th>unsubscribed_anzahl_bestandskunden_3m</th>\n",
       "      <td>209,043.0</td>\n",
       "      <td>0.0</td>\n",
       "      <td>0.0</td>\n",
       "      <td>0.0</td>\n",
       "      <td>0.0</td>\n",
       "      <td>0.0</td>\n",
       "      <td>0.0</td>\n",
       "      <td>1.0</td>\n",
       "    </tr>\n",
       "    <tr>\n",
       "      <th>unsubscribed_anzahl_bestandskunden_6m</th>\n",
       "      <td>209,043.0</td>\n",
       "      <td>0.0</td>\n",
       "      <td>0.0</td>\n",
       "      <td>0.0</td>\n",
       "      <td>0.0</td>\n",
       "      <td>0.0</td>\n",
       "      <td>0.0</td>\n",
       "      <td>1.0</td>\n",
       "    </tr>\n",
       "    <tr>\n",
       "      <th>openrate_bestandskunden_1w</th>\n",
       "      <td>209,043.0</td>\n",
       "      <td>0.0</td>\n",
       "      <td>0.1</td>\n",
       "      <td>0.0</td>\n",
       "      <td>0.0</td>\n",
       "      <td>0.0</td>\n",
       "      <td>0.0</td>\n",
       "      <td>1.0</td>\n",
       "    </tr>\n",
       "    <tr>\n",
       "      <th>clickrate_bestandskunden_1w</th>\n",
       "      <td>209,043.0</td>\n",
       "      <td>0.0</td>\n",
       "      <td>0.0</td>\n",
       "      <td>0.0</td>\n",
       "      <td>0.0</td>\n",
       "      <td>0.0</td>\n",
       "      <td>0.0</td>\n",
       "      <td>1.0</td>\n",
       "    </tr>\n",
       "    <tr>\n",
       "      <th>openrate_bestandskunden_1m</th>\n",
       "      <td>209,043.0</td>\n",
       "      <td>0.1</td>\n",
       "      <td>0.2</td>\n",
       "      <td>0.0</td>\n",
       "      <td>0.0</td>\n",
       "      <td>0.0</td>\n",
       "      <td>0.0</td>\n",
       "      <td>2.0</td>\n",
       "    </tr>\n",
       "    <tr>\n",
       "      <th>clickrate_bestandskunden_1m</th>\n",
       "      <td>209,043.0</td>\n",
       "      <td>0.0</td>\n",
       "      <td>0.1</td>\n",
       "      <td>0.0</td>\n",
       "      <td>0.0</td>\n",
       "      <td>0.0</td>\n",
       "      <td>0.0</td>\n",
       "      <td>2.0</td>\n",
       "    </tr>\n",
       "    <tr>\n",
       "      <th>openrate_bestandskunden_3m</th>\n",
       "      <td>209,043.0</td>\n",
       "      <td>0.1</td>\n",
       "      <td>0.2</td>\n",
       "      <td>0.0</td>\n",
       "      <td>0.0</td>\n",
       "      <td>0.0</td>\n",
       "      <td>0.0</td>\n",
       "      <td>2.0</td>\n",
       "    </tr>\n",
       "    <tr>\n",
       "      <th>clickrate_bestandskunden_3m</th>\n",
       "      <td>209,043.0</td>\n",
       "      <td>0.0</td>\n",
       "      <td>0.1</td>\n",
       "      <td>0.0</td>\n",
       "      <td>0.0</td>\n",
       "      <td>0.0</td>\n",
       "      <td>0.0</td>\n",
       "      <td>1.0</td>\n",
       "    </tr>\n",
       "    <tr>\n",
       "      <th>training_set</th>\n",
       "      <td>209,043.0</td>\n",
       "      <td>1.0</td>\n",
       "      <td>0.0</td>\n",
       "      <td>1.0</td>\n",
       "      <td>1.0</td>\n",
       "      <td>1.0</td>\n",
       "      <td>1.0</td>\n",
       "      <td>1.0</td>\n",
       "    </tr>\n",
       "    <tr>\n",
       "      <th>churn</th>\n",
       "      <td>209,043.0</td>\n",
       "      <td>0.3</td>\n",
       "      <td>0.5</td>\n",
       "      <td>0.0</td>\n",
       "      <td>0.0</td>\n",
       "      <td>0.0</td>\n",
       "      <td>1.0</td>\n",
       "      <td>1.0</td>\n",
       "    </tr>\n",
       "  </tbody>\n",
       "</table>\n",
       "</div>"
      ],
      "text/plain": [
       "                                          count  mean  std  min  25%  50%  \\\n",
       "lesedauer                             209,043.0  32.0 21.6  0.0 14.0 27.0   \n",
       "rechnungsmonat                        209,043.0   0.1  0.3  0.0  0.0  0.0   \n",
       "studentenabo                          209,043.0   0.1  0.3  0.0  0.0  0.0   \n",
       "metropole                             209,043.0   0.3  0.5  0.0  0.0  0.0   \n",
       "shop_kauf                             209,043.0   0.5  2.5  0.0  0.0  0.0   \n",
       "unterbrechung                         209,043.0   0.1  0.3  0.0  0.0  0.0   \n",
       "avg_churn                             209,043.0   0.3  0.1  0.1  0.2  0.3   \n",
       "email_am_kunden                       209,031.0   0.9  0.2  0.0  1.0  1.0   \n",
       "received_anzahl_1w                    209,043.0   3.3  4.4  0.0  0.0  2.0   \n",
       "received_anzahl_1m                    209,043.0  12.8 16.5  0.0  1.0  7.0   \n",
       "received_anzahl_3m                    209,043.0  36.7 45.3  0.0  2.0 20.0   \n",
       "received_anzahl_6m                    209,043.0  72.6 87.4  0.0  5.0 43.0   \n",
       "opened_anzahl_1w                      209,043.0   1.1  2.6  0.0  0.0  0.0   \n",
       "opened_anzahl_1m                      209,043.0   4.2  9.2  0.0  0.0  1.0   \n",
       "opened_anzahl_3m                      209,043.0  11.7 25.0  0.0  0.0  2.0   \n",
       "opened_anzahl_6m                      209,043.0  22.6 47.7  0.0  0.0  4.0   \n",
       "clicked_anzahl_1w                     209,043.0   0.1  0.5  0.0  0.0  0.0   \n",
       "clicked_anzahl_1m                     209,043.0   0.5  1.6  0.0  0.0  0.0   \n",
       "clicked_anzahl_3m                     209,043.0   1.2  3.9  0.0  0.0  0.0   \n",
       "clicked_anzahl_6m                     209,043.0   2.2  7.1  0.0  0.0  0.0   \n",
       "unsubscribed_anzahl_1w                209,043.0   0.0  0.1  0.0  0.0  0.0   \n",
       "unsubscribed_anzahl_1m                209,043.0   0.0  0.1  0.0  0.0  0.0   \n",
       "unsubscribed_anzahl_3m                209,043.0   0.0  0.2  0.0  0.0  0.0   \n",
       "unsubscribed_anzahl_6m                209,043.0   0.1  0.3  0.0  0.0  0.0   \n",
       "openrate_1w                           209,043.0   0.2  0.4  0.0  0.0  0.0   \n",
       "clickrate_1w                          209,043.0   0.0  0.2  0.0  0.0  0.0   \n",
       "openrate_1m                           209,043.0   0.2  0.3  0.0  0.0  0.0   \n",
       "clickrate_1m                          209,043.0   0.1  0.2  0.0  0.0  0.0   \n",
       "openrate_3m                           209,043.0   0.3  0.3  0.0  0.0  0.1   \n",
       "clickrate_3m                          209,043.0   0.1  0.2  0.0  0.0  0.0   \n",
       "received_anzahl_bestandskunden_1w     209,043.0   0.1  0.2  0.0  0.0  0.0   \n",
       "received_anzahl_bestandskunden_1m     209,043.0   0.2  0.4  0.0  0.0  0.0   \n",
       "received_anzahl_bestandskunden_3m     209,043.0   0.3  1.0  0.0  0.0  0.0   \n",
       "received_anzahl_bestandskunden_6m     209,043.0   0.4  1.1  0.0  0.0  0.0   \n",
       "opened_anzahl_bestandskunden_1w       209,043.0   0.0  0.1  0.0  0.0  0.0   \n",
       "opened_anzahl_bestandskunden_1m       209,043.0   0.1  0.3  0.0  0.0  0.0   \n",
       "opened_anzahl_bestandskunden_3m       209,043.0   0.1  0.6  0.0  0.0  0.0   \n",
       "openedanzahl_bestandskunden_6m        209,043.0   0.2  0.7  0.0  0.0  0.0   \n",
       "clicked_anzahl_bestandskunden_1w      209,043.0   0.0  0.0  0.0  0.0  0.0   \n",
       "clicked_anzahl_bestandskunden_1m      209,043.0   0.0  0.1  0.0  0.0  0.0   \n",
       "clicked_anzahl_bestandskunden_3m      209,043.0   0.0  0.1  0.0  0.0  0.0   \n",
       "clicked_anzahl_bestandskunden_6m      209,043.0   0.0  0.1  0.0  0.0  0.0   \n",
       "unsubscribed_anzahl_bestandskunden_1w 209,043.0   0.0  0.0  0.0  0.0  0.0   \n",
       "unsubscribed_anzahl_bestandskunden_1m 209,043.0   0.0  0.0  0.0  0.0  0.0   \n",
       "unsubscribed_anzahl_bestandskunden_3m 209,043.0   0.0  0.0  0.0  0.0  0.0   \n",
       "unsubscribed_anzahl_bestandskunden_6m 209,043.0   0.0  0.0  0.0  0.0  0.0   \n",
       "openrate_bestandskunden_1w            209,043.0   0.0  0.1  0.0  0.0  0.0   \n",
       "clickrate_bestandskunden_1w           209,043.0   0.0  0.0  0.0  0.0  0.0   \n",
       "openrate_bestandskunden_1m            209,043.0   0.1  0.2  0.0  0.0  0.0   \n",
       "clickrate_bestandskunden_1m           209,043.0   0.0  0.1  0.0  0.0  0.0   \n",
       "openrate_bestandskunden_3m            209,043.0   0.1  0.2  0.0  0.0  0.0   \n",
       "clickrate_bestandskunden_3m           209,043.0   0.0  0.1  0.0  0.0  0.0   \n",
       "training_set                          209,043.0   1.0  0.0  1.0  1.0  1.0   \n",
       "churn                                 209,043.0   0.3  0.5  0.0  0.0  0.0   \n",
       "\n",
       "                                        75%     max  \n",
       "lesedauer                              47.0    88.0  \n",
       "rechnungsmonat                          0.0     1.0  \n",
       "studentenabo                            0.0     1.0  \n",
       "metropole                               1.0     1.0  \n",
       "shop_kauf                               0.0   152.0  \n",
       "unterbrechung                           0.0     1.0  \n",
       "avg_churn                               0.4     0.7  \n",
       "email_am_kunden                         1.0     1.0  \n",
       "received_anzahl_1w                      5.0    54.0  \n",
       "received_anzahl_1m                     19.0   203.0  \n",
       "received_anzahl_3m                     57.0   573.0  \n",
       "received_anzahl_6m                    116.0 1,147.0  \n",
       "opened_anzahl_1w                        1.0    60.0  \n",
       "opened_anzahl_1m                        4.0   314.0  \n",
       "opened_anzahl_3m                       11.0   572.0  \n",
       "opened_anzahl_6m                       22.0 1,145.0  \n",
       "clicked_anzahl_1w                       0.0    19.0  \n",
       "clicked_anzahl_1m                       0.0    66.0  \n",
       "clicked_anzahl_3m                       1.0   169.0  \n",
       "clicked_anzahl_6m                       2.0   307.0  \n",
       "unsubscribed_anzahl_1w                  0.0     5.0  \n",
       "unsubscribed_anzahl_1m                  0.0     5.0  \n",
       "unsubscribed_anzahl_3m                  0.0     8.0  \n",
       "unsubscribed_anzahl_6m                  0.0    13.0  \n",
       "openrate_1w                             0.4    22.0  \n",
       "clickrate_1w                            0.0     3.0  \n",
       "openrate_1m                             0.4    10.8  \n",
       "clickrate_1m                            0.0     2.0  \n",
       "openrate_3m                             0.4     9.0  \n",
       "clickrate_3m                            0.1     2.0  \n",
       "received_anzahl_bestandskunden_1w       0.0     4.0  \n",
       "received_anzahl_bestandskunden_1m       0.0     4.0  \n",
       "received_anzahl_bestandskunden_3m       0.0    12.0  \n",
       "received_anzahl_bestandskunden_6m       0.0    16.0  \n",
       "opened_anzahl_bestandskunden_1w         0.0     1.0  \n",
       "opened_anzahl_bestandskunden_1m         0.0     4.0  \n",
       "opened_anzahl_bestandskunden_3m         0.0    12.0  \n",
       "openedanzahl_bestandskunden_6m          0.0    16.0  \n",
       "clicked_anzahl_bestandskunden_1w        0.0     1.0  \n",
       "clicked_anzahl_bestandskunden_1m        0.0     2.0  \n",
       "clicked_anzahl_bestandskunden_3m        0.0     3.0  \n",
       "clicked_anzahl_bestandskunden_6m        0.0     4.0  \n",
       "unsubscribed_anzahl_bestandskunden_1w   0.0     1.0  \n",
       "unsubscribed_anzahl_bestandskunden_1m   0.0     1.0  \n",
       "unsubscribed_anzahl_bestandskunden_3m   0.0     1.0  \n",
       "unsubscribed_anzahl_bestandskunden_6m   0.0     1.0  \n",
       "openrate_bestandskunden_1w              0.0     1.0  \n",
       "clickrate_bestandskunden_1w             0.0     1.0  \n",
       "openrate_bestandskunden_1m              0.0     2.0  \n",
       "clickrate_bestandskunden_1m             0.0     2.0  \n",
       "openrate_bestandskunden_3m              0.0     2.0  \n",
       "clickrate_bestandskunden_3m             0.0     1.0  \n",
       "training_set                            1.0     1.0  \n",
       "churn                                   1.0     1.0  "
      ]
     },
     "execution_count": 14,
     "metadata": {},
     "output_type": "execute_result"
    }
   ],
   "source": [
    "df_c.describe().transpose()"
   ]
  },
  {
   "cell_type": "markdown",
   "metadata": {},
   "source": [
    "### **Data types**"
   ]
  },
  {
   "cell_type": "code",
   "execution_count": 15,
   "metadata": {},
   "outputs": [
    {
     "name": "stdout",
     "output_type": "stream",
     "text": [
      "<class 'pandas.core.frame.DataFrame'>\n",
      "Int64Index: 209043 entries, 0 to 209042\n",
      "Data columns (total 70 columns):\n",
      " #   Column                                 Non-Null Count   Dtype  \n",
      "---  ------                                 --------------   -----  \n",
      " 0   auftrag_new_id                         209043 non-null  object \n",
      " 1   liefer_beginn_evt                      209043 non-null  object \n",
      " 2   kanal                                  209043 non-null  object \n",
      " 3   objekt_name                            209043 non-null  object \n",
      " 4   aboform_name                           209043 non-null  object \n",
      " 5   zahlung_rhythmus_name                  209043 non-null  object \n",
      " 6   lesedauer                              209043 non-null  int64  \n",
      " 7   rechnungsmonat                         209043 non-null  int64  \n",
      " 8   zahlung_weg_name                       209043 non-null  object \n",
      " 9   studentenabo                           209043 non-null  int64  \n",
      " 10  plz_1                                  209043 non-null  object \n",
      " 11  plz_2                                  209043 non-null  object \n",
      " 12  plz_3                                  209043 non-null  object \n",
      " 13  ort                                    208958 non-null  object \n",
      " 14  metropole                              209043 non-null  int64  \n",
      " 15  land_iso_code                          209043 non-null  object \n",
      " 16  shop_kauf                              209043 non-null  int64  \n",
      " 17  unterbrechung                          209043 non-null  int64  \n",
      " 18  anrede                                 209043 non-null  object \n",
      " 19  titel                                  209043 non-null  object \n",
      " 20  avg_churn                              209043 non-null  float64\n",
      " 21  email_am_kunden                        209031 non-null  float64\n",
      " 22  received_anzahl_1w                     209043 non-null  int64  \n",
      " 23  received_anzahl_1m                     209043 non-null  int64  \n",
      " 24  received_anzahl_3m                     209043 non-null  int64  \n",
      " 25  received_anzahl_6m                     209043 non-null  int64  \n",
      " 26  opened_anzahl_1w                       209043 non-null  int64  \n",
      " 27  opened_anzahl_1m                       209043 non-null  int64  \n",
      " 28  opened_anzahl_3m                       209043 non-null  int64  \n",
      " 29  opened_anzahl_6m                       209043 non-null  int64  \n",
      " 30  clicked_anzahl_1w                      209043 non-null  int64  \n",
      " 31  clicked_anzahl_1m                      209043 non-null  int64  \n",
      " 32  clicked_anzahl_3m                      209043 non-null  int64  \n",
      " 33  clicked_anzahl_6m                      209043 non-null  int64  \n",
      " 34  unsubscribed_anzahl_1w                 209043 non-null  int64  \n",
      " 35  unsubscribed_anzahl_1m                 209043 non-null  int64  \n",
      " 36  unsubscribed_anzahl_3m                 209043 non-null  int64  \n",
      " 37  unsubscribed_anzahl_6m                 209043 non-null  int64  \n",
      " 38  openrate_1w                            209043 non-null  float64\n",
      " 39  clickrate_1w                           209043 non-null  float64\n",
      " 40  openrate_1m                            209043 non-null  float64\n",
      " 41  clickrate_1m                           209043 non-null  float64\n",
      " 42  openrate_3m                            209043 non-null  float64\n",
      " 43  clickrate_3m                           209043 non-null  float64\n",
      " 44  received_anzahl_bestandskunden_1w      209043 non-null  int64  \n",
      " 45  received_anzahl_bestandskunden_1m      209043 non-null  int64  \n",
      " 46  received_anzahl_bestandskunden_3m      209043 non-null  int64  \n",
      " 47  received_anzahl_bestandskunden_6m      209043 non-null  int64  \n",
      " 48  opened_anzahl_bestandskunden_1w        209043 non-null  int64  \n",
      " 49  opened_anzahl_bestandskunden_1m        209043 non-null  int64  \n",
      " 50  opened_anzahl_bestandskunden_3m        209043 non-null  int64  \n",
      " 51  openedanzahl_bestandskunden_6m         209043 non-null  int64  \n",
      " 52  clicked_anzahl_bestandskunden_1w       209043 non-null  int64  \n",
      " 53  clicked_anzahl_bestandskunden_1m       209043 non-null  int64  \n",
      " 54  clicked_anzahl_bestandskunden_3m       209043 non-null  int64  \n",
      " 55  clicked_anzahl_bestandskunden_6m       209043 non-null  int64  \n",
      " 56  unsubscribed_anzahl_bestandskunden_1w  209043 non-null  int64  \n",
      " 57  unsubscribed_anzahl_bestandskunden_1m  209043 non-null  int64  \n",
      " 58  unsubscribed_anzahl_bestandskunden_3m  209043 non-null  int64  \n",
      " 59  unsubscribed_anzahl_bestandskunden_6m  209043 non-null  int64  \n",
      " 60  openrate_bestandskunden_1w             209043 non-null  float64\n",
      " 61  clickrate_bestandskunden_1w            209043 non-null  float64\n",
      " 62  openrate_bestandskunden_1m             209043 non-null  float64\n",
      " 63  clickrate_bestandskunden_1m            209043 non-null  float64\n",
      " 64  openrate_bestandskunden_3m             209043 non-null  float64\n",
      " 65  clickrate_bestandskunden_3m            209043 non-null  float64\n",
      " 66  training_set                           209043 non-null  int64  \n",
      " 67  kuendigungs_eingangs_datum             66289 non-null   object \n",
      " 68  churn                                  209043 non-null  int64  \n",
      " 69  date_x                                 209043 non-null  object \n",
      "dtypes: float64(14), int64(40), object(16)\n",
      "memory usage: 113.2+ MB\n"
     ]
    }
   ],
   "source": [
    "df_c.info()"
   ]
  },
  {
   "cell_type": "markdown",
   "metadata": {},
   "source": [
    "## **Check for NaN's**"
   ]
  },
  {
   "cell_type": "code",
   "execution_count": 16,
   "metadata": {},
   "outputs": [
    {
     "data": {
      "text/plain": [
       "kuendigungs_eingangs_datum    142754\n",
       "ort                               85\n",
       "email_am_kunden                   12\n",
       "date_x                             0\n",
       "received_anzahl_3m                 0\n",
       "dtype: int64"
      ]
     },
     "execution_count": 16,
     "metadata": {},
     "output_type": "execute_result"
    }
   ],
   "source": [
    "df_c.isnull().sum().sort_values(ascending=False)[:5]"
   ]
  },
  {
   "cell_type": "markdown",
   "metadata": {},
   "source": [
    "The subset of the initial data frame contains missing values in the columns ```ort``` (85), ```email_am_kunden``` (12) and ```kuendigungs_eingangs_datum``` (142,754) <br/>\n",
    "\n",
    "So there are **142,851 NaN's existing** in the subset.\n",
    "<br/>\n",
    "**Arising Tasks:**\n",
    "+ NaN's with suitable values\n",
    "+ Therefore, check the value range of the columns"
   ]
  },
  {
   "cell_type": "code",
   "execution_count": 17,
   "metadata": {
    "collapsed": true,
    "jupyter": {
     "outputs_hidden": true
    }
   },
   "outputs": [
    {
     "name": "stdout",
     "output_type": "stream",
     "text": [
      "[\"'s-Hertogenbosch\" '.Floridablanca' '2300' ... 'Üttfeld' 'Üxheim' nan]\n",
      "[ 0.  1. nan]\n",
      "['2019-05-28' '2019-05-29' '2019-05-30' '2019-05-31' '2019-06-01'\n",
      " '2019-06-02' '2019-06-03' '2019-06-04' '2019-06-05' '2019-06-06'\n",
      " '2019-06-07' '2019-06-08' '2019-06-09' '2019-06-10' '2019-06-11'\n",
      " '2019-06-12' '2019-06-13' '2019-06-14' '2019-06-15' '2019-06-17'\n",
      " '2019-06-18' '2019-06-19' '2019-06-20' '2019-06-21' '2019-06-22'\n",
      " '2019-06-23' '2019-06-24' '2019-06-25' '2019-06-26' '2019-06-27'\n",
      " '2019-06-28' '2019-06-29' '2019-06-30' '2019-07-01' '2019-07-02'\n",
      " '2019-07-03' '2019-07-04' '2019-07-05' '2019-07-06' '2019-07-07'\n",
      " '2019-07-08' '2019-07-09' '2019-07-10' '2019-07-11' '2019-07-12'\n",
      " '2019-07-13' '2019-07-14' '2019-07-15' '2019-07-16' '2019-07-17'\n",
      " '2019-07-18' '2019-07-19' '2019-07-20' '2019-07-21' '2019-07-22'\n",
      " '2019-07-23' '2019-07-24' '2019-07-25' '2019-07-26' '2019-07-27'\n",
      " '2019-07-29' '2019-07-30' '2019-07-31' '2019-08-01' '2019-08-02'\n",
      " '2019-08-03' '2019-08-05' '2019-08-06' '2019-08-07' '2019-08-08'\n",
      " '2019-08-09' '2019-08-10' '2019-08-12' '2019-08-13' '2019-08-14'\n",
      " '2019-08-15' '2019-08-16' '2019-08-17' '2019-08-18' '2019-08-19'\n",
      " '2019-08-20' '2019-08-21' '2019-08-22' '2019-08-23' '2019-08-24'\n",
      " '2019-08-25' '2019-08-26' '2019-08-27' '2019-08-28' '2019-08-29'\n",
      " '2019-08-30' '2019-08-31' '2019-09-02' '2019-09-03' '2019-09-04'\n",
      " '2019-09-05' '2019-09-06' '2019-09-07' '2019-09-08' '2019-09-09'\n",
      " '2019-09-10' '2019-09-11' '2019-09-12' '2019-09-13' '2019-09-14'\n",
      " '2019-09-15' '2019-09-16' '2019-09-17' '2019-09-18' '2019-09-19'\n",
      " '2019-09-20' '2019-09-21' '2019-09-22' '2019-09-23' '2019-09-24'\n",
      " '2019-09-25' '2019-09-26' '2019-09-27' '2019-09-28' '2019-09-30'\n",
      " '2019-10-01' '2019-10-02' '2019-10-03' '2019-10-04' '2019-10-05'\n",
      " '2019-10-06' '2019-10-07' '2019-10-08' '2019-10-09' '2019-10-10'\n",
      " '2019-10-11' '2019-10-12' '2019-10-14' '2019-10-15' '2019-10-16'\n",
      " '2019-10-17' '2019-10-18' '2019-10-19' '2019-10-21' '2019-10-22'\n",
      " '2019-10-23' '2019-10-24' '2019-10-25' '2019-10-26' '2019-10-27'\n",
      " '2019-10-28' '2019-10-29' '2019-10-30' '2019-10-31' '2019-11-01'\n",
      " '2019-11-02' '2019-11-03' '2019-11-04' '2019-11-05' '2019-11-06'\n",
      " '2019-11-07' '2019-11-08' '2019-11-09' '2019-11-10' '2019-11-11'\n",
      " '2019-11-12' '2019-11-13' '2019-11-14' '2019-11-15' '2019-11-16'\n",
      " '2019-11-17' '2019-11-18' '2019-11-19' '2019-11-20' '2019-11-21'\n",
      " '2019-11-22' '2019-11-23' '2019-11-25' '2019-11-26' '2019-11-27'\n",
      " '2019-11-28' '2019-11-29' '2019-11-30' '2019-12-01' '2019-12-02'\n",
      " '2019-12-03' '2019-12-04' '2019-12-05' '2019-12-06' '2019-12-07'\n",
      " '2019-12-08' '2019-12-09' '2019-12-10' '2019-12-11' '2019-12-12'\n",
      " '2019-12-13' '2019-12-14' '2019-12-15' '2019-12-16' '2019-12-17'\n",
      " '2019-12-18' '2019-12-19' '2019-12-20' '2019-12-21' '2019-12-23'\n",
      " '2019-12-24' '2019-12-26' '2019-12-27' '2019-12-28' '2019-12-30'\n",
      " '2019-12-31' '2020-01-02' '2020-01-03' '2020-01-04' '2020-01-06'\n",
      " '2020-01-07' '2020-01-08' '2020-01-09' '2020-01-10' '2020-01-11'\n",
      " '2020-01-12' '2020-01-13' '2020-01-14' '2020-01-15' '2020-01-16'\n",
      " '2020-01-17' '2020-01-18' '2020-01-19' '2020-01-20' '2020-01-21'\n",
      " '2020-01-22' '2020-01-23' '2020-01-24' '2020-01-25' '2020-01-26'\n",
      " '2020-01-27' '2020-01-28' '2020-01-29' '2020-01-30' '2020-01-31'\n",
      " '2020-02-01' '2020-02-02' '2020-02-03' '2020-02-04' '2020-02-05'\n",
      " '2020-02-06' '2020-02-07' '2020-02-08' '2020-02-10' '2020-02-11'\n",
      " '2020-02-12' '2020-02-13' '2020-02-14' '2020-02-15' '2020-02-17'\n",
      " '2020-02-18' '2020-02-19' '2020-02-20' '2020-02-21' '2020-02-22'\n",
      " '2020-02-23' '2020-02-24' '2020-02-25' '2020-02-26' '2020-02-27'\n",
      " '2020-02-28' '2020-02-29' '2020-03-02' '2020-03-03' '2020-03-04'\n",
      " '2020-03-05' '2020-03-06' '2020-03-07' '2020-03-09' '2020-03-10'\n",
      " '2020-03-11' '2020-03-12' '2020-03-13' '2020-03-14' '2020-03-15'\n",
      " '2020-03-16' '2020-03-17' '2020-03-18' '2020-03-19' '2020-03-20'\n",
      " '2020-03-21' '2020-03-22' '2020-03-23' '2020-03-24' '2020-03-25'\n",
      " '2020-03-26' '2020-03-27' '2020-03-28' '2020-03-29' '2020-03-30'\n",
      " '2020-03-31' '2020-04-01' '2020-04-02' '2020-04-03' '2020-04-04'\n",
      " '2020-04-05' '2020-04-06' '2020-04-07' '2020-04-08' '2020-04-09'\n",
      " '2020-04-10' '2020-04-11' '2020-04-12' '2020-04-13' '2020-04-14'\n",
      " '2020-04-15' '2020-04-16' '2020-04-17' '2020-04-18' '2020-04-19'\n",
      " '2020-04-20' '2020-04-21' '2020-04-22' '2020-04-23' '2020-04-24'\n",
      " '2020-04-25' '2020-04-26' '2020-04-27' '2020-04-28' '2020-04-29'\n",
      " '2020-04-30' '2020-05-01' '2020-05-02' '2020-05-03' '2020-05-04'\n",
      " '2020-05-05' '2020-05-06' '2020-05-07' '2020-05-08' '2020-05-09'\n",
      " '2020-05-10' '2020-05-11' '2020-05-12' '2020-05-13' '2020-05-14'\n",
      " '2020-05-15' '2020-05-16' '2020-05-17' '2020-05-18' '2020-05-19'\n",
      " '2020-05-20' '2020-05-21' '2020-05-22' '2020-05-23' '2020-05-24'\n",
      " '2020-05-25' '2020-05-26' '2020-05-27' '2020-05-28' nan]\n"
     ]
    }
   ],
   "source": [
    "o = df_c['ort'].sort_values(ascending=True).unique()\n",
    "e = df_c['email_am_kunden'].sort_values(ascending=True).unique()\n",
    "k = df_c['kuendigungs_eingangs_datum'].sort_values(ascending=True).unique()\n",
    "\n",
    "print(o)\n",
    "print(e)\n",
    "print(k)"
   ]
  },
  {
   "cell_type": "markdown",
   "metadata": {},
   "source": [
    "## **Check for duplicates**"
   ]
  },
  {
   "cell_type": "code",
   "execution_count": 20,
   "metadata": {},
   "outputs": [
    {
     "data": {
      "text/plain": [
       "False"
      ]
     },
     "execution_count": 20,
     "metadata": {},
     "output_type": "execute_result"
    }
   ],
   "source": [
    "duplicates = df_c['auftrag_new_id'].duplicated().any()\n",
    "duplicates"
   ]
  },
  {
   "cell_type": "markdown",
   "metadata": {},
   "source": [
    "Based on the column 'auftrag_new_id' **no duplicates** could be found."
   ]
  },
  {
   "cell_type": "markdown",
   "metadata": {},
   "source": [
    "## **Further data splitting**\n",
    "\n",
    "For the upcoming investigations the data is split into smaller, thematic chunks."
   ]
  },
  {
   "cell_type": "code",
   "execution_count": 24,
   "metadata": {},
   "outputs": [],
   "source": [
    "# Identify Index\n",
    "#print(df_c.columns.get_loc('received_anzahl_bestandskunden_1w'))\n",
    "#print(df_c.columns.get_loc('clickrate_bestandskunden_3m'))"
   ]
  },
  {
   "cell_type": "code",
   "execution_count": 25,
   "metadata": {},
   "outputs": [],
   "source": [
    "# Created Subsets\n",
    "df_dem = df_c.drop(df_c.iloc[:, 22:65], axis=1) # Subset containing the demographical in the data set --> dem = general\n",
    "df_tot = df_c.iloc[:, 22:44]                    # Subset containing 'Erhalten insg ...' (engl. totally received) --> tot = total\n",
    "df_e_cust = df_c.iloc[:, 44:66]                   # Subset containing 'Erhalten aus dem Bestandskundenmandanten ...' (engl. Received from existing customer) --> e_cust = existing customer"
   ]
  },
  {
   "cell_type": "code",
   "execution_count": 26,
   "metadata": {},
   "outputs": [
    {
     "name": "stdout",
     "output_type": "stream",
     "text": [
      "Index(['auftrag_new_id', 'liefer_beginn_evt', 'kanal', 'objekt_name',\n",
      "       'aboform_name', 'zahlung_rhythmus_name', 'lesedauer', 'rechnungsmonat',\n",
      "       'zahlung_weg_name', 'studentenabo', 'plz_1', 'plz_2', 'plz_3', 'ort',\n",
      "       'metropole', 'land_iso_code', 'shop_kauf', 'unterbrechung', 'anrede',\n",
      "       'titel', 'avg_churn', 'email_am_kunden', 'clickrate_bestandskunden_3m',\n",
      "       'training_set', 'kuendigungs_eingangs_datum', 'churn', 'date_x'],\n",
      "      dtype='object')\n",
      "Index(['received_anzahl_1w', 'received_anzahl_1m', 'received_anzahl_3m',\n",
      "       'received_anzahl_6m', 'opened_anzahl_1w', 'opened_anzahl_1m',\n",
      "       'opened_anzahl_3m', 'opened_anzahl_6m', 'clicked_anzahl_1w',\n",
      "       'clicked_anzahl_1m', 'clicked_anzahl_3m', 'clicked_anzahl_6m',\n",
      "       'unsubscribed_anzahl_1w', 'unsubscribed_anzahl_1m',\n",
      "       'unsubscribed_anzahl_3m', 'unsubscribed_anzahl_6m', 'openrate_1w',\n",
      "       'clickrate_1w', 'openrate_1m', 'clickrate_1m', 'openrate_3m',\n",
      "       'clickrate_3m'],\n",
      "      dtype='object')\n",
      "Index(['received_anzahl_bestandskunden_1w',\n",
      "       'received_anzahl_bestandskunden_1m',\n",
      "       'received_anzahl_bestandskunden_3m',\n",
      "       'received_anzahl_bestandskunden_6m', 'opened_anzahl_bestandskunden_1w',\n",
      "       'opened_anzahl_bestandskunden_1m', 'opened_anzahl_bestandskunden_3m',\n",
      "       'openedanzahl_bestandskunden_6m', 'clicked_anzahl_bestandskunden_1w',\n",
      "       'clicked_anzahl_bestandskunden_1m', 'clicked_anzahl_bestandskunden_3m',\n",
      "       'clicked_anzahl_bestandskunden_6m',\n",
      "       'unsubscribed_anzahl_bestandskunden_1w',\n",
      "       'unsubscribed_anzahl_bestandskunden_1m',\n",
      "       'unsubscribed_anzahl_bestandskunden_3m',\n",
      "       'unsubscribed_anzahl_bestandskunden_6m', 'openrate_bestandskunden_1w',\n",
      "       'clickrate_bestandskunden_1w', 'openrate_bestandskunden_1m',\n",
      "       'clickrate_bestandskunden_1m', 'openrate_bestandskunden_3m',\n",
      "       'clickrate_bestandskunden_3m'],\n",
      "      dtype='object')\n"
     ]
    }
   ],
   "source": [
    "# Crosscheck of the subsets\n",
    "print(df_dem.columns)\n",
    "print(df_tot.columns)\n",
    "print(df_e_cust.columns)"
   ]
  },
  {
   "cell_type": "markdown",
   "metadata": {},
   "source": [
    "## **Value based insights**"
   ]
  },
  {
   "cell_type": "code",
   "execution_count": 27,
   "metadata": {},
   "outputs": [],
   "source": [
    "# Display the whole content of the data frame\n",
    "pd.set_option('display.max_columns', None)   # Displays all columns\n",
    "pd.set_option('display.max_rows', None)      # Displays all rows"
   ]
  },
  {
   "cell_type": "code",
   "execution_count": 28,
   "metadata": {},
   "outputs": [],
   "source": [
    "# Print unique values by column\n",
    "#def print_uniques(cols):\n",
    "#    content = list([df_dem[i].sort_values().unique() for i in cols])\n",
    "#    print(*content, sep='\\n ++++++++++++++++++++++++++++++++++++++++++++++++++++++ \\n')\n",
    "    \n",
    "#print_uniques(df_dem.columns)"
   ]
  },
  {
   "cell_type": "markdown",
   "metadata": {},
   "source": [
    "## **Visual insights**\n",
    "\n",
    "#### **Hypothesis**\n",
    "1. People with a academic title build the majority of the subscribers\n",
    "2. ..."
   ]
  },
  {
   "cell_type": "markdown",
   "metadata": {},
   "source": [
    "### **df_dem - Demographical data**\n",
    "#### **'kanal'**"
   ]
  },
  {
   "cell_type": "code",
   "execution_count": 29,
   "metadata": {},
   "outputs": [
    {
     "data": {
      "text/plain": [
       "Text(0.5, 0, ' ')"
      ]
     },
     "execution_count": 29,
     "metadata": {},
     "output_type": "execute_result"
    },
    {
     "data": {
      "image/png": "[encoded data removed]",
      "text/plain": [
       "<Figure size 1080x360 with 1 Axes>"
      ]
     },
     "metadata": {},
     "output_type": "display_data"
    }
   ],
   "source": [
    "fig, ax = plt.subplots(figsize=(15, 5))\n",
    "sns.countplot(x='kanal', data=df_dem, palette='Blues_r', order = df_dem['kanal'].value_counts().index);\n",
    "plt.title('Counts kanal')\n",
    "plt.ylabel('Count')\n",
    "plt.xlabel(' ')"
   ]
  },
  {
   "cell_type": "code",
   "execution_count": 30,
   "metadata": {},
   "outputs": [
    {
     "data": {
      "text/plain": [
       "andere              99299\n",
       "Telefonmarketing    36029\n",
       "E-Mailing           28796\n",
       "Mailings            14791\n",
       "Eigenwerbung        10736\n",
       "B2B                  6525\n",
       "Standwerbung         5593\n",
       "Fremdwerbung         4677\n",
       "SEA                  1993\n",
       "Affiliate             604\n",
       "Name: kanal, dtype: int64"
      ]
     },
     "execution_count": 30,
     "metadata": {},
     "output_type": "execute_result"
    }
   ],
   "source": [
    "df_dem.kanal.value_counts()"
   ]
  },
  {
   "cell_type": "markdown",
   "metadata": {},
   "source": [
    "The column 'kanal' (engl. channel) contains information about how customers are reached out to for acquisition.\n",
    "\n",
    "**Description:**\n",
    "+ The most important channel to reach out to subscribers is others\n",
    "+ Traditional channels like phone marketing, e-mail etc. are less common"
   ]
  },
  {
   "cell_type": "markdown",
   "metadata": {},
   "source": [
    "#### **'objekt_name'**"
   ]
  },
  {
   "cell_type": "code",
   "execution_count": 31,
   "metadata": {},
   "outputs": [
    {
     "data": {
      "text/plain": [
       "Text(0.5, 0, ' ')"
      ]
     },
     "execution_count": 31,
     "metadata": {},
     "output_type": "execute_result"
    },
    {
     "data": {
      "image/png": "[encoded data removed]",
      "text/plain": [
       "<Figure size 1080x360 with 1 Axes>"
      ]
     },
     "metadata": {},
     "output_type": "display_data"
    }
   ],
   "source": [
    "fig, ax = plt.subplots(figsize=(15, 5))\n",
    "sns.countplot(x='objekt_name', data=df_dem, palette='Blues_r', order = df_dem['objekt_name'].value_counts().index);\n",
    "plt.title('Counts objekt_name', fontsize=(15))\n",
    "plt.ylabel('Count')\n",
    "plt.xlabel(' ')"
   ]
  },
  {
   "cell_type": "code",
   "execution_count": 32,
   "metadata": {},
   "outputs": [
    {
     "data": {
      "text/plain": [
       "DIE ZEIT                    116516\n",
       "ZEIT Digital                 85548\n",
       "DIE ZEIT - CHRIST & WELT      6979\n",
       "Name: objekt_name, dtype: int64"
      ]
     },
     "execution_count": 32,
     "metadata": {},
     "output_type": "execute_result"
    }
   ],
   "source": [
    "df_dem.objekt_name.value_counts()"
   ]
  },
  {
   "cell_type": "markdown",
   "metadata": {},
   "source": [
    "The column 'objekt_name' (engl. object name) contains information about what has been subscribed.\n",
    "\n",
    "**Description:**\n",
    "+ About 120,000 subscriptions of 'DIE ZEIT' (traditional print media)\n",
    "+ About 80,000 subscriptions of 'ZEIT Digital' (digital media)"
   ]
  },
  {
   "cell_type": "markdown",
   "metadata": {},
   "source": [
    "#### **'aboform_name'**"
   ]
  },
  {
   "cell_type": "code",
   "execution_count": 33,
   "metadata": {},
   "outputs": [
    {
     "data": {
      "text/plain": [
       "Text(0.5, 0, ' ')"
      ]
     },
     "execution_count": 33,
     "metadata": {},
     "output_type": "execute_result"
    },
    {
     "data": {
      "image/png": "[encoded data removed]",
      "text/plain": [
       "<Figure size 1080x360 with 1 Axes>"
      ]
     },
     "metadata": {},
     "output_type": "display_data"
    }
   ],
   "source": [
    "fig, ax = plt.subplots(figsize=(15, 5))\n",
    "sns.countplot(x='aboform_name', data=df_dem, palette='Blues_r', order = df_dem['aboform_name'].value_counts().index);\n",
    "plt.title('Counts aboform_name', fontsize=(15))\n",
    "plt.ylabel('Count')\n",
    "plt.xlabel(' ')"
   ]
  },
  {
   "cell_type": "markdown",
   "metadata": {},
   "source": [
    "**Note:** ```Negativ Option``` --> ```Probeabo``` converted into a ```Festabo```"
   ]
  },
  {
   "cell_type": "code",
   "execution_count": 34,
   "metadata": {},
   "outputs": [
    {
     "data": {
      "text/plain": [
       "Festabo            102203\n",
       "Negative Option     68687\n",
       "Probeabo            27155\n",
       "Geschenkabo          7716\n",
       "Prämienabo           3282\n",
       "Name: aboform_name, dtype: int64"
      ]
     },
     "execution_count": 34,
     "metadata": {},
     "output_type": "execute_result"
    }
   ],
   "source": [
    "df_dem.aboform_name.value_counts()"
   ]
  },
  {
   "cell_type": "markdown",
   "metadata": {},
   "source": [
    "The column 'aboform_name' (engl. subscription name) contains information about subscription types.\n",
    "\n",
    "**Description:**\n",
    "+ About 100,000 with a subscription ('Festabo')\n",
    "+ About 65,000 subscribers with a negative option ('Negative Option')"
   ]
  },
  {
   "cell_type": "markdown",
   "metadata": {},
   "source": [
    "#### **'zahlung_rhythmus_name'**"
   ]
  },
  {
   "cell_type": "code",
   "execution_count": 35,
   "metadata": {},
   "outputs": [
    {
     "data": {
      "text/plain": [
       "Text(0.5, 0, ' ')"
      ]
     },
     "execution_count": 35,
     "metadata": {},
     "output_type": "execute_result"
    },
    {
     "data": {
      "image/png": "[encoded data removed]",
      "text/plain": [
       "<Figure size 1080x360 with 1 Axes>"
      ]
     },
     "metadata": {},
     "output_type": "display_data"
    }
   ],
   "source": [
    "fig, ax = plt.subplots(figsize=(15, 5))\n",
    "sns.countplot(x='zahlung_rhythmus_name', data=df_dem, palette='Blues_r', order = df_dem['zahlung_rhythmus_name'].value_counts().index);\n",
    "plt.title('Count zahlung_rhythmus_name', fontsize=(15))\n",
    "plt.ylabel('Count')\n",
    "plt.xlabel(' ')"
   ]
  },
  {
   "cell_type": "code",
   "execution_count": 36,
   "metadata": {},
   "outputs": [
    {
     "data": {
      "text/plain": [
       "jährlich                130711\n",
       "halbjährlich             50933\n",
       "vierteljährlich          26631\n",
       "monatlich                  647\n",
       "zweijährlich               101\n",
       "einmalige Berechnung        20\n",
       "Name: zahlung_rhythmus_name, dtype: int64"
      ]
     },
     "execution_count": 36,
     "metadata": {},
     "output_type": "execute_result"
    }
   ],
   "source": [
    "df_dem.zahlung_rhythmus_name.value_counts()"
   ]
  },
  {
   "cell_type": "markdown",
   "metadata": {},
   "source": [
    "The column 'zahlung_rhythmus_name' (engl. payment rhythm) contains information about payment rhythm of subscribers.\n",
    "\n",
    "**Description:**\n",
    "+ The most common subscription type is a annually subscription\n",
    "+ The annually subscription is followed by the semi-annually subscription\n",
    "+ No monthly, two-yearly or unique subscriptions can be found in the data set"
   ]
  },
  {
   "cell_type": "markdown",
   "metadata": {},
   "source": [
    "#### **'lesedauer'**"
   ]
  },
  {
   "cell_type": "code",
   "execution_count": 37,
   "metadata": {},
   "outputs": [
    {
     "data": {
      "text/plain": [
       "Text(0.5, 8.95999999999998, ' ')"
      ]
     },
     "execution_count": 37,
     "metadata": {},
     "output_type": "execute_result"
    },
    {
     "data": {
      "image/png": "[encoded data removed]",
      "text/plain": [
       "<Figure size 720x360 with 1 Axes>"
      ]
     },
     "metadata": {},
     "output_type": "display_data"
    }
   ],
   "source": [
    "sns.displot(x='lesedauer', data=df_dem, palette='Blues_r', height=5, aspect=2);\n",
    "plt.title('Count lesedauer', fontsize=(15))\n",
    "plt.ylabel('Count')\n",
    "plt.xlabel(' ')"
   ]
  },
  {
   "cell_type": "markdown",
   "metadata": {},
   "source": [
    "The column 'lesedauer' (engl. reading duration) contains information about duration of reading from the incoming of an order to the termination of an order.\n",
    "\n",
    "**Description:**\n",
    "+ Distribution is skewed to the right"
   ]
  },
  {
   "cell_type": "code",
   "execution_count": 38,
   "metadata": {},
   "outputs": [
    {
     "data": {
      "text/plain": [
       "<bound method Index.sort of Int64Index([11, 12, 13, 10, 14,  9,  8, 15, 16, 24,  7, 17,  6, 23, 18, 20, 19,\n",
       "            21, 26, 22, 25,  5, 29, 27, 31, 36, 30, 28, 33, 35, 34, 32, 46, 38,\n",
       "            37, 39, 40, 47, 45, 42, 41, 43, 44,  4, 48, 49, 50, 51, 58, 53, 59,\n",
       "            52, 60, 54, 56, 57, 55, 61,  3, 73, 76, 70, 71, 69, 72, 74, 64, 63,\n",
       "            62, 67, 68, 75, 77, 66, 65, 78,  2, 79, 80, 81, 82, 83,  1, 85, 84,\n",
       "            86, 87, 88,  0],\n",
       "           dtype='int64')>"
      ]
     },
     "execution_count": 38,
     "metadata": {},
     "output_type": "execute_result"
    }
   ],
   "source": [
    "df_dem.lesedauer.sort_values().value_counts().index.sort"
   ]
  },
  {
   "cell_type": "markdown",
   "metadata": {},
   "source": [
    "#### **'rechnungsmonat'**"
   ]
  },
  {
   "cell_type": "code",
   "execution_count": 39,
   "metadata": {},
   "outputs": [
    {
     "data": {
      "text/plain": [
       "Text(0.5, 8.95999999999998, ' ')"
      ]
     },
     "execution_count": 39,
     "metadata": {},
     "output_type": "execute_result"
    },
    {
     "data": {
      "image/png": "[encoded data removed]",
      "text/plain": [
       "<Figure size 720x360 with 1 Axes>"
      ]
     },
     "metadata": {},
     "output_type": "display_data"
    }
   ],
   "source": [
    "sns.displot(x='rechnungsmonat', data=df_dem, palette='Blues_r', height=5, aspect=2);\n",
    "plt.title('Count rechnungsmonat', fontsize=(15))\n",
    "plt.ylabel('Count')\n",
    "plt.xlabel(' ')"
   ]
  },
  {
   "cell_type": "code",
   "execution_count": 40,
   "metadata": {},
   "outputs": [
    {
     "data": {
      "text/plain": [
       "0    187973\n",
       "1     21070\n",
       "Name: rechnungsmonat, dtype: int64"
      ]
     },
     "execution_count": 40,
     "metadata": {},
     "output_type": "execute_result"
    }
   ],
   "source": [
    "df_dem.rechnungsmonat.sort_values().value_counts()"
   ]
  },
  {
   "cell_type": "markdown",
   "metadata": {},
   "source": [
    "[…]\n",
    "\n",
    "**Description:**\n",
    "+ [...]"
   ]
  },
  {
   "cell_type": "markdown",
   "metadata": {},
   "source": [
    "#### **'zahlung_weg_name'**"
   ]
  },
  {
   "cell_type": "code",
   "execution_count": 41,
   "metadata": {},
   "outputs": [
    {
     "data": {
      "text/plain": [
       "Text(0.5, 0, ' ')"
      ]
     },
     "execution_count": 41,
     "metadata": {},
     "output_type": "execute_result"
    },
    {
     "data": {
      "image/png": "[encoded data removed]",
      "text/plain": [
       "<Figure size 1080x360 with 1 Axes>"
      ]
     },
     "metadata": {},
     "output_type": "display_data"
    }
   ],
   "source": [
    "fig, ax = plt.subplots(figsize=(15, 5))\n",
    "sns.countplot(x='zahlung_weg_name', data=df_dem, palette='Blues_r', order = df_dem['zahlung_weg_name'].value_counts().index);\n",
    "plt.title('Count zahlung_weg_name', fontsize=(15))\n",
    "plt.ylabel('Count')\n",
    "plt.xlabel(' ')"
   ]
  },
  {
   "cell_type": "code",
   "execution_count": 43,
   "metadata": {},
   "outputs": [
    {
     "data": {
      "text/plain": [
       "Bankeinzug     108076\n",
       "Rechnung        95543\n",
       "Kreditkarte      3266\n",
       "PayPal           2158\n",
       "Name: zahlung_weg_name, dtype: int64"
      ]
     },
     "execution_count": 43,
     "metadata": {},
     "output_type": "execute_result"
    }
   ],
   "source": [
    "df_dem.zahlung_weg_name.sort_values().value_counts()"
   ]
  },
  {
   "cell_type": "markdown",
   "metadata": {},
   "source": [
    "The column 'zahlung_weg_name' (engl. payment method) contains information about payment method customers used.\n",
    "\n",
    "**Description:**\n",
    "+ The most common payment Method\n",
    "\n",
    "**Conclusion:**\n",
    "Together with the TOP1 payment method this rather conservative method of paying might lead back to a rather old readership.\n",
    "\n",
    "**Emerging Task:**\n",
    "+ Investigate demographics deeper\n",
    "+ ..."
   ]
  },
  {
   "cell_type": "markdown",
   "metadata": {},
   "source": [
    "#### **'studentenabo'**"
   ]
  },
  {
   "cell_type": "code",
   "execution_count": 45,
   "metadata": {},
   "outputs": [
    {
     "data": {
      "text/plain": [
       "Text(0.5, 0, ' ')"
      ]
     },
     "execution_count": 45,
     "metadata": {},
     "output_type": "execute_result"
    },
    {
     "data": {
      "image/png": "[encoded data removed]",
      "text/plain": [
       "<Figure size 1080x360 with 1 Axes>"
      ]
     },
     "metadata": {},
     "output_type": "display_data"
    }
   ],
   "source": [
    "fig, ax = plt.subplots(figsize=(15, 5))\n",
    "sns.countplot(x='studentenabo', data=df_dem, palette='Blues_r', order = df_dem['studentenabo'].value_counts().index);\n",
    "plt.title('Count studentenabo', fontsize=(15))\n",
    "plt.ylabel('Count')\n",
    "plt.xlabel(' ')"
   ]
  },
  {
   "cell_type": "markdown",
   "metadata": {},
   "source": [
    "#### **'land_iso_code'**"
   ]
  },
  {
   "cell_type": "markdown",
   "metadata": {},
   "source": [
    "[...TBC…]"
   ]
  },
  {
   "cell_type": "markdown",
   "metadata": {},
   "source": [
    "### **df_tot - Totally received**"
   ]
  },
  {
   "cell_type": "code",
   "execution_count": 46,
   "metadata": {},
   "outputs": [
    {
     "name": "stdout",
     "output_type": "stream",
     "text": [
      "<class 'pandas.core.frame.DataFrame'>\n",
      "Int64Index: 209043 entries, 0 to 209042\n",
      "Data columns (total 22 columns):\n",
      " #   Column                  Non-Null Count   Dtype  \n",
      "---  ------                  --------------   -----  \n",
      " 0   received_anzahl_1w      209043 non-null  int64  \n",
      " 1   received_anzahl_1m      209043 non-null  int64  \n",
      " 2   received_anzahl_3m      209043 non-null  int64  \n",
      " 3   received_anzahl_6m      209043 non-null  int64  \n",
      " 4   opened_anzahl_1w        209043 non-null  int64  \n",
      " 5   opened_anzahl_1m        209043 non-null  int64  \n",
      " 6   opened_anzahl_3m        209043 non-null  int64  \n",
      " 7   opened_anzahl_6m        209043 non-null  int64  \n",
      " 8   clicked_anzahl_1w       209043 non-null  int64  \n",
      " 9   clicked_anzahl_1m       209043 non-null  int64  \n",
      " 10  clicked_anzahl_3m       209043 non-null  int64  \n",
      " 11  clicked_anzahl_6m       209043 non-null  int64  \n",
      " 12  unsubscribed_anzahl_1w  209043 non-null  int64  \n",
      " 13  unsubscribed_anzahl_1m  209043 non-null  int64  \n",
      " 14  unsubscribed_anzahl_3m  209043 non-null  int64  \n",
      " 15  unsubscribed_anzahl_6m  209043 non-null  int64  \n",
      " 16  openrate_1w             209043 non-null  float64\n",
      " 17  clickrate_1w            209043 non-null  float64\n",
      " 18  openrate_1m             209043 non-null  float64\n",
      " 19  clickrate_1m            209043 non-null  float64\n",
      " 20  openrate_3m             209043 non-null  float64\n",
      " 21  clickrate_3m            209043 non-null  float64\n",
      "dtypes: float64(6), int64(16)\n",
      "memory usage: 46.7 MB\n"
     ]
    }
   ],
   "source": [
    "df_tot.info()"
   ]
  },
  {
   "cell_type": "code",
   "execution_count": 48,
   "metadata": {},
   "outputs": [],
   "source": [
    "# Print unique values by column\n",
    "#def print_uniques(cols):\n",
    "#    content = list([df_tot[i].sort_values().unique() for i in cols])\n",
    "#    print(*content, sep='\\n ++++++++++++++++++++++++++++++++++++++++++++++++++++++ \\n')\n",
    "    \n",
    "#print_uniques(df_tot.columns)"
   ]
  },
  {
   "cell_type": "code",
   "execution_count": null,
   "metadata": {},
   "outputs": [],
   "source": [
    "def add_count(plot):\n",
    "    '''adds counts to bar and count plots'''\n",
    "    for p in plot.patches:\n",
    "        plot.annotate(format(p.get_height(), '.0f'), \n",
    "                       (p.get_x() + p.get_width() / 2., p.get_height()), \n",
    "                       ha = 'center', va = 'center', \n",
    "                       xytext = (0, 9), \n",
    "                       textcoords = 'offset points')"
   ]
  },
  {
   "cell_type": "code",
   "execution_count": null,
   "metadata": {},
   "outputs": [],
   "source": [
    "relevant = [\"zon_zp_grey\", \"zon_premium\", \"zon_sonstige\", \"zon_zp_red\"]\n",
    "for i in relevant: \n",
    "    ax = sns.countplot(x=i, data=data, hue=\"churn\") \n",
    "    ax.set(xlabel=i, ylabel=\"Frequency\", xlim=[-0.5, 2.5]) \n",
    "    add_count(ax)\n",
    "    plt.title(f\"Distribution of {i} grouped by churn\")\n",
    "    plt.show()"
   ]
  },
  {
   "cell_type": "markdown",
   "metadata": {},
   "source": [
    "### **df_e_cust - Totally received**\n",
    "#### **''**"
   ]
  },
  {
   "cell_type": "code",
   "execution_count": null,
   "metadata": {},
   "outputs": [],
   "source": [
    "df_e_cust.info()"
   ]
  },
  {
   "cell_type": "code",
   "execution_count": null,
   "metadata": {},
   "outputs": [],
   "source": [
    "# Function to calculate missing values by column\n",
    "# def missing_values_table(df):\n",
    "#        # Total missing values\n",
    "#        mis_val = df.isnull().sum()\n",
    "#        # Percentage of missing values\n",
    "#        mis_val_percent = 100 * mis_val / len(df)\n",
    "#        # Make a table with the results\n",
    "#        mis_val_table = pd.concat([mis_val, mis_val_percent], axis=1)\n",
    "#        # Rename the columns\n",
    "#        mis_val_table_ren_columns = mis_val_table.rename(\n",
    "#        columns = {0 : 'Missing Values', 1 : '% of Total Values'})\n",
    "#        # Sort the table by percentage of missing descending\n",
    "#        mis_val_table_ren_columns = mis_val_table_ren_columns[\n",
    "#            mis_val_table_ren_columns.iloc[:,1] != 0].sort_values(\n",
    "#        '% of Total Values', ascending=False).round(3)\n",
    "#        # Print some summary information\n",
    "#        print (\"Your selected dataframe has \" + str(df.shape[1]) + \" columns.\\n\"\n",
    "#            \"There are \" + str(mis_val_table_ren_columns.shape[0]) +\n",
    "#              \" columns that have missing values.\")\n",
    "#        # Return the dataframe with missing information\n",
    "#        return mis_val_table_ren_columns\n",
    "\n",
    "\n",
    "###################\n",
    "\n",
    "#ax = sns.countplot(x=\"class\", hue=\"who\", data=titanic)"
   ]
  },
  {
   "cell_type": "code",
   "execution_count": null,
   "metadata": {},
   "outputs": [],
   "source": []
  }
 ],
 "metadata": {
  "kernelspec": {
   "display_name": "Python 3",
   "language": "python",
   "name": "python3"
  },
  "language_info": {
   "codemirror_mode": {
    "name": "ipython",
    "version": 3
   },
   "file_extension": ".py",
   "mimetype": "text/x-python",
   "name": "python",
   "nbconvert_exporter": "python",
   "pygments_lexer": "ipython3",
   "version": "3.8.5"
  }
 },
 "nbformat": 4,
 "nbformat_minor": 4
}
