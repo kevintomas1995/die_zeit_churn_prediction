{
 "cells": [
  {
   "cell_type": "markdown",
   "metadata": {},
   "source": [
    "# Feature Engineering:"
   ]
  },
  {
   "cell_type": "code",
   "execution_count": 1,
   "metadata": {},
   "outputs": [],
   "source": [
    "import numpy as np\n",
    "import pandas as pd\n",
    "\n",
    "import seaborn as sns\n",
    "import matplotlib.pyplot as plt\n",
    "\n",
    "from datetime import datetime\n",
    "\n",
    "%matplotlib inline\n",
    "#sns.set_theme(style=\"whitegrid\")\n",
    "sns.set_palette('rainbow')"
   ]
  },
  {
   "cell_type": "markdown",
   "metadata": {},
   "source": [
    "We Import our cleaned dataset and export a feature-engineered data set, so we can keep track of the effects our feature engineering had on our models:"
   ]
  },
  {
   "cell_type": "code",
   "execution_count": 6,
   "metadata": {},
   "outputs": [],
   "source": [
    "df = pd.read_csv(\"00_data/f_chtr_churn_traintable_nf.csv\", index_col=0)"
   ]
  },
  {
   "cell_type": "markdown",
   "metadata": {},
   "source": [
    "ZON - Features: we create dummies out of the 14 ZON features with 3 categories,\n",
    "we also add 1 aggregation function as most of the columns have >99% zeros:"
   ]
  },
  {
   "cell_type": "code",
   "execution_count": 7,
   "metadata": {},
   "outputs": [],
   "source": [
    "def todumm(cat):\n",
    "    if cat >1: \n",
    "        return 1\n",
    "    else:\n",
    "        return 0"
   ]
  },
  {
   "cell_type": "markdown",
   "metadata": {},
   "source": [
    "### ZON - Features"
   ]
  },
  {
   "cell_type": "code",
   "execution_count": 8,
   "metadata": {},
   "outputs": [],
   "source": [
    "for i in df.iloc[: ,21:35]:\n",
    "    df[i] = df[i].apply(todumm)\n",
    "    \n",
    "agg_zon = df.iloc[: ,21:35].sum(axis=1) # this aggregation function should be "
   ]
  },
  {
   "cell_type": "code",
   "execution_count": 11,
   "metadata": {},
   "outputs": [
    {
     "data": {
      "text/plain": [
       "0    188140\n",
       "1     20580\n",
       "2       323\n",
       "dtype: int64"
      ]
     },
     "execution_count": 11,
     "metadata": {},
     "output_type": "execute_result"
    }
   ],
   "source": [
    "agg_zon.value_counts()"
   ]
  },
  {
   "cell_type": "markdown",
   "metadata": {},
   "source": [
    "9.63% of the cleaned sample registered to a ZON-Service first time.\n",
    "Only a fraction of the cleaned sample (0.07% or 122) registered to 2 ZON-Services for the first time, which should not be possible by default"
   ]
  },
  {
   "cell_type": "code",
   "execution_count": 13,
   "metadata": {},
   "outputs": [
    {
     "ename": "AttributeError",
     "evalue": "'DataFrame' object has no attribute 'to_frame'",
     "output_type": "error",
     "traceback": [
      "\u001b[0;31m---------------------------------------------------------------------------\u001b[0m",
      "\u001b[0;31mAttributeError\u001b[0m                            Traceback (most recent call last)",
      "\u001b[0;32m<ipython-input-13-0148c8aa8b41>\u001b[0m in \u001b[0;36m<module>\u001b[0;34m\u001b[0m\n\u001b[0;32m----> 1\u001b[0;31m \u001b[0magg_zon\u001b[0m \u001b[0;34m=\u001b[0m \u001b[0magg_zon\u001b[0m\u001b[0;34m.\u001b[0m\u001b[0mto_frame\u001b[0m\u001b[0;34m(\u001b[0m\u001b[0mname\u001b[0m\u001b[0;34m=\u001b[0m\u001b[0;34m\"agg_zon\"\u001b[0m\u001b[0;34m)\u001b[0m\u001b[0;34m\u001b[0m\u001b[0;34m\u001b[0m\u001b[0m\n\u001b[0m",
      "\u001b[0;32m~/opt/anaconda3/envs/capstone-ZEIT-2020-ds/lib/python3.8/site-packages/pandas/core/generic.py\u001b[0m in \u001b[0;36m__getattr__\u001b[0;34m(self, name)\u001b[0m\n\u001b[1;32m   5137\u001b[0m             \u001b[0;32mif\u001b[0m \u001b[0mself\u001b[0m\u001b[0;34m.\u001b[0m\u001b[0m_info_axis\u001b[0m\u001b[0;34m.\u001b[0m\u001b[0m_can_hold_identifiers_and_holds_name\u001b[0m\u001b[0;34m(\u001b[0m\u001b[0mname\u001b[0m\u001b[0;34m)\u001b[0m\u001b[0;34m:\u001b[0m\u001b[0;34m\u001b[0m\u001b[0;34m\u001b[0m\u001b[0m\n\u001b[1;32m   5138\u001b[0m                 \u001b[0;32mreturn\u001b[0m \u001b[0mself\u001b[0m\u001b[0;34m[\u001b[0m\u001b[0mname\u001b[0m\u001b[0;34m]\u001b[0m\u001b[0;34m\u001b[0m\u001b[0;34m\u001b[0m\u001b[0m\n\u001b[0;32m-> 5139\u001b[0;31m             \u001b[0;32mreturn\u001b[0m \u001b[0mobject\u001b[0m\u001b[0;34m.\u001b[0m\u001b[0m__getattribute__\u001b[0m\u001b[0;34m(\u001b[0m\u001b[0mself\u001b[0m\u001b[0;34m,\u001b[0m \u001b[0mname\u001b[0m\u001b[0;34m)\u001b[0m\u001b[0;34m\u001b[0m\u001b[0;34m\u001b[0m\u001b[0m\n\u001b[0m\u001b[1;32m   5140\u001b[0m \u001b[0;34m\u001b[0m\u001b[0m\n\u001b[1;32m   5141\u001b[0m     \u001b[0;32mdef\u001b[0m \u001b[0m__setattr__\u001b[0m\u001b[0;34m(\u001b[0m\u001b[0mself\u001b[0m\u001b[0;34m,\u001b[0m \u001b[0mname\u001b[0m\u001b[0;34m:\u001b[0m \u001b[0mstr\u001b[0m\u001b[0;34m,\u001b[0m \u001b[0mvalue\u001b[0m\u001b[0;34m)\u001b[0m \u001b[0;34m->\u001b[0m \u001b[0;32mNone\u001b[0m\u001b[0;34m:\u001b[0m\u001b[0;34m\u001b[0m\u001b[0;34m\u001b[0m\u001b[0m\n",
      "\u001b[0;31mAttributeError\u001b[0m: 'DataFrame' object has no attribute 'to_frame'"
     ]
    }
   ],
   "source": [
    "agg_zon = agg_zon.to_frame(name=\"agg_zon\")"
   ]
  },
  {
   "cell_type": "code",
   "execution_count": 16,
   "metadata": {},
   "outputs": [],
   "source": [
    "df_doubles = df.join(agg_zon)"
   ]
  },
  {
   "cell_type": "markdown",
   "metadata": {},
   "source": [
    "#### Error Analysis on Zon-Features:"
   ]
  },
  {
   "cell_type": "code",
   "execution_count": 17,
   "metadata": {},
   "outputs": [
    {
     "data": {
      "text/html": [
       "<div>\n",
       "<style scoped>\n",
       "    .dataframe tbody tr th:only-of-type {\n",
       "        vertical-align: middle;\n",
       "    }\n",
       "\n",
       "    .dataframe tbody tr th {\n",
       "        vertical-align: top;\n",
       "    }\n",
       "\n",
       "    .dataframe thead th {\n",
       "        text-align: right;\n",
       "    }\n",
       "</style>\n",
       "<table border=\"1\" class=\"dataframe\">\n",
       "  <thead>\n",
       "    <tr style=\"text-align: right;\">\n",
       "      <th></th>\n",
       "      <th>zon_che_opt_in</th>\n",
       "      <th>zon_sit_opt_in</th>\n",
       "      <th>zon_zp_grey</th>\n",
       "      <th>zon_premium</th>\n",
       "      <th>zon_boa</th>\n",
       "      <th>zon_kommentar</th>\n",
       "      <th>zon_sonstige</th>\n",
       "      <th>zon_zp_red</th>\n",
       "      <th>zon_rawr</th>\n",
       "      <th>zon_community</th>\n",
       "      <th>zon_app_sonstige</th>\n",
       "      <th>zon_schach</th>\n",
       "      <th>zon_blog_kommentare</th>\n",
       "      <th>zon_quiz</th>\n",
       "    </tr>\n",
       "  </thead>\n",
       "  <tbody>\n",
       "  </tbody>\n",
       "</table>\n",
       "</div>"
      ],
      "text/plain": [
       "Empty DataFrame\n",
       "Columns: [zon_che_opt_in, zon_sit_opt_in, zon_zp_grey, zon_premium, zon_boa, zon_kommentar, zon_sonstige, zon_zp_red, zon_rawr, zon_community, zon_app_sonstige, zon_schach, zon_blog_kommentare, zon_quiz]\n",
       "Index: []"
      ]
     },
     "execution_count": 17,
     "metadata": {},
     "output_type": "execute_result"
    }
   ],
   "source": [
    "df_doubles = df_doubles.query(\"agg_zon == 2\").iloc[: , 21:35]\n",
    "df_doubles.head(1)"
   ]
  },
  {
   "cell_type": "code",
   "execution_count": 18,
   "metadata": {},
   "outputs": [
    {
     "data": {
      "image/png": "[encoded data removed]",
      "text/plain": [
       "<Figure size 1440x720 with 2 Axes>"
      ]
     },
     "metadata": {
      "needs_background": "light"
     },
     "output_type": "display_data"
    }
   ],
   "source": [
    "corr = df_doubles.corr()\n",
    "mask = np.zeros_like(corr, dtype=np.bool)\n",
    "mask[np.triu_indices_from(mask)] = True\n",
    "#cmap = sns.diverging_palette(220, 10, as_cmap=True) (diverging not necessary)\n",
    "f, ax = plt.subplots(figsize=(20, 10))\n",
    "sns.heatmap(corr, mask=mask,square=True, linewidths=.5, annot=True, vmin=-1, vmax=1, center= 0, fmt='.2f' , cmap=\"vlag_r\")\n",
    "plt.yticks(rotation=0)\n",
    "plt.title('Correlation Matrix of ZeitOnline variables', fontsize=20)\n",
    "plt.show()"
   ]
  },
  {
   "cell_type": "markdown",
   "metadata": {},
   "source": [
    "- There should not be any correlations 'cause all the features are on \"first time registration\"\n",
    "- check for highest correlation(0.44) between 'zon sonstige' & 'zon premium':"
   ]
  },
  {
   "cell_type": "code",
   "execution_count": 10,
   "metadata": {},
   "outputs": [
    {
     "data": {
      "text/html": [
       "<div>\n",
       "<style scoped>\n",
       "    .dataframe tbody tr th:only-of-type {\n",
       "        vertical-align: middle;\n",
       "    }\n",
       "\n",
       "    .dataframe tbody tr th {\n",
       "        vertical-align: top;\n",
       "    }\n",
       "\n",
       "    .dataframe thead th {\n",
       "        text-align: right;\n",
       "    }\n",
       "</style>\n",
       "<table border=\"1\" class=\"dataframe\">\n",
       "  <thead>\n",
       "    <tr style=\"text-align: right;\">\n",
       "      <th></th>\n",
       "      <th>zon_che_opt_in</th>\n",
       "      <th>zon_sit_opt_in</th>\n",
       "      <th>zon_zp_grey</th>\n",
       "      <th>zon_premium</th>\n",
       "      <th>zon_boa</th>\n",
       "      <th>zon_kommentar</th>\n",
       "      <th>zon_sonstige</th>\n",
       "      <th>zon_zp_red</th>\n",
       "      <th>zon_rawr</th>\n",
       "      <th>zon_community</th>\n",
       "      <th>zon_app_sonstige</th>\n",
       "      <th>zon_schach</th>\n",
       "      <th>zon_blog_kommentare</th>\n",
       "      <th>zon_quiz</th>\n",
       "    </tr>\n",
       "  </thead>\n",
       "  <tbody>\n",
       "  </tbody>\n",
       "</table>\n",
       "</div>"
      ],
      "text/plain": [
       "Empty DataFrame\n",
       "Columns: [zon_che_opt_in, zon_sit_opt_in, zon_zp_grey, zon_premium, zon_boa, zon_kommentar, zon_sonstige, zon_zp_red, zon_rawr, zon_community, zon_app_sonstige, zon_schach, zon_blog_kommentare, zon_quiz]\n",
       "Index: []"
      ]
     },
     "execution_count": 10,
     "metadata": {},
     "output_type": "execute_result"
    }
   ],
   "source": [
    "df_doubles.sort_values(['zon_premium','zon_sonstige'], ascending=[False,False]).head(50)"
   ]
  },
  {
   "cell_type": "code",
   "execution_count": null,
   "metadata": {},
   "outputs": [],
   "source": [
    "df.query('zon_premium == 1 & zon_sonstige ==1')"
   ]
  },
  {
   "cell_type": "markdown",
   "metadata": {},
   "source": [
    "- 14 people who registered to a ZON-Service registered the first time on ZON-Premium & on ZON-sonstige\n",
    "- they do not have any other similarities, there are no patterns, why this happens\n",
    "- this is the result of a bad data-architecture and wrongly assigned clusters "
   ]
  },
  {
   "cell_type": "markdown",
   "metadata": {},
   "source": [
    "### NL-Features\n",
    "0 Nicht vorhanden, \n",
    "1: Abgemeldet, \n",
    "2: Aktiv\n",
    "\n",
    "We also transform those to dummies, like we already did with nl_blacklist_sum, nl_bounced_sum, nl_sperrliste_sum, nl_opt_in_sum in outlier handling:"
   ]
  },
  {
   "cell_type": "code",
   "execution_count": null,
   "metadata": {},
   "outputs": [],
   "source": [
    "df.iloc[: , lambda df: [41,42,43,44,45,46,49,50]].head(1)"
   ]
  },
  {
   "cell_type": "code",
   "execution_count": null,
   "metadata": {},
   "outputs": [],
   "source": [
    "for i in df.iloc[: , lambda df: [41,42,43,44,45,46,49,50]]:\n",
    "    df[i] = df[i].apply(todumm)\n",
    "    \n",
    "# agg_nl = df.iloc[: , lambda df: [41,42,43,44,45,46,47,49,50]].sum(axis=1) not necessary, we have nl_aktivität as counbt for ALL Newsletters"
   ]
  },
  {
   "cell_type": "markdown",
   "metadata": {},
   "source": [
    "### Zeitreihen:"
   ]
  },
  {
   "cell_type": "markdown",
   "metadata": {},
   "source": [
    "Fill missing Values (in Final_EDA needs to be added at the top):"
   ]
  },
  {
   "cell_type": "code",
   "execution_count": null,
   "metadata": {},
   "outputs": [],
   "source": [
    "df.kuendigungs_eingangs_datum.fillna(value='2020-05-26', inplace=True)"
   ]
  },
  {
   "cell_type": "markdown",
   "metadata": {},
   "source": [
    "Convert object-columns to datetime "
   ]
  },
  {
   "cell_type": "code",
   "execution_count": null,
   "metadata": {},
   "outputs": [],
   "source": [
    "df['liefer_beginn_evt']= pd.to_datetime(df['liefer_beginn_evt'])"
   ]
  },
  {
   "cell_type": "code",
   "execution_count": null,
   "metadata": {},
   "outputs": [],
   "source": [
    "df['kuendigungs_eingangs_datum']= pd.to_datetime(df['kuendigungs_eingangs_datum'])"
   ]
  },
  {
   "cell_type": "code",
   "execution_count": null,
   "metadata": {},
   "outputs": [],
   "source": [
    "df['abo_registrierung_min']= pd.to_datetime(df['abo_registrierung_min'])"
   ]
  },
  {
   "cell_type": "code",
   "execution_count": null,
   "metadata": {},
   "outputs": [],
   "source": [
    "df['nl_registrierung_min']= pd.to_datetime(df['nl_registrierung_min'])"
   ]
  },
  {
   "cell_type": "code",
   "execution_count": null,
   "metadata": {},
   "outputs": [],
   "source": [
    "df.head()"
   ]
  },
  {
   "cell_type": "markdown",
   "metadata": {},
   "source": [
    "### Vetragsdauer vs. Lesedauer:\n",
    "as \"Lesedauer\" is generated on the randomly selected \"date_x\" for non-churners, we will drop the columns lesedauer(months) and replace it with the more accurate columns \"vertragsdauer_tage\""
   ]
  },
  {
   "cell_type": "code",
   "execution_count": null,
   "metadata": {},
   "outputs": [],
   "source": [
    "df['vertragsdauer_tage'] = (df['kuendigungs_eingangs_datum'] - df['liefer_beginn_evt']).dt.days"
   ]
  },
  {
   "cell_type": "code",
   "execution_count": null,
   "metadata": {},
   "outputs": [],
   "source": [
    "df['vertragsdauer_monate'] = df['vertragsdauer_tage'].apply(lambda x: x / 30).round().astype(int)\n"
   ]
  },
  {
   "cell_type": "code",
   "execution_count": null,
   "metadata": {},
   "outputs": [],
   "source": [
    "df.drop([\"lesedauer\",'date_x', 'abo_registrierung_min_YEAR'], axis=1).sort_values(\"vertragsdauer_tage\", ascending=False)"
   ]
  },
  {
   "cell_type": "code",
   "execution_count": null,
   "metadata": {},
   "outputs": [],
   "source": []
  }
 ],
 "metadata": {
  "kernelspec": {
   "display_name": "Python 3",
   "language": "python",
   "name": "python3"
  },
  "language_info": {
   "codemirror_mode": {
    "name": "ipython",
    "version": 3
   },
   "file_extension": ".py",
   "mimetype": "text/x-python",
   "name": "python",
   "nbconvert_exporter": "python",
   "pygments_lexer": "ipython3",
   "version": "3.8.5"
  }
 },
 "nbformat": 4,
 "nbformat_minor": 4
}
