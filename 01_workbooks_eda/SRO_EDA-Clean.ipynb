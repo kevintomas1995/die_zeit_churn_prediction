{
 "cells": [
  {
   "cell_type": "markdown",
   "metadata": {},
   "source": [
    "# Demographics& partial EDA CW1 "
   ]
  },
  {
   "cell_type": "code",
   "execution_count": 1,
   "metadata": {},
   "outputs": [],
   "source": [
    "import numpy as np\n",
    "import pandas as pd\n",
    "\n",
    "import seaborn as sns\n",
    "import matplotlib.pyplot as plt\n",
    "\n",
    "%matplotlib inline\n",
    "sns.set_theme(style=\"whitegrid\")\n",
    "sns.set_palette('Blues_r')\n",
    "\n",
    "pd.set_option('display.max_rows', None) # Displays all rows in the table\n",
    "pd.set_option('display.max_columns', None) # Displays all columns in the table\n",
    "\n",
    "# Define decimal places shown\n",
    "pd.options.display.float_format = '{:,.3f}'.format"
   ]
  },
  {
   "cell_type": "markdown",
   "metadata": {},
   "source": [
    "We load the dataset, which is cleaned of approximately 40k duplicates:"
   ]
  },
  {
   "cell_type": "code",
   "execution_count": 2,
   "metadata": {},
   "outputs": [
    {
     "ename": "FileNotFoundError",
     "evalue": "[Errno 2] No such file or directory: '00_data/clean_duplicates.csv'",
     "output_type": "error",
     "traceback": [
      "\u001b[0;31m---------------------------------------------------------------------------\u001b[0m",
      "\u001b[0;31mFileNotFoundError\u001b[0m                         Traceback (most recent call last)",
      "\u001b[0;32m<ipython-input-2-e0dc3ce2fbe9>\u001b[0m in \u001b[0;36m<module>\u001b[0;34m\u001b[0m\n\u001b[0;32m----> 1\u001b[0;31m \u001b[0mdf\u001b[0m \u001b[0;34m=\u001b[0m \u001b[0mpd\u001b[0m\u001b[0;34m.\u001b[0m\u001b[0mread_csv\u001b[0m\u001b[0;34m(\u001b[0m\u001b[0;34m'00_data/clean_duplicates.csv'\u001b[0m\u001b[0;34m,\u001b[0m \u001b[0mindex_col\u001b[0m\u001b[0;34m=\u001b[0m\u001b[0;36m0\u001b[0m\u001b[0;34m)\u001b[0m\u001b[0;34m\u001b[0m\u001b[0;34m\u001b[0m\u001b[0m\n\u001b[0m",
      "\u001b[0;32m~/opt/anaconda3/envs/capstone-ZEIT-2020-ds/lib/python3.8/site-packages/pandas/io/parsers.py\u001b[0m in \u001b[0;36mread_csv\u001b[0;34m(filepath_or_buffer, sep, delimiter, header, names, index_col, usecols, squeeze, prefix, mangle_dupe_cols, dtype, engine, converters, true_values, false_values, skipinitialspace, skiprows, skipfooter, nrows, na_values, keep_default_na, na_filter, verbose, skip_blank_lines, parse_dates, infer_datetime_format, keep_date_col, date_parser, dayfirst, cache_dates, iterator, chunksize, compression, thousands, decimal, lineterminator, quotechar, quoting, doublequote, escapechar, comment, encoding, dialect, error_bad_lines, warn_bad_lines, delim_whitespace, low_memory, memory_map, float_precision)\u001b[0m\n\u001b[1;32m    686\u001b[0m     )\n\u001b[1;32m    687\u001b[0m \u001b[0;34m\u001b[0m\u001b[0m\n\u001b[0;32m--> 688\u001b[0;31m     \u001b[0;32mreturn\u001b[0m \u001b[0m_read\u001b[0m\u001b[0;34m(\u001b[0m\u001b[0mfilepath_or_buffer\u001b[0m\u001b[0;34m,\u001b[0m \u001b[0mkwds\u001b[0m\u001b[0;34m)\u001b[0m\u001b[0;34m\u001b[0m\u001b[0;34m\u001b[0m\u001b[0m\n\u001b[0m\u001b[1;32m    689\u001b[0m \u001b[0;34m\u001b[0m\u001b[0m\n\u001b[1;32m    690\u001b[0m \u001b[0;34m\u001b[0m\u001b[0m\n",
      "\u001b[0;32m~/opt/anaconda3/envs/capstone-ZEIT-2020-ds/lib/python3.8/site-packages/pandas/io/parsers.py\u001b[0m in \u001b[0;36m_read\u001b[0;34m(filepath_or_buffer, kwds)\u001b[0m\n\u001b[1;32m    452\u001b[0m \u001b[0;34m\u001b[0m\u001b[0m\n\u001b[1;32m    453\u001b[0m     \u001b[0;31m# Create the parser.\u001b[0m\u001b[0;34m\u001b[0m\u001b[0;34m\u001b[0m\u001b[0;34m\u001b[0m\u001b[0m\n\u001b[0;32m--> 454\u001b[0;31m     \u001b[0mparser\u001b[0m \u001b[0;34m=\u001b[0m \u001b[0mTextFileReader\u001b[0m\u001b[0;34m(\u001b[0m\u001b[0mfp_or_buf\u001b[0m\u001b[0;34m,\u001b[0m \u001b[0;34m**\u001b[0m\u001b[0mkwds\u001b[0m\u001b[0;34m)\u001b[0m\u001b[0;34m\u001b[0m\u001b[0;34m\u001b[0m\u001b[0m\n\u001b[0m\u001b[1;32m    455\u001b[0m \u001b[0;34m\u001b[0m\u001b[0m\n\u001b[1;32m    456\u001b[0m     \u001b[0;32mif\u001b[0m \u001b[0mchunksize\u001b[0m \u001b[0;32mor\u001b[0m \u001b[0miterator\u001b[0m\u001b[0;34m:\u001b[0m\u001b[0;34m\u001b[0m\u001b[0;34m\u001b[0m\u001b[0m\n",
      "\u001b[0;32m~/opt/anaconda3/envs/capstone-ZEIT-2020-ds/lib/python3.8/site-packages/pandas/io/parsers.py\u001b[0m in \u001b[0;36m__init__\u001b[0;34m(self, f, engine, **kwds)\u001b[0m\n\u001b[1;32m    946\u001b[0m             \u001b[0mself\u001b[0m\u001b[0;34m.\u001b[0m\u001b[0moptions\u001b[0m\u001b[0;34m[\u001b[0m\u001b[0;34m\"has_index_names\"\u001b[0m\u001b[0;34m]\u001b[0m \u001b[0;34m=\u001b[0m \u001b[0mkwds\u001b[0m\u001b[0;34m[\u001b[0m\u001b[0;34m\"has_index_names\"\u001b[0m\u001b[0;34m]\u001b[0m\u001b[0;34m\u001b[0m\u001b[0;34m\u001b[0m\u001b[0m\n\u001b[1;32m    947\u001b[0m \u001b[0;34m\u001b[0m\u001b[0m\n\u001b[0;32m--> 948\u001b[0;31m         \u001b[0mself\u001b[0m\u001b[0;34m.\u001b[0m\u001b[0m_make_engine\u001b[0m\u001b[0;34m(\u001b[0m\u001b[0mself\u001b[0m\u001b[0;34m.\u001b[0m\u001b[0mengine\u001b[0m\u001b[0;34m)\u001b[0m\u001b[0;34m\u001b[0m\u001b[0;34m\u001b[0m\u001b[0m\n\u001b[0m\u001b[1;32m    949\u001b[0m \u001b[0;34m\u001b[0m\u001b[0m\n\u001b[1;32m    950\u001b[0m     \u001b[0;32mdef\u001b[0m \u001b[0mclose\u001b[0m\u001b[0;34m(\u001b[0m\u001b[0mself\u001b[0m\u001b[0;34m)\u001b[0m\u001b[0;34m:\u001b[0m\u001b[0;34m\u001b[0m\u001b[0;34m\u001b[0m\u001b[0m\n",
      "\u001b[0;32m~/opt/anaconda3/envs/capstone-ZEIT-2020-ds/lib/python3.8/site-packages/pandas/io/parsers.py\u001b[0m in \u001b[0;36m_make_engine\u001b[0;34m(self, engine)\u001b[0m\n\u001b[1;32m   1178\u001b[0m     \u001b[0;32mdef\u001b[0m \u001b[0m_make_engine\u001b[0m\u001b[0;34m(\u001b[0m\u001b[0mself\u001b[0m\u001b[0;34m,\u001b[0m \u001b[0mengine\u001b[0m\u001b[0;34m=\u001b[0m\u001b[0;34m\"c\"\u001b[0m\u001b[0;34m)\u001b[0m\u001b[0;34m:\u001b[0m\u001b[0;34m\u001b[0m\u001b[0;34m\u001b[0m\u001b[0m\n\u001b[1;32m   1179\u001b[0m         \u001b[0;32mif\u001b[0m \u001b[0mengine\u001b[0m \u001b[0;34m==\u001b[0m \u001b[0;34m\"c\"\u001b[0m\u001b[0;34m:\u001b[0m\u001b[0;34m\u001b[0m\u001b[0;34m\u001b[0m\u001b[0m\n\u001b[0;32m-> 1180\u001b[0;31m             \u001b[0mself\u001b[0m\u001b[0;34m.\u001b[0m\u001b[0m_engine\u001b[0m \u001b[0;34m=\u001b[0m \u001b[0mCParserWrapper\u001b[0m\u001b[0;34m(\u001b[0m\u001b[0mself\u001b[0m\u001b[0;34m.\u001b[0m\u001b[0mf\u001b[0m\u001b[0;34m,\u001b[0m \u001b[0;34m**\u001b[0m\u001b[0mself\u001b[0m\u001b[0;34m.\u001b[0m\u001b[0moptions\u001b[0m\u001b[0;34m)\u001b[0m\u001b[0;34m\u001b[0m\u001b[0;34m\u001b[0m\u001b[0m\n\u001b[0m\u001b[1;32m   1181\u001b[0m         \u001b[0;32melse\u001b[0m\u001b[0;34m:\u001b[0m\u001b[0;34m\u001b[0m\u001b[0;34m\u001b[0m\u001b[0m\n\u001b[1;32m   1182\u001b[0m             \u001b[0;32mif\u001b[0m \u001b[0mengine\u001b[0m \u001b[0;34m==\u001b[0m \u001b[0;34m\"python\"\u001b[0m\u001b[0;34m:\u001b[0m\u001b[0;34m\u001b[0m\u001b[0;34m\u001b[0m\u001b[0m\n",
      "\u001b[0;32m~/opt/anaconda3/envs/capstone-ZEIT-2020-ds/lib/python3.8/site-packages/pandas/io/parsers.py\u001b[0m in \u001b[0;36m__init__\u001b[0;34m(self, src, **kwds)\u001b[0m\n\u001b[1;32m   2008\u001b[0m         \u001b[0mkwds\u001b[0m\u001b[0;34m[\u001b[0m\u001b[0;34m\"usecols\"\u001b[0m\u001b[0;34m]\u001b[0m \u001b[0;34m=\u001b[0m \u001b[0mself\u001b[0m\u001b[0;34m.\u001b[0m\u001b[0musecols\u001b[0m\u001b[0;34m\u001b[0m\u001b[0;34m\u001b[0m\u001b[0m\n\u001b[1;32m   2009\u001b[0m \u001b[0;34m\u001b[0m\u001b[0m\n\u001b[0;32m-> 2010\u001b[0;31m         \u001b[0mself\u001b[0m\u001b[0;34m.\u001b[0m\u001b[0m_reader\u001b[0m \u001b[0;34m=\u001b[0m \u001b[0mparsers\u001b[0m\u001b[0;34m.\u001b[0m\u001b[0mTextReader\u001b[0m\u001b[0;34m(\u001b[0m\u001b[0msrc\u001b[0m\u001b[0;34m,\u001b[0m \u001b[0;34m**\u001b[0m\u001b[0mkwds\u001b[0m\u001b[0;34m)\u001b[0m\u001b[0;34m\u001b[0m\u001b[0;34m\u001b[0m\u001b[0m\n\u001b[0m\u001b[1;32m   2011\u001b[0m         \u001b[0mself\u001b[0m\u001b[0;34m.\u001b[0m\u001b[0munnamed_cols\u001b[0m \u001b[0;34m=\u001b[0m \u001b[0mself\u001b[0m\u001b[0;34m.\u001b[0m\u001b[0m_reader\u001b[0m\u001b[0;34m.\u001b[0m\u001b[0munnamed_cols\u001b[0m\u001b[0;34m\u001b[0m\u001b[0;34m\u001b[0m\u001b[0m\n\u001b[1;32m   2012\u001b[0m \u001b[0;34m\u001b[0m\u001b[0m\n",
      "\u001b[0;32mpandas/_libs/parsers.pyx\u001b[0m in \u001b[0;36mpandas._libs.parsers.TextReader.__cinit__\u001b[0;34m()\u001b[0m\n",
      "\u001b[0;32mpandas/_libs/parsers.pyx\u001b[0m in \u001b[0;36mpandas._libs.parsers.TextReader._setup_parser_source\u001b[0;34m()\u001b[0m\n",
      "\u001b[0;31mFileNotFoundError\u001b[0m: [Errno 2] No such file or directory: '00_data/clean_duplicates.csv'"
     ]
    }
   ],
   "source": [
    "df = pd.read_csv('00_data/clean_duplicates.csv', index_col=0)"
   ]
  },
  {
   "cell_type": "code",
   "execution_count": null,
   "metadata": {},
   "outputs": [],
   "source": [
    "#pd.set_option('display.max_rows', None) # Displays all rows in the table\n",
    "#pd.set_option('display.width', None)\n",
    "#pd.set_option('display.max_colwidth', -1)"
   ]
  },
  {
   "cell_type": "markdown",
   "metadata": {},
   "source": [
    "#### Get General overview of complete dataframe"
   ]
  },
  {
   "cell_type": "code",
   "execution_count": null,
   "metadata": {},
   "outputs": [],
   "source": [
    "df.shape"
   ]
  },
  {
   "cell_type": "code",
   "execution_count": null,
   "metadata": {},
   "outputs": [],
   "source": [
    "df.describe().T"
   ]
  },
  {
   "cell_type": "markdown",
   "metadata": {},
   "source": [
    "#### Check max values for:\n",
    "- cnt_abo(7,104) \n",
    "- cnt_abo_diezeit(3,708)\n",
    "- cnt_abo_diezeit_digital (516)\n",
    "- cnt_abo_magazin(414)\n",
    "- cnt_umwandlungsstatus2_dkey(3,129)"
   ]
  },
  {
   "cell_type": "code",
   "execution_count": null,
   "metadata": {},
   "outputs": [],
   "source": [
    "df.query(\"cnt_abo > 500\").sort_values('cnt_abo', ascending=False).head(5)"
   ]
  },
  {
   "cell_type": "code",
   "execution_count": null,
   "metadata": {},
   "outputs": [],
   "source": [
    "df_zeitbrief = df.drop(df.iloc[:, 22:143], axis=1)\n",
    "df_zeitbrief.columns"
   ]
  },
  {
   "cell_type": "code",
   "execution_count": null,
   "metadata": {},
   "outputs": [],
   "source": [
    "df_zeitbrief.head()"
   ]
  },
  {
   "cell_type": "code",
   "execution_count": null,
   "metadata": {},
   "outputs": [],
   "source": [
    "df_zeitbrief.describe().T"
   ]
  },
  {
   "cell_type": "code",
   "execution_count": null,
   "metadata": {},
   "outputs": [],
   "source": [
    "df_zeitbrief.info()"
   ]
  },
  {
   "cell_type": "code",
   "execution_count": null,
   "metadata": {},
   "outputs": [],
   "source": [
    "df_zeitbrief.nunique()"
   ]
  },
  {
   "cell_type": "markdown",
   "metadata": {},
   "source": [
    "#### Conclusions on Subset:\n",
    "\n",
    "- there probably are outliers regarding \"received_anzahl_zeitbrief\" & \"shop_kauf and the click- & openrates\"\n",
    "- some of the zeitbrief clickrates & openrates have values > 1, we should check after removing the outliers"
   ]
  },
  {
   "cell_type": "markdown",
   "metadata": {},
   "source": [
    "# Outliers:"
   ]
  },
  {
   "cell_type": "markdown",
   "metadata": {},
   "source": [
    "#### Shop-Kauf\n",
    "    - 87.7% have never ordered in the zeit-shop\n",
    "    - 99% of the customers order less than 10 Products from the zeit shop \n",
    "    - only 3 customers order 152 products, the runners up order 80 Units from the zeitshop, from 80 orders down the dirstribution is continouus, so we delete the 3 Outliers. "
   ]
  },
  {
   "cell_type": "code",
   "execution_count": null,
   "metadata": {},
   "outputs": [],
   "source": [
    "df_zeitbrief.query('shop_kauf > 1').sort_values('shop_kauf', ascending=False).head(1)"
   ]
  },
  {
   "cell_type": "code",
   "execution_count": null,
   "metadata": {},
   "outputs": [],
   "source": [
    "df_zeitbrief.shop_kauf.value_counts(1).head(5)"
   ]
  },
  {
   "cell_type": "code",
   "execution_count": null,
   "metadata": {},
   "outputs": [],
   "source": [
    "df_outlier = df[df.shop_kauf < 100]"
   ]
  },
  {
   "cell_type": "markdown",
   "metadata": {},
   "source": [
    "#### Zeitbrief:\n",
    "\n",
    "- >99% of the subscribers received (and opened) less than 29 newsletters in the last 6m \n",
    "- 56 subscribers received over 29 newsletters in the last 6m\n",
    "    - they received 4 newsletters per week (wednesdays), that adds up to 100 - 108 in the last 6m (depends on the day you subscribe)\n",
    "    - they have the same nl - registration dates (2018-02-18) and earliest delivery date 2018-03-08 or 2019-03-07\n",
    "    - they have respective cancelation Dates (2019-12-06) or 2020-02-06"
   ]
  },
  {
   "cell_type": "markdown",
   "metadata": {},
   "source": [
    "Create a subset for all newlsetter subscriber who got at least 1 Zeitbrief in the last 6m (we want to get rid of the 0s):"
   ]
  },
  {
   "cell_type": "code",
   "execution_count": null,
   "metadata": {},
   "outputs": [],
   "source": [
    "df_zb_abo = df_zeitbrief.query('received_anzahl_zeitbrief_6m >1')"
   ]
  },
  {
   "cell_type": "code",
   "execution_count": null,
   "metadata": {},
   "outputs": [],
   "source": [
    "labels = sorted(list(set([i for i in df_zb_abo[\"liefer_beginn_evt\"]])))\n",
    "\n",
    "plt.figure(figsize=(95,8))\n",
    "plt.title(\"Count of received newsletters over time\")\n",
    "t = sns.lineplot(data=df_zb_abo, x=\"liefer_beginn_evt\", y=\"received_anzahl_zeitbrief_6m\")\n",
    "t.set_xticklabels(labels, rotation=60, ha=\"right\");"
   ]
  },
  {
   "cell_type": "code",
   "execution_count": null,
   "metadata": {},
   "outputs": [],
   "source": [
    "sns.countplot(data=df_zb_abo, x=\"received_anzahl_zeitbrief_6m\", hue='churn')"
   ]
  },
  {
   "cell_type": "code",
   "execution_count": null,
   "metadata": {},
   "outputs": [],
   "source": [
    "df.received_anzahl_zeitbrief_6m.value_counts(0)"
   ]
  },
  {
   "cell_type": "code",
   "execution_count": null,
   "metadata": {},
   "outputs": [],
   "source": [
    "df.query('received_anzahl_zeitbrief_6m > 29').shape"
   ]
  },
  {
   "cell_type": "markdown",
   "metadata": {},
   "source": [
    "#### We are setting max values for all opened/received columns regarding common sense & descriptives: "
   ]
  },
  {
   "cell_type": "code",
   "execution_count": null,
   "metadata": {},
   "outputs": [],
   "source": [
    "df_outlier = df_outlier[df_outlier.received_anzahl_zeitbrief_1w < 3]\n",
    "df_outlier = df_outlier[df_outlier.received_anzahl_zeitbrief_1m < 7]\n",
    "df_outlier = df_outlier[df_outlier.received_anzahl_zeitbrief_3m < 16]\n",
    "df_outlier = df_outlier[df_outlier.received_anzahl_zeitbrief_6m < 29]\n",
    "df_outlier = df_outlier[df_outlier.opened_anzahl_zeitbrief_1w < 3]\n",
    "df_outlier = df_outlier[df_outlier.opened_anzahl_zeitbrief_1m < 7]\n",
    "df_outlier = df_outlier[df_outlier.opened_anzahl_zeitbrief_3m < 16]\n",
    "df_outlier = df_outlier[df_outlier.openedanzahl_zeitbrief_6m < 29]"
   ]
  },
  {
   "cell_type": "code",
   "execution_count": null,
   "metadata": {},
   "outputs": [],
   "source": [
    "df_outlier.shape"
   ]
  },
  {
   "cell_type": "markdown",
   "metadata": {},
   "source": [
    "#### Openrate / Clickrate\n",
    "- you can't open more emails than you received, therefore we delete all rates with values >1 (1593 rows):"
   ]
  },
  {
   "cell_type": "code",
   "execution_count": null,
   "metadata": {},
   "outputs": [],
   "source": [
    "df.query('openrate_zeitbrief_1w > 1').sort_values('openrate_zeitbrief_1w', ascending=False).head(1)"
   ]
  },
  {
   "cell_type": "code",
   "execution_count": null,
   "metadata": {},
   "outputs": [],
   "source": [
    "df_outlier = df_outlier[df_outlier.openrate_zeitbrief_1w <= 1]\n",
    "df_outlier = df_outlier[df_outlier.openrate_zeitbrief_1m <= 1]\n",
    "df_outlier = df_outlier[df_outlier.openrate_zeitbrief_3m <= 1]\n",
    "df_outlier = df_outlier[df_outlier.clickrate_zeitbrief_1w <= 1]\n",
    "df_outlier = df_outlier[df_outlier.clickrate_zeitbrief_1m <= 1]\n",
    "df_outlier = df_outlier[df_outlier.clickrate_zeitbrief_3m <= 1]"
   ]
  },
  {
   "cell_type": "code",
   "execution_count": null,
   "metadata": {},
   "outputs": [],
   "source": [
    "df_outlier.shape"
   ]
  },
  {
   "cell_type": "code",
   "execution_count": null,
   "metadata": {},
   "outputs": [],
   "source": [
    "df_outlier.describe().T"
   ]
  },
  {
   "cell_type": "markdown",
   "metadata": {},
   "source": [
    "## Demographics"
   ]
  },
  {
   "cell_type": "markdown",
   "metadata": {},
   "source": [
    "## After removing the Oultiers we lost 3041 rows or around 1% of our original Dataset and continue with our EDA:"
   ]
  },
  {
   "cell_type": "code",
   "execution_count": null,
   "metadata": {},
   "outputs": [],
   "source": [
    "def add_count(plot):\n",
    "    '''adds counts to bar and count plots'''\n",
    "    for p in plot.patches:\n",
    "        plot.annotate(format(p.get_height(), '.0f'), \n",
    "                       (p.get_x() + p.get_width() / 2., p.get_height()), \n",
    "                       ha = 'center', \n",
    "                       rotation=90,\n",
    "                       xytext = (0, 9), \n",
    "                       textcoords = 'offset points')"
   ]
  },
  {
   "cell_type": "code",
   "execution_count": null,
   "metadata": {},
   "outputs": [],
   "source": [
    "fig, axes = plt.subplots(ncols=2, nrows=2, figsize=(20, 20), sharey=True)\n",
    "\n",
    "custom_palette_anrede = [\"indianred\", \"navy\", \"limegreen\", \"k\"]\n",
    "sns.set_palette(custom_palette_anrede)\n",
    "\n",
    "kanal_order = [\"andere\", \"Telefonmarketing\", \"Eigenwerbung\", 'Mailings', 'E-Mailing', 'Fremdwerbung', 'Standwerbung', 'B2B', 'Affiliate', 'SEA']\n",
    "plz_order = ['6', '5','xx','0', '2', '9', '8', '7', '3', '4', '1']\n",
    "zahlungweg_order = ['Bankeinzug', 'Rechnung', 'Kreditkarte', 'Paypal']\n",
    "zahlungrhythmus_order = ['jährlich', 'vierteljährlich', 'halbjährlich', 'monatlich', 'zweijährlich', 'einmalige Berechnung']\n",
    "                        \n",
    "g = sns.countplot(data=df_zeitbrief, x='kanal', order = kanal_order, hue='anrede', ax=axes[0][0])\n",
    "g.set_xticklabels(kanal_order, rotation=45, size = 10)\n",
    "g.set_xlabel(\"Acquisition Channel\",size=15)\n",
    "g.set_ylabel(\"Count\",size=12)\n",
    "add_count(g)\n",
    "\n",
    "g1 = sns.countplot(data=df_zeitbrief, x=\"plz_1\", hue='anrede', ax=axes[0][1])\n",
    "g1.set_xticklabels(plz_order, rotation=45, size = 10)\n",
    "g1.set_xlabel(\"PLZ of current residence\",size=15)\n",
    "g1.set_ylabel(\"Count\",size=12)\n",
    "add_count(g1)\n",
    "\n",
    "g2 = sns.countplot(data=df_zeitbrief, x=\"zahlung_weg_name\", hue='anrede', ax=axes[1][0])\n",
    "g2.set_xticklabels(zahlungweg_order, rotation=45, size = 10);\n",
    "g2.set_xlabel(\"Payment Method\",size=15)\n",
    "g2.set_ylabel(\"Count\",size=12)\n",
    "add_count(g2)\n",
    "\n",
    "g3 = sns.countplot(data=df_zeitbrief, x=\"zahlung_rhythmus_name\", hue='anrede', ax=axes[1][1])\n",
    "g3.set_xticklabels(zahlungrhythmus_order, rotation=45, size = 10)\n",
    "g3.set_xlabel(\"Payment Frequency\",size=15)\n",
    "g3.set_ylabel(\"Count\",size=12);\n",
    "add_count(g3)"
   ]
  },
  {
   "cell_type": "markdown",
   "metadata": {},
   "source": [
    "Acquisition Channel: \n",
    "\n",
    "    - 'others' is by far the most common acquisition channel for new subscribers, with a count of 69k subscritptions\n",
    "    -  No real marketing channel other channels should be focused on:\n",
    "    - 'telefonmarketing' with 27.8k and 'e-mailings' with 22..4k runners up\n",
    "\n",
    "PLZ_ Area:\n",
    "\n",
    "    - '2'is the most common value which corresponds to \"Die Zeit\" being published in Hamburg and therefore having a bigger local impact\n",
    "    - most postal code areas are equaly distributed:\n",
    "    - there are 17k 'xx' values which belong to subscribers outside of Germany\n",
    "\n",
    "Payment Method:\n",
    "\n",
    "    - the most popular payment methods are direct debit (51.7%) & invoice (45.7%) followed by minority shares of credit card & Paypal\n",
    "    \n",
    "Payment Frequency:\n",
    "\n",
    "    - people tend to pay less frequent because of discounts\n",
    "    - the most popular payment frequencies are yearly (62.5%), half yearly (24.4%) and quartlerly (12.7%) (financial advantages)\n",
    "    - minorities pay monthly(.3%) two-yearly or one-time payment"
   ]
  },
  {
   "cell_type": "code",
   "execution_count": null,
   "metadata": {},
   "outputs": [],
   "source": [
    "df_zeitbrief.zahlung_rhythmus_name.value_counts(1)"
   ]
  },
  {
   "cell_type": "code",
   "execution_count": null,
   "metadata": {},
   "outputs": [],
   "source": [
    "anrede_order = [\"ZEIT Digital\", \"Die Zeit\", \"Die Zeit C&W\"]\n",
    "met_order = [\"Nein\", \"Ja\"]\n",
    "\n",
    "fig, axes = plt.subplots(ncols=2, nrows=1, figsize=(20, 10))\n",
    "f1 = sns.countplot(data=df_zeitbrief, x=\"objekt_name\", hue=\"anrede\", ax=axes[0]);\n",
    "f1.set_title(\"Subscriptions by Gender\", fontsize=16, loc=\"left\");\n",
    "f1.set_xticklabels(anrede_order, rotation=45, size=15);\n",
    "add_count(f1)\n",
    "\n",
    "f2 = sns.countplot(data=df_zeitbrief, x=\"studentenabo\", hue=\"anrede\", ax=axes[1]);\n",
    "f2.set_title(\"Subscriptions by Gender\", fontsize=16, loc=\"left\");\n",
    "f2.set_xticklabels(met_order, rotation=45, size=15);\n",
    "add_count(f2)"
   ]
  },
  {
   "cell_type": "markdown",
   "metadata": {},
   "source": [
    "#### Checking non-german subscribers:"
   ]
  },
  {
   "cell_type": "code",
   "execution_count": null,
   "metadata": {},
   "outputs": [],
   "source": [
    "df_foreign = df_zeitbrief[df_zeitbrief[\"plz_1\"] == \"xx\"]"
   ]
  },
  {
   "cell_type": "code",
   "execution_count": null,
   "metadata": {},
   "outputs": [],
   "source": [
    "df_foreign.ort.value_counts()"
   ]
  },
  {
   "cell_type": "code",
   "execution_count": null,
   "metadata": {},
   "outputs": [],
   "source": [
    "pd.pivot_table(df_zeitbrief, columns='objekt_name')"
   ]
  },
  {
   "cell_type": "markdown",
   "metadata": {},
   "source": [
    "#### Churn & Churn avg"
   ]
  },
  {
   "cell_type": "code",
   "execution_count": null,
   "metadata": {},
   "outputs": [],
   "source": [
    "df.query('churn == 1').sort_values(\"kuendigungs_eingangs_datum\", ascending=True).shape"
   ]
  },
  {
   "cell_type": "code",
   "execution_count": null,
   "metadata": {},
   "outputs": [],
   "source": [
    "df.churn.value_counts(1)"
   ]
  },
  {
   "cell_type": "markdown",
   "metadata": {},
   "source": [
    "The dataset is slightly imbalanced with 68.9% (110,802) of the people staying subscribers and 31.1% (49,922)of the people staying in the subscription"
   ]
  },
  {
   "cell_type": "markdown",
   "metadata": {},
   "source": [
    "We have a closer look at churn == 1 to check why & when people decided to quit their subscription:"
   ]
  },
  {
   "cell_type": "code",
   "execution_count": null,
   "metadata": {},
   "outputs": [],
   "source": [
    "df_churn = df.query('churn == 1')"
   ]
  },
  {
   "cell_type": "code",
   "execution_count": null,
   "metadata": {},
   "outputs": [],
   "source": [
    "df_churn.sort_values(\"kuendigungs_eingangs_datum\", ascending=False).head(1)"
   ]
  },
  {
   "cell_type": "markdown",
   "metadata": {},
   "source": [
    "In total we have 49922 cancellation Dates in the column \"kuendigungs_eingangs_datum\", which is equal to the count of churn == 1\n",
    "\n",
    "The oldest cancellation Date is 2019-05-28\n",
    "\n",
    "The most recent cancellation date is 2020-05-28\n",
    "\n",
    "So we got all cancelations of the different subscription typen within a year, the Date of the data (sql) query probably was the 29th of May this year."
   ]
  },
  {
   "cell_type": "code",
   "execution_count": null,
   "metadata": {},
   "outputs": [],
   "source": [
    "labels = sorted(list(set([i for i in df_churn[\"kuendigungs_eingangs_datum\"]])))\n",
    "\n",
    "plt.figure(figsize=(55,8))\n",
    "plt.title(\"Count of received subscription cancellations over time\")\n",
    "t = sns.lineplot(data=df_churn, x=\"kuendigungs_eingangs_datum\", y=\"avg_churn\")\n",
    "t.set_xticklabels(labels, rotation=60, ha=\"right\");"
   ]
  },
  {
   "cell_type": "markdown",
   "metadata": {},
   "source": [
    "## Zeitbrief Newsletter\n",
    "\n",
    "\"Erfahren Sie am Mittwoch, was für Sie drin ist. Wir informieren Sie per Mail über die Themen und Inhalte der aktuellen gedruckten ZEIT und natürlich darüber, was Sie bei ZEIT ONLINE finden.\"\n",
    "\n",
    "- is a special kind of weekly newsletter \n",
    "- is sent every wednesday and features the recently covered topics of the print issue and what's found on Zeit Online"
   ]
  },
  {
   "cell_type": "code",
   "execution_count": null,
   "metadata": {},
   "outputs": [],
   "source": [
    "df_zeitbrief.columns"
   ]
  },
  {
   "cell_type": "code",
   "execution_count": null,
   "metadata": {},
   "outputs": [],
   "source": [
    "df.query('received_anzahl_zeitbrief_6m >26 & nl_zeitbrief !=2').sort_values(\"received_anzahl_zeitbrief_6m\", ascending=False).head(5)"
   ]
  },
  {
   "cell_type": "markdown",
   "metadata": {},
   "source": [
    "#### Create Subset of all the 74k people who received at least 1 Zeitbrief Newsletter:"
   ]
  },
  {
   "cell_type": "code",
   "execution_count": null,
   "metadata": {},
   "outputs": [],
   "source": [
    "df_outlier_abo = df_outlier.query('received_anzahl_zeitbrief_6m > 0')\n",
    "df_outlier_abo.shape"
   ]
  },
  {
   "cell_type": "code",
   "execution_count": null,
   "metadata": {},
   "outputs": [],
   "source": [
    "df.nl_zeitbrief.value_counts()"
   ]
  },
  {
   "cell_type": "markdown",
   "metadata": {},
   "source": [
    "#### Inconsitency within the Data:\n",
    "- The variable 'nl_zeitbrief' relates to subscribers to the Zeitbrief - Newsletter. \n",
    "- There 98k active subscribers but only 72k subscribers who actually received at least 1 newsletter i.t.l.6M which probably is a result of a bad Data Architecture cause of wrongly tuned APIs."
   ]
  },
  {
   "cell_type": "markdown",
   "metadata": {},
   "source": [
    "Checking the lines and creating a subset of people who did not subscribe to the newsletter but received a newsletter:"
   ]
  },
  {
   "cell_type": "code",
   "execution_count": null,
   "metadata": {},
   "outputs": [],
   "source": [
    "df_weird = df.query('received_anzahl_zeitbrief_6m >1 & nl_zeitbrief !=2').sort_values(\"received_anzahl_zeitbrief_6m\", ascending=False)"
   ]
  },
  {
   "cell_type": "code",
   "execution_count": null,
   "metadata": {},
   "outputs": [],
   "source": [
    "df_weird.shape"
   ]
  },
  {
   "cell_type": "code",
   "execution_count": null,
   "metadata": {},
   "outputs": [],
   "source": [
    "df_weird.nl_zeitbrief.value_counts()"
   ]
  },
  {
   "cell_type": "markdown",
   "metadata": {},
   "source": [
    "In the subset df_weird we got 1031 subscribers who are either 0 = \"not available\" or 1 = \"signed off\" but received a newsletter in the last 6 months, the majority (1014 subscribers or 99%) have signed off the newsletter"
   ]
  },
  {
   "cell_type": "code",
   "execution_count": null,
   "metadata": {},
   "outputs": [],
   "source": [
    "df.query(\"openedanzahl_zeitbrief_6m > 28\").sort_values(\"openedanzahl_zeitbrief_6m\", ascending=False).head(1)"
   ]
  },
  {
   "cell_type": "markdown",
   "metadata": {},
   "source": [
    "This inconsistency cannot described by the dataset"
   ]
  },
  {
   "cell_type": "code",
   "execution_count": null,
   "metadata": {},
   "outputs": [],
   "source": [
    "fig, axes = plt.subplots(ncols=2, nrows=4, figsize=(20, 20), sharey=False)\n",
    "\n",
    "sns.countplot(data=df_outlier_abo, x=\"received_anzahl_zeitbrief_6m\", hue='churn', ax=axes[0][0])\n",
    "sns.countplot(data=df_outlier_abo, x=\"openedanzahl_zeitbrief_6m\", hue='churn', ax=axes[0][1])\n",
    "sns.countplot(data=df_outlier_abo, x=\"clicked_anzahl_zeitbrief_6m\", hue='churn', ax=axes[1][0])\n",
    "sns.countplot(data=df_outlier_abo, x=\"unsubscribed_anzahl_zeitbrief_6m\", hue='churn', ax=axes[1][1])\n",
    "sns.histplot(data=df_outlier_abo, x=\"openrate_zeitbrief_3m\", hue='churn', ax=axes[2][0])\n",
    "sns.histplot(data=df_outlier_abo, x=\"clickrate_zeitbrief_3m\", hue='churn', ax=axes[2][1])\n",
    "sns.countplot(data=df_outlier_abo, x=\"received_anzahl_zeitbrief_1w\", hue='churn', ax=axes[3][0]);"
   ]
  },
  {
   "cell_type": "markdown",
   "metadata": {},
   "source": [
    "#### Zeitbrief - Newsletter stats:\n",
    "- there are 98533 subscribers to the newsletter (received it at least 1 time in the last 6m)\n",
    "- most people who subscribe to the newsletter do not open it"
   ]
  },
  {
   "cell_type": "markdown",
   "metadata": {},
   "source": [
    "#### We check the timeline of subscribers, who received more than 28 Zeitbrief Newsletters within 6 months:"
   ]
  },
  {
   "cell_type": "code",
   "execution_count": null,
   "metadata": {},
   "outputs": [],
   "source": [
    "df_outlier.shape"
   ]
  },
  {
   "cell_type": "code",
   "execution_count": null,
   "metadata": {},
   "outputs": [],
   "source": [
    "labels = sorted(list(set([i for i in df_outlier[\"liefer_beginn_evt\"]])))\n",
    "\n",
    "plt.figure(figsize=(95,8))\n",
    "plt.title(\"Count of received newsletters over time\")\n",
    "t = sns.lineplot(data=df_outlier, x=\"liefer_beginn_evt\", y=\"received_anzahl_zeitbrief_6m\")\n",
    "t.set_xticklabels(labels, rotation=60, ha=\"right\");"
   ]
  },
  {
   "cell_type": "raw",
   "metadata": {},
   "source": [
    "## Trends:\n",
    "    - seasonal probably but not to big\n",
    "    - generally "
   ]
  },
  {
   "cell_type": "code",
   "execution_count": null,
   "metadata": {},
   "outputs": [],
   "source": [
    "df.received_anzahl_1w == df.received_anzahl_bestandskunden_1w + df.received_anzahl_produktnews_1w + df.received_anzahl_hamburg_1w + df.received_anzahl_zeitbrief_1w"
   ]
  },
  {
   "cell_type": "code",
   "execution_count": null,
   "metadata": {},
   "outputs": [],
   "source": [
    "df.head(1)"
   ]
  },
  {
   "cell_type": "code",
   "execution_count": null,
   "metadata": {},
   "outputs": [],
   "source": []
  },
  {
   "cell_type": "code",
   "execution_count": null,
   "metadata": {},
   "outputs": [],
   "source": []
  },
  {
   "cell_type": "code",
   "execution_count": null,
   "metadata": {},
   "outputs": [],
   "source": []
  },
  {
   "cell_type": "code",
   "execution_count": null,
   "metadata": {},
   "outputs": [],
   "source": []
  },
  {
   "cell_type": "code",
   "execution_count": null,
   "metadata": {},
   "outputs": [],
   "source": []
  }
 ],
 "metadata": {
  "kernelspec": {
   "display_name": "Python 3",
   "language": "python",
   "name": "python3"
  },
  "language_info": {
   "codemirror_mode": {
    "name": "ipython",
    "version": 3
   },
   "file_extension": ".py",
   "mimetype": "text/x-python",
   "name": "python",
   "nbconvert_exporter": "python",
   "pygments_lexer": "ipython3",
   "version": "3.8.5"
  }
 },
 "nbformat": 4,
 "nbformat_minor": 4
}
